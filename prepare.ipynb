{
 "cells": [
  {
   "attachments": {},
   "cell_type": "markdown",
   "metadata": {},
   "source": [
    "## Download"
   ]
  },
  {
   "cell_type": "code",
   "execution_count": 3,
   "metadata": {},
   "outputs": [],
   "source": [
    "import requests\n",
    "import pathlib\n",
    "import patoolib\n",
    "import glob\n",
    "import os\n",
    "\n",
    "def download_file(url, dir, name):\n",
    "    local_filename = dir / name\n",
    "    with requests.get(url, stream=True) as r:\n",
    "        r.raise_for_status()\n",
    "        with open(local_filename, 'wb') as f:\n",
    "            for chunk in r.iter_content(chunk_size=8192): \n",
    "                # If you have chunk encoded response uncomment if\n",
    "                # and set chunk_size parameter to None.\n",
    "                #if chunk: \n",
    "                f.write(chunk)\n",
    "    return local_filename"
   ]
  },
  {
   "cell_type": "code",
   "execution_count": 5,
   "metadata": {},
   "outputs": [
    {
     "data": {
      "application/vnd.jupyter.widget-view+json": {
       "model_id": "2bc2c216cfd241cd99a7d9fe3e43f458",
       "version_major": 2,
       "version_minor": 0
      },
      "text/plain": [
       "  0%|          | 0/90 [00:00<?, ?it/s]"
      ]
     },
     "metadata": {},
     "output_type": "display_data"
    },
    {
     "name": "stdout",
     "output_type": "stream",
     "text": [
      "downloading 4411471\n"
     ]
    },
    {
     "ename": "KeyboardInterrupt",
     "evalue": "",
     "output_type": "error",
     "traceback": [
      "\u001b[0;31m---------------------------------------------------------------------------\u001b[0m",
      "\u001b[0;31mKeyboardInterrupt\u001b[0m                         Traceback (most recent call last)",
      "\u001b[1;32m/home/mfujita/Documents/research/prepare.ipynb Cell 3\u001b[0m in \u001b[0;36m<cell line: 8>\u001b[0;34m()\u001b[0m\n\u001b[1;32m     <a href='vscode-notebook-cell://ssh-remote%2B192.168.193.104/home/mfujita/Documents/research/prepare.ipynb#W2sdnNjb2RlLXJlbW90ZQ%3D%3D?line=12'>13</a>\u001b[0m     \u001b[39mcontinue\u001b[39;00m\n\u001b[1;32m     <a href='vscode-notebook-cell://ssh-remote%2B192.168.193.104/home/mfujita/Documents/research/prepare.ipynb#W2sdnNjb2RlLXJlbW90ZQ%3D%3D?line=13'>14</a>\u001b[0m \u001b[39mprint\u001b[39m(\u001b[39mf\u001b[39m\u001b[39m\"\u001b[39m\u001b[39mdownloading \u001b[39m\u001b[39m{\u001b[39;00mname\u001b[39m}\u001b[39;00m\u001b[39m\"\u001b[39m)\n\u001b[0;32m---> <a href='vscode-notebook-cell://ssh-remote%2B192.168.193.104/home/mfujita/Documents/research/prepare.ipynb#W2sdnNjb2RlLXJlbW90ZQ%3D%3D?line=14'>15</a>\u001b[0m download_file(url\u001b[39m=\u001b[39;49murl, \u001b[39mdir\u001b[39;49m\u001b[39m=\u001b[39;49mpathlib\u001b[39m.\u001b[39;49mPath(\u001b[39m\"\u001b[39;49m\u001b[39m./downloaded\u001b[39;49m\u001b[39m\"\u001b[39;49m),\n\u001b[1;32m     <a href='vscode-notebook-cell://ssh-remote%2B192.168.193.104/home/mfujita/Documents/research/prepare.ipynb#W2sdnNjb2RlLXJlbW90ZQ%3D%3D?line=15'>16</a>\u001b[0m               name\u001b[39m=\u001b[39;49mname \u001b[39m+\u001b[39;49m \u001b[39m\"\u001b[39;49m\u001b[39m.rar\u001b[39;49m\u001b[39m\"\u001b[39;49m)\n\u001b[1;32m     <a href='vscode-notebook-cell://ssh-remote%2B192.168.193.104/home/mfujita/Documents/research/prepare.ipynb#W2sdnNjb2RlLXJlbW90ZQ%3D%3D?line=16'>17</a>\u001b[0m \u001b[39mprint\u001b[39m(\u001b[39mf\u001b[39m\u001b[39m\"\u001b[39m\u001b[39mextracting \u001b[39m\u001b[39m{\u001b[39;00mname\u001b[39m}\u001b[39;00m\u001b[39m\"\u001b[39m)\n\u001b[1;32m     <a href='vscode-notebook-cell://ssh-remote%2B192.168.193.104/home/mfujita/Documents/research/prepare.ipynb#W2sdnNjb2RlLXJlbW90ZQ%3D%3D?line=17'>18</a>\u001b[0m \u001b[39mif\u001b[39;00m \u001b[39mnot\u001b[39;00m os\u001b[39m.\u001b[39mpath\u001b[39m.\u001b[39mexists(path):\n",
      "\u001b[1;32m/home/mfujita/Documents/research/prepare.ipynb Cell 3\u001b[0m in \u001b[0;36mdownload_file\u001b[0;34m(url, dir, name)\u001b[0m\n\u001b[1;32m     <a href='vscode-notebook-cell://ssh-remote%2B192.168.193.104/home/mfujita/Documents/research/prepare.ipynb#W2sdnNjb2RlLXJlbW90ZQ%3D%3D?line=9'>10</a>\u001b[0m     r\u001b[39m.\u001b[39mraise_for_status()\n\u001b[1;32m     <a href='vscode-notebook-cell://ssh-remote%2B192.168.193.104/home/mfujita/Documents/research/prepare.ipynb#W2sdnNjb2RlLXJlbW90ZQ%3D%3D?line=10'>11</a>\u001b[0m     \u001b[39mwith\u001b[39;00m \u001b[39mopen\u001b[39m(local_filename, \u001b[39m'\u001b[39m\u001b[39mwb\u001b[39m\u001b[39m'\u001b[39m) \u001b[39mas\u001b[39;00m f:\n\u001b[0;32m---> <a href='vscode-notebook-cell://ssh-remote%2B192.168.193.104/home/mfujita/Documents/research/prepare.ipynb#W2sdnNjb2RlLXJlbW90ZQ%3D%3D?line=11'>12</a>\u001b[0m         \u001b[39mfor\u001b[39;00m chunk \u001b[39min\u001b[39;00m r\u001b[39m.\u001b[39miter_content(chunk_size\u001b[39m=\u001b[39m\u001b[39m8192\u001b[39m): \n\u001b[1;32m     <a href='vscode-notebook-cell://ssh-remote%2B192.168.193.104/home/mfujita/Documents/research/prepare.ipynb#W2sdnNjb2RlLXJlbW90ZQ%3D%3D?line=12'>13</a>\u001b[0m             \u001b[39m# If you have chunk encoded response uncomment if\u001b[39;00m\n\u001b[1;32m     <a href='vscode-notebook-cell://ssh-remote%2B192.168.193.104/home/mfujita/Documents/research/prepare.ipynb#W2sdnNjb2RlLXJlbW90ZQ%3D%3D?line=13'>14</a>\u001b[0m             \u001b[39m# and set chunk_size parameter to None.\u001b[39;00m\n\u001b[1;32m     <a href='vscode-notebook-cell://ssh-remote%2B192.168.193.104/home/mfujita/Documents/research/prepare.ipynb#W2sdnNjb2RlLXJlbW90ZQ%3D%3D?line=14'>15</a>\u001b[0m             \u001b[39m#if chunk: \u001b[39;00m\n\u001b[1;32m     <a href='vscode-notebook-cell://ssh-remote%2B192.168.193.104/home/mfujita/Documents/research/prepare.ipynb#W2sdnNjb2RlLXJlbW90ZQ%3D%3D?line=15'>16</a>\u001b[0m             f\u001b[39m.\u001b[39mwrite(chunk)\n\u001b[1;32m     <a href='vscode-notebook-cell://ssh-remote%2B192.168.193.104/home/mfujita/Documents/research/prepare.ipynb#W2sdnNjb2RlLXJlbW90ZQ%3D%3D?line=16'>17</a>\u001b[0m \u001b[39mreturn\u001b[39;00m local_filename\n",
      "File \u001b[0;32m~/anaconda3/envs/res/lib/python3.10/site-packages/requests/models.py:816\u001b[0m, in \u001b[0;36mResponse.iter_content.<locals>.generate\u001b[0;34m()\u001b[0m\n\u001b[1;32m    814\u001b[0m \u001b[39mif\u001b[39;00m \u001b[39mhasattr\u001b[39m(\u001b[39mself\u001b[39m\u001b[39m.\u001b[39mraw, \u001b[39m\"\u001b[39m\u001b[39mstream\u001b[39m\u001b[39m\"\u001b[39m):\n\u001b[1;32m    815\u001b[0m     \u001b[39mtry\u001b[39;00m:\n\u001b[0;32m--> 816\u001b[0m         \u001b[39myield from\u001b[39;00m \u001b[39mself\u001b[39m\u001b[39m.\u001b[39mraw\u001b[39m.\u001b[39mstream(chunk_size, decode_content\u001b[39m=\u001b[39m\u001b[39mTrue\u001b[39;00m)\n\u001b[1;32m    817\u001b[0m     \u001b[39mexcept\u001b[39;00m ProtocolError \u001b[39mas\u001b[39;00m e:\n\u001b[1;32m    818\u001b[0m         \u001b[39mraise\u001b[39;00m ChunkedEncodingError(e)\n",
      "File \u001b[0;32m~/anaconda3/envs/res/lib/python3.10/site-packages/urllib3/response.py:628\u001b[0m, in \u001b[0;36mHTTPResponse.stream\u001b[0;34m(self, amt, decode_content)\u001b[0m\n\u001b[1;32m    626\u001b[0m \u001b[39melse\u001b[39;00m:\n\u001b[1;32m    627\u001b[0m     \u001b[39mwhile\u001b[39;00m \u001b[39mnot\u001b[39;00m is_fp_closed(\u001b[39mself\u001b[39m\u001b[39m.\u001b[39m_fp):\n\u001b[0;32m--> 628\u001b[0m         data \u001b[39m=\u001b[39m \u001b[39mself\u001b[39;49m\u001b[39m.\u001b[39;49mread(amt\u001b[39m=\u001b[39;49mamt, decode_content\u001b[39m=\u001b[39;49mdecode_content)\n\u001b[1;32m    630\u001b[0m         \u001b[39mif\u001b[39;00m data:\n\u001b[1;32m    631\u001b[0m             \u001b[39myield\u001b[39;00m data\n",
      "File \u001b[0;32m~/anaconda3/envs/res/lib/python3.10/site-packages/urllib3/response.py:567\u001b[0m, in \u001b[0;36mHTTPResponse.read\u001b[0;34m(self, amt, decode_content, cache_content)\u001b[0m\n\u001b[1;32m    564\u001b[0m fp_closed \u001b[39m=\u001b[39m \u001b[39mgetattr\u001b[39m(\u001b[39mself\u001b[39m\u001b[39m.\u001b[39m_fp, \u001b[39m\"\u001b[39m\u001b[39mclosed\u001b[39m\u001b[39m\"\u001b[39m, \u001b[39mFalse\u001b[39;00m)\n\u001b[1;32m    566\u001b[0m \u001b[39mwith\u001b[39;00m \u001b[39mself\u001b[39m\u001b[39m.\u001b[39m_error_catcher():\n\u001b[0;32m--> 567\u001b[0m     data \u001b[39m=\u001b[39m \u001b[39mself\u001b[39;49m\u001b[39m.\u001b[39;49m_fp_read(amt) \u001b[39mif\u001b[39;00m \u001b[39mnot\u001b[39;00m fp_closed \u001b[39melse\u001b[39;00m \u001b[39mb\u001b[39m\u001b[39m\"\u001b[39m\u001b[39m\"\u001b[39m\n\u001b[1;32m    568\u001b[0m     \u001b[39mif\u001b[39;00m amt \u001b[39mis\u001b[39;00m \u001b[39mNone\u001b[39;00m:\n\u001b[1;32m    569\u001b[0m         flush_decoder \u001b[39m=\u001b[39m \u001b[39mTrue\u001b[39;00m\n",
      "File \u001b[0;32m~/anaconda3/envs/res/lib/python3.10/site-packages/urllib3/response.py:533\u001b[0m, in \u001b[0;36mHTTPResponse._fp_read\u001b[0;34m(self, amt)\u001b[0m\n\u001b[1;32m    530\u001b[0m     \u001b[39mreturn\u001b[39;00m buffer\u001b[39m.\u001b[39mgetvalue()\n\u001b[1;32m    531\u001b[0m \u001b[39melse\u001b[39;00m:\n\u001b[1;32m    532\u001b[0m     \u001b[39m# StringIO doesn't like amt=None\u001b[39;00m\n\u001b[0;32m--> 533\u001b[0m     \u001b[39mreturn\u001b[39;00m \u001b[39mself\u001b[39;49m\u001b[39m.\u001b[39;49m_fp\u001b[39m.\u001b[39;49mread(amt) \u001b[39mif\u001b[39;00m amt \u001b[39mis\u001b[39;00m \u001b[39mnot\u001b[39;00m \u001b[39mNone\u001b[39;00m \u001b[39melse\u001b[39;00m \u001b[39mself\u001b[39m\u001b[39m.\u001b[39m_fp\u001b[39m.\u001b[39mread()\n",
      "File \u001b[0;32m~/anaconda3/envs/res/lib/python3.10/http/client.py:465\u001b[0m, in \u001b[0;36mHTTPResponse.read\u001b[0;34m(self, amt)\u001b[0m\n\u001b[1;32m    462\u001b[0m \u001b[39mif\u001b[39;00m \u001b[39mself\u001b[39m\u001b[39m.\u001b[39mlength \u001b[39mis\u001b[39;00m \u001b[39mnot\u001b[39;00m \u001b[39mNone\u001b[39;00m \u001b[39mand\u001b[39;00m amt \u001b[39m>\u001b[39m \u001b[39mself\u001b[39m\u001b[39m.\u001b[39mlength:\n\u001b[1;32m    463\u001b[0m     \u001b[39m# clip the read to the \"end of response\"\u001b[39;00m\n\u001b[1;32m    464\u001b[0m     amt \u001b[39m=\u001b[39m \u001b[39mself\u001b[39m\u001b[39m.\u001b[39mlength\n\u001b[0;32m--> 465\u001b[0m s \u001b[39m=\u001b[39m \u001b[39mself\u001b[39;49m\u001b[39m.\u001b[39;49mfp\u001b[39m.\u001b[39;49mread(amt)\n\u001b[1;32m    466\u001b[0m \u001b[39mif\u001b[39;00m \u001b[39mnot\u001b[39;00m s \u001b[39mand\u001b[39;00m amt:\n\u001b[1;32m    467\u001b[0m     \u001b[39m# Ideally, we would raise IncompleteRead if the content-length\u001b[39;00m\n\u001b[1;32m    468\u001b[0m     \u001b[39m# wasn't satisfied, but it might break compatibility.\u001b[39;00m\n\u001b[1;32m    469\u001b[0m     \u001b[39mself\u001b[39m\u001b[39m.\u001b[39m_close_conn()\n",
      "File \u001b[0;32m~/anaconda3/envs/res/lib/python3.10/socket.py:705\u001b[0m, in \u001b[0;36mSocketIO.readinto\u001b[0;34m(self, b)\u001b[0m\n\u001b[1;32m    703\u001b[0m \u001b[39mwhile\u001b[39;00m \u001b[39mTrue\u001b[39;00m:\n\u001b[1;32m    704\u001b[0m     \u001b[39mtry\u001b[39;00m:\n\u001b[0;32m--> 705\u001b[0m         \u001b[39mreturn\u001b[39;00m \u001b[39mself\u001b[39;49m\u001b[39m.\u001b[39;49m_sock\u001b[39m.\u001b[39;49mrecv_into(b)\n\u001b[1;32m    706\u001b[0m     \u001b[39mexcept\u001b[39;00m timeout:\n\u001b[1;32m    707\u001b[0m         \u001b[39mself\u001b[39m\u001b[39m.\u001b[39m_timeout_occurred \u001b[39m=\u001b[39m \u001b[39mTrue\u001b[39;00m\n",
      "File \u001b[0;32m~/anaconda3/envs/res/lib/python3.10/ssl.py:1274\u001b[0m, in \u001b[0;36mSSLSocket.recv_into\u001b[0;34m(self, buffer, nbytes, flags)\u001b[0m\n\u001b[1;32m   1270\u001b[0m     \u001b[39mif\u001b[39;00m flags \u001b[39m!=\u001b[39m \u001b[39m0\u001b[39m:\n\u001b[1;32m   1271\u001b[0m         \u001b[39mraise\u001b[39;00m \u001b[39mValueError\u001b[39;00m(\n\u001b[1;32m   1272\u001b[0m           \u001b[39m\"\u001b[39m\u001b[39mnon-zero flags not allowed in calls to recv_into() on \u001b[39m\u001b[39m%s\u001b[39;00m\u001b[39m\"\u001b[39m \u001b[39m%\u001b[39m\n\u001b[1;32m   1273\u001b[0m           \u001b[39mself\u001b[39m\u001b[39m.\u001b[39m\u001b[39m__class__\u001b[39m)\n\u001b[0;32m-> 1274\u001b[0m     \u001b[39mreturn\u001b[39;00m \u001b[39mself\u001b[39;49m\u001b[39m.\u001b[39;49mread(nbytes, buffer)\n\u001b[1;32m   1275\u001b[0m \u001b[39melse\u001b[39;00m:\n\u001b[1;32m   1276\u001b[0m     \u001b[39mreturn\u001b[39;00m \u001b[39msuper\u001b[39m()\u001b[39m.\u001b[39mrecv_into(buffer, nbytes, flags)\n",
      "File \u001b[0;32m~/anaconda3/envs/res/lib/python3.10/ssl.py:1130\u001b[0m, in \u001b[0;36mSSLSocket.read\u001b[0;34m(self, len, buffer)\u001b[0m\n\u001b[1;32m   1128\u001b[0m \u001b[39mtry\u001b[39;00m:\n\u001b[1;32m   1129\u001b[0m     \u001b[39mif\u001b[39;00m buffer \u001b[39mis\u001b[39;00m \u001b[39mnot\u001b[39;00m \u001b[39mNone\u001b[39;00m:\n\u001b[0;32m-> 1130\u001b[0m         \u001b[39mreturn\u001b[39;00m \u001b[39mself\u001b[39;49m\u001b[39m.\u001b[39;49m_sslobj\u001b[39m.\u001b[39;49mread(\u001b[39mlen\u001b[39;49m, buffer)\n\u001b[1;32m   1131\u001b[0m     \u001b[39melse\u001b[39;00m:\n\u001b[1;32m   1132\u001b[0m         \u001b[39mreturn\u001b[39;00m \u001b[39mself\u001b[39m\u001b[39m.\u001b[39m_sslobj\u001b[39m.\u001b[39mread(\u001b[39mlen\u001b[39m)\n",
      "\u001b[0;31mKeyboardInterrupt\u001b[0m: "
     ]
    }
   ],
   "source": [
    "from tqdm.notebook import tqdm\n",
    "\n",
    "# 10 - 30\n",
    "ids = [\n",
    "    \"4411471\", \"4411469\", \"4411475\", \"4411476\", \"4411482\", \"4411558\", \"4411559\", \"4411557\", \"4411796\", \"4411560\", \"4411563\", \"4411562\", \"4411561\", \"4411564\", \"4411565\", \"4411566\", \"4411794\", \"4411797\", \"4411407\", \"4411407\", \"4411408\", \"4411406\", \"4411405\", \"4411417\", \"4411414\", \"4411415\", \"4411416\", \"4411420\", \"4411419\", \"4267523\", \"4410886\", \"4411396\", \"4411397\", \"4411398\", \"4411395\", \"4411402\", \"4411401\", \"4411403\", \"4411404\", \"4411426\", \"4411425\", \"4411424\", \"4411423\", \"4411428\", \"4411430\", \"4411427\", \"4411429\", \"4411433\", \"4411432\", \"4410826\", \"4410824\", \"4410825\", \"4410829\", \"4410828\", \"4410827\", \"4410832\", \"4410830\", \"4410833\", \"4410831\", \"4410836\", \"4410837\", \"4410835\", \"4410834\", \"4410838\", \"4410840\", \"4410859\", \"4410856\", \"4410857\", \"4410858\", \"4267535\", \"4409574\", \"4409575\", \"4409573\", \"4410087\", \"4410088\", \"4410086\", \"4410401\", \"4410402\", \"4410400\", \"4410839\", \"4404145\", \"4404449\", \"4404146\", \"4404150\", \"4404148\", \"4404151\", \"4404149\", \"4404366\", \"4404147\", \"4404367\"\n",
    "]\n",
    "\n",
    "for id in tqdm(ids):\n",
    "    url = f\"https://dataverse.harvard.edu/api/access/datafile/{id}\"\n",
    "    name = url.split(\"/\")[-1]\n",
    "    path = \"./data/\" + name\n",
    "    if os.path.exists(path):\n",
    "        continue\n",
    "    print(f\"downloading {name}\")\n",
    "    download_file(url=url, dir=pathlib.Path(\"./downloaded\"),\n",
    "                  name=name + \".rar\")\n",
    "    print(f\"extracting {name}\")\n",
    "    if not os.path.exists(path):\n",
    "        os.mkdir(path)\n",
    "    patoolib.extract_archive(pathlib.Path(\"./downloaded\") \n",
    "                             / (name + \".rar\"),\n",
    "                             outdir=\"./data/\" + name)\n",
    "    os.rename(glob.glob(\"./data/\" + name + \"/*\")[0], \"./data/\" + name + \"/ct\")\n",
    "    os.remove(pathlib.Path(\"./downloaded\") / (name + \".rar\"))\n",
    "%slack"
   ]
  },
  {
   "attachments": {},
   "cell_type": "markdown",
   "metadata": {},
   "source": [
    "## DRR, FBP, Resize"
   ]
  },
  {
   "cell_type": "code",
   "execution_count": null,
   "metadata": {},
   "outputs": [
    {
     "data": {
      "application/vnd.jupyter.widget-view+json": {
       "model_id": "eab2deb4242b41a8aa3a5df9c3a6dec0",
       "version_major": 2,
       "version_minor": 0
      },
      "text/plain": [
       "  0%|          | 0/41 [00:00<?, ?it/s]"
      ]
     },
     "metadata": {},
     "output_type": "display_data"
    },
    {
     "data": {
      "application/vnd.jupyter.widget-view+json": {
       "model_id": "f02284976d184492bee0b34363a9995e",
       "version_major": 2,
       "version_minor": 0
      },
      "text/plain": [
       "FBP:   0%|          | 0/400 [00:00<?, ?it/s]"
      ]
     },
     "metadata": {},
     "output_type": "display_data"
    },
    {
     "ename": "KeyboardInterrupt",
     "evalue": "",
     "output_type": "error",
     "traceback": [
      "\u001b[0;31m---------------------------------------------------------------------------\u001b[0m",
      "\u001b[0;31mKeyboardInterrupt\u001b[0m                         Traceback (most recent call last)",
      "\u001b[1;32m/home/mfujita/Documents/research/prepare.ipynb Cell 5\u001b[0m in \u001b[0;36m<cell line: 9>\u001b[0;34m()\u001b[0m\n\u001b[1;32m     <a href='vscode-notebook-cell://ssh-remote%2B192.168.193.104/home/mfujita/Documents/research/prepare.ipynb#W4sdnNjb2RlLXJlbW90ZQ%3D%3D?line=11'>12</a>\u001b[0m     vol \u001b[39m=\u001b[39m vol_path\u001b[39m.\u001b[39msplit(\u001b[39m\"\u001b[39m\u001b[39m/\u001b[39m\u001b[39m\"\u001b[39m)[\u001b[39m-\u001b[39m\u001b[39m1\u001b[39m]\n\u001b[1;32m     <a href='vscode-notebook-cell://ssh-remote%2B192.168.193.104/home/mfujita/Documents/research/prepare.ipynb#W4sdnNjb2RlLXJlbW90ZQ%3D%3D?line=12'>13</a>\u001b[0m     \u001b[39m# print(vol)\u001b[39;00m\n\u001b[0;32m---> <a href='vscode-notebook-cell://ssh-remote%2B192.168.193.104/home/mfujita/Documents/research/prepare.ipynb#W4sdnNjb2RlLXJlbW90ZQ%3D%3D?line=13'>14</a>\u001b[0m     p \u001b[39m=\u001b[39m patient\u001b[39m.\u001b[39;49mpatient(name\u001b[39m=\u001b[39;49mvol)\n\u001b[1;32m     <a href='vscode-notebook-cell://ssh-remote%2B192.168.193.104/home/mfujita/Documents/research/prepare.ipynb#W4sdnNjb2RlLXJlbW90ZQ%3D%3D?line=15'>16</a>\u001b[0m \u001b[39m# imageio.mimsave(f\"pics/drr.gif\", p.drr.img)\u001b[39;00m\n\u001b[1;32m     <a href='vscode-notebook-cell://ssh-remote%2B192.168.193.104/home/mfujita/Documents/research/prepare.ipynb#W4sdnNjb2RlLXJlbW90ZQ%3D%3D?line=16'>17</a>\u001b[0m get_ipython()\u001b[39m.\u001b[39mrun_line_magic(\u001b[39m'\u001b[39m\u001b[39mslack\u001b[39m\u001b[39m'\u001b[39m, \u001b[39m'\u001b[39m\u001b[39m'\u001b[39m)\n",
      "File \u001b[0;32m~/Documents/research/patient/patient.py:55\u001b[0m, in \u001b[0;36mpatient.__init__\u001b[0;34m(self, name, num_views)\u001b[0m\n\u001b[1;32m     53\u001b[0m         \u001b[39mself\u001b[39m\u001b[39m.\u001b[39mfbp \u001b[39m=\u001b[39m pickle\u001b[39m.\u001b[39mload(handle)\n\u001b[1;32m     54\u001b[0m \u001b[39melse\u001b[39;00m:\n\u001b[0;32m---> 55\u001b[0m     \u001b[39mself\u001b[39;49m\u001b[39m.\u001b[39;49mgenerate_fbp()\n\u001b[1;32m     57\u001b[0m \u001b[39mif\u001b[39;00m (datadir \u001b[39m/\u001b[39m name \u001b[39m/\u001b[39m \u001b[39m\"\u001b[39m\u001b[39mposfbp.pickle\u001b[39m\u001b[39m\"\u001b[39m)\u001b[39m.\u001b[39mexists():\n\u001b[1;32m     58\u001b[0m     \u001b[39mwith\u001b[39;00m \u001b[39mopen\u001b[39m(datadir \u001b[39m/\u001b[39m name \u001b[39m/\u001b[39m \u001b[39m\"\u001b[39m\u001b[39mposfbp.pickle\u001b[39m\u001b[39m\"\u001b[39m, \u001b[39m'\u001b[39m\u001b[39mrb\u001b[39m\u001b[39m'\u001b[39m) \u001b[39mas\u001b[39;00m handle:\n",
      "File \u001b[0;32m~/Documents/research/patient/patient.py:108\u001b[0m, in \u001b[0;36mpatient.generate_fbp\u001b[0;34m(self, load_all)\u001b[0m\n\u001b[1;32m    107\u001b[0m \u001b[39mdef\u001b[39;00m \u001b[39mgenerate_fbp\u001b[39m(\u001b[39mself\u001b[39m, load_all\u001b[39m=\u001b[39m\u001b[39mTrue\u001b[39;00m):\n\u001b[0;32m--> 108\u001b[0m     \u001b[39mself\u001b[39m\u001b[39m.\u001b[39mfbp \u001b[39m=\u001b[39m fbp\u001b[39m.\u001b[39;49mfbpset(\n\u001b[1;32m    109\u001b[0m         \u001b[39mself\u001b[39;49m\u001b[39m.\u001b[39;49mdrr,\n\u001b[1;32m    110\u001b[0m         height\u001b[39m=\u001b[39;49m\u001b[39m500\u001b[39;49m,\n\u001b[1;32m    111\u001b[0m         angle\u001b[39m=\u001b[39;49m\u001b[39m75\u001b[39;49m,\n\u001b[1;32m    112\u001b[0m         rotate\u001b[39m=\u001b[39;49m\u001b[39m191\u001b[39;49m,\n\u001b[1;32m    113\u001b[0m         load_all\u001b[39m=\u001b[39;49mload_all\n\u001b[1;32m    114\u001b[0m     )\n\u001b[1;32m    115\u001b[0m     \u001b[39mwith\u001b[39;00m \u001b[39mopen\u001b[39m(datadir \u001b[39m/\u001b[39m \u001b[39mself\u001b[39m\u001b[39m.\u001b[39mname \u001b[39m/\u001b[39m \u001b[39m\"\u001b[39m\u001b[39mfbp.pickle\u001b[39m\u001b[39m\"\u001b[39m, \u001b[39m'\u001b[39m\u001b[39mwb\u001b[39m\u001b[39m'\u001b[39m) \u001b[39mas\u001b[39;00m handle:\n\u001b[1;32m    116\u001b[0m         pickle\u001b[39m.\u001b[39mdump(\u001b[39mself\u001b[39m\u001b[39m.\u001b[39mfbp, handle, protocol\u001b[39m=\u001b[39mpickle\u001b[39m.\u001b[39mHIGHEST_PROTOCOL)\n",
      "File \u001b[0;32m~/Documents/research/fbp/tompy.py:98\u001b[0m, in \u001b[0;36mfbpset.__init__\u001b[0;34m(self, xray, height, width, adjust_alpha, adjust_beta, start, angle, sidepad, toppad, rotate, load_all)\u001b[0m\n\u001b[1;32m     94\u001b[0m \u001b[39mif\u001b[39;00m load_all:\n\u001b[1;32m     95\u001b[0m     \u001b[39mfor\u001b[39;00m idx \u001b[39min\u001b[39;00m tqdm(\u001b[39mrange\u001b[39m(\u001b[39mlen\u001b[39m(\u001b[39mself\u001b[39m\u001b[39m.\u001b[39mx\u001b[39m.\u001b[39mimg[\u001b[39m0\u001b[39m])), desc\u001b[39m=\u001b[39m\u001b[39m\"\u001b[39m\u001b[39mFBP\u001b[39m\u001b[39m\"\u001b[39m,\n\u001b[1;32m     96\u001b[0m                     leave\u001b[39m=\u001b[39m\u001b[39mFalse\u001b[39;00m):\n\u001b[1;32m     97\u001b[0m         \u001b[39m# for idx in range(5):\u001b[39;00m\n\u001b[0;32m---> 98\u001b[0m         \u001b[39mself\u001b[39;49m\u001b[39m.\u001b[39;49mgenerate(idx)\n",
      "File \u001b[0;32m~/Documents/research/fbp/tompy.py:124\u001b[0m, in \u001b[0;36mfbpset.generate\u001b[0;34m(self, sheet_number)\u001b[0m\n\u001b[1;32m    115\u001b[0m \u001b[39mdef\u001b[39;00m \u001b[39mgenerate\u001b[39m(\n\u001b[1;32m    116\u001b[0m     \u001b[39mself\u001b[39m,\n\u001b[1;32m    117\u001b[0m     sheet_number: \u001b[39mint\u001b[39m\n\u001b[1;32m    118\u001b[0m ):\n\u001b[1;32m    119\u001b[0m     \u001b[39m\"\"\"Generate FBP result\u001b[39;00m\n\u001b[1;32m    120\u001b[0m \n\u001b[1;32m    121\u001b[0m \u001b[39m    Args:\u001b[39;00m\n\u001b[1;32m    122\u001b[0m \u001b[39m        sheet_number (int): sheet number (0 to 1024)\u001b[39;00m\n\u001b[1;32m    123\u001b[0m \u001b[39m    \"\"\"\u001b[39;00m\n\u001b[0;32m--> 124\u001b[0m     sinogram \u001b[39m=\u001b[39m \u001b[39mself\u001b[39;49m\u001b[39m.\u001b[39;49mcreate_sino(sheet_number)\n\u001b[1;32m    125\u001b[0m     sinogram \u001b[39m=\u001b[39m cp\u001b[39m.\u001b[39marray(cv2\u001b[39m.\u001b[39mresize(cp\u001b[39m.\u001b[39masnumpy(sinogram),\n\u001b[1;32m    126\u001b[0m                                    (\u001b[39mself\u001b[39m\u001b[39m.\u001b[39mheight, \u001b[39mself\u001b[39m\u001b[39m.\u001b[39mwidth)))\n\u001b[1;32m    127\u001b[0m     \u001b[39m# sinogram = affine_transform(sinogram, )\u001b[39;00m\n",
      "File \u001b[0;32m~/Documents/research/fbp/tompy.py:178\u001b[0m, in \u001b[0;36mfbpset.create_sino\u001b[0;34m(self, sheet_number)\u001b[0m\n\u001b[1;32m    176\u001b[0m         a \u001b[39m=\u001b[39m \u001b[39mint\u001b[39m((row \u001b[39m-\u001b[39m \u001b[39mself\u001b[39m\u001b[39m.\u001b[39mstart) \u001b[39m%\u001b[39m n)\n\u001b[1;32m    177\u001b[0m         b \u001b[39m=\u001b[39m \u001b[39mint\u001b[39m(row \u001b[39m-\u001b[39m \u001b[39mint\u001b[39m(\u001b[39mself\u001b[39m\u001b[39m.\u001b[39mangle \u001b[39m*\u001b[39m col \u001b[39m/\u001b[39m w)) \u001b[39m%\u001b[39m \u001b[39mlen\u001b[39m(\u001b[39mself\u001b[39m\u001b[39m.\u001b[39mx\u001b[39m.\u001b[39mimg)\n\u001b[0;32m--> 178\u001b[0m         new_sino[a][\u001b[39mself\u001b[39m\u001b[39m.\u001b[39msidepad \u001b[39m+\u001b[39m col] \u001b[39m=\u001b[39m (\u001b[39mself\u001b[39;49m\u001b[39m.\u001b[39;49mx\u001b[39m.\u001b[39;49mimg[b][sheet_number]\n\u001b[1;32m    179\u001b[0m                                            [col])\n\u001b[1;32m    180\u001b[0m new_sino \u001b[39m=\u001b[39m cp\u001b[39m.\u001b[39mrot90(new_sino)\n\u001b[1;32m    181\u001b[0m \u001b[39mreturn\u001b[39;00m new_sino\n",
      "File \u001b[0;32mcupy/_core/core.pyx:1437\u001b[0m, in \u001b[0;36mcupy._core.core.ndarray.__getitem__\u001b[0;34m()\u001b[0m\n",
      "File \u001b[0;32mcupy/_core/_routines_indexing.pyx:32\u001b[0m, in \u001b[0;36mcupy._core._routines_indexing._ndarray_getitem\u001b[0;34m()\u001b[0m\n",
      "File \u001b[0;32mcupy/_core/_routines_indexing.pyx:289\u001b[0m, in \u001b[0;36mcupy._core._routines_indexing._prepare_slice_list\u001b[0;34m()\u001b[0m\n",
      "File \u001b[0;32m~/anaconda3/envs/res/lib/python3.10/site-packages/numpy/core/numeric.py:1949\u001b[0m, in \u001b[0;36misscalar\u001b[0;34m(element)\u001b[0m\n\u001b[1;32m   1873\u001b[0m \u001b[39m@set_module\u001b[39m(\u001b[39m'\u001b[39m\u001b[39mnumpy\u001b[39m\u001b[39m'\u001b[39m)\n\u001b[1;32m   1874\u001b[0m \u001b[39mdef\u001b[39;00m \u001b[39misscalar\u001b[39m(element):\n\u001b[1;32m   1875\u001b[0m     \u001b[39m\"\"\"\u001b[39;00m\n\u001b[1;32m   1876\u001b[0m \u001b[39m    Returns True if the type of `element` is a scalar type.\u001b[39;00m\n\u001b[1;32m   1877\u001b[0m \n\u001b[0;32m   (...)\u001b[0m\n\u001b[1;32m   1947\u001b[0m \n\u001b[1;32m   1948\u001b[0m \u001b[39m    \"\"\"\u001b[39;00m\n\u001b[0;32m-> 1949\u001b[0m     \u001b[39mreturn\u001b[39;00m (\u001b[39misinstance\u001b[39;49m(element, generic)\n\u001b[1;32m   1950\u001b[0m             \u001b[39mor\u001b[39;00m \u001b[39mtype\u001b[39m(element) \u001b[39min\u001b[39;00m ScalarType\n\u001b[1;32m   1951\u001b[0m             \u001b[39mor\u001b[39;00m \u001b[39misinstance\u001b[39m(element, numbers\u001b[39m.\u001b[39mNumber))\n",
      "\u001b[0;31mKeyboardInterrupt\u001b[0m: "
     ]
    }
   ],
   "source": [
    "import importlib\n",
    "import imageio.v2 as imageio\n",
    "from patient import patient\n",
    "import glob\n",
    "\n",
    "# https://dataverse.harvard.edu/dataset.xhtml?persistentId=doi:10.7910/DVN/6ACUZJ\n",
    "\n",
    "from tqdm.notebook import tqdm\n",
    "for vol_path in tqdm(glob.glob(\"./data/*\")):\n",
    "    if \"__\" in vol_path:\n",
    "        continue\n",
    "    vol = vol_path.split(\"/\")[-1]\n",
    "    # print(vol)\n",
    "    p = patient.patient(name=vol)\n",
    "\n",
    "# imageio.mimsave(f\"pics/drr.gif\", p.drr.img)\n",
    "%slack"
   ]
  },
  {
   "cell_type": "code",
   "execution_count": null,
   "metadata": {},
   "outputs": [
    {
     "data": {
      "application/vnd.jupyter.widget-view+json": {
       "model_id": "85889f3c706d45a283106837ca417172",
       "version_major": 2,
       "version_minor": 0
      },
      "text/plain": [
       "FBP:   0%|          | 0/400 [00:00<?, ?it/s]"
      ]
     },
     "metadata": {},
     "output_type": "display_data"
    },
    {
     "ename": "TypeError",
     "evalue": "patient.generate_fbp() got an unexpected keyword argument 'cont'",
     "output_type": "error",
     "traceback": [
      "\u001b[0;31m---------------------------------------------------------------------------\u001b[0m",
      "\u001b[0;31mTypeError\u001b[0m                                 Traceback (most recent call last)",
      "\u001b[1;32m/home/mfujita/Documents/research/prepare.ipynb Cell 6\u001b[0m in \u001b[0;36m<cell line: 18>\u001b[0;34m()\u001b[0m\n\u001b[1;32m     <a href='vscode-notebook-cell://ssh-remote%2B192.168.193.104/home/mfujita/Documents/research/prepare.ipynb#W5sdnNjb2RlLXJlbW90ZQ%3D%3D?line=14'>15</a>\u001b[0m     p\u001b[39m.\u001b[39mdrr\u001b[39m.\u001b[39mimg[idx] \u001b[39m=\u001b[39m new_img\u001b[39m.\u001b[39mastype(\u001b[39m\"\u001b[39m\u001b[39muint8\u001b[39m\u001b[39m\"\u001b[39m)\n\u001b[1;32m     <a href='vscode-notebook-cell://ssh-remote%2B192.168.193.104/home/mfujita/Documents/research/prepare.ipynb#W5sdnNjb2RlLXJlbW90ZQ%3D%3D?line=15'>16</a>\u001b[0m     \u001b[39m# print(cp.max(cp.ravel(p.drr.img[idx])), cp.min(cp.ravel(p.drr.img[idx])))\u001b[39;00m\n\u001b[0;32m---> <a href='vscode-notebook-cell://ssh-remote%2B192.168.193.104/home/mfujita/Documents/research/prepare.ipynb#W5sdnNjb2RlLXJlbW90ZQ%3D%3D?line=17'>18</a>\u001b[0m p\u001b[39m.\u001b[39;49mgenerate_fbp(load_all\u001b[39m=\u001b[39;49m\u001b[39mFalse\u001b[39;49;00m, cont\u001b[39m=\u001b[39;49m\u001b[39mFalse\u001b[39;49;00m)\n\u001b[1;32m     <a href='vscode-notebook-cell://ssh-remote%2B192.168.193.104/home/mfujita/Documents/research/prepare.ipynb#W5sdnNjb2RlLXJlbW90ZQ%3D%3D?line=19'>20</a>\u001b[0m imgs \u001b[39m=\u001b[39m [cp\u001b[39m.\u001b[39masnumpy(img) \u001b[39mfor\u001b[39;00m img \u001b[39min\u001b[39;00m p\u001b[39m.\u001b[39mdrr\u001b[39m.\u001b[39mimg]\n\u001b[1;32m     <a href='vscode-notebook-cell://ssh-remote%2B192.168.193.104/home/mfujita/Documents/research/prepare.ipynb#W5sdnNjb2RlLXJlbW90ZQ%3D%3D?line=20'>21</a>\u001b[0m imageio\u001b[39m.\u001b[39mmimsave(\u001b[39m\"\u001b[39m\u001b[39mdrr.gif\u001b[39m\u001b[39m\"\u001b[39m, imgs)\n",
      "\u001b[0;31mTypeError\u001b[0m: patient.generate_fbp() got an unexpected keyword argument 'cont'"
     ]
    }
   ],
   "source": [
    "import imageio.v2 as imageio\n",
    "import cupy as cp\n",
    "from patient import patient\n",
    "\n",
    "p = patient.patient(name=\"4410088\")\n",
    "\n",
    "# p.generate_drr(cont=False)\n",
    "\n",
    "# p.generate_drr(cont=False)\n",
    "# p.generate_posdrr(cont=False)\n",
    "\n",
    "for idx, img in enumerate(p.drr.img):\n",
    "    new_img = img\n",
    "    new_img[new_img > 255] = 255\n",
    "    p.drr.img[idx] = new_img.astype(\"uint8\")\n",
    "    # print(cp.max(cp.ravel(p.drr.img[idx])), cp.min(cp.ravel(p.drr.img[idx])))\n",
    "\n",
    "p.generate_fbp(load_all=False)\n",
    "\n",
    "imgs = [cp.asnumpy(img) for img in p.drr.img]\n",
    "imageio.mimsave(\"drr.gif\", imgs)\n",
    "\n",
    "imgs = [cp.asnumpy(img) for img in p.posdrr.img]\n",
    "imageio.mimsave(\"posdrr.gif\", imgs)"
   ]
  },
  {
   "cell_type": "code",
   "execution_count": null,
   "metadata": {},
   "outputs": [],
   "source": [
    "a = 200\n",
    "imageio.imsave(\"test3.png\", cp.asnumpy(p.get_equiv_fbp(a)))\n",
    "imageio.imsave(\"test4.png\", cp.asnumpy(p.ct.img[a]))\n",
    "%slack"
   ]
  },
  {
   "cell_type": "code",
   "execution_count": null,
   "metadata": {},
   "outputs": [],
   "source": [
    "import glob, os, datetime\n",
    "\n",
    "for vol in glob.glob(\"./data/*\"):\n",
    "    for file in glob.glob(vol + \"/*\"):\n",
    "        if \".pickle\" in file:\n",
    "            os.remove(file)\n",
    "            # print(file)"
   ]
  },
  {
   "attachments": {},
   "cell_type": "markdown",
   "metadata": {},
   "source": [
    "## Pix2Pix Prepare"
   ]
  },
  {
   "cell_type": "code",
   "execution_count": 1,
   "metadata": {
    "notebookRunGroups": {
     "groupValue": "2"
    }
   },
   "outputs": [
    {
     "data": {
      "application/vnd.jupyter.widget-view+json": {
       "model_id": "c9cabba380df4161affdb2a99973f7e1",
       "version_major": 2,
       "version_minor": 0
      },
      "text/plain": [
       "  0%|          | 0/28 [00:00<?, ?it/s]"
      ]
     },
     "metadata": {},
     "output_type": "display_data"
    },
    {
     "name": "stdout",
     "output_type": "stream",
     "text": [
      "4410831\n",
      "4404148\n"
     ]
    },
    {
     "data": {
      "application/vnd.jupyter.widget-view+json": {
       "model_id": "4ef44500e66b45dcaf230392456404c2",
       "version_major": 2,
       "version_minor": 0
      },
      "text/plain": [
       "4404148:   0%|          | 0/90 [00:00<?, ?it/s]"
      ]
     },
     "metadata": {},
     "output_type": "display_data"
    },
    {
     "name": "stdout",
     "output_type": "stream",
     "text": [
      "4267523\n"
     ]
    },
    {
     "data": {
      "application/vnd.jupyter.widget-view+json": {
       "model_id": "ab0af685120743a8a50f5c686f92c9f8",
       "version_major": 2,
       "version_minor": 0
      },
      "text/plain": [
       "4267523:   0%|          | 0/90 [00:00<?, ?it/s]"
      ]
     },
     "metadata": {},
     "output_type": "display_data"
    },
    {
     "name": "stdout",
     "output_type": "stream",
     "text": [
      "4410086\n",
      "4410837\n"
     ]
    },
    {
     "data": {
      "application/vnd.jupyter.widget-view+json": {
       "model_id": "22e68c449d134e9e94c8155000095baf",
       "version_major": 2,
       "version_minor": 0
      },
      "text/plain": [
       "4410837:   0%|          | 0/90 [00:00<?, ?it/s]"
      ]
     },
     "metadata": {},
     "output_type": "display_data"
    },
    {
     "name": "stdout",
     "output_type": "stream",
     "text": [
      "4410401\n",
      "4410824\n",
      "4404145\n"
     ]
    },
    {
     "data": {
      "application/vnd.jupyter.widget-view+json": {
       "model_id": "3d1379d0ac184bbc85881825571d94c6",
       "version_major": 2,
       "version_minor": 0
      },
      "text/plain": [
       "4404145:   0%|          | 0/90 [00:00<?, ?it/s]"
      ]
     },
     "metadata": {},
     "output_type": "display_data"
    },
    {
     "name": "stdout",
     "output_type": "stream",
     "text": [
      "4404151\n",
      "4410830\n",
      "4404367\n",
      "4410087\n",
      "4404449\n"
     ]
    },
    {
     "data": {
      "application/vnd.jupyter.widget-view+json": {
       "model_id": "2564028661994e63a4cfc89e49480d1e",
       "version_major": 2,
       "version_minor": 0
      },
      "text/plain": [
       "4404449:   0%|          | 0/90 [00:00<?, ?it/s]"
      ]
     },
     "metadata": {},
     "output_type": "display_data"
    },
    {
     "name": "stdout",
     "output_type": "stream",
     "text": [
      "4410838\n",
      "4410828\n"
     ]
    },
    {
     "data": {
      "application/vnd.jupyter.widget-view+json": {
       "model_id": "8115bfd1738d4b67a6d38171c623600f",
       "version_major": 2,
       "version_minor": 0
      },
      "text/plain": [
       "4410828:   0%|          | 0/90 [00:00<?, ?it/s]"
      ]
     },
     "metadata": {},
     "output_type": "display_data"
    },
    {
     "name": "stdout",
     "output_type": "stream",
     "text": [
      "4410400\n",
      "4409573\n",
      "4409575\n",
      "4410832\n",
      "4410833\n"
     ]
    },
    {
     "data": {
      "application/vnd.jupyter.widget-view+json": {
       "model_id": "79d2b559c79a4facbf67a24f4b8e5298",
       "version_major": 2,
       "version_minor": 0
      },
      "text/plain": [
       "  0%|          | 0/8 [00:00<?, ?it/s]"
      ]
     },
     "metadata": {},
     "output_type": "display_data"
    },
    {
     "name": "stdout",
     "output_type": "stream",
     "text": [
      "4404149\n"
     ]
    },
    {
     "data": {
      "application/vnd.jupyter.widget-view+json": {
       "model_id": "437247e96c9f403a987b65d34aca827e",
       "version_major": 2,
       "version_minor": 0
      },
      "text/plain": [
       "4404149:   0%|          | 0/90 [00:00<?, ?it/s]"
      ]
     },
     "metadata": {},
     "output_type": "display_data"
    },
    {
     "name": "stdout",
     "output_type": "stream",
     "text": [
      "4404146\n"
     ]
    },
    {
     "data": {
      "application/vnd.jupyter.widget-view+json": {
       "model_id": "f599c3569ff24fe4a40340adc954fa69",
       "version_major": 2,
       "version_minor": 0
      },
      "text/plain": [
       "4404146:   0%|          | 0/90 [00:00<?, ?it/s]"
      ]
     },
     "metadata": {},
     "output_type": "display_data"
    },
    {
     "name": "stdout",
     "output_type": "stream",
     "text": [
      "4410835\n"
     ]
    },
    {
     "data": {
      "application/vnd.jupyter.widget-view+json": {
       "model_id": "3f41946cfcb7451897fd57e052e8d3e1",
       "version_major": 2,
       "version_minor": 0
      },
      "text/plain": [
       "4410835:   0%|          | 0/90 [00:00<?, ?it/s]"
      ]
     },
     "metadata": {},
     "output_type": "display_data"
    },
    {
     "name": "stdout",
     "output_type": "stream",
     "text": [
      "4410827\n"
     ]
    },
    {
     "data": {
      "application/vnd.jupyter.widget-view+json": {
       "model_id": "53bad74367a243a7b90d4e7c13460594",
       "version_major": 2,
       "version_minor": 0
      },
      "text/plain": [
       "4410827:   0%|          | 0/90 [00:00<?, ?it/s]"
      ]
     },
     "metadata": {},
     "output_type": "display_data"
    },
    {
     "name": "stdout",
     "output_type": "stream",
     "text": [
      "4410088\n"
     ]
    },
    {
     "data": {
      "application/vnd.jupyter.widget-view+json": {
       "model_id": "9ba083e32b2b419a8f3c0b770d735746",
       "version_major": 2,
       "version_minor": 0
      },
      "text/plain": [
       "4410088:   0%|          | 0/90 [00:00<?, ?it/s]"
      ]
     },
     "metadata": {},
     "output_type": "display_data"
    },
    {
     "name": "stdout",
     "output_type": "stream",
     "text": [
      "4404150\n"
     ]
    },
    {
     "data": {
      "application/vnd.jupyter.widget-view+json": {
       "model_id": "88cf3b981a784261be9f62b457604406",
       "version_major": 2,
       "version_minor": 0
      },
      "text/plain": [
       "4404150:   0%|          | 0/90 [00:00<?, ?it/s]"
      ]
     },
     "metadata": {},
     "output_type": "display_data"
    },
    {
     "name": "stdout",
     "output_type": "stream",
     "text": [
      "4404366\n"
     ]
    },
    {
     "data": {
      "application/vnd.jupyter.widget-view+json": {
       "model_id": "3f3f0974f7be4fff8e45959d367bf9d2",
       "version_major": 2,
       "version_minor": 0
      },
      "text/plain": [
       "4404366:   0%|          | 0/90 [00:00<?, ?it/s]"
      ]
     },
     "metadata": {},
     "output_type": "display_data"
    },
    {
     "data": {
      "application/vnd.jupyter.widget-view+json": {
       "model_id": "6655427b7e344a9083ef30812a7a24cf",
       "version_major": 2,
       "version_minor": 0
      },
      "text/plain": [
       "  0%|          | 0/5 [00:00<?, ?it/s]"
      ]
     },
     "metadata": {},
     "output_type": "display_data"
    },
    {
     "name": "stdout",
     "output_type": "stream",
     "text": [
      "4409574\n"
     ]
    },
    {
     "data": {
      "application/vnd.jupyter.widget-view+json": {
       "model_id": "df2c2b53df4746dc95e75d9c031284fe",
       "version_major": 2,
       "version_minor": 0
      },
      "text/plain": [
       "4409574:   0%|          | 0/90 [00:00<?, ?it/s]"
      ]
     },
     "metadata": {},
     "output_type": "display_data"
    },
    {
     "name": "stdout",
     "output_type": "stream",
     "text": [
      "4410834\n"
     ]
    },
    {
     "data": {
      "application/vnd.jupyter.widget-view+json": {
       "model_id": "0b55b4097689429dbf8df6a2413be794",
       "version_major": 2,
       "version_minor": 0
      },
      "text/plain": [
       "4410834:   0%|          | 0/90 [00:00<?, ?it/s]"
      ]
     },
     "metadata": {},
     "output_type": "display_data"
    },
    {
     "name": "stdout",
     "output_type": "stream",
     "text": [
      "4410829\n"
     ]
    },
    {
     "data": {
      "application/vnd.jupyter.widget-view+json": {
       "model_id": "6a55ef8f42b549d59fc8518f1d1be8f1",
       "version_major": 2,
       "version_minor": 0
      },
      "text/plain": [
       "4410829:   0%|          | 0/90 [00:00<?, ?it/s]"
      ]
     },
     "metadata": {},
     "output_type": "display_data"
    },
    {
     "name": "stdout",
     "output_type": "stream",
     "text": [
      "4404147\n"
     ]
    },
    {
     "data": {
      "application/vnd.jupyter.widget-view+json": {
       "model_id": "de9d5d0f79cc46169a0d7f60ab27c9e0",
       "version_major": 2,
       "version_minor": 0
      },
      "text/plain": [
       "4404147:   0%|          | 0/90 [00:00<?, ?it/s]"
      ]
     },
     "metadata": {},
     "output_type": "display_data"
    }
   ],
   "source": [
    "from pix2pix.datasets import combine_ct_and_fbp\n",
    "combine_ct_and_fbp.prep(\"./pix2pix/datasets/ctfbp\")\n",
    "%slack\n"
   ]
  },
  {
   "cell_type": "code",
   "execution_count": null,
   "metadata": {},
   "outputs": [],
   "source": []
  }
 ],
 "metadata": {
  "kernelspec": {
   "display_name": "res",
   "language": "python",
   "name": "python3"
  },
  "language_info": {
   "codemirror_mode": {
    "name": "ipython",
    "version": 3
   },
   "file_extension": ".py",
   "mimetype": "text/x-python",
   "name": "python",
   "nbconvert_exporter": "python",
   "pygments_lexer": "ipython3",
   "version": "3.10.8"
  },
  "orig_nbformat": 4,
  "vscode": {
   "interpreter": {
    "hash": "da9ac5d7c4e967160d4eddc6864285750b07d26b36aae015b5a1a36de670b7f6"
   }
  }
 },
 "nbformat": 4,
 "nbformat_minor": 2
}
