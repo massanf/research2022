{
 "cells": [
  {
   "attachments": {},
   "cell_type": "markdown",
   "metadata": {},
   "source": [
    "## Download"
   ]
  },
  {
   "cell_type": "code",
   "execution_count": 3,
   "metadata": {},
   "outputs": [],
   "source": [
    "import requests\n",
    "import pathlib\n",
    "import patoolib\n",
    "import glob\n",
    "import os\n",
    "\n",
    "def download_file(url, dir, name):\n",
    "    local_filename = dir / name\n",
    "    with requests.get(url, stream=True) as r:\n",
    "        r.raise_for_status()\n",
    "        with open(local_filename, 'wb') as f:\n",
    "            for chunk in r.iter_content(chunk_size=8192): \n",
    "                # If you have chunk encoded response uncomment if\n",
    "                # and set chunk_size parameter to None.\n",
    "                #if chunk: \n",
    "                f.write(chunk)\n",
    "    return local_filename"
   ]
  },
  {
   "cell_type": "code",
   "execution_count": 4,
   "metadata": {},
   "outputs": [
    {
     "data": {
      "application/vnd.jupyter.widget-view+json": {
       "model_id": "4c6ec1b3bde942299b5ab80f83e7fb38",
       "version_major": 2,
       "version_minor": 0
      },
      "text/plain": [
       "  0%|          | 0/188 [00:00<?, ?it/s]"
      ]
     },
     "metadata": {},
     "output_type": "display_data"
    },
    {
     "name": "stdout",
     "output_type": "stream",
     "text": [
      "downloading 4264835\n",
      "extracting 4264835\n",
      "patool: Extracting downloaded/4264835.rar ...\n",
      "patool: running /usr/bin/unrar x -- /home/mfujita/Documents/research/downloaded/4264835.rar\n",
      "patool:     with cwd='./data/4264835'\n",
      "patool: ... downloaded/4264835.rar extracted to `./data/4264835'.\n",
      "downloading 4264834\n",
      "extracting 4264834\n",
      "patool: Extracting downloaded/4264834.rar ...\n",
      "patool: running /usr/bin/unrar x -- /home/mfujita/Documents/research/downloaded/4264834.rar\n",
      "patool:     with cwd='./data/4264834'\n",
      "patool: ... downloaded/4264834.rar extracted to `./data/4264834'.\n",
      "downloading 4264838\n",
      "extracting 4264838\n",
      "patool: Extracting downloaded/4264838.rar ...\n",
      "patool: running /usr/bin/unrar x -- /home/mfujita/Documents/research/downloaded/4264838.rar\n",
      "patool:     with cwd='./data/4264838'\n",
      "patool: ... downloaded/4264838.rar extracted to `./data/4264838'.\n",
      "downloading 4264836\n",
      "extracting 4264836\n",
      "patool: Extracting downloaded/4264836.rar ...\n",
      "patool: running /usr/bin/unrar x -- /home/mfujita/Documents/research/downloaded/4264836.rar\n",
      "patool:     with cwd='./data/4264836'\n",
      "patool: ... downloaded/4264836.rar extracted to `./data/4264836'.\n",
      "downloading 4264839\n",
      "extracting 4264839\n",
      "patool: Extracting downloaded/4264839.rar ...\n",
      "patool: running /usr/bin/unrar x -- /home/mfujita/Documents/research/downloaded/4264839.rar\n",
      "patool:     with cwd='./data/4264839'\n",
      "patool: ... downloaded/4264839.rar extracted to `./data/4264839'.\n",
      "downloading 4266983\n",
      "extracting 4266983\n",
      "patool: Extracting downloaded/4266983.rar ...\n",
      "patool: running /usr/bin/unrar x -- /home/mfujita/Documents/research/downloaded/4266983.rar\n",
      "patool:     with cwd='./data/4266983'\n",
      "patool: ... downloaded/4266983.rar extracted to `./data/4266983'.\n",
      "downloading 4266984\n",
      "extracting 4266984\n",
      "patool: Extracting downloaded/4266984.rar ...\n",
      "patool: running /usr/bin/unrar x -- /home/mfujita/Documents/research/downloaded/4266984.rar\n",
      "patool:     with cwd='./data/4266984'\n",
      "patool: ... downloaded/4266984.rar extracted to `./data/4266984'.\n",
      "downloading 4267037\n",
      "extracting 4267037\n",
      "patool: Extracting downloaded/4267037.rar ...\n",
      "patool: running /usr/bin/unrar x -- /home/mfujita/Documents/research/downloaded/4267037.rar\n",
      "patool:     with cwd='./data/4267037'\n",
      "patool: ... downloaded/4267037.rar extracted to `./data/4267037'.\n",
      "downloading 4267050\n",
      "extracting 4267050\n",
      "patool: Extracting downloaded/4267050.rar ...\n",
      "patool: running /usr/bin/unrar x -- /home/mfujita/Documents/research/downloaded/4267050.rar\n",
      "patool:     with cwd='./data/4267050'\n",
      "patool: ... downloaded/4267050.rar extracted to `./data/4267050'.\n",
      "downloading 4266987\n",
      "extracting 4266987\n",
      "patool: Extracting downloaded/4266987.rar ...\n",
      "patool: running /usr/bin/unrar x -- /home/mfujita/Documents/research/downloaded/4266987.rar\n",
      "patool:     with cwd='./data/4266987'\n",
      "patool: ... downloaded/4266987.rar extracted to `./data/4266987'.\n",
      "downloading 4266973\n",
      "extracting 4266973\n",
      "patool: Extracting downloaded/4266973.rar ...\n",
      "patool: running /usr/bin/unrar x -- /home/mfujita/Documents/research/downloaded/4266973.rar\n",
      "patool:     with cwd='./data/4266973'\n",
      "patool: ... downloaded/4266973.rar extracted to `./data/4266973'.\n",
      "downloading 4267013\n",
      "extracting 4267013\n",
      "patool: Extracting downloaded/4267013.rar ...\n",
      "patool: running /usr/bin/unrar x -- /home/mfujita/Documents/research/downloaded/4267013.rar\n",
      "patool:     with cwd='./data/4267013'\n",
      "patool: ... downloaded/4267013.rar extracted to `./data/4267013'.\n",
      "downloading 4266962\n",
      "extracting 4266962\n",
      "patool: Extracting downloaded/4266962.rar ...\n",
      "patool: running /usr/bin/unrar x -- /home/mfujita/Documents/research/downloaded/4266962.rar\n",
      "patool:     with cwd='./data/4266962'\n",
      "patool: ... downloaded/4266962.rar extracted to `./data/4266962'.\n",
      "downloading 4267008\n",
      "extracting 4267008\n",
      "patool: Extracting downloaded/4267008.rar ...\n",
      "patool: running /usr/bin/unrar x -- /home/mfujita/Documents/research/downloaded/4267008.rar\n",
      "patool:     with cwd='./data/4267008'\n",
      "patool: ... downloaded/4267008.rar extracted to `./data/4267008'.\n",
      "downloading 4267023\n",
      "extracting 4267023\n",
      "patool: Extracting downloaded/4267023.rar ...\n",
      "patool: running /usr/bin/unrar x -- /home/mfujita/Documents/research/downloaded/4267023.rar\n",
      "patool:     with cwd='./data/4267023'\n",
      "patool: ... downloaded/4267023.rar extracted to `./data/4267023'.\n",
      "downloading 4267010\n",
      "extracting 4267010\n",
      "patool: Extracting downloaded/4267010.rar ...\n",
      "patool: running /usr/bin/unrar x -- /home/mfujita/Documents/research/downloaded/4267010.rar\n",
      "patool:     with cwd='./data/4267010'\n",
      "patool: ... downloaded/4267010.rar extracted to `./data/4267010'.\n",
      "downloading 4264284\n",
      "extracting 4264284\n",
      "patool: Extracting downloaded/4264284.rar ...\n",
      "patool: running /usr/bin/unrar x -- /home/mfujita/Documents/research/downloaded/4264284.rar\n",
      "patool:     with cwd='./data/4264284'\n",
      "patool: ... downloaded/4264284.rar extracted to `./data/4264284'.\n",
      "downloading 4266985\n",
      "extracting 4266985\n",
      "patool: Extracting downloaded/4266985.rar ...\n",
      "patool: running /usr/bin/unrar x -- /home/mfujita/Documents/research/downloaded/4266985.rar\n",
      "patool:     with cwd='./data/4266985'\n",
      "patool: ... downloaded/4266985.rar extracted to `./data/4266985'.\n",
      "downloading 4267040\n",
      "extracting 4267040\n",
      "patool: Extracting downloaded/4267040.rar ...\n",
      "patool: running /usr/bin/unrar x -- /home/mfujita/Documents/research/downloaded/4267040.rar\n",
      "patool:     with cwd='./data/4267040'\n",
      "patool: ... downloaded/4267040.rar extracted to `./data/4267040'.\n",
      "downloading 4267038\n",
      "extracting 4267038\n",
      "patool: Extracting downloaded/4267038.rar ...\n",
      "patool: running /usr/bin/unrar x -- /home/mfujita/Documents/research/downloaded/4267038.rar\n",
      "patool:     with cwd='./data/4267038'\n",
      "patool: ... downloaded/4267038.rar extracted to `./data/4267038'.\n",
      "downloading 4266966\n",
      "extracting 4266966\n",
      "patool: Extracting downloaded/4266966.rar ...\n",
      "patool: running /usr/bin/unrar x -- /home/mfujita/Documents/research/downloaded/4266966.rar\n",
      "patool:     with cwd='./data/4266966'\n",
      "patool: ... downloaded/4266966.rar extracted to `./data/4266966'.\n",
      "downloading 4266997\n",
      "extracting 4266997\n",
      "patool: Extracting downloaded/4266997.rar ...\n",
      "patool: running /usr/bin/unrar x -- /home/mfujita/Documents/research/downloaded/4266997.rar\n",
      "patool:     with cwd='./data/4266997'\n",
      "patool: ... downloaded/4266997.rar extracted to `./data/4266997'.\n",
      "downloading 4266963\n",
      "extracting 4266963\n",
      "patool: Extracting downloaded/4266963.rar ...\n",
      "patool: running /usr/bin/unrar x -- /home/mfujita/Documents/research/downloaded/4266963.rar\n",
      "patool:     with cwd='./data/4266963'\n",
      "patool: ... downloaded/4266963.rar extracted to `./data/4266963'.\n",
      "downloading 4266976\n",
      "extracting 4266976\n",
      "patool: Extracting downloaded/4266976.rar ...\n",
      "patool: running /usr/bin/unrar x -- /home/mfujita/Documents/research/downloaded/4266976.rar\n",
      "patool:     with cwd='./data/4266976'\n",
      "patool: ... downloaded/4266976.rar extracted to `./data/4266976'.\n",
      "downloading 4264837\n",
      "extracting 4264837\n",
      "patool: Extracting downloaded/4264837.rar ...\n",
      "patool: running /usr/bin/unrar x -- /home/mfujita/Documents/research/downloaded/4264837.rar\n",
      "patool:     with cwd='./data/4264837'\n",
      "patool: ... downloaded/4264837.rar extracted to `./data/4264837'.\n",
      "downloading 4264833\n",
      "extracting 4264833\n",
      "patool: Extracting downloaded/4264833.rar ...\n",
      "patool: running /usr/bin/unrar x -- /home/mfujita/Documents/research/downloaded/4264833.rar\n",
      "patool:     with cwd='./data/4264833'\n",
      "patool: ... downloaded/4264833.rar extracted to `./data/4264833'.\n",
      "downloading 4267026\n",
      "extracting 4267026\n",
      "patool: Extracting downloaded/4267026.rar ...\n",
      "patool: running /usr/bin/unrar x -- /home/mfujita/Documents/research/downloaded/4267026.rar\n",
      "patool:     with cwd='./data/4267026'\n",
      "patool: ... downloaded/4267026.rar extracted to `./data/4267026'.\n",
      "downloading 4267005\n",
      "extracting 4267005\n",
      "patool: Extracting downloaded/4267005.rar ...\n",
      "patool: running /usr/bin/unrar x -- /home/mfujita/Documents/research/downloaded/4267005.rar\n",
      "patool:     with cwd='./data/4267005'\n",
      "patool: ... downloaded/4267005.rar extracted to `./data/4267005'.\n",
      "downloading 4267006\n",
      "extracting 4267006\n",
      "patool: Extracting downloaded/4267006.rar ...\n",
      "patool: running /usr/bin/unrar x -- /home/mfujita/Documents/research/downloaded/4267006.rar\n",
      "patool:     with cwd='./data/4267006'\n",
      "patool: ... downloaded/4267006.rar extracted to `./data/4267006'.\n",
      "downloading 4266982\n",
      "extracting 4266982\n",
      "patool: Extracting downloaded/4266982.rar ...\n",
      "patool: running /usr/bin/unrar x -- /home/mfujita/Documents/research/downloaded/4266982.rar\n",
      "patool:     with cwd='./data/4266982'\n",
      "patool: ... downloaded/4266982.rar extracted to `./data/4266982'.\n",
      "downloading 4264297\n",
      "extracting 4264297\n",
      "patool: Extracting downloaded/4264297.rar ...\n",
      "patool: running /usr/bin/unrar x -- /home/mfujita/Documents/research/downloaded/4264297.rar\n",
      "patool:     with cwd='./data/4264297'\n",
      "patool: ... downloaded/4264297.rar extracted to `./data/4264297'.\n",
      "downloading 4266992\n",
      "extracting 4266992\n",
      "patool: Extracting downloaded/4266992.rar ...\n",
      "patool: running /usr/bin/unrar x -- /home/mfujita/Documents/research/downloaded/4266992.rar\n",
      "patool:     with cwd='./data/4266992'\n",
      "patool: ... downloaded/4266992.rar extracted to `./data/4266992'.\n",
      "downloading 4266972\n",
      "extracting 4266972\n",
      "patool: Extracting downloaded/4266972.rar ...\n",
      "patool: running /usr/bin/unrar x -- /home/mfujita/Documents/research/downloaded/4266972.rar\n",
      "patool:     with cwd='./data/4266972'\n",
      "patool: ... downloaded/4266972.rar extracted to `./data/4266972'.\n",
      "downloading 4266993\n",
      "extracting 4266993\n",
      "patool: Extracting downloaded/4266993.rar ...\n",
      "patool: running /usr/bin/unrar x -- /home/mfujita/Documents/research/downloaded/4266993.rar\n",
      "patool:     with cwd='./data/4266993'\n",
      "patool: ... downloaded/4266993.rar extracted to `./data/4266993'.\n",
      "downloading 4266970\n",
      "extracting 4266970\n",
      "patool: Extracting downloaded/4266970.rar ...\n",
      "patool: running /usr/bin/unrar x -- /home/mfujita/Documents/research/downloaded/4266970.rar\n",
      "patool:     with cwd='./data/4266970'\n",
      "patool: ... downloaded/4266970.rar extracted to `./data/4266970'.\n",
      "downloading 4267022\n",
      "extracting 4267022\n",
      "patool: Extracting downloaded/4267022.rar ...\n",
      "patool: running /usr/bin/unrar x -- /home/mfujita/Documents/research/downloaded/4267022.rar\n",
      "patool:     with cwd='./data/4267022'\n",
      "patool: ... downloaded/4267022.rar extracted to `./data/4267022'.\n",
      "downloading 4267033\n",
      "extracting 4267033\n",
      "patool: Extracting downloaded/4267033.rar ...\n",
      "patool: running /usr/bin/unrar x -- /home/mfujita/Documents/research/downloaded/4267033.rar\n",
      "patool:     with cwd='./data/4267033'\n",
      "patool: ... downloaded/4267033.rar extracted to `./data/4267033'.\n",
      "downloading 4267018\n",
      "extracting 4267018\n",
      "patool: Extracting downloaded/4267018.rar ...\n",
      "patool: running /usr/bin/unrar x -- /home/mfujita/Documents/research/downloaded/4267018.rar\n",
      "patool:     with cwd='./data/4267018'\n",
      "patool: ... downloaded/4267018.rar extracted to `./data/4267018'.\n",
      "downloading 4267000\n",
      "extracting 4267000\n",
      "patool: Extracting downloaded/4267000.rar ...\n",
      "patool: running /usr/bin/unrar x -- /home/mfujita/Documents/research/downloaded/4267000.rar\n",
      "patool:     with cwd='./data/4267000'\n",
      "patool: ... downloaded/4267000.rar extracted to `./data/4267000'.\n",
      "downloading 4267009\n",
      "extracting 4267009\n",
      "patool: Extracting downloaded/4267009.rar ...\n",
      "patool: running /usr/bin/unrar x -- /home/mfujita/Documents/research/downloaded/4267009.rar\n",
      "patool:     with cwd='./data/4267009'\n",
      "patool: ... downloaded/4267009.rar extracted to `./data/4267009'.\n",
      "downloading 4267012\n",
      "extracting 4267012\n",
      "patool: Extracting downloaded/4267012.rar ...\n",
      "patool: running /usr/bin/unrar x -- /home/mfujita/Documents/research/downloaded/4267012.rar\n",
      "patool:     with cwd='./data/4267012'\n",
      "patool: ... downloaded/4267012.rar extracted to `./data/4267012'.\n",
      "downloading 4267007\n",
      "extracting 4267007\n",
      "patool: Extracting downloaded/4267007.rar ...\n",
      "patool: running /usr/bin/unrar x -- /home/mfujita/Documents/research/downloaded/4267007.rar\n",
      "patool:     with cwd='./data/4267007'\n",
      "patool: ... downloaded/4267007.rar extracted to `./data/4267007'.\n",
      "downloading 4267047\n",
      "extracting 4267047\n",
      "patool: Extracting downloaded/4267047.rar ...\n",
      "patool: running /usr/bin/unrar x -- /home/mfujita/Documents/research/downloaded/4267047.rar\n",
      "patool:     with cwd='./data/4267047'\n",
      "patool: ... downloaded/4267047.rar extracted to `./data/4267047'.\n",
      "downloading 4266969\n",
      "extracting 4266969\n",
      "patool: Extracting downloaded/4266969.rar ...\n",
      "patool: running /usr/bin/unrar x -- /home/mfujita/Documents/research/downloaded/4266969.rar\n",
      "patool:     with cwd='./data/4266969'\n",
      "patool: ... downloaded/4266969.rar extracted to `./data/4266969'.\n",
      "downloading 4266967\n",
      "extracting 4266967\n",
      "patool: Extracting downloaded/4266967.rar ...\n",
      "patool: running /usr/bin/unrar x -- /home/mfujita/Documents/research/downloaded/4266967.rar\n",
      "patool:     with cwd='./data/4266967'\n",
      "patool: ... downloaded/4266967.rar extracted to `./data/4266967'.\n",
      "downloading 4267003\n",
      "extracting 4267003\n",
      "patool: Extracting downloaded/4267003.rar ...\n",
      "patool: running /usr/bin/unrar x -- /home/mfujita/Documents/research/downloaded/4267003.rar\n",
      "patool:     with cwd='./data/4267003'\n",
      "patool: ... downloaded/4267003.rar extracted to `./data/4267003'.\n",
      "downloading 4266995\n",
      "extracting 4266995\n",
      "patool: Extracting downloaded/4266995.rar ...\n",
      "patool: running /usr/bin/unrar x -- /home/mfujita/Documents/research/downloaded/4266995.rar\n",
      "patool:     with cwd='./data/4266995'\n",
      "patool: ... downloaded/4266995.rar extracted to `./data/4266995'.\n",
      "downloading 4267039\n",
      "extracting 4267039\n",
      "patool: Extracting downloaded/4267039.rar ...\n",
      "patool: running /usr/bin/unrar x -- /home/mfujita/Documents/research/downloaded/4267039.rar\n",
      "patool:     with cwd='./data/4267039'\n",
      "patool: ... downloaded/4267039.rar extracted to `./data/4267039'.\n",
      "downloading 4266975\n",
      "extracting 4266975\n",
      "patool: Extracting downloaded/4266975.rar ...\n",
      "patool: running /usr/bin/unrar x -- /home/mfujita/Documents/research/downloaded/4266975.rar\n",
      "patool:     with cwd='./data/4266975'\n",
      "patool: ... downloaded/4266975.rar extracted to `./data/4266975'.\n",
      "downloading 4267017\n",
      "extracting 4267017\n",
      "patool: Extracting downloaded/4267017.rar ...\n",
      "patool: running /usr/bin/unrar x -- /home/mfujita/Documents/research/downloaded/4267017.rar\n",
      "patool:     with cwd='./data/4267017'\n",
      "patool: ... downloaded/4267017.rar extracted to `./data/4267017'.\n",
      "downloading 4266965\n",
      "extracting 4266965\n",
      "patool: Extracting downloaded/4266965.rar ...\n",
      "patool: running /usr/bin/unrar x -- /home/mfujita/Documents/research/downloaded/4266965.rar\n",
      "patool:     with cwd='./data/4266965'\n",
      "patool: ... downloaded/4266965.rar extracted to `./data/4266965'.\n",
      "downloading 4266994\n",
      "extracting 4266994\n",
      "patool: Extracting downloaded/4266994.rar ...\n",
      "patool: running /usr/bin/unrar x -- /home/mfujita/Documents/research/downloaded/4266994.rar\n",
      "patool:     with cwd='./data/4266994'\n",
      "patool: ... downloaded/4266994.rar extracted to `./data/4266994'.\n",
      "downloading 4267019\n",
      "extracting 4267019\n",
      "patool: Extracting downloaded/4267019.rar ...\n",
      "patool: running /usr/bin/unrar x -- /home/mfujita/Documents/research/downloaded/4267019.rar\n",
      "patool:     with cwd='./data/4267019'\n",
      "patool: ... downloaded/4267019.rar extracted to `./data/4267019'.\n",
      "downloading 4266986\n",
      "extracting 4266986\n",
      "patool: Extracting downloaded/4266986.rar ...\n",
      "patool: running /usr/bin/unrar x -- /home/mfujita/Documents/research/downloaded/4266986.rar\n",
      "patool:     with cwd='./data/4266986'\n",
      "patool: ... downloaded/4266986.rar extracted to `./data/4266986'.\n",
      "downloading 4267043\n",
      "extracting 4267043\n",
      "patool: Extracting downloaded/4267043.rar ...\n",
      "patool: running /usr/bin/unrar x -- /home/mfujita/Documents/research/downloaded/4267043.rar\n",
      "patool:     with cwd='./data/4267043'\n",
      "patool: ... downloaded/4267043.rar extracted to `./data/4267043'.\n",
      "downloading 4267020\n",
      "extracting 4267020\n",
      "patool: Extracting downloaded/4267020.rar ...\n",
      "patool: running /usr/bin/unrar x -- /home/mfujita/Documents/research/downloaded/4267020.rar\n",
      "patool:     with cwd='./data/4267020'\n",
      "patool: ... downloaded/4267020.rar extracted to `./data/4267020'.\n",
      "downloading 4267001\n",
      "extracting 4267001\n",
      "patool: Extracting downloaded/4267001.rar ...\n",
      "patool: running /usr/bin/unrar x -- /home/mfujita/Documents/research/downloaded/4267001.rar\n",
      "patool:     with cwd='./data/4267001'\n",
      "patool: ... downloaded/4267001.rar extracted to `./data/4267001'.\n",
      "downloading 4267032\n",
      "extracting 4267032\n",
      "patool: Extracting downloaded/4267032.rar ...\n",
      "patool: running /usr/bin/unrar x -- /home/mfujita/Documents/research/downloaded/4267032.rar\n",
      "patool:     with cwd='./data/4267032'\n",
      "patool: ... downloaded/4267032.rar extracted to `./data/4267032'.\n",
      "downloading 4266960\n",
      "extracting 4266960\n",
      "patool: Extracting downloaded/4266960.rar ...\n",
      "patool: running /usr/bin/unrar x -- /home/mfujita/Documents/research/downloaded/4266960.rar\n",
      "patool:     with cwd='./data/4266960'\n",
      "patool: ... downloaded/4266960.rar extracted to `./data/4266960'.\n",
      "downloading 4266996\n",
      "extracting 4266996\n",
      "patool: Extracting downloaded/4266996.rar ...\n",
      "patool: running /usr/bin/unrar x -- /home/mfujita/Documents/research/downloaded/4266996.rar\n",
      "patool:     with cwd='./data/4266996'\n",
      "patool: ... downloaded/4266996.rar extracted to `./data/4266996'.\n",
      "downloading 4266978\n",
      "extracting 4266978\n",
      "patool: Extracting downloaded/4266978.rar ...\n",
      "patool: running /usr/bin/unrar x -- /home/mfujita/Documents/research/downloaded/4266978.rar\n",
      "patool:     with cwd='./data/4266978'\n",
      "patool: ... downloaded/4266978.rar extracted to `./data/4266978'.\n",
      "downloading 4267025\n",
      "extracting 4267025\n",
      "patool: Extracting downloaded/4267025.rar ...\n",
      "patool: running /usr/bin/unrar x -- /home/mfujita/Documents/research/downloaded/4267025.rar\n",
      "patool:     with cwd='./data/4267025'\n",
      "patool: ... downloaded/4267025.rar extracted to `./data/4267025'.\n",
      "downloading 4267004\n",
      "extracting 4267004\n",
      "patool: Extracting downloaded/4267004.rar ...\n",
      "patool: running /usr/bin/unrar x -- /home/mfujita/Documents/research/downloaded/4267004.rar\n",
      "patool:     with cwd='./data/4267004'\n",
      "patool: ... downloaded/4267004.rar extracted to `./data/4267004'.\n",
      "downloading 4266998\n",
      "extracting 4266998\n",
      "patool: Extracting downloaded/4266998.rar ...\n",
      "patool: running /usr/bin/unrar x -- /home/mfujita/Documents/research/downloaded/4266998.rar\n",
      "patool:     with cwd='./data/4266998'\n",
      "patool: ... downloaded/4266998.rar extracted to `./data/4266998'.\n",
      "downloading 4266990\n",
      "extracting 4266990\n",
      "patool: Extracting downloaded/4266990.rar ...\n",
      "patool: running /usr/bin/unrar x -- /home/mfujita/Documents/research/downloaded/4266990.rar\n",
      "patool:     with cwd='./data/4266990'\n",
      "patool: ... downloaded/4266990.rar extracted to `./data/4266990'.\n",
      "downloading 4267016\n",
      "extracting 4267016\n",
      "patool: Extracting downloaded/4267016.rar ...\n",
      "patool: running /usr/bin/unrar x -- /home/mfujita/Documents/research/downloaded/4267016.rar\n",
      "patool:     with cwd='./data/4267016'\n",
      "patool: ... downloaded/4267016.rar extracted to `./data/4267016'.\n",
      "downloading 4267041\n",
      "extracting 4267041\n",
      "patool: Extracting downloaded/4267041.rar ...\n",
      "patool: running /usr/bin/unrar x -- /home/mfujita/Documents/research/downloaded/4267041.rar\n",
      "patool:     with cwd='./data/4267041'\n",
      "patool: ... downloaded/4267041.rar extracted to `./data/4267041'.\n",
      "downloading 4267002\n",
      "extracting 4267002\n",
      "patool: Extracting downloaded/4267002.rar ...\n",
      "patool: running /usr/bin/unrar x -- /home/mfujita/Documents/research/downloaded/4267002.rar\n",
      "patool:     with cwd='./data/4267002'\n",
      "patool: ... downloaded/4267002.rar extracted to `./data/4267002'.\n",
      "downloading 4266961\n",
      "extracting 4266961\n",
      "patool: Extracting downloaded/4266961.rar ...\n",
      "patool: running /usr/bin/unrar x -- /home/mfujita/Documents/research/downloaded/4266961.rar\n",
      "patool:     with cwd='./data/4266961'\n",
      "patool: ... downloaded/4266961.rar extracted to `./data/4266961'.\n",
      "downloading 4266977\n",
      "extracting 4266977\n",
      "patool: Extracting downloaded/4266977.rar ...\n",
      "patool: running /usr/bin/unrar x -- /home/mfujita/Documents/research/downloaded/4266977.rar\n",
      "patool:     with cwd='./data/4266977'\n",
      "patool: ... downloaded/4266977.rar extracted to `./data/4266977'.\n",
      "downloading 4266980\n",
      "extracting 4266980\n",
      "patool: Extracting downloaded/4266980.rar ...\n",
      "patool: running /usr/bin/unrar x -- /home/mfujita/Documents/research/downloaded/4266980.rar\n",
      "patool:     with cwd='./data/4266980'\n",
      "patool: ... downloaded/4266980.rar extracted to `./data/4266980'.\n",
      "downloading 4266974\n",
      "extracting 4266974\n",
      "patool: Extracting downloaded/4266974.rar ...\n",
      "patool: running /usr/bin/unrar x -- /home/mfujita/Documents/research/downloaded/4266974.rar\n",
      "patool:     with cwd='./data/4266974'\n",
      "patool: ... downloaded/4266974.rar extracted to `./data/4266974'.\n",
      "downloading 4267028\n",
      "extracting 4267028\n",
      "patool: Extracting downloaded/4267028.rar ...\n",
      "patool: running /usr/bin/unrar x -- /home/mfujita/Documents/research/downloaded/4267028.rar\n",
      "patool:     with cwd='./data/4267028'\n",
      "patool: ... downloaded/4267028.rar extracted to `./data/4267028'.\n",
      "downloading 4266968\n",
      "extracting 4266968\n",
      "patool: Extracting downloaded/4266968.rar ...\n",
      "patool: running /usr/bin/unrar x -- /home/mfujita/Documents/research/downloaded/4266968.rar\n",
      "patool:     with cwd='./data/4266968'\n",
      "patool: ... downloaded/4266968.rar extracted to `./data/4266968'.\n",
      "downloading 4267021\n",
      "extracting 4267021\n",
      "patool: Extracting downloaded/4267021.rar ...\n",
      "patool: running /usr/bin/unrar x -- /home/mfujita/Documents/research/downloaded/4267021.rar\n",
      "patool:     with cwd='./data/4267021'\n",
      "patool: ... downloaded/4267021.rar extracted to `./data/4267021'.\n",
      "downloading 4267015\n",
      "extracting 4267015\n",
      "patool: Extracting downloaded/4267015.rar ...\n",
      "patool: running /usr/bin/unrar x -- /home/mfujita/Documents/research/downloaded/4267015.rar\n",
      "patool:     with cwd='./data/4267015'\n",
      "patool: ... downloaded/4267015.rar extracted to `./data/4267015'.\n",
      "downloading 4266964\n",
      "extracting 4266964\n",
      "patool: Extracting downloaded/4266964.rar ...\n",
      "patool: running /usr/bin/unrar x -- /home/mfujita/Documents/research/downloaded/4266964.rar\n",
      "patool:     with cwd='./data/4266964'\n",
      "patool: ... downloaded/4266964.rar extracted to `./data/4266964'.\n",
      "downloading 4267045\n",
      "extracting 4267045\n",
      "patool: Extracting downloaded/4267045.rar ...\n",
      "patool: running /usr/bin/unrar x -- /home/mfujita/Documents/research/downloaded/4267045.rar\n",
      "patool:     with cwd='./data/4267045'\n",
      "patool: ... downloaded/4267045.rar extracted to `./data/4267045'.\n",
      "downloading 4267049\n",
      "extracting 4267049\n",
      "patool: Extracting downloaded/4267049.rar ...\n",
      "patool: running /usr/bin/unrar x -- /home/mfujita/Documents/research/downloaded/4267049.rar\n",
      "patool:     with cwd='./data/4267049'\n",
      "patool: ... downloaded/4267049.rar extracted to `./data/4267049'.\n",
      "downloading 4266979\n",
      "extracting 4266979\n",
      "patool: Extracting downloaded/4266979.rar ...\n",
      "patool: running /usr/bin/unrar x -- /home/mfujita/Documents/research/downloaded/4266979.rar\n",
      "patool:     with cwd='./data/4266979'\n",
      "patool: ... downloaded/4266979.rar extracted to `./data/4266979'.\n",
      "downloading 4267035\n",
      "extracting 4267035\n",
      "patool: Extracting downloaded/4267035.rar ...\n",
      "patool: running /usr/bin/unrar x -- /home/mfujita/Documents/research/downloaded/4267035.rar\n",
      "patool:     with cwd='./data/4267035'\n",
      "patool: ... downloaded/4267035.rar extracted to `./data/4267035'.\n",
      "downloading 4267030\n",
      "extracting 4267030\n",
      "patool: Extracting downloaded/4267030.rar ...\n",
      "patool: running /usr/bin/unrar x -- /home/mfujita/Documents/research/downloaded/4267030.rar\n",
      "patool:     with cwd='./data/4267030'\n",
      "patool: ... downloaded/4267030.rar extracted to `./data/4267030'.\n",
      "downloading 4266988\n",
      "extracting 4266988\n",
      "patool: Extracting downloaded/4266988.rar ...\n",
      "patool: running /usr/bin/unrar x -- /home/mfujita/Documents/research/downloaded/4266988.rar\n",
      "patool:     with cwd='./data/4266988'\n",
      "patool: ... downloaded/4266988.rar extracted to `./data/4266988'.\n",
      "downloading 4267024\n",
      "extracting 4267024\n",
      "patool: Extracting downloaded/4267024.rar ...\n",
      "patool: running /usr/bin/unrar x -- /home/mfujita/Documents/research/downloaded/4267024.rar\n",
      "patool:     with cwd='./data/4267024'\n",
      "patool: ... downloaded/4267024.rar extracted to `./data/4267024'.\n",
      "downloading 4267011\n",
      "extracting 4267011\n",
      "patool: Extracting downloaded/4267011.rar ...\n",
      "patool: running /usr/bin/unrar x -- /home/mfujita/Documents/research/downloaded/4267011.rar\n",
      "patool:     with cwd='./data/4267011'\n",
      "patool: ... downloaded/4267011.rar extracted to `./data/4267011'.\n",
      "downloading 4267029\n",
      "extracting 4267029\n",
      "patool: Extracting downloaded/4267029.rar ...\n",
      "patool: running /usr/bin/unrar x -- /home/mfujita/Documents/research/downloaded/4267029.rar\n",
      "patool:     with cwd='./data/4267029'\n",
      "patool: ... downloaded/4267029.rar extracted to `./data/4267029'.\n",
      "downloading 4267036\n",
      "extracting 4267036\n",
      "patool: Extracting downloaded/4267036.rar ...\n",
      "patool: running /usr/bin/unrar x -- /home/mfujita/Documents/research/downloaded/4267036.rar\n",
      "patool:     with cwd='./data/4267036'\n",
      "patool: ... downloaded/4267036.rar extracted to `./data/4267036'.\n",
      "downloading 4267042\n",
      "extracting 4267042\n",
      "patool: Extracting downloaded/4267042.rar ...\n",
      "patool: running /usr/bin/unrar x -- /home/mfujita/Documents/research/downloaded/4267042.rar\n",
      "patool:     with cwd='./data/4267042'\n",
      "patool: ... downloaded/4267042.rar extracted to `./data/4267042'.\n",
      "downloading 4267014\n",
      "extracting 4267014\n",
      "patool: Extracting downloaded/4267014.rar ...\n",
      "patool: running /usr/bin/unrar x -- /home/mfujita/Documents/research/downloaded/4267014.rar\n",
      "patool:     with cwd='./data/4267014'\n",
      "patool: ... downloaded/4267014.rar extracted to `./data/4267014'.\n",
      "downloading 4267031\n",
      "extracting 4267031\n",
      "patool: Extracting downloaded/4267031.rar ...\n",
      "patool: running /usr/bin/unrar x -- /home/mfujita/Documents/research/downloaded/4267031.rar\n",
      "patool:     with cwd='./data/4267031'\n",
      "patool: ... downloaded/4267031.rar extracted to `./data/4267031'.\n",
      "downloading 4266971\n",
      "extracting 4266971\n",
      "patool: Extracting downloaded/4266971.rar ...\n",
      "patool: running /usr/bin/unrar x -- /home/mfujita/Documents/research/downloaded/4266971.rar\n",
      "patool:     with cwd='./data/4266971'\n",
      "patool: ... downloaded/4266971.rar extracted to `./data/4266971'.\n",
      "downloading 4267046\n",
      "extracting 4267046\n",
      "patool: Extracting downloaded/4267046.rar ...\n",
      "patool: running /usr/bin/unrar x -- /home/mfujita/Documents/research/downloaded/4267046.rar\n",
      "patool:     with cwd='./data/4267046'\n",
      "patool: ... downloaded/4267046.rar extracted to `./data/4267046'.\n",
      "downloading 4266991\n",
      "extracting 4266991\n",
      "patool: Extracting downloaded/4266991.rar ...\n",
      "patool: running /usr/bin/unrar x -- /home/mfujita/Documents/research/downloaded/4266991.rar\n",
      "patool:     with cwd='./data/4266991'\n",
      "patool: ... downloaded/4266991.rar extracted to `./data/4266991'.\n",
      "downloading 4267027\n",
      "extracting 4267027\n",
      "patool: Extracting downloaded/4267027.rar ...\n",
      "patool: running /usr/bin/unrar x -- /home/mfujita/Documents/research/downloaded/4267027.rar\n",
      "patool:     with cwd='./data/4267027'\n",
      "patool: ... downloaded/4267027.rar extracted to `./data/4267027'.\n",
      "downloading 4267048\n",
      "extracting 4267048\n",
      "patool: Extracting downloaded/4267048.rar ...\n",
      "patool: running /usr/bin/unrar x -- /home/mfujita/Documents/research/downloaded/4267048.rar\n",
      "patool:     with cwd='./data/4267048'\n",
      "patool: ... downloaded/4267048.rar extracted to `./data/4267048'.\n",
      "downloading 4267044\n",
      "extracting 4267044\n",
      "patool: Extracting downloaded/4267044.rar ...\n",
      "patool: running /usr/bin/unrar x -- /home/mfujita/Documents/research/downloaded/4267044.rar\n",
      "patool:     with cwd='./data/4267044'\n",
      "patool: ... downloaded/4267044.rar extracted to `./data/4267044'.\n",
      "downloading 4266999\n",
      "extracting 4266999\n",
      "patool: Extracting downloaded/4266999.rar ...\n",
      "patool: running /usr/bin/unrar x -- /home/mfujita/Documents/research/downloaded/4266999.rar\n",
      "patool:     with cwd='./data/4266999'\n",
      "patool: ... downloaded/4266999.rar extracted to `./data/4266999'.\n",
      "downloading 4267034\n",
      "extracting 4267034\n",
      "patool: Extracting downloaded/4267034.rar ...\n",
      "patool: running /usr/bin/unrar x -- /home/mfujita/Documents/research/downloaded/4267034.rar\n",
      "patool:     with cwd='./data/4267034'\n",
      "patool: ... downloaded/4267034.rar extracted to `./data/4267034'.\n",
      "downloading 4410825\n",
      "extracting 4410825\n",
      "patool: Extracting downloaded/4410825.rar ...\n",
      "patool: running /usr/bin/unrar x -- /home/mfujita/Documents/research/downloaded/4410825.rar\n",
      "patool:     with cwd='./data/4410825'\n",
      "patool: ... downloaded/4410825.rar extracted to `./data/4410825'.\n",
      "downloading 4404150\n",
      "extracting 4404150\n",
      "patool: Extracting downloaded/4404150.rar ...\n",
      "patool: running /usr/bin/unrar x -- /home/mfujita/Documents/research/downloaded/4404150.rar\n",
      "patool:     with cwd='./data/4404150'\n",
      "patool: ... downloaded/4404150.rar extracted to `./data/4404150'.\n",
      "downloading 4404149\n",
      "extracting 4404149\n",
      "patool: Extracting downloaded/4404149.rar ...\n",
      "patool: running /usr/bin/unrar x -- /home/mfujita/Documents/research/downloaded/4404149.rar\n",
      "patool:     with cwd='./data/4404149'\n",
      "patool: ... downloaded/4404149.rar extracted to `./data/4404149'.\n"
     ]
    }
   ],
   "source": [
    "from tqdm.notebook import tqdm\n",
    "\n",
    "# 10 - 30\n",
    "ids = [\"4264835\", \"4264834\", \"4264838\", \"4264836\", \"4264839\", \"4266983\", \"4266984\", \"4267037\", \"4267050\", \"4266987\", \"4266973\", \"4267013\", \"4266962\", \"4267008\", \"4267023\", \"4267010\", \"4264284\", \"4266985\", \"4267040\", \"4267038\", \"4266966\", \"4266997\", \"4266963\", \"4266976\", \"4264837\", \"4264833\", \"4267026\", \"4267005\", \"4267006\", \"4266982\", \"4264297\", \"4266992\", \"4266972\", \"4266993\", \"4266970\", \"4267022\", \"4267033\", \"4267018\", \"4267000\", \"4267009\", \"4267012\", \"4267007\", \"4267047\", \"4266969\", \"4266967\", \"4267003\", \"4266995\", \"4267039\", \"4266975\", \"4267017\", \"4266965\", \"4266994\", \"4267019\", \"4266986\", \"4267043\", \"4267020\", \"4267001\", \"4267032\", \"4266960\", \"4266996\", \"4266978\", \"4267025\", \"4267004\", \"4266998\", \"4266990\", \"4267016\", \"4267041\", \"4267002\", \"4266961\", \"4266977\", \"4266980\", \"4266974\", \"4267028\", \"4266968\", \"4267021\", \"4267015\", \"4266964\", \"4267045\", \"4267049\", \"4266979\", \"4267035\", \"4267030\", \"4266988\", \"4267024\", \"4267011\", \"4267029\", \"4267036\", \"4267042\", \"4267014\", \"4267031\", \"4266971\", \"4267046\", \"4266991\", \"4267027\", \"4267048\", \"4267044\", \"4266999\", \"4267034\", \n",
    "    \"4411471\", \"4411469\", \"4411475\", \"4411476\", \"4411482\", \"4411558\", \"4411559\", \"4411557\", \"4411796\", \"4411560\", \"4411563\", \"4411562\", \"4411561\", \"4411564\", \"4411565\", \"4411566\", \"4411794\", \"4411797\", \"4411407\", \"4411407\", \"4411408\", \"4411406\", \"4411405\", \"4411417\", \"4411414\", \"4411415\", \"4411416\", \"4411420\", \"4411419\", \"4267523\", \"4410886\", \"4411396\", \"4411397\", \"4411398\", \"4411395\", \"4411402\", \"4411401\", \"4411403\", \"4411404\", \"4411426\", \"4411425\", \"4411424\", \"4411423\", \"4411428\", \"4411430\", \"4411427\", \"4411429\", \"4411433\", \"4411432\", \"4410826\", \"4410824\", \"4410825\", \"4410829\", \"4410828\", \"4410827\", \"4410832\", \"4410830\", \"4410833\", \"4410831\", \"4410836\", \"4410837\", \"4410835\", \"4410834\", \"4410838\", \"4410840\", \"4410859\", \"4410856\", \"4410857\", \"4410858\", \"4267535\", \"4409574\", \"4409575\", \"4409573\", \"4410087\", \"4410088\", \"4410086\", \"4410401\", \"4410402\", \"4410400\", \"4410839\", \"4404145\", \"4404449\", \"4404146\", \"4404150\", \"4404148\", \"4404151\", \"4404149\", \"4404366\", \"4404147\", \"4404367\",\n",
    "\n",
    "]\n",
    "\n",
    "for id in tqdm(ids):\n",
    "    url = f\"https://dataverse.harvard.edu/api/access/datafile/{id}\"\n",
    "    name = url.split(\"/\")[-1]\n",
    "    path = \"./data/\" + name\n",
    "    if os.path.exists(path):\n",
    "        continue\n",
    "    print(f\"downloading {name}\")\n",
    "    download_file(url=url, dir=pathlib.Path(\"./downloaded\"),\n",
    "                  name=name + \".rar\")\n",
    "    print(f\"extracting {name}\")\n",
    "    if not os.path.exists(path):\n",
    "        os.mkdir(path)\n",
    "    patoolib.extract_archive(pathlib.Path(\"./downloaded\") \n",
    "                             / (name + \".rar\"),\n",
    "                             outdir=\"./data/\" + name)\n",
    "    os.rename(glob.glob(\"./data/\" + name + \"/*\")[0], \"./data/\" + name + \"/ct\")\n",
    "    os.remove(pathlib.Path(\"./downloaded\") / (name + \".rar\"))\n",
    "%slack"
   ]
  },
  {
   "cell_type": "code",
   "execution_count": 24,
   "metadata": {},
   "outputs": [],
   "source": [
    "import glob\n",
    "\n",
    "for idx, file in enumerate(glob.glob(\"./data/*\")):\n",
    "    if '__' in file:\n",
    "        continue\n",
    "    # os.remove(file + \"/drr.pickle\")\n",
    "    # os.remove(file + \"/fbp.pickle\")\n",
    "    # print(file)\n",
    "    if len(glob.glob(file + \"/ct/*\")) == 1:\n",
    "        for folder in glob.glob(file + \"/ct/*\"):\n",
    "            print(folder)\n",
    "            for img in glob.glob(folder + \"/*.dcm\"):\n",
    "                print(img)\n",
    "                imgname = img.split(\"/\")[-1]\n",
    "                print(file + \"/ct/\" + imgname)\n",
    "                os.rename(img, file + \"/ct/\" + imgname)\n",
    "            for img in glob.glob(folder + \"/*\"):\n",
    "                if not \".dcm\" in img:\n",
    "                    # print(img)\n",
    "                    imgname = img.split(\"/\")[-1]\n",
    "                    print(file + \"/ct/\" + imgname + \".dcm\")\n",
    "                    os.rename(img, file + \"/ct/\" + imgname + \".dcm\")\n",
    "    if len(glob.glob(file + \"/ct\")) == 0 or not os.path.isdir(file + \"/ct\"):\n",
    "        os.remove(file + \"/ct\")\n",
    "        os.mkdir(file + \"/ct\")\n",
    "        for img in glob.glob(file + \"/*.dcm\"):\n",
    "            imgname = img.split(\"/\")[-1]\n",
    "            print(img)\n",
    "            print(file + \"/ct/\" + imgname)\n",
    "            # os.rename(img, file + \"/ct/\" + imgname)\n",
    "        # print(file)"
   ]
  },
  {
   "attachments": {},
   "cell_type": "markdown",
   "metadata": {},
   "source": [
    "## DRR, FBP, Resize"
   ]
  },
  {
   "cell_type": "code",
   "execution_count": 1,
   "metadata": {},
   "outputs": [
    {
     "data": {
      "application/vnd.jupyter.widget-view+json": {
       "model_id": "654e74c765cc47bf98f811d162c00767",
       "version_major": 2,
       "version_minor": 0
      },
      "text/plain": [
       "  0%|          | 0/188 [00:00<?, ?it/s]"
      ]
     },
     "metadata": {},
     "output_type": "display_data"
    },
    {
     "data": {
      "application/vnd.jupyter.widget-view+json": {
       "model_id": "541922949ac0433f88eb7dce479c5b9c",
       "version_major": 2,
       "version_minor": 0
      },
      "text/plain": [
       "DRR:   0%|          | 0/450 [00:00<?, ?it/s]"
      ]
     },
     "metadata": {},
     "output_type": "display_data"
    },
    {
     "ename": "OutOfMemoryError",
     "evalue": "CUDA out of memory. Tried to allocate 1.51 GiB (GPU 0; 11.76 GiB total capacity; 7.30 GiB already allocated; 1.50 GiB free; 8.19 GiB reserved in total by PyTorch) If reserved memory is >> allocated memory try setting max_split_size_mb to avoid fragmentation.  See documentation for Memory Management and PYTORCH_CUDA_ALLOC_CONF",
     "output_type": "error",
     "traceback": [
      "\u001b[0;31m---------------------------------------------------------------------------\u001b[0m",
      "\u001b[0;31mOutOfMemoryError\u001b[0m                          Traceback (most recent call last)",
      "\u001b[1;32m/home/mfujita/Documents/research/prepare.ipynb Cell 6\u001b[0m in \u001b[0;36m<cell line: 9>\u001b[0;34m()\u001b[0m\n\u001b[1;32m     <a href='vscode-notebook-cell://ssh-remote%2B192.168.193.104/home/mfujita/Documents/research/prepare.ipynb#W5sdnNjb2RlLXJlbW90ZQ%3D%3D?line=11'>12</a>\u001b[0m     vol \u001b[39m=\u001b[39m vol_path\u001b[39m.\u001b[39msplit(\u001b[39m\"\u001b[39m\u001b[39m/\u001b[39m\u001b[39m\"\u001b[39m)[\u001b[39m-\u001b[39m\u001b[39m1\u001b[39m]\n\u001b[1;32m     <a href='vscode-notebook-cell://ssh-remote%2B192.168.193.104/home/mfujita/Documents/research/prepare.ipynb#W5sdnNjb2RlLXJlbW90ZQ%3D%3D?line=12'>13</a>\u001b[0m     \u001b[39m# print(vol)\u001b[39;00m\n\u001b[0;32m---> <a href='vscode-notebook-cell://ssh-remote%2B192.168.193.104/home/mfujita/Documents/research/prepare.ipynb#W5sdnNjb2RlLXJlbW90ZQ%3D%3D?line=13'>14</a>\u001b[0m     p \u001b[39m=\u001b[39m patient\u001b[39m.\u001b[39;49mpatient(name\u001b[39m=\u001b[39;49mvol)\n\u001b[1;32m     <a href='vscode-notebook-cell://ssh-remote%2B192.168.193.104/home/mfujita/Documents/research/prepare.ipynb#W5sdnNjb2RlLXJlbW90ZQ%3D%3D?line=15'>16</a>\u001b[0m \u001b[39m# imageio.mimsave(f\"pics/drr.gif\", p.drr.img)\u001b[39;00m\n\u001b[1;32m     <a href='vscode-notebook-cell://ssh-remote%2B192.168.193.104/home/mfujita/Documents/research/prepare.ipynb#W5sdnNjb2RlLXJlbW90ZQ%3D%3D?line=16'>17</a>\u001b[0m get_ipython()\u001b[39m.\u001b[39mrun_line_magic(\u001b[39m'\u001b[39m\u001b[39mslack\u001b[39m\u001b[39m'\u001b[39m, \u001b[39m'\u001b[39m\u001b[39m'\u001b[39m)\n",
      "File \u001b[0;32m~/Documents/research/patient/patient.py:71\u001b[0m, in \u001b[0;36mpatient.__init__\u001b[0;34m(self, name, num_views, do, skip_done, prnt, idx)\u001b[0m\n\u001b[1;32m     69\u001b[0m \u001b[39melse\u001b[39;00m:\n\u001b[1;32m     70\u001b[0m     \u001b[39mif\u001b[39;00m do[\u001b[39m'\u001b[39m\u001b[39mdrr\u001b[39m\u001b[39m'\u001b[39m]:\n\u001b[0;32m---> 71\u001b[0m         \u001b[39mself\u001b[39;49m\u001b[39m.\u001b[39;49mgenerate_drr()\n\u001b[1;32m     72\u001b[0m     \u001b[39melse\u001b[39;00m:\n\u001b[1;32m     73\u001b[0m         \u001b[39mraise\u001b[39;00m \u001b[39mValueError\u001b[39;00m\n",
      "File \u001b[0;32m~/Documents/research/patient/patient.py:142\u001b[0m, in \u001b[0;36mpatient.generate_drr\u001b[0;34m(self)\u001b[0m\n\u001b[1;32m    138\u001b[0m \u001b[39mdef\u001b[39;00m \u001b[39mgenerate_drr\u001b[39m(\n\u001b[1;32m    139\u001b[0m     \u001b[39mself\u001b[39m\n\u001b[1;32m    140\u001b[0m ):\n\u001b[1;32m    141\u001b[0m     \u001b[39m# print(\"Creating new DRRset\")\u001b[39;00m\n\u001b[0;32m--> 142\u001b[0m     \u001b[39mself\u001b[39m\u001b[39m.\u001b[39mdrr \u001b[39m=\u001b[39m drr\u001b[39m.\u001b[39;49mdrrset(ctset\u001b[39m=\u001b[39;49m\u001b[39mself\u001b[39;49m\u001b[39m.\u001b[39;49mct, num_views\u001b[39m=\u001b[39;49m\u001b[39mself\u001b[39;49m\u001b[39m.\u001b[39;49mnum_views)\n\u001b[1;32m    143\u001b[0m     \u001b[39mwith\u001b[39;00m \u001b[39mopen\u001b[39m(datadir \u001b[39m/\u001b[39m \u001b[39mself\u001b[39m\u001b[39m.\u001b[39mname \u001b[39m/\u001b[39m \u001b[39m\"\u001b[39m\u001b[39mdrr.pickle\u001b[39m\u001b[39m\"\u001b[39m, \u001b[39m'\u001b[39m\u001b[39mwb\u001b[39m\u001b[39m'\u001b[39m) \u001b[39mas\u001b[39;00m handle:\n\u001b[1;32m    144\u001b[0m         pickle\u001b[39m.\u001b[39mdump(\u001b[39mself\u001b[39m\u001b[39m.\u001b[39mdrr, handle, protocol\u001b[39m=\u001b[39mpickle\u001b[39m.\u001b[39mHIGHEST_PROTOCOL)\n",
      "File \u001b[0;32m~/Documents/research/drr/drr.py:102\u001b[0m, in \u001b[0;36mdrrset.__init__\u001b[0;34m(self, ctset, num_views, zm, height, width, zoffset, pad, sdr, theta, phi, gamma, delx, cropstartx, cropstarty, cropheight, cropwidth, adjust)\u001b[0m\n\u001b[1;32m     91\u001b[0m detector_kwargs \u001b[39m=\u001b[39m {\n\u001b[1;32m     92\u001b[0m     \u001b[39m\"\u001b[39m\u001b[39msdr\u001b[39m\u001b[39m\"\u001b[39m: sdr,\n\u001b[1;32m     93\u001b[0m     \u001b[39m\"\u001b[39m\u001b[39mtheta\u001b[39m\u001b[39m\"\u001b[39m: theta,\n\u001b[0;32m   (...)\u001b[0m\n\u001b[1;32m     98\u001b[0m     \u001b[39m\"\u001b[39m\u001b[39mbz\u001b[39m\u001b[39m\"\u001b[39m: \u001b[39mself\u001b[39m\u001b[39m.\u001b[39mbz,\n\u001b[1;32m     99\u001b[0m }\n\u001b[1;32m    101\u001b[0m \u001b[39m# Make the DRR image\u001b[39;00m\n\u001b[0;32m--> 102\u001b[0m img_tensor \u001b[39m=\u001b[39m drr(\u001b[39m*\u001b[39;49m\u001b[39m*\u001b[39;49mdetector_kwargs)\n\u001b[1;32m    103\u001b[0m img \u001b[39m=\u001b[39m cp\u001b[39m.\u001b[39marray(img_tensor\u001b[39m.\u001b[39mto(\u001b[39m'\u001b[39m\u001b[39mcpu\u001b[39m\u001b[39m'\u001b[39m)\u001b[39m.\u001b[39mdetach()\u001b[39m.\u001b[39mnumpy()\u001b[39m.\u001b[39mcopy())\n\u001b[1;32m    104\u001b[0m img \u001b[39m/\u001b[39m\u001b[39m=\u001b[39m cp\u001b[39m.\u001b[39mmax(img)\n",
      "File \u001b[0;32m~/.local/lib/python3.10/site-packages/torch/nn/modules/module.py:1194\u001b[0m, in \u001b[0;36mModule._call_impl\u001b[0;34m(self, *input, **kwargs)\u001b[0m\n\u001b[1;32m   1190\u001b[0m \u001b[39m# If we don't have any hooks, we want to skip the rest of the logic in\u001b[39;00m\n\u001b[1;32m   1191\u001b[0m \u001b[39m# this function, and just call forward.\u001b[39;00m\n\u001b[1;32m   1192\u001b[0m \u001b[39mif\u001b[39;00m \u001b[39mnot\u001b[39;00m (\u001b[39mself\u001b[39m\u001b[39m.\u001b[39m_backward_hooks \u001b[39mor\u001b[39;00m \u001b[39mself\u001b[39m\u001b[39m.\u001b[39m_forward_hooks \u001b[39mor\u001b[39;00m \u001b[39mself\u001b[39m\u001b[39m.\u001b[39m_forward_pre_hooks \u001b[39mor\u001b[39;00m _global_backward_hooks\n\u001b[1;32m   1193\u001b[0m         \u001b[39mor\u001b[39;00m _global_forward_hooks \u001b[39mor\u001b[39;00m _global_forward_pre_hooks):\n\u001b[0;32m-> 1194\u001b[0m     \u001b[39mreturn\u001b[39;00m forward_call(\u001b[39m*\u001b[39;49m\u001b[39minput\u001b[39;49m, \u001b[39m*\u001b[39;49m\u001b[39m*\u001b[39;49mkwargs)\n\u001b[1;32m   1195\u001b[0m \u001b[39m# Do not call functions when jit is used\u001b[39;00m\n\u001b[1;32m   1196\u001b[0m full_backward_hooks, non_full_backward_hooks \u001b[39m=\u001b[39m [], []\n",
      "File \u001b[0;32m~/Documents/research/drr/DiffDRR/diffdrr/drr.py:91\u001b[0m, in \u001b[0;36mDRR.forward\u001b[0;34m(self, sdr, theta, phi, gamma, bx, by, bz)\u001b[0m\n\u001b[1;32m     85\u001b[0m     \u001b[39mself\u001b[39m\u001b[39m.\u001b[39minitialize_parameters(\u001b[39m*\u001b[39mparams)\n\u001b[1;32m     86\u001b[0m source, rays \u001b[39m=\u001b[39m \u001b[39mself\u001b[39m\u001b[39m.\u001b[39mdetector\u001b[39m.\u001b[39mmake_xrays(\n\u001b[1;32m     87\u001b[0m     \u001b[39mself\u001b[39m\u001b[39m.\u001b[39msdr,\n\u001b[1;32m     88\u001b[0m     \u001b[39mself\u001b[39m\u001b[39m.\u001b[39mrotations,\n\u001b[1;32m     89\u001b[0m     \u001b[39mself\u001b[39m\u001b[39m.\u001b[39mtranslations,\n\u001b[1;32m     90\u001b[0m )\n\u001b[0;32m---> 91\u001b[0m drr \u001b[39m=\u001b[39m \u001b[39mself\u001b[39;49m\u001b[39m.\u001b[39;49msiddon\u001b[39m.\u001b[39;49mraytrace(source, rays)\n\u001b[1;32m     92\u001b[0m \u001b[39mreturn\u001b[39;00m drr\n",
      "File \u001b[0;32m~/Documents/research/drr/DiffDRR/diffdrr/projectors/siddon.py:77\u001b[0m, in \u001b[0;36mSiddon.raytrace\u001b[0;34m(self, source, target)\u001b[0m\n\u001b[1;32m     75\u001b[0m alphas \u001b[39m=\u001b[39m \u001b[39mself\u001b[39m\u001b[39m.\u001b[39mget_alphas(source, target)\n\u001b[1;32m     76\u001b[0m alphamid \u001b[39m=\u001b[39m (alphas[\u001b[39m0\u001b[39m:\u001b[39m-\u001b[39m\u001b[39m1\u001b[39m] \u001b[39m+\u001b[39m alphas[\u001b[39m1\u001b[39m:]) \u001b[39m/\u001b[39m \u001b[39m2\u001b[39m\n\u001b[0;32m---> 77\u001b[0m voxels \u001b[39m=\u001b[39m \u001b[39mself\u001b[39;49m\u001b[39m.\u001b[39;49mget_voxel(alphamid, source, target)\n\u001b[1;32m     79\u001b[0m \u001b[39m# Step length for alphas out of range will be nan\u001b[39;00m\n\u001b[1;32m     80\u001b[0m \u001b[39m# These nans cancel out voxels convereted to 0 index\u001b[39;00m\n\u001b[1;32m     81\u001b[0m step_length \u001b[39m=\u001b[39m torch\u001b[39m.\u001b[39mdiff(alphas, dim\u001b[39m=\u001b[39m\u001b[39m0\u001b[39m)\n",
      "File \u001b[0;32m~/Documents/research/drr/DiffDRR/diffdrr/projectors/siddon.py:62\u001b[0m, in \u001b[0;36mSiddon.get_voxel\u001b[0;34m(self, alpha, source, target)\u001b[0m\n\u001b[1;32m     60\u001b[0m sdd \u001b[39m=\u001b[39m target \u001b[39m-\u001b[39m source \u001b[39m+\u001b[39m \u001b[39mself\u001b[39m\u001b[39m.\u001b[39meps  \u001b[39m# source-to-detector distance\u001b[39;00m\n\u001b[1;32m     61\u001b[0m idxs \u001b[39m=\u001b[39m ((source \u001b[39m+\u001b[39m alpha\u001b[39m.\u001b[39munsqueeze(\u001b[39m-\u001b[39m\u001b[39m1\u001b[39m) \u001b[39m*\u001b[39m sdd) \u001b[39m/\u001b[39m \u001b[39mself\u001b[39m\u001b[39m.\u001b[39mspacing)\u001b[39m.\u001b[39mtrunc()\n\u001b[0;32m---> 62\u001b[0m idxs \u001b[39m=\u001b[39m (\n\u001b[1;32m     63\u001b[0m     idxs[:, :, :, \u001b[39m0\u001b[39;49m] \u001b[39m*\u001b[39;49m (\u001b[39mself\u001b[39;49m\u001b[39m.\u001b[39;49mdims[\u001b[39m1\u001b[39;49m] \u001b[39m-\u001b[39;49m \u001b[39m1\u001b[39;49m) \u001b[39m*\u001b[39;49m (\u001b[39mself\u001b[39;49m\u001b[39m.\u001b[39;49mdims[\u001b[39m2\u001b[39;49m] \u001b[39m-\u001b[39;49m \u001b[39m1\u001b[39;49m)\n\u001b[1;32m     64\u001b[0m     \u001b[39m+\u001b[39;49m idxs[:, :, :, \u001b[39m1\u001b[39;49m] \u001b[39m*\u001b[39;49m (\u001b[39mself\u001b[39;49m\u001b[39m.\u001b[39;49mdims[\u001b[39m2\u001b[39;49m] \u001b[39m-\u001b[39;49m \u001b[39m1\u001b[39;49m)\n\u001b[1;32m     65\u001b[0m     \u001b[39m+\u001b[39;49m idxs[:, :, :, \u001b[39m2\u001b[39;49m]\n\u001b[1;32m     66\u001b[0m )\u001b[39m.\u001b[39;49mlong() \u001b[39m+\u001b[39;49m \u001b[39m1\u001b[39;49m\n\u001b[1;32m     68\u001b[0m \u001b[39m# Conversion to long makes nan->-inf, so temporarily replace them with 0\u001b[39;00m\n\u001b[1;32m     69\u001b[0m \u001b[39m# This is cancelled out later by multiplication by nan step_length\u001b[39;00m\n\u001b[1;32m     70\u001b[0m idxs[idxs \u001b[39m<\u001b[39m \u001b[39m0\u001b[39m] \u001b[39m=\u001b[39m \u001b[39m0\u001b[39m\n",
      "\u001b[0;31mOutOfMemoryError\u001b[0m: CUDA out of memory. Tried to allocate 1.51 GiB (GPU 0; 11.76 GiB total capacity; 7.30 GiB already allocated; 1.50 GiB free; 8.19 GiB reserved in total by PyTorch) If reserved memory is >> allocated memory try setting max_split_size_mb to avoid fragmentation.  See documentation for Memory Management and PYTORCH_CUDA_ALLOC_CONF"
     ]
    }
   ],
   "source": [
    "import importlib\n",
    "import imageio.v2 as imageio\n",
    "from patient import patient\n",
    "import glob\n",
    "\n",
    "# https://dataverse.harvard.edu/dataset.xhtml?persistentId=doi:10.7910/DVN/6ACUZJ\n",
    "\n",
    "from tqdm.notebook import tqdm\n",
    "for vol_path in tqdm(glob.glob(\"./data/*\")):\n",
    "    if \"__\" in vol_path:\n",
    "        continue\n",
    "    vol = vol_path.split(\"/\")[-1]\n",
    "    # print(vol)\n",
    "    p = patient.patient(name=vol)\n",
    "\n",
    "# imageio.mimsave(f\"pics/drr.gif\", p.drr.img)\n",
    "%slack"
   ]
  },
  {
   "cell_type": "code",
   "execution_count": null,
   "metadata": {},
   "outputs": [
    {
     "data": {
      "application/vnd.jupyter.widget-view+json": {
       "model_id": "85889f3c706d45a283106837ca417172",
       "version_major": 2,
       "version_minor": 0
      },
      "text/plain": [
       "FBP:   0%|          | 0/400 [00:00<?, ?it/s]"
      ]
     },
     "metadata": {},
     "output_type": "display_data"
    },
    {
     "ename": "TypeError",
     "evalue": "patient.generate_fbp() got an unexpected keyword argument 'cont'",
     "output_type": "error",
     "traceback": [
      "\u001b[0;31m---------------------------------------------------------------------------\u001b[0m",
      "\u001b[0;31mTypeError\u001b[0m                                 Traceback (most recent call last)",
      "\u001b[1;32m/home/mfujita/Documents/research/prepare.ipynb Cell 6\u001b[0m in \u001b[0;36m<cell line: 18>\u001b[0;34m()\u001b[0m\n\u001b[1;32m     <a href='vscode-notebook-cell://ssh-remote%2B192.168.193.104/home/mfujita/Documents/research/prepare.ipynb#W5sdnNjb2RlLXJlbW90ZQ%3D%3D?line=14'>15</a>\u001b[0m     p\u001b[39m.\u001b[39mdrr\u001b[39m.\u001b[39mimg[idx] \u001b[39m=\u001b[39m new_img\u001b[39m.\u001b[39mastype(\u001b[39m\"\u001b[39m\u001b[39muint8\u001b[39m\u001b[39m\"\u001b[39m)\n\u001b[1;32m     <a href='vscode-notebook-cell://ssh-remote%2B192.168.193.104/home/mfujita/Documents/research/prepare.ipynb#W5sdnNjb2RlLXJlbW90ZQ%3D%3D?line=15'>16</a>\u001b[0m     \u001b[39m# print(cp.max(cp.ravel(p.drr.img[idx])), cp.min(cp.ravel(p.drr.img[idx])))\u001b[39;00m\n\u001b[0;32m---> <a href='vscode-notebook-cell://ssh-remote%2B192.168.193.104/home/mfujita/Documents/research/prepare.ipynb#W5sdnNjb2RlLXJlbW90ZQ%3D%3D?line=17'>18</a>\u001b[0m p\u001b[39m.\u001b[39;49mgenerate_fbp(load_all\u001b[39m=\u001b[39;49m\u001b[39mFalse\u001b[39;49;00m, cont\u001b[39m=\u001b[39;49m\u001b[39mFalse\u001b[39;49;00m)\n\u001b[1;32m     <a href='vscode-notebook-cell://ssh-remote%2B192.168.193.104/home/mfujita/Documents/research/prepare.ipynb#W5sdnNjb2RlLXJlbW90ZQ%3D%3D?line=19'>20</a>\u001b[0m imgs \u001b[39m=\u001b[39m [cp\u001b[39m.\u001b[39masnumpy(img) \u001b[39mfor\u001b[39;00m img \u001b[39min\u001b[39;00m p\u001b[39m.\u001b[39mdrr\u001b[39m.\u001b[39mimg]\n\u001b[1;32m     <a href='vscode-notebook-cell://ssh-remote%2B192.168.193.104/home/mfujita/Documents/research/prepare.ipynb#W5sdnNjb2RlLXJlbW90ZQ%3D%3D?line=20'>21</a>\u001b[0m imageio\u001b[39m.\u001b[39mmimsave(\u001b[39m\"\u001b[39m\u001b[39mdrr.gif\u001b[39m\u001b[39m\"\u001b[39m, imgs)\n",
      "\u001b[0;31mTypeError\u001b[0m: patient.generate_fbp() got an unexpected keyword argument 'cont'"
     ]
    }
   ],
   "source": [
    "import imageio.v2 as imageio\n",
    "import cupy as cp\n",
    "from patient import patient\n",
    "\n",
    "p = patient.patient(name=\"4410088\")\n",
    "\n",
    "# p.generate_drr(cont=False)\n",
    "\n",
    "# p.generate_drr(cont=False)\n",
    "# p.generate_posdrr(cont=False)\n",
    "\n",
    "for idx, img in enumerate(p.drr.img):\n",
    "    new_img = img\n",
    "    new_img[new_img > 255] = 255\n",
    "    p.drr.img[idx] = new_img.astype(\"uint8\")\n",
    "    # print(cp.max(cp.ravel(p.drr.img[idx])), cp.min(cp.ravel(p.drr.img[idx])))\n",
    "\n",
    "p.generate_fbp(load_all=False)\n",
    "\n",
    "imgs = [cp.asnumpy(img) for img in p.drr.img]\n",
    "imageio.mimsave(\"drr.gif\", imgs)\n",
    "\n",
    "imgs = [cp.asnumpy(img) for img in p.posdrr.img]\n",
    "imageio.mimsave(\"posdrr.gif\", imgs)"
   ]
  },
  {
   "cell_type": "code",
   "execution_count": null,
   "metadata": {},
   "outputs": [],
   "source": [
    "a = 200\n",
    "imageio.imsave(\"test3.png\", cp.asnumpy(p.get_equiv_fbp(a)))\n",
    "imageio.imsave(\"test4.png\", cp.asnumpy(p.ct.img[a]))\n",
    "%slack"
   ]
  },
  {
   "cell_type": "code",
   "execution_count": null,
   "metadata": {},
   "outputs": [],
   "source": [
    "import glob, os, datetime\n",
    "\n",
    "for vol in glob.glob(\"./data/*\"):\n",
    "    for file in glob.glob(vol + \"/*\"):\n",
    "        if \".pickle\" in file:\n",
    "            os.remove(file)\n",
    "            # print(file)"
   ]
  },
  {
   "attachments": {},
   "cell_type": "markdown",
   "metadata": {},
   "source": [
    "## Pix2Pix Prepare"
   ]
  },
  {
   "cell_type": "code",
   "execution_count": 6,
   "metadata": {
    "notebookRunGroups": {
     "groupValue": "2"
    }
   },
   "outputs": [
    {
     "data": {
      "application/vnd.jupyter.widget-view+json": {
       "model_id": "d629434c701c43d5b679422005487075",
       "version_major": 2,
       "version_minor": 0
      },
      "text/plain": [
       "  0%|          | 0/131 [00:00<?, ?it/s]"
      ]
     },
     "metadata": {},
     "output_type": "display_data"
    },
    {
     "name": "stdout",
     "output_type": "stream",
     "text": [
      "4410857\n",
      "4266993\n",
      "4267031\n",
      "4410835\n",
      "4267032\n",
      "4411407\n",
      "4410858\n",
      "4410859\n",
      "4411416\n",
      "4410828\n",
      "4410837\n",
      "4267027\n"
     ]
    },
    {
     "data": {
      "application/vnd.jupyter.widget-view+json": {
       "model_id": "bfa1b0a82a6640f9b9ee0d79da04e6ae",
       "version_major": 2,
       "version_minor": 0
      },
      "text/plain": [
       "4267027:   0%|          | 0/90 [00:00<?, ?it/s]"
      ]
     },
     "metadata": {},
     "output_type": "display_data"
    },
    {
     "name": "stdout",
     "output_type": "stream",
     "text": [
      "4410838\n",
      "4404366\n",
      "4411557\n",
      "4410402\n",
      "4409575\n",
      "4410827\n",
      "4411429\n",
      "4411469\n",
      "4411414\n",
      "4411471\n",
      "4266990\n",
      "4266973\n",
      "4266978\n",
      "4267000\n"
     ]
    },
    {
     "data": {
      "application/vnd.jupyter.widget-view+json": {
       "model_id": "ad0d207574eb4203bc2402d52e231e49",
       "version_major": 2,
       "version_minor": 0
      },
      "text/plain": [
       "4267000:   0%|          | 0/90 [00:00<?, ?it/s]"
      ]
     },
     "metadata": {},
     "output_type": "display_data"
    },
    {
     "name": "stdout",
     "output_type": "stream",
     "text": [
      "4411796\n",
      "4410824\n",
      "4410087\n",
      "4404145\n",
      "4266975\n"
     ]
    },
    {
     "data": {
      "application/vnd.jupyter.widget-view+json": {
       "model_id": "1f832c98f9a141b082b077629b7852de",
       "version_major": 2,
       "version_minor": 0
      },
      "text/plain": [
       "4266975:   0%|          | 0/90 [00:00<?, ?it/s]"
      ]
     },
     "metadata": {},
     "output_type": "display_data"
    },
    {
     "name": "stdout",
     "output_type": "stream",
     "text": [
      "4411475\n",
      "4267014\n",
      "4266963\n",
      "4267037\n",
      "4266986\n",
      "4267043\n",
      "4411408\n",
      "4267001\n",
      "4410839\n",
      "4266976\n",
      "4266964\n"
     ]
    },
    {
     "data": {
      "application/vnd.jupyter.widget-view+json": {
       "model_id": "eb200d27dd88455d991b4903441a610b",
       "version_major": 2,
       "version_minor": 0
      },
      "text/plain": [
       "4266964:   0%|          | 0/90 [00:00<?, ?it/s]"
      ]
     },
     "metadata": {},
     "output_type": "display_data"
    },
    {
     "name": "stdout",
     "output_type": "stream",
     "text": [
      "4267019\n",
      "4267050\n",
      "4267030\n",
      "4411419\n",
      "4411424\n",
      "4266995\n",
      "4267025\n",
      "4410840\n",
      "4264834\n",
      "4267034\n",
      "4266996\n",
      "4267013\n",
      "4266999\n",
      "4267023\n"
     ]
    },
    {
     "data": {
      "application/vnd.jupyter.widget-view+json": {
       "model_id": "185695800cfe4f7ebef19b053b57f0e6",
       "version_major": 2,
       "version_minor": 0
      },
      "text/plain": [
       "4267023:   0%|          | 0/90 [00:00<?, ?it/s]"
      ]
     },
     "metadata": {},
     "output_type": "display_data"
    },
    {
     "name": "stdout",
     "output_type": "stream",
     "text": [
      "4266988\n",
      "4404147\n",
      "4404367\n",
      "4264837\n",
      "4410856\n",
      "4410834\n",
      "4411417\n",
      "4411425\n",
      "4410832\n",
      "4411564\n",
      "4267036\n",
      "4411415\n",
      "4267045\n",
      "4411562\n",
      "4264836\n",
      "4267003\n",
      "4267002\n",
      "4266992\n",
      "4411402\n",
      "4411559\n",
      "4409574\n",
      "4266966\n",
      "4411404\n",
      "4266960\n"
     ]
    },
    {
     "data": {
      "application/vnd.jupyter.widget-view+json": {
       "model_id": "c1a80dec7a73486d8d7f2190ffecf541",
       "version_major": 2,
       "version_minor": 0
      },
      "text/plain": [
       "4266960:   0%|          | 0/90 [00:00<?, ?it/s]"
      ]
     },
     "metadata": {},
     "output_type": "display_data"
    },
    {
     "name": "stdout",
     "output_type": "stream",
     "text": [
      "4410400\n",
      "4411405\n",
      "4410088\n",
      "4266967\n",
      "4266977\n",
      "4411427\n",
      "4267024\n"
     ]
    },
    {
     "data": {
      "application/vnd.jupyter.widget-view+json": {
       "model_id": "e792cc877bb34aea92b15d8d3092866b",
       "version_major": 2,
       "version_minor": 0
      },
      "text/plain": [
       "4267024:   0%|          | 0/90 [00:00<?, ?it/s]"
      ]
     },
     "metadata": {},
     "output_type": "display_data"
    },
    {
     "name": "stdout",
     "output_type": "stream",
     "text": [
      "4266962\n",
      "4264838\n",
      "4404151\n",
      "4266998\n",
      "4410826\n",
      "4410833\n",
      "4411560\n",
      "4266980\n",
      "4411395\n",
      "4266965\n",
      "4264297\n",
      "4410086\n",
      "4267029\n"
     ]
    },
    {
     "data": {
      "application/vnd.jupyter.widget-view+json": {
       "model_id": "fd550ed42c9f4195ae8ab9cd9d049f0b",
       "version_major": 2,
       "version_minor": 0
      },
      "text/plain": [
       "4267029:   0%|          | 0/90 [00:00<?, ?it/s]"
      ]
     },
     "metadata": {},
     "output_type": "display_data"
    },
    {
     "name": "stdout",
     "output_type": "stream",
     "text": [
      "4410836\n",
      "4411423\n",
      "4411566\n",
      "4411558\n",
      "4411432\n",
      "4266982\n",
      "4266974\n",
      "4267008\n"
     ]
    },
    {
     "data": {
      "application/vnd.jupyter.widget-view+json": {
       "model_id": "7d55dc91ee774a31b3214fbbbdd77cb7",
       "version_major": 2,
       "version_minor": 0
      },
      "text/plain": [
       "4267008:   0%|          | 0/90 [00:00<?, ?it/s]"
      ]
     },
     "metadata": {},
     "output_type": "display_data"
    },
    {
     "name": "stdout",
     "output_type": "stream",
     "text": [
      "4267011\n",
      "4267048\n",
      "4267021\n",
      "4267028\n"
     ]
    },
    {
     "data": {
      "application/vnd.jupyter.widget-view+json": {
       "model_id": "bbf07747a0a549f6941e53ea4e94f0b6",
       "version_major": 2,
       "version_minor": 0
      },
      "text/plain": [
       "  0%|          | 0/37 [00:00<?, ?it/s]"
      ]
     },
     "metadata": {},
     "output_type": "display_data"
    },
    {
     "name": "stdout",
     "output_type": "stream",
     "text": [
      "4266979\n"
     ]
    },
    {
     "data": {
      "application/vnd.jupyter.widget-view+json": {
       "model_id": "a00373339d0242b1b08739ed8f440dbd",
       "version_major": 2,
       "version_minor": 0
      },
      "text/plain": [
       "4266979:   0%|          | 0/90 [00:00<?, ?it/s]"
      ]
     },
     "metadata": {},
     "output_type": "display_data"
    },
    {
     "name": "stdout",
     "output_type": "stream",
     "text": [
      "4409573\n"
     ]
    },
    {
     "data": {
      "application/vnd.jupyter.widget-view+json": {
       "model_id": "f396a532891a491bb0c5d8740c2b2202",
       "version_major": 2,
       "version_minor": 0
      },
      "text/plain": [
       "4409573:   0%|          | 0/90 [00:00<?, ?it/s]"
      ]
     },
     "metadata": {},
     "output_type": "display_data"
    },
    {
     "name": "stdout",
     "output_type": "stream",
     "text": [
      "4267020\n"
     ]
    },
    {
     "data": {
      "application/vnd.jupyter.widget-view+json": {
       "model_id": "7d417b63d0ad4bd3abb42f5dfe76350c",
       "version_major": 2,
       "version_minor": 0
      },
      "text/plain": [
       "4267020:   0%|          | 0/90 [00:00<?, ?it/s]"
      ]
     },
     "metadata": {},
     "output_type": "display_data"
    },
    {
     "name": "stdout",
     "output_type": "stream",
     "text": [
      "4266984\n"
     ]
    },
    {
     "data": {
      "application/vnd.jupyter.widget-view+json": {
       "model_id": "fee4c9345c5f40e48a6f28ae3f752c7b",
       "version_major": 2,
       "version_minor": 0
      },
      "text/plain": [
       "4266984:   0%|          | 0/90 [00:00<?, ?it/s]"
      ]
     },
     "metadata": {},
     "output_type": "display_data"
    },
    {
     "name": "stdout",
     "output_type": "stream",
     "text": [
      "4267042\n"
     ]
    },
    {
     "data": {
      "application/vnd.jupyter.widget-view+json": {
       "model_id": "ba6cb2f58aaa400b8bf4169009b0d2a5",
       "version_major": 2,
       "version_minor": 0
      },
      "text/plain": [
       "4267042:   0%|          | 0/90 [00:00<?, ?it/s]"
      ]
     },
     "metadata": {},
     "output_type": "display_data"
    },
    {
     "name": "stdout",
     "output_type": "stream",
     "text": [
      "4264835\n"
     ]
    },
    {
     "data": {
      "application/vnd.jupyter.widget-view+json": {
       "model_id": "1c4f03546d9c4b3da5a451f3e86f3203",
       "version_major": 2,
       "version_minor": 0
      },
      "text/plain": [
       "4264835:   0%|          | 0/90 [00:00<?, ?it/s]"
      ]
     },
     "metadata": {},
     "output_type": "display_data"
    },
    {
     "name": "stdout",
     "output_type": "stream",
     "text": [
      "4411401\n",
      "4411565\n",
      "4411563\n",
      "4266969\n"
     ]
    },
    {
     "data": {
      "application/vnd.jupyter.widget-view+json": {
       "model_id": "6f7dff68801441059e7b22d02ea02091",
       "version_major": 2,
       "version_minor": 0
      },
      "text/plain": [
       "4266969:   0%|          | 0/90 [00:00<?, ?it/s]"
      ]
     },
     "metadata": {},
     "output_type": "display_data"
    },
    {
     "name": "stdout",
     "output_type": "stream",
     "text": [
      "4266961\n"
     ]
    },
    {
     "data": {
      "application/vnd.jupyter.widget-view+json": {
       "model_id": "43e1e3927ff941ebb399cdccad9479aa",
       "version_major": 2,
       "version_minor": 0
      },
      "text/plain": [
       "4266961:   0%|          | 0/90 [00:00<?, ?it/s]"
      ]
     },
     "metadata": {},
     "output_type": "display_data"
    },
    {
     "name": "stdout",
     "output_type": "stream",
     "text": [
      "4411406\n",
      "4411476\n"
     ]
    },
    {
     "data": {
      "application/vnd.jupyter.widget-view+json": {
       "model_id": "76baedeed19c4244bfa26635a33e7b5d",
       "version_major": 2,
       "version_minor": 0
      },
      "text/plain": [
       "4411476:   0%|          | 0/90 [00:00<?, ?it/s]"
      ]
     },
     "metadata": {},
     "output_type": "display_data"
    },
    {
     "name": "stdout",
     "output_type": "stream",
     "text": [
      "4267047\n"
     ]
    },
    {
     "data": {
      "application/vnd.jupyter.widget-view+json": {
       "model_id": "ae585ee810204941985d952eebdae1b0",
       "version_major": 2,
       "version_minor": 0
      },
      "text/plain": [
       "4267047:   0%|          | 0/90 [00:00<?, ?it/s]"
      ]
     },
     "metadata": {},
     "output_type": "display_data"
    },
    {
     "name": "stdout",
     "output_type": "stream",
     "text": [
      "4404148\n"
     ]
    },
    {
     "data": {
      "application/vnd.jupyter.widget-view+json": {
       "model_id": "3c889ac9d1ca47d9a3cae7d532d09da7",
       "version_major": 2,
       "version_minor": 0
      },
      "text/plain": [
       "4404148:   0%|          | 0/90 [00:00<?, ?it/s]"
      ]
     },
     "metadata": {},
     "output_type": "display_data"
    },
    {
     "name": "stdout",
     "output_type": "stream",
     "text": [
      "4410401\n"
     ]
    },
    {
     "data": {
      "application/vnd.jupyter.widget-view+json": {
       "model_id": "55f95ca4eed74ecaa3d408046793107c",
       "version_major": 2,
       "version_minor": 0
      },
      "text/plain": [
       "4410401:   0%|          | 0/90 [00:00<?, ?it/s]"
      ]
     },
     "metadata": {},
     "output_type": "display_data"
    },
    {
     "name": "stdout",
     "output_type": "stream",
     "text": [
      "4404449\n"
     ]
    },
    {
     "data": {
      "application/vnd.jupyter.widget-view+json": {
       "model_id": "d5334c3daa7547d59e1a3d30a3eac320",
       "version_major": 2,
       "version_minor": 0
      },
      "text/plain": [
       "4404449:   0%|          | 0/90 [00:00<?, ?it/s]"
      ]
     },
     "metadata": {},
     "output_type": "display_data"
    },
    {
     "name": "stdout",
     "output_type": "stream",
     "text": [
      "4267010\n"
     ]
    },
    {
     "data": {
      "application/vnd.jupyter.widget-view+json": {
       "model_id": "436f1282ef2943bc93fd4bdf0a9f8824",
       "version_major": 2,
       "version_minor": 0
      },
      "text/plain": [
       "4267010:   0%|          | 0/90 [00:00<?, ?it/s]"
      ]
     },
     "metadata": {},
     "output_type": "display_data"
    },
    {
     "name": "stdout",
     "output_type": "stream",
     "text": [
      "4411398\n"
     ]
    },
    {
     "data": {
      "application/vnd.jupyter.widget-view+json": {
       "model_id": "7a2b653aed604e7fb9559eaa5ab6e5ba",
       "version_major": 2,
       "version_minor": 0
      },
      "text/plain": [
       "4411398:   0%|          | 0/90 [00:00<?, ?it/s]"
      ]
     },
     "metadata": {},
     "output_type": "display_data"
    },
    {
     "name": "stdout",
     "output_type": "stream",
     "text": [
      "4411426\n",
      "4267017\n"
     ]
    },
    {
     "data": {
      "application/vnd.jupyter.widget-view+json": {
       "model_id": "6ec95bb95e4c49c2af549993983480be",
       "version_major": 2,
       "version_minor": 0
      },
      "text/plain": [
       "4267017:   0%|          | 0/90 [00:00<?, ?it/s]"
      ]
     },
     "metadata": {},
     "output_type": "display_data"
    },
    {
     "name": "stdout",
     "output_type": "stream",
     "text": [
      "4411797\n"
     ]
    },
    {
     "data": {
      "application/vnd.jupyter.widget-view+json": {
       "model_id": "9f49d359fbb94889b4fe0cce5f0e12e5",
       "version_major": 2,
       "version_minor": 0
      },
      "text/plain": [
       "4411797:   0%|          | 0/90 [00:00<?, ?it/s]"
      ]
     },
     "metadata": {},
     "output_type": "display_data"
    },
    {
     "name": "stdout",
     "output_type": "stream",
     "text": [
      "4267535\n"
     ]
    },
    {
     "data": {
      "application/vnd.jupyter.widget-view+json": {
       "model_id": "762836f617124b938a925fca8f79fc43",
       "version_major": 2,
       "version_minor": 0
      },
      "text/plain": [
       "4267535:   0%|          | 0/90 [00:00<?, ?it/s]"
      ]
     },
     "metadata": {},
     "output_type": "display_data"
    },
    {
     "name": "stdout",
     "output_type": "stream",
     "text": [
      "4411482\n",
      "4404146\n"
     ]
    },
    {
     "data": {
      "application/vnd.jupyter.widget-view+json": {
       "model_id": "895270e7d0e64275bbee9c22b73d5091",
       "version_major": 2,
       "version_minor": 0
      },
      "text/plain": [
       "4404146:   0%|          | 0/90 [00:00<?, ?it/s]"
      ]
     },
     "metadata": {},
     "output_type": "display_data"
    },
    {
     "name": "stdout",
     "output_type": "stream",
     "text": [
      "4267038\n"
     ]
    },
    {
     "data": {
      "application/vnd.jupyter.widget-view+json": {
       "model_id": "a7fb83c076e749858328c92dd0295af6",
       "version_major": 2,
       "version_minor": 0
      },
      "text/plain": [
       "4267038:   0%|          | 0/90 [00:00<?, ?it/s]"
      ]
     },
     "metadata": {},
     "output_type": "display_data"
    },
    {
     "name": "stdout",
     "output_type": "stream",
     "text": [
      "4267039\n"
     ]
    },
    {
     "data": {
      "application/vnd.jupyter.widget-view+json": {
       "model_id": "0d60c4d43ff843b19cbad3fbb6796935",
       "version_major": 2,
       "version_minor": 0
      },
      "text/plain": [
       "4267039:   0%|          | 0/90 [00:00<?, ?it/s]"
      ]
     },
     "metadata": {},
     "output_type": "display_data"
    },
    {
     "name": "stdout",
     "output_type": "stream",
     "text": [
      "4266968\n"
     ]
    },
    {
     "data": {
      "application/vnd.jupyter.widget-view+json": {
       "model_id": "71f3410ab0914b92b4137e323cc78447",
       "version_major": 2,
       "version_minor": 0
      },
      "text/plain": [
       "4266968:   0%|          | 0/90 [00:00<?, ?it/s]"
      ]
     },
     "metadata": {},
     "output_type": "display_data"
    },
    {
     "name": "stdout",
     "output_type": "stream",
     "text": [
      "4267016\n"
     ]
    },
    {
     "data": {
      "application/vnd.jupyter.widget-view+json": {
       "model_id": "246fa8f1e69a486281f3143343604aa6",
       "version_major": 2,
       "version_minor": 0
      },
      "text/plain": [
       "4267016:   0%|          | 0/90 [00:00<?, ?it/s]"
      ]
     },
     "metadata": {},
     "output_type": "display_data"
    },
    {
     "name": "stdout",
     "output_type": "stream",
     "text": [
      "4410831\n"
     ]
    },
    {
     "data": {
      "application/vnd.jupyter.widget-view+json": {
       "model_id": "5b7dc60a38e347be89552b24fd948972",
       "version_major": 2,
       "version_minor": 0
      },
      "text/plain": [
       "4410831:   0%|          | 0/90 [00:00<?, ?it/s]"
      ]
     },
     "metadata": {},
     "output_type": "display_data"
    },
    {
     "name": "stdout",
     "output_type": "stream",
     "text": [
      "4267035\n"
     ]
    },
    {
     "data": {
      "application/vnd.jupyter.widget-view+json": {
       "model_id": "1cae1140230d4e3bb23e91515a0f27bd",
       "version_major": 2,
       "version_minor": 0
      },
      "text/plain": [
       "4267035:   0%|          | 0/90 [00:00<?, ?it/s]"
      ]
     },
     "metadata": {},
     "output_type": "display_data"
    },
    {
     "data": {
      "application/vnd.jupyter.widget-view+json": {
       "model_id": "75c7680e085d4004af120a8daa7c08a2",
       "version_major": 2,
       "version_minor": 0
      },
      "text/plain": [
       "  0%|          | 0/20 [00:00<?, ?it/s]"
      ]
     },
     "metadata": {},
     "output_type": "display_data"
    },
    {
     "name": "stdout",
     "output_type": "stream",
     "text": [
      "4411430\n"
     ]
    },
    {
     "data": {
      "application/vnd.jupyter.widget-view+json": {
       "model_id": "9910c5638d3e4780bd66bbd9e6e827e3",
       "version_major": 2,
       "version_minor": 0
      },
      "text/plain": [
       "4411430:   0%|          | 0/90 [00:00<?, ?it/s]"
      ]
     },
     "metadata": {},
     "output_type": "display_data"
    },
    {
     "name": "stdout",
     "output_type": "stream",
     "text": [
      "4411561\n"
     ]
    },
    {
     "data": {
      "application/vnd.jupyter.widget-view+json": {
       "model_id": "291350d62bec4058a1e9f20ecbc68359",
       "version_major": 2,
       "version_minor": 0
      },
      "text/plain": [
       "4411561:   0%|          | 0/90 [00:00<?, ?it/s]"
      ]
     },
     "metadata": {},
     "output_type": "display_data"
    },
    {
     "name": "stdout",
     "output_type": "stream",
     "text": [
      "4410829\n"
     ]
    },
    {
     "data": {
      "application/vnd.jupyter.widget-view+json": {
       "model_id": "6d2b6fc51efe48cc95a768c2d03b218e",
       "version_major": 2,
       "version_minor": 0
      },
      "text/plain": [
       "4410829:   0%|          | 0/90 [00:00<?, ?it/s]"
      ]
     },
     "metadata": {},
     "output_type": "display_data"
    },
    {
     "name": "stdout",
     "output_type": "stream",
     "text": [
      "4411396\n"
     ]
    },
    {
     "data": {
      "application/vnd.jupyter.widget-view+json": {
       "model_id": "a3f80d48ca5a458c8c17b17a7e4db6db",
       "version_major": 2,
       "version_minor": 0
      },
      "text/plain": [
       "4411396:   0%|          | 0/90 [00:00<?, ?it/s]"
      ]
     },
     "metadata": {},
     "output_type": "display_data"
    },
    {
     "name": "stdout",
     "output_type": "stream",
     "text": [
      "4411420\n"
     ]
    },
    {
     "data": {
      "application/vnd.jupyter.widget-view+json": {
       "model_id": "eacd4252f2064e538990eb9527213298",
       "version_major": 2,
       "version_minor": 0
      },
      "text/plain": [
       "4411420:   0%|          | 0/90 [00:00<?, ?it/s]"
      ]
     },
     "metadata": {},
     "output_type": "display_data"
    },
    {
     "name": "stdout",
     "output_type": "stream",
     "text": [
      "4267523\n"
     ]
    },
    {
     "data": {
      "application/vnd.jupyter.widget-view+json": {
       "model_id": "7a35898c293c42bcbd3779e79ae3eecc",
       "version_major": 2,
       "version_minor": 0
      },
      "text/plain": [
       "4267523:   0%|          | 0/90 [00:00<?, ?it/s]"
      ]
     },
     "metadata": {},
     "output_type": "display_data"
    },
    {
     "name": "stdout",
     "output_type": "stream",
     "text": [
      "4266971\n"
     ]
    },
    {
     "data": {
      "application/vnd.jupyter.widget-view+json": {
       "model_id": "8579022d5c6647ecb9bd503c0826a684",
       "version_major": 2,
       "version_minor": 0
      },
      "text/plain": [
       "4266971:   0%|          | 0/90 [00:00<?, ?it/s]"
      ]
     },
     "metadata": {},
     "output_type": "display_data"
    },
    {
     "name": "stdout",
     "output_type": "stream",
     "text": [
      "4410830\n"
     ]
    },
    {
     "data": {
      "application/vnd.jupyter.widget-view+json": {
       "model_id": "24f77f9335a14c67b8d0ed050912116e",
       "version_major": 2,
       "version_minor": 0
      },
      "text/plain": [
       "4410830:   0%|          | 0/90 [00:00<?, ?it/s]"
      ]
     },
     "metadata": {},
     "output_type": "display_data"
    },
    {
     "name": "stdout",
     "output_type": "stream",
     "text": [
      "4411433\n"
     ]
    },
    {
     "data": {
      "application/vnd.jupyter.widget-view+json": {
       "model_id": "8995fb79a307467ea0635a827c195094",
       "version_major": 2,
       "version_minor": 0
      },
      "text/plain": [
       "4411433:   0%|          | 0/90 [00:00<?, ?it/s]"
      ]
     },
     "metadata": {},
     "output_type": "display_data"
    },
    {
     "name": "stdout",
     "output_type": "stream",
     "text": [
      "4411794\n"
     ]
    },
    {
     "data": {
      "application/vnd.jupyter.widget-view+json": {
       "model_id": "a3b2f61435a24e47a8d319e4a6ba6f7d",
       "version_major": 2,
       "version_minor": 0
      },
      "text/plain": [
       "4411794:   0%|          | 0/90 [00:00<?, ?it/s]"
      ]
     },
     "metadata": {},
     "output_type": "display_data"
    },
    {
     "name": "stdout",
     "output_type": "stream",
     "text": [
      "4267015\n"
     ]
    },
    {
     "data": {
      "application/vnd.jupyter.widget-view+json": {
       "model_id": "f9ce0209bc9242318c245f256e3cfe5d",
       "version_major": 2,
       "version_minor": 0
      },
      "text/plain": [
       "4267015:   0%|          | 0/90 [00:00<?, ?it/s]"
      ]
     },
     "metadata": {},
     "output_type": "display_data"
    },
    {
     "name": "stdout",
     "output_type": "stream",
     "text": [
      "4411403\n"
     ]
    },
    {
     "data": {
      "application/vnd.jupyter.widget-view+json": {
       "model_id": "fc0127afef5742ddbfd5e58b897bb282",
       "version_major": 2,
       "version_minor": 0
      },
      "text/plain": [
       "4411403:   0%|          | 0/90 [00:00<?, ?it/s]"
      ]
     },
     "metadata": {},
     "output_type": "display_data"
    },
    {
     "name": "stdout",
     "output_type": "stream",
     "text": [
      "4267044\n"
     ]
    },
    {
     "data": {
      "application/vnd.jupyter.widget-view+json": {
       "model_id": "b1c194d6b6334357a3fd4aa005bb4c64",
       "version_major": 2,
       "version_minor": 0
      },
      "text/plain": [
       "4267044:   0%|          | 0/90 [00:00<?, ?it/s]"
      ]
     },
     "metadata": {},
     "output_type": "display_data"
    },
    {
     "name": "stdout",
     "output_type": "stream",
     "text": [
      "4266994\n"
     ]
    },
    {
     "data": {
      "application/vnd.jupyter.widget-view+json": {
       "model_id": "0085b2d1774a450db59794bcd8055846",
       "version_major": 2,
       "version_minor": 0
      },
      "text/plain": [
       "4266994:   0%|          | 0/90 [00:00<?, ?it/s]"
      ]
     },
     "metadata": {},
     "output_type": "display_data"
    },
    {
     "name": "stdout",
     "output_type": "stream",
     "text": [
      "4267041\n"
     ]
    },
    {
     "data": {
      "application/vnd.jupyter.widget-view+json": {
       "model_id": "9a15187ebce34a4097d6812d01c3b311",
       "version_major": 2,
       "version_minor": 0
      },
      "text/plain": [
       "4267041:   0%|          | 0/90 [00:00<?, ?it/s]"
      ]
     },
     "metadata": {},
     "output_type": "display_data"
    },
    {
     "name": "stdout",
     "output_type": "stream",
     "text": [
      "4411397\n"
     ]
    },
    {
     "data": {
      "application/vnd.jupyter.widget-view+json": {
       "model_id": "7d39a47d80ba4f768bd4b0ef701c7c01",
       "version_major": 2,
       "version_minor": 0
      },
      "text/plain": [
       "4411397:   0%|          | 0/90 [00:00<?, ?it/s]"
      ]
     },
     "metadata": {},
     "output_type": "display_data"
    },
    {
     "name": "stdout",
     "output_type": "stream",
     "text": [
      "4267022\n"
     ]
    },
    {
     "data": {
      "application/vnd.jupyter.widget-view+json": {
       "model_id": "c1918f67489a428a83c91703b7062287",
       "version_major": 2,
       "version_minor": 0
      },
      "text/plain": [
       "4267022:   0%|          | 0/90 [00:00<?, ?it/s]"
      ]
     },
     "metadata": {},
     "output_type": "display_data"
    },
    {
     "name": "stdout",
     "output_type": "stream",
     "text": [
      "4410886\n"
     ]
    },
    {
     "data": {
      "application/vnd.jupyter.widget-view+json": {
       "model_id": "fbe3b5989a7f4f24aed1adb6c1c2f076",
       "version_major": 2,
       "version_minor": 0
      },
      "text/plain": [
       "4410886:   0%|          | 0/90 [00:00<?, ?it/s]"
      ]
     },
     "metadata": {},
     "output_type": "display_data"
    },
    {
     "name": "stdout",
     "output_type": "stream",
     "text": [
      "4411428\n"
     ]
    },
    {
     "data": {
      "application/vnd.jupyter.widget-view+json": {
       "model_id": "a41db14b591b4431b1fefd04cd5ed7e6",
       "version_major": 2,
       "version_minor": 0
      },
      "text/plain": [
       "4411428:   0%|          | 0/90 [00:00<?, ?it/s]"
      ]
     },
     "metadata": {},
     "output_type": "display_data"
    }
   ],
   "source": [
    "from pix2pix.datasets import combine_ct_and_fbp\n",
    "combine_ct_and_fbp.prep(\"./pix2pix/datasets/ctfbp\")\n",
    "%slack\n"
   ]
  },
  {
   "cell_type": "code",
   "execution_count": null,
   "metadata": {},
   "outputs": [],
   "source": []
  }
 ],
 "metadata": {
  "kernelspec": {
   "display_name": "Python 3 (ipykernel)",
   "language": "python",
   "name": "python3"
  },
  "language_info": {
   "codemirror_mode": {
    "name": "ipython",
    "version": 3
   },
   "file_extension": ".py",
   "mimetype": "text/x-python",
   "name": "python",
   "nbconvert_exporter": "python",
   "pygments_lexer": "ipython3",
   "version": "3.10.8"
  },
  "orig_nbformat": 4,
  "vscode": {
   "interpreter": {
    "hash": "da9ac5d7c4e967160d4eddc6864285750b07d26b36aae015b5a1a36de670b7f6"
   }
  }
 },
 "nbformat": 4,
 "nbformat_minor": 2
}
