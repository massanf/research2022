{
 "cells": [
  {
   "attachments": {},
   "cell_type": "markdown",
   "metadata": {},
   "source": [
    "## Download"
   ]
  },
  {
   "cell_type": "code",
   "execution_count": 3,
   "metadata": {},
   "outputs": [],
   "source": [
    "import requests\n",
    "import pathlib\n",
    "import patoolib\n",
    "import glob\n",
    "import os\n",
    "\n",
    "def download_file(url, dir, name):\n",
    "    local_filename = dir / name\n",
    "    with requests.get(url, stream=True) as r:\n",
    "        r.raise_for_status()\n",
    "        with open(local_filename, 'wb') as f:\n",
    "            for chunk in r.iter_content(chunk_size=8192): \n",
    "                # If you have chunk encoded response uncomment if\n",
    "                # and set chunk_size parameter to None.\n",
    "                #if chunk: \n",
    "                f.write(chunk)\n",
    "    return local_filename"
   ]
  },
  {
   "cell_type": "code",
   "execution_count": 6,
   "metadata": {},
   "outputs": [
    {
     "data": {
      "application/vnd.jupyter.widget-view+json": {
       "model_id": "c68e5684db2b4826833f5230a6c38131",
       "version_major": 2,
       "version_minor": 0
      },
      "text/plain": [
       "  0%|          | 0/90 [00:00<?, ?it/s]"
      ]
     },
     "metadata": {},
     "output_type": "display_data"
    },
    {
     "name": "stdout",
     "output_type": "stream",
     "text": [
      "downloading 4411471\n",
      "extracting 4411471\n",
      "patool: Extracting downloaded/4411471.rar ...\n",
      "patool: running /usr/bin/unrar x -- /home/mfujita/Documents/research/downloaded/4411471.rar\n",
      "patool:     with cwd='./data/4411471'\n",
      "patool: ... downloaded/4411471.rar extracted to `./data/4411471'.\n",
      "downloading 4411469\n",
      "extracting 4411469\n",
      "patool: Extracting downloaded/4411469.rar ...\n",
      "patool: running /usr/bin/unrar x -- /home/mfujita/Documents/research/downloaded/4411469.rar\n",
      "patool:     with cwd='./data/4411469'\n",
      "patool: ... downloaded/4411469.rar extracted to `./data/4411469'.\n",
      "downloading 4411475\n",
      "extracting 4411475\n",
      "patool: Extracting downloaded/4411475.rar ...\n",
      "patool: running /usr/bin/unrar x -- /home/mfujita/Documents/research/downloaded/4411475.rar\n",
      "patool:     with cwd='./data/4411475'\n",
      "patool: ... downloaded/4411475.rar extracted to `./data/4411475'.\n",
      "downloading 4411476\n",
      "extracting 4411476\n",
      "patool: Extracting downloaded/4411476.rar ...\n",
      "patool: running /usr/bin/unrar x -- /home/mfujita/Documents/research/downloaded/4411476.rar\n",
      "patool:     with cwd='./data/4411476'\n",
      "patool: ... downloaded/4411476.rar extracted to `./data/4411476'.\n",
      "downloading 4411482\n",
      "extracting 4411482\n",
      "patool: Extracting downloaded/4411482.rar ...\n",
      "patool: running /usr/bin/unrar x -- /home/mfujita/Documents/research/downloaded/4411482.rar\n",
      "patool:     with cwd='./data/4411482'\n",
      "patool: ... downloaded/4411482.rar extracted to `./data/4411482'.\n",
      "downloading 4411558\n",
      "extracting 4411558\n",
      "patool: Extracting downloaded/4411558.rar ...\n",
      "patool: running /usr/bin/unrar x -- /home/mfujita/Documents/research/downloaded/4411558.rar\n",
      "patool:     with cwd='./data/4411558'\n",
      "patool: ... downloaded/4411558.rar extracted to `./data/4411558'.\n",
      "downloading 4411559\n",
      "extracting 4411559\n",
      "patool: Extracting downloaded/4411559.rar ...\n",
      "patool: running /usr/bin/unrar x -- /home/mfujita/Documents/research/downloaded/4411559.rar\n",
      "patool:     with cwd='./data/4411559'\n",
      "patool: ... downloaded/4411559.rar extracted to `./data/4411559'.\n",
      "downloading 4411557\n",
      "extracting 4411557\n",
      "patool: Extracting downloaded/4411557.rar ...\n",
      "patool: running /usr/bin/unrar x -- /home/mfujita/Documents/research/downloaded/4411557.rar\n",
      "patool:     with cwd='./data/4411557'\n",
      "patool: ... downloaded/4411557.rar extracted to `./data/4411557'.\n",
      "downloading 4411796\n",
      "extracting 4411796\n",
      "patool: Extracting downloaded/4411796.rar ...\n",
      "patool: running /usr/bin/unrar x -- /home/mfujita/Documents/research/downloaded/4411796.rar\n",
      "patool:     with cwd='./data/4411796'\n",
      "patool: ... downloaded/4411796.rar extracted to `./data/4411796'.\n",
      "downloading 4411560\n",
      "extracting 4411560\n",
      "patool: Extracting downloaded/4411560.rar ...\n",
      "patool: running /usr/bin/unrar x -- /home/mfujita/Documents/research/downloaded/4411560.rar\n",
      "patool:     with cwd='./data/4411560'\n",
      "patool: ... downloaded/4411560.rar extracted to `./data/4411560'.\n",
      "downloading 4411563\n",
      "extracting 4411563\n",
      "patool: Extracting downloaded/4411563.rar ...\n",
      "patool: running /usr/bin/unrar x -- /home/mfujita/Documents/research/downloaded/4411563.rar\n",
      "patool:     with cwd='./data/4411563'\n",
      "patool: ... downloaded/4411563.rar extracted to `./data/4411563'.\n",
      "downloading 4411562\n",
      "extracting 4411562\n",
      "patool: Extracting downloaded/4411562.rar ...\n",
      "patool: running /usr/bin/unrar x -- /home/mfujita/Documents/research/downloaded/4411562.rar\n",
      "patool:     with cwd='./data/4411562'\n",
      "patool: ... downloaded/4411562.rar extracted to `./data/4411562'.\n",
      "downloading 4411561\n",
      "extracting 4411561\n",
      "patool: Extracting downloaded/4411561.rar ...\n",
      "patool: running /usr/bin/unrar x -- /home/mfujita/Documents/research/downloaded/4411561.rar\n",
      "patool:     with cwd='./data/4411561'\n",
      "patool: ... downloaded/4411561.rar extracted to `./data/4411561'.\n",
      "downloading 4411564\n",
      "extracting 4411564\n",
      "patool: Extracting downloaded/4411564.rar ...\n",
      "patool: running /usr/bin/unrar x -- /home/mfujita/Documents/research/downloaded/4411564.rar\n",
      "patool:     with cwd='./data/4411564'\n",
      "patool: ... downloaded/4411564.rar extracted to `./data/4411564'.\n",
      "downloading 4411565\n",
      "extracting 4411565\n",
      "patool: Extracting downloaded/4411565.rar ...\n",
      "patool: running /usr/bin/unrar x -- /home/mfujita/Documents/research/downloaded/4411565.rar\n",
      "patool:     with cwd='./data/4411565'\n",
      "patool: ... downloaded/4411565.rar extracted to `./data/4411565'.\n",
      "downloading 4411566\n",
      "extracting 4411566\n",
      "patool: Extracting downloaded/4411566.rar ...\n",
      "patool: running /usr/bin/unrar x -- /home/mfujita/Documents/research/downloaded/4411566.rar\n",
      "patool:     with cwd='./data/4411566'\n",
      "patool: ... downloaded/4411566.rar extracted to `./data/4411566'.\n",
      "downloading 4411794\n",
      "extracting 4411794\n",
      "patool: Extracting downloaded/4411794.rar ...\n",
      "patool: running /usr/bin/unrar x -- /home/mfujita/Documents/research/downloaded/4411794.rar\n",
      "patool:     with cwd='./data/4411794'\n",
      "patool: ... downloaded/4411794.rar extracted to `./data/4411794'.\n",
      "downloading 4411797\n",
      "extracting 4411797\n",
      "patool: Extracting downloaded/4411797.rar ...\n",
      "patool: running /usr/bin/unrar x -- /home/mfujita/Documents/research/downloaded/4411797.rar\n",
      "patool:     with cwd='./data/4411797'\n",
      "patool: ... downloaded/4411797.rar extracted to `./data/4411797'.\n",
      "downloading 4411407\n",
      "extracting 4411407\n",
      "patool: Extracting downloaded/4411407.rar ...\n",
      "patool: running /usr/bin/unrar x -- /home/mfujita/Documents/research/downloaded/4411407.rar\n",
      "patool:     with cwd='./data/4411407'\n",
      "patool: ... downloaded/4411407.rar extracted to `./data/4411407'.\n",
      "downloading 4411408\n",
      "extracting 4411408\n",
      "patool: Extracting downloaded/4411408.rar ...\n",
      "patool: running /usr/bin/unrar x -- /home/mfujita/Documents/research/downloaded/4411408.rar\n",
      "patool:     with cwd='./data/4411408'\n",
      "patool: ... downloaded/4411408.rar extracted to `./data/4411408'.\n",
      "downloading 4411406\n",
      "extracting 4411406\n",
      "patool: Extracting downloaded/4411406.rar ...\n",
      "patool: running /usr/bin/unrar x -- /home/mfujita/Documents/research/downloaded/4411406.rar\n",
      "patool:     with cwd='./data/4411406'\n",
      "patool: ... downloaded/4411406.rar extracted to `./data/4411406'.\n",
      "downloading 4411405\n",
      "extracting 4411405\n",
      "patool: Extracting downloaded/4411405.rar ...\n",
      "patool: running /usr/bin/unrar x -- /home/mfujita/Documents/research/downloaded/4411405.rar\n",
      "patool:     with cwd='./data/4411405'\n",
      "patool: ... downloaded/4411405.rar extracted to `./data/4411405'.\n",
      "downloading 4411417\n",
      "extracting 4411417\n",
      "patool: Extracting downloaded/4411417.rar ...\n",
      "patool: running /usr/bin/unrar x -- /home/mfujita/Documents/research/downloaded/4411417.rar\n",
      "patool:     with cwd='./data/4411417'\n",
      "patool: ... downloaded/4411417.rar extracted to `./data/4411417'.\n",
      "downloading 4411414\n",
      "extracting 4411414\n",
      "patool: Extracting downloaded/4411414.rar ...\n",
      "patool: running /usr/bin/unrar x -- /home/mfujita/Documents/research/downloaded/4411414.rar\n",
      "patool:     with cwd='./data/4411414'\n",
      "patool: ... downloaded/4411414.rar extracted to `./data/4411414'.\n",
      "downloading 4411415\n",
      "extracting 4411415\n",
      "patool: Extracting downloaded/4411415.rar ...\n",
      "patool: running /usr/bin/unrar x -- /home/mfujita/Documents/research/downloaded/4411415.rar\n",
      "patool:     with cwd='./data/4411415'\n",
      "patool: ... downloaded/4411415.rar extracted to `./data/4411415'.\n",
      "downloading 4411416\n",
      "extracting 4411416\n",
      "patool: Extracting downloaded/4411416.rar ...\n",
      "patool: running /usr/bin/unrar x -- /home/mfujita/Documents/research/downloaded/4411416.rar\n",
      "patool:     with cwd='./data/4411416'\n",
      "patool: ... downloaded/4411416.rar extracted to `./data/4411416'.\n",
      "downloading 4411420\n",
      "extracting 4411420\n",
      "patool: Extracting downloaded/4411420.rar ...\n",
      "patool: running /usr/bin/unrar x -- /home/mfujita/Documents/research/downloaded/4411420.rar\n",
      "patool:     with cwd='./data/4411420'\n",
      "patool: ... downloaded/4411420.rar extracted to `./data/4411420'.\n",
      "downloading 4411419\n",
      "extracting 4411419\n",
      "patool: Extracting downloaded/4411419.rar ...\n",
      "patool: running /usr/bin/unrar x -- /home/mfujita/Documents/research/downloaded/4411419.rar\n",
      "patool:     with cwd='./data/4411419'\n",
      "patool: ... downloaded/4411419.rar extracted to `./data/4411419'.\n",
      "downloading 4410886\n",
      "extracting 4410886\n",
      "patool: Extracting downloaded/4410886.rar ...\n",
      "patool: running /usr/bin/unrar x -- /home/mfujita/Documents/research/downloaded/4410886.rar\n",
      "patool:     with cwd='./data/4410886'\n",
      "patool: ... downloaded/4410886.rar extracted to `./data/4410886'.\n",
      "downloading 4411396\n",
      "extracting 4411396\n",
      "patool: Extracting downloaded/4411396.rar ...\n",
      "patool: running /usr/bin/unrar x -- /home/mfujita/Documents/research/downloaded/4411396.rar\n",
      "patool:     with cwd='./data/4411396'\n",
      "patool: ... downloaded/4411396.rar extracted to `./data/4411396'.\n",
      "downloading 4411397\n",
      "extracting 4411397\n",
      "patool: Extracting downloaded/4411397.rar ...\n",
      "patool: running /usr/bin/unrar x -- /home/mfujita/Documents/research/downloaded/4411397.rar\n",
      "patool:     with cwd='./data/4411397'\n",
      "patool: ... downloaded/4411397.rar extracted to `./data/4411397'.\n",
      "downloading 4411398\n",
      "extracting 4411398\n",
      "patool: Extracting downloaded/4411398.rar ...\n",
      "patool: running /usr/bin/unrar x -- /home/mfujita/Documents/research/downloaded/4411398.rar\n",
      "patool:     with cwd='./data/4411398'\n",
      "patool: ... downloaded/4411398.rar extracted to `./data/4411398'.\n",
      "downloading 4411395\n",
      "extracting 4411395\n",
      "patool: Extracting downloaded/4411395.rar ...\n",
      "patool: running /usr/bin/unrar x -- /home/mfujita/Documents/research/downloaded/4411395.rar\n",
      "patool:     with cwd='./data/4411395'\n",
      "patool: ... downloaded/4411395.rar extracted to `./data/4411395'.\n",
      "downloading 4411402\n",
      "extracting 4411402\n",
      "patool: Extracting downloaded/4411402.rar ...\n",
      "patool: running /usr/bin/unrar x -- /home/mfujita/Documents/research/downloaded/4411402.rar\n",
      "patool:     with cwd='./data/4411402'\n",
      "patool: ... downloaded/4411402.rar extracted to `./data/4411402'.\n",
      "downloading 4411401\n",
      "extracting 4411401\n",
      "patool: Extracting downloaded/4411401.rar ...\n",
      "patool: running /usr/bin/unrar x -- /home/mfujita/Documents/research/downloaded/4411401.rar\n",
      "patool:     with cwd='./data/4411401'\n",
      "patool: ... downloaded/4411401.rar extracted to `./data/4411401'.\n",
      "downloading 4411403\n",
      "extracting 4411403\n",
      "patool: Extracting downloaded/4411403.rar ...\n",
      "patool: running /usr/bin/unrar x -- /home/mfujita/Documents/research/downloaded/4411403.rar\n",
      "patool:     with cwd='./data/4411403'\n",
      "patool: ... downloaded/4411403.rar extracted to `./data/4411403'.\n",
      "downloading 4411404\n",
      "extracting 4411404\n",
      "patool: Extracting downloaded/4411404.rar ...\n",
      "patool: running /usr/bin/unrar x -- /home/mfujita/Documents/research/downloaded/4411404.rar\n",
      "patool:     with cwd='./data/4411404'\n",
      "patool: ... downloaded/4411404.rar extracted to `./data/4411404'.\n",
      "downloading 4411426\n",
      "extracting 4411426\n",
      "patool: Extracting downloaded/4411426.rar ...\n",
      "patool: running /usr/bin/unrar x -- /home/mfujita/Documents/research/downloaded/4411426.rar\n",
      "patool:     with cwd='./data/4411426'\n",
      "patool: ... downloaded/4411426.rar extracted to `./data/4411426'.\n",
      "downloading 4411425\n",
      "extracting 4411425\n",
      "patool: Extracting downloaded/4411425.rar ...\n",
      "patool: running /usr/bin/unrar x -- /home/mfujita/Documents/research/downloaded/4411425.rar\n",
      "patool:     with cwd='./data/4411425'\n",
      "patool: ... downloaded/4411425.rar extracted to `./data/4411425'.\n",
      "downloading 4411424\n",
      "extracting 4411424\n",
      "patool: Extracting downloaded/4411424.rar ...\n",
      "patool: running /usr/bin/unrar x -- /home/mfujita/Documents/research/downloaded/4411424.rar\n",
      "patool:     with cwd='./data/4411424'\n",
      "patool: ... downloaded/4411424.rar extracted to `./data/4411424'.\n",
      "downloading 4411423\n",
      "extracting 4411423\n",
      "patool: Extracting downloaded/4411423.rar ...\n",
      "patool: running /usr/bin/unrar x -- /home/mfujita/Documents/research/downloaded/4411423.rar\n",
      "patool:     with cwd='./data/4411423'\n",
      "patool: ... downloaded/4411423.rar extracted to `./data/4411423'.\n",
      "downloading 4411428\n",
      "extracting 4411428\n",
      "patool: Extracting downloaded/4411428.rar ...\n",
      "patool: running /usr/bin/unrar x -- /home/mfujita/Documents/research/downloaded/4411428.rar\n",
      "patool:     with cwd='./data/4411428'\n",
      "patool: ... downloaded/4411428.rar extracted to `./data/4411428'.\n",
      "downloading 4411430\n",
      "extracting 4411430\n",
      "patool: Extracting downloaded/4411430.rar ...\n",
      "patool: running /usr/bin/unrar x -- /home/mfujita/Documents/research/downloaded/4411430.rar\n",
      "patool:     with cwd='./data/4411430'\n",
      "patool: ... downloaded/4411430.rar extracted to `./data/4411430'.\n",
      "downloading 4411427\n",
      "extracting 4411427\n",
      "patool: Extracting downloaded/4411427.rar ...\n",
      "patool: running /usr/bin/unrar x -- /home/mfujita/Documents/research/downloaded/4411427.rar\n",
      "patool:     with cwd='./data/4411427'\n",
      "patool: ... downloaded/4411427.rar extracted to `./data/4411427'.\n",
      "downloading 4411429\n",
      "extracting 4411429\n",
      "patool: Extracting downloaded/4411429.rar ...\n",
      "patool: running /usr/bin/unrar x -- /home/mfujita/Documents/research/downloaded/4411429.rar\n",
      "patool:     with cwd='./data/4411429'\n",
      "patool: ... downloaded/4411429.rar extracted to `./data/4411429'.\n",
      "downloading 4411433\n",
      "extracting 4411433\n",
      "patool: Extracting downloaded/4411433.rar ...\n",
      "patool: running /usr/bin/unrar x -- /home/mfujita/Documents/research/downloaded/4411433.rar\n",
      "patool:     with cwd='./data/4411433'\n",
      "patool: ... downloaded/4411433.rar extracted to `./data/4411433'.\n",
      "downloading 4411432\n",
      "extracting 4411432\n",
      "patool: Extracting downloaded/4411432.rar ...\n",
      "patool: running /usr/bin/unrar x -- /home/mfujita/Documents/research/downloaded/4411432.rar\n",
      "patool:     with cwd='./data/4411432'\n",
      "patool: ... downloaded/4411432.rar extracted to `./data/4411432'.\n",
      "downloading 4410826\n",
      "extracting 4410826\n",
      "patool: Extracting downloaded/4410826.rar ...\n",
      "patool: running /usr/bin/unrar x -- /home/mfujita/Documents/research/downloaded/4410826.rar\n",
      "patool:     with cwd='./data/4410826'\n",
      "patool: ... downloaded/4410826.rar extracted to `./data/4410826'.\n",
      "downloading 4410825\n",
      "extracting 4410825\n",
      "patool: Extracting downloaded/4410825.rar ...\n",
      "patool: running /usr/bin/unrar x -- /home/mfujita/Documents/research/downloaded/4410825.rar\n",
      "patool:     with cwd='./data/4410825'\n",
      "patool: ... downloaded/4410825.rar extracted to `./data/4410825'.\n",
      "downloading 4410836\n",
      "extracting 4410836\n",
      "patool: Extracting downloaded/4410836.rar ...\n",
      "patool: running /usr/bin/unrar x -- /home/mfujita/Documents/research/downloaded/4410836.rar\n",
      "patool:     with cwd='./data/4410836'\n",
      "patool: ... downloaded/4410836.rar extracted to `./data/4410836'.\n",
      "downloading 4410840\n",
      "extracting 4410840\n",
      "patool: Extracting downloaded/4410840.rar ...\n",
      "patool: running /usr/bin/unrar x -- /home/mfujita/Documents/research/downloaded/4410840.rar\n",
      "patool:     with cwd='./data/4410840'\n",
      "patool: ... downloaded/4410840.rar extracted to `./data/4410840'.\n",
      "downloading 4410859\n",
      "extracting 4410859\n",
      "patool: Extracting downloaded/4410859.rar ...\n",
      "patool: running /usr/bin/unrar x -- /home/mfujita/Documents/research/downloaded/4410859.rar\n",
      "patool:     with cwd='./data/4410859'\n",
      "patool: ... downloaded/4410859.rar extracted to `./data/4410859'.\n",
      "downloading 4410856\n",
      "extracting 4410856\n",
      "patool: Extracting downloaded/4410856.rar ...\n",
      "patool: running /usr/bin/unrar x -- /home/mfujita/Documents/research/downloaded/4410856.rar\n",
      "patool:     with cwd='./data/4410856'\n",
      "patool: ... downloaded/4410856.rar extracted to `./data/4410856'.\n",
      "downloading 4410857\n",
      "extracting 4410857\n",
      "patool: Extracting downloaded/4410857.rar ...\n",
      "patool: running /usr/bin/unrar x -- /home/mfujita/Documents/research/downloaded/4410857.rar\n",
      "patool:     with cwd='./data/4410857'\n",
      "patool: ... downloaded/4410857.rar extracted to `./data/4410857'.\n",
      "downloading 4410858\n",
      "extracting 4410858\n",
      "patool: Extracting downloaded/4410858.rar ...\n",
      "patool: running /usr/bin/unrar x -- /home/mfujita/Documents/research/downloaded/4410858.rar\n",
      "patool:     with cwd='./data/4410858'\n",
      "patool: ... downloaded/4410858.rar extracted to `./data/4410858'.\n",
      "downloading 4267535\n",
      "extracting 4267535\n",
      "patool: Extracting downloaded/4267535.rar ...\n",
      "patool: running /usr/bin/unrar x -- /home/mfujita/Documents/research/downloaded/4267535.rar\n",
      "patool:     with cwd='./data/4267535'\n",
      "patool: ... downloaded/4267535.rar extracted to `./data/4267535'.\n",
      "downloading 4410402\n",
      "extracting 4410402\n",
      "patool: Extracting downloaded/4410402.rar ...\n",
      "patool: running /usr/bin/unrar x -- /home/mfujita/Documents/research/downloaded/4410402.rar\n",
      "patool:     with cwd='./data/4410402'\n",
      "patool: ... downloaded/4410402.rar extracted to `./data/4410402'.\n",
      "downloading 4410839\n",
      "extracting 4410839\n",
      "patool: Extracting downloaded/4410839.rar ...\n",
      "patool: running /usr/bin/unrar x -- /home/mfujita/Documents/research/downloaded/4410839.rar\n",
      "patool:     with cwd='./data/4410839'\n",
      "patool: ... downloaded/4410839.rar extracted to `./data/4410839'.\n"
     ]
    }
   ],
   "source": [
    "from tqdm.notebook import tqdm\n",
    "\n",
    "# 10 - 30\n",
    "ids = [\n",
    "    \"4411471\", \"4411469\", \"4411475\", \"4411476\", \"4411482\", \"4411558\", \"4411559\", \"4411557\", \"4411796\", \"4411560\", \"4411563\", \"4411562\", \"4411561\", \"4411564\", \"4411565\", \"4411566\", \"4411794\", \"4411797\", \"4411407\", \"4411407\", \"4411408\", \"4411406\", \"4411405\", \"4411417\", \"4411414\", \"4411415\", \"4411416\", \"4411420\", \"4411419\", \"4267523\", \"4410886\", \"4411396\", \"4411397\", \"4411398\", \"4411395\", \"4411402\", \"4411401\", \"4411403\", \"4411404\", \"4411426\", \"4411425\", \"4411424\", \"4411423\", \"4411428\", \"4411430\", \"4411427\", \"4411429\", \"4411433\", \"4411432\", \"4410826\", \"4410824\", \"4410825\", \"4410829\", \"4410828\", \"4410827\", \"4410832\", \"4410830\", \"4410833\", \"4410831\", \"4410836\", \"4410837\", \"4410835\", \"4410834\", \"4410838\", \"4410840\", \"4410859\", \"4410856\", \"4410857\", \"4410858\", \"4267535\", \"4409574\", \"4409575\", \"4409573\", \"4410087\", \"4410088\", \"4410086\", \"4410401\", \"4410402\", \"4410400\", \"4410839\", \"4404145\", \"4404449\", \"4404146\", \"4404150\", \"4404148\", \"4404151\", \"4404149\", \"4404366\", \"4404147\", \"4404367\"\n",
    "]\n",
    "\n",
    "for id in tqdm(ids):\n",
    "    url = f\"https://dataverse.harvard.edu/api/access/datafile/{id}\"\n",
    "    name = url.split(\"/\")[-1]\n",
    "    path = \"./data/\" + name\n",
    "    if os.path.exists(path):\n",
    "        continue\n",
    "    print(f\"downloading {name}\")\n",
    "    download_file(url=url, dir=pathlib.Path(\"./downloaded\"),\n",
    "                  name=name + \".rar\")\n",
    "    print(f\"extracting {name}\")\n",
    "    if not os.path.exists(path):\n",
    "        os.mkdir(path)\n",
    "    patoolib.extract_archive(pathlib.Path(\"./downloaded\") \n",
    "                             / (name + \".rar\"),\n",
    "                             outdir=\"./data/\" + name)\n",
    "    os.rename(glob.glob(\"./data/\" + name + \"/*\")[0], \"./data/\" + name + \"/ct\")\n",
    "    os.remove(pathlib.Path(\"./downloaded\") / (name + \".rar\"))\n",
    "%slack"
   ]
  },
  {
   "cell_type": "code",
   "execution_count": 3,
   "metadata": {},
   "outputs": [
    {
     "ename": "FileNotFoundError",
     "evalue": "[Errno 2] No such file or directory: './data/4411433/drr.pickle'",
     "output_type": "error",
     "traceback": [
      "\u001b[0;31m---------------------------------------------------------------------------\u001b[0m",
      "\u001b[0;31mFileNotFoundError\u001b[0m                         Traceback (most recent call last)",
      "\u001b[1;32m/home/mfujita/Documents/research/prepare.ipynb Cell 4\u001b[0m in \u001b[0;36m<cell line: 3>\u001b[0;34m()\u001b[0m\n\u001b[1;32m      <a href='vscode-notebook-cell://ssh-remote%2B192.168.193.104/home/mfujita/Documents/research/prepare.ipynb#W3sdnNjb2RlLXJlbW90ZQ%3D%3D?line=3'>4</a>\u001b[0m \u001b[39mif\u001b[39;00m \u001b[39m'\u001b[39m\u001b[39m__\u001b[39m\u001b[39m'\u001b[39m \u001b[39min\u001b[39;00m file:\n\u001b[1;32m      <a href='vscode-notebook-cell://ssh-remote%2B192.168.193.104/home/mfujita/Documents/research/prepare.ipynb#W3sdnNjb2RlLXJlbW90ZQ%3D%3D?line=4'>5</a>\u001b[0m     \u001b[39mcontinue\u001b[39;00m\n\u001b[0;32m----> <a href='vscode-notebook-cell://ssh-remote%2B192.168.193.104/home/mfujita/Documents/research/prepare.ipynb#W3sdnNjb2RlLXJlbW90ZQ%3D%3D?line=5'>6</a>\u001b[0m os\u001b[39m.\u001b[39;49mremove(file \u001b[39m+\u001b[39;49m \u001b[39m\"\u001b[39;49m\u001b[39m/drr.pickle\u001b[39;49m\u001b[39m\"\u001b[39;49m)\n\u001b[1;32m      <a href='vscode-notebook-cell://ssh-remote%2B192.168.193.104/home/mfujita/Documents/research/prepare.ipynb#W3sdnNjb2RlLXJlbW90ZQ%3D%3D?line=6'>7</a>\u001b[0m os\u001b[39m.\u001b[39mremove(file \u001b[39m+\u001b[39m \u001b[39m\"\u001b[39m\u001b[39m/fbp.pickle\u001b[39m\u001b[39m\"\u001b[39m)\n",
      "\u001b[0;31mFileNotFoundError\u001b[0m: [Errno 2] No such file or directory: './data/4411433/drr.pickle'"
     ]
    }
   ],
   "source": [
    "# import glob\n",
    "\n",
    "# for idx, file in enumerate(glob.glob(\"./data/*\")):\n",
    "#     if '__' in file:\n",
    "#         continue\n",
    "#     os.remove(file + \"/drr.pickle\")\n",
    "#     os.remove(file + \"/fbp.pickle\")\n",
    "#     # print(file)\n",
    "    # if len(glob.glob(file + \"/ct/*\")) < 5:\n",
    "    #     print(file)\n",
    "    # # if len(glob.glob(file + \"/ct\")) == 0 or not os.path.isdir(file + \"/ct\"):\n",
    "    #     # os.remove(file + \"/ct\")\n",
    "    #     # os.mkdir(file + \"/ct\")\n",
    "    #     # for img in glob.glob(file + \"/*.dcm\"):\n",
    "    #     #     imgname = img.split(\"/\")[-1]\n",
    "    #     #     # print(img)\n",
    "    #     #     # print(file + \"/ct/\" + imgname)\n",
    "    #     #     os.rename(img, file + \"/ct/\" + imgname)\n",
    "    #     # print(file)"
   ]
  },
  {
   "attachments": {},
   "cell_type": "markdown",
   "metadata": {},
   "source": [
    "## DRR, FBP, Resize"
   ]
  },
  {
   "cell_type": "code",
   "execution_count": null,
   "metadata": {},
   "outputs": [
    {
     "data": {
      "application/vnd.jupyter.widget-view+json": {
       "model_id": "eab2deb4242b41a8aa3a5df9c3a6dec0",
       "version_major": 2,
       "version_minor": 0
      },
      "text/plain": [
       "  0%|          | 0/41 [00:00<?, ?it/s]"
      ]
     },
     "metadata": {},
     "output_type": "display_data"
    },
    {
     "data": {
      "application/vnd.jupyter.widget-view+json": {
       "model_id": "f02284976d184492bee0b34363a9995e",
       "version_major": 2,
       "version_minor": 0
      },
      "text/plain": [
       "FBP:   0%|          | 0/400 [00:00<?, ?it/s]"
      ]
     },
     "metadata": {},
     "output_type": "display_data"
    },
    {
     "ename": "KeyboardInterrupt",
     "evalue": "",
     "output_type": "error",
     "traceback": [
      "\u001b[0;31m---------------------------------------------------------------------------\u001b[0m",
      "\u001b[0;31mKeyboardInterrupt\u001b[0m                         Traceback (most recent call last)",
      "\u001b[1;32m/home/mfujita/Documents/research/prepare.ipynb Cell 5\u001b[0m in \u001b[0;36m<cell line: 9>\u001b[0;34m()\u001b[0m\n\u001b[1;32m     <a href='vscode-notebook-cell://ssh-remote%2B192.168.193.104/home/mfujita/Documents/research/prepare.ipynb#W4sdnNjb2RlLXJlbW90ZQ%3D%3D?line=11'>12</a>\u001b[0m     vol \u001b[39m=\u001b[39m vol_path\u001b[39m.\u001b[39msplit(\u001b[39m\"\u001b[39m\u001b[39m/\u001b[39m\u001b[39m\"\u001b[39m)[\u001b[39m-\u001b[39m\u001b[39m1\u001b[39m]\n\u001b[1;32m     <a href='vscode-notebook-cell://ssh-remote%2B192.168.193.104/home/mfujita/Documents/research/prepare.ipynb#W4sdnNjb2RlLXJlbW90ZQ%3D%3D?line=12'>13</a>\u001b[0m     \u001b[39m# print(vol)\u001b[39;00m\n\u001b[0;32m---> <a href='vscode-notebook-cell://ssh-remote%2B192.168.193.104/home/mfujita/Documents/research/prepare.ipynb#W4sdnNjb2RlLXJlbW90ZQ%3D%3D?line=13'>14</a>\u001b[0m     p \u001b[39m=\u001b[39m patient\u001b[39m.\u001b[39;49mpatient(name\u001b[39m=\u001b[39;49mvol)\n\u001b[1;32m     <a href='vscode-notebook-cell://ssh-remote%2B192.168.193.104/home/mfujita/Documents/research/prepare.ipynb#W4sdnNjb2RlLXJlbW90ZQ%3D%3D?line=15'>16</a>\u001b[0m \u001b[39m# imageio.mimsave(f\"pics/drr.gif\", p.drr.img)\u001b[39;00m\n\u001b[1;32m     <a href='vscode-notebook-cell://ssh-remote%2B192.168.193.104/home/mfujita/Documents/research/prepare.ipynb#W4sdnNjb2RlLXJlbW90ZQ%3D%3D?line=16'>17</a>\u001b[0m get_ipython()\u001b[39m.\u001b[39mrun_line_magic(\u001b[39m'\u001b[39m\u001b[39mslack\u001b[39m\u001b[39m'\u001b[39m, \u001b[39m'\u001b[39m\u001b[39m'\u001b[39m)\n",
      "File \u001b[0;32m~/Documents/research/patient/patient.py:55\u001b[0m, in \u001b[0;36mpatient.__init__\u001b[0;34m(self, name, num_views)\u001b[0m\n\u001b[1;32m     53\u001b[0m         \u001b[39mself\u001b[39m\u001b[39m.\u001b[39mfbp \u001b[39m=\u001b[39m pickle\u001b[39m.\u001b[39mload(handle)\n\u001b[1;32m     54\u001b[0m \u001b[39melse\u001b[39;00m:\n\u001b[0;32m---> 55\u001b[0m     \u001b[39mself\u001b[39;49m\u001b[39m.\u001b[39;49mgenerate_fbp()\n\u001b[1;32m     57\u001b[0m \u001b[39mif\u001b[39;00m (datadir \u001b[39m/\u001b[39m name \u001b[39m/\u001b[39m \u001b[39m\"\u001b[39m\u001b[39mposfbp.pickle\u001b[39m\u001b[39m\"\u001b[39m)\u001b[39m.\u001b[39mexists():\n\u001b[1;32m     58\u001b[0m     \u001b[39mwith\u001b[39;00m \u001b[39mopen\u001b[39m(datadir \u001b[39m/\u001b[39m name \u001b[39m/\u001b[39m \u001b[39m\"\u001b[39m\u001b[39mposfbp.pickle\u001b[39m\u001b[39m\"\u001b[39m, \u001b[39m'\u001b[39m\u001b[39mrb\u001b[39m\u001b[39m'\u001b[39m) \u001b[39mas\u001b[39;00m handle:\n",
      "File \u001b[0;32m~/Documents/research/patient/patient.py:108\u001b[0m, in \u001b[0;36mpatient.generate_fbp\u001b[0;34m(self, load_all)\u001b[0m\n\u001b[1;32m    107\u001b[0m \u001b[39mdef\u001b[39;00m \u001b[39mgenerate_fbp\u001b[39m(\u001b[39mself\u001b[39m, load_all\u001b[39m=\u001b[39m\u001b[39mTrue\u001b[39;00m):\n\u001b[0;32m--> 108\u001b[0m     \u001b[39mself\u001b[39m\u001b[39m.\u001b[39mfbp \u001b[39m=\u001b[39m fbp\u001b[39m.\u001b[39;49mfbpset(\n\u001b[1;32m    109\u001b[0m         \u001b[39mself\u001b[39;49m\u001b[39m.\u001b[39;49mdrr,\n\u001b[1;32m    110\u001b[0m         height\u001b[39m=\u001b[39;49m\u001b[39m500\u001b[39;49m,\n\u001b[1;32m    111\u001b[0m         angle\u001b[39m=\u001b[39;49m\u001b[39m75\u001b[39;49m,\n\u001b[1;32m    112\u001b[0m         rotate\u001b[39m=\u001b[39;49m\u001b[39m191\u001b[39;49m,\n\u001b[1;32m    113\u001b[0m         load_all\u001b[39m=\u001b[39;49mload_all\n\u001b[1;32m    114\u001b[0m     )\n\u001b[1;32m    115\u001b[0m     \u001b[39mwith\u001b[39;00m \u001b[39mopen\u001b[39m(datadir \u001b[39m/\u001b[39m \u001b[39mself\u001b[39m\u001b[39m.\u001b[39mname \u001b[39m/\u001b[39m \u001b[39m\"\u001b[39m\u001b[39mfbp.pickle\u001b[39m\u001b[39m\"\u001b[39m, \u001b[39m'\u001b[39m\u001b[39mwb\u001b[39m\u001b[39m'\u001b[39m) \u001b[39mas\u001b[39;00m handle:\n\u001b[1;32m    116\u001b[0m         pickle\u001b[39m.\u001b[39mdump(\u001b[39mself\u001b[39m\u001b[39m.\u001b[39mfbp, handle, protocol\u001b[39m=\u001b[39mpickle\u001b[39m.\u001b[39mHIGHEST_PROTOCOL)\n",
      "File \u001b[0;32m~/Documents/research/fbp/tompy.py:98\u001b[0m, in \u001b[0;36mfbpset.__init__\u001b[0;34m(self, xray, height, width, adjust_alpha, adjust_beta, start, angle, sidepad, toppad, rotate, load_all)\u001b[0m\n\u001b[1;32m     94\u001b[0m \u001b[39mif\u001b[39;00m load_all:\n\u001b[1;32m     95\u001b[0m     \u001b[39mfor\u001b[39;00m idx \u001b[39min\u001b[39;00m tqdm(\u001b[39mrange\u001b[39m(\u001b[39mlen\u001b[39m(\u001b[39mself\u001b[39m\u001b[39m.\u001b[39mx\u001b[39m.\u001b[39mimg[\u001b[39m0\u001b[39m])), desc\u001b[39m=\u001b[39m\u001b[39m\"\u001b[39m\u001b[39mFBP\u001b[39m\u001b[39m\"\u001b[39m,\n\u001b[1;32m     96\u001b[0m                     leave\u001b[39m=\u001b[39m\u001b[39mFalse\u001b[39;00m):\n\u001b[1;32m     97\u001b[0m         \u001b[39m# for idx in range(5):\u001b[39;00m\n\u001b[0;32m---> 98\u001b[0m         \u001b[39mself\u001b[39;49m\u001b[39m.\u001b[39;49mgenerate(idx)\n",
      "File \u001b[0;32m~/Documents/research/fbp/tompy.py:124\u001b[0m, in \u001b[0;36mfbpset.generate\u001b[0;34m(self, sheet_number)\u001b[0m\n\u001b[1;32m    115\u001b[0m \u001b[39mdef\u001b[39;00m \u001b[39mgenerate\u001b[39m(\n\u001b[1;32m    116\u001b[0m     \u001b[39mself\u001b[39m,\n\u001b[1;32m    117\u001b[0m     sheet_number: \u001b[39mint\u001b[39m\n\u001b[1;32m    118\u001b[0m ):\n\u001b[1;32m    119\u001b[0m     \u001b[39m\"\"\"Generate FBP result\u001b[39;00m\n\u001b[1;32m    120\u001b[0m \n\u001b[1;32m    121\u001b[0m \u001b[39m    Args:\u001b[39;00m\n\u001b[1;32m    122\u001b[0m \u001b[39m        sheet_number (int): sheet number (0 to 1024)\u001b[39;00m\n\u001b[1;32m    123\u001b[0m \u001b[39m    \"\"\"\u001b[39;00m\n\u001b[0;32m--> 124\u001b[0m     sinogram \u001b[39m=\u001b[39m \u001b[39mself\u001b[39;49m\u001b[39m.\u001b[39;49mcreate_sino(sheet_number)\n\u001b[1;32m    125\u001b[0m     sinogram \u001b[39m=\u001b[39m cp\u001b[39m.\u001b[39marray(cv2\u001b[39m.\u001b[39mresize(cp\u001b[39m.\u001b[39masnumpy(sinogram),\n\u001b[1;32m    126\u001b[0m                                    (\u001b[39mself\u001b[39m\u001b[39m.\u001b[39mheight, \u001b[39mself\u001b[39m\u001b[39m.\u001b[39mwidth)))\n\u001b[1;32m    127\u001b[0m     \u001b[39m# sinogram = affine_transform(sinogram, )\u001b[39;00m\n",
      "File \u001b[0;32m~/Documents/research/fbp/tompy.py:178\u001b[0m, in \u001b[0;36mfbpset.create_sino\u001b[0;34m(self, sheet_number)\u001b[0m\n\u001b[1;32m    176\u001b[0m         a \u001b[39m=\u001b[39m \u001b[39mint\u001b[39m((row \u001b[39m-\u001b[39m \u001b[39mself\u001b[39m\u001b[39m.\u001b[39mstart) \u001b[39m%\u001b[39m n)\n\u001b[1;32m    177\u001b[0m         b \u001b[39m=\u001b[39m \u001b[39mint\u001b[39m(row \u001b[39m-\u001b[39m \u001b[39mint\u001b[39m(\u001b[39mself\u001b[39m\u001b[39m.\u001b[39mangle \u001b[39m*\u001b[39m col \u001b[39m/\u001b[39m w)) \u001b[39m%\u001b[39m \u001b[39mlen\u001b[39m(\u001b[39mself\u001b[39m\u001b[39m.\u001b[39mx\u001b[39m.\u001b[39mimg)\n\u001b[0;32m--> 178\u001b[0m         new_sino[a][\u001b[39mself\u001b[39m\u001b[39m.\u001b[39msidepad \u001b[39m+\u001b[39m col] \u001b[39m=\u001b[39m (\u001b[39mself\u001b[39;49m\u001b[39m.\u001b[39;49mx\u001b[39m.\u001b[39;49mimg[b][sheet_number]\n\u001b[1;32m    179\u001b[0m                                            [col])\n\u001b[1;32m    180\u001b[0m new_sino \u001b[39m=\u001b[39m cp\u001b[39m.\u001b[39mrot90(new_sino)\n\u001b[1;32m    181\u001b[0m \u001b[39mreturn\u001b[39;00m new_sino\n",
      "File \u001b[0;32mcupy/_core/core.pyx:1437\u001b[0m, in \u001b[0;36mcupy._core.core.ndarray.__getitem__\u001b[0;34m()\u001b[0m\n",
      "File \u001b[0;32mcupy/_core/_routines_indexing.pyx:32\u001b[0m, in \u001b[0;36mcupy._core._routines_indexing._ndarray_getitem\u001b[0;34m()\u001b[0m\n",
      "File \u001b[0;32mcupy/_core/_routines_indexing.pyx:289\u001b[0m, in \u001b[0;36mcupy._core._routines_indexing._prepare_slice_list\u001b[0;34m()\u001b[0m\n",
      "File \u001b[0;32m~/anaconda3/envs/res/lib/python3.10/site-packages/numpy/core/numeric.py:1949\u001b[0m, in \u001b[0;36misscalar\u001b[0;34m(element)\u001b[0m\n\u001b[1;32m   1873\u001b[0m \u001b[39m@set_module\u001b[39m(\u001b[39m'\u001b[39m\u001b[39mnumpy\u001b[39m\u001b[39m'\u001b[39m)\n\u001b[1;32m   1874\u001b[0m \u001b[39mdef\u001b[39;00m \u001b[39misscalar\u001b[39m(element):\n\u001b[1;32m   1875\u001b[0m     \u001b[39m\"\"\"\u001b[39;00m\n\u001b[1;32m   1876\u001b[0m \u001b[39m    Returns True if the type of `element` is a scalar type.\u001b[39;00m\n\u001b[1;32m   1877\u001b[0m \n\u001b[0;32m   (...)\u001b[0m\n\u001b[1;32m   1947\u001b[0m \n\u001b[1;32m   1948\u001b[0m \u001b[39m    \"\"\"\u001b[39;00m\n\u001b[0;32m-> 1949\u001b[0m     \u001b[39mreturn\u001b[39;00m (\u001b[39misinstance\u001b[39;49m(element, generic)\n\u001b[1;32m   1950\u001b[0m             \u001b[39mor\u001b[39;00m \u001b[39mtype\u001b[39m(element) \u001b[39min\u001b[39;00m ScalarType\n\u001b[1;32m   1951\u001b[0m             \u001b[39mor\u001b[39;00m \u001b[39misinstance\u001b[39m(element, numbers\u001b[39m.\u001b[39mNumber))\n",
      "\u001b[0;31mKeyboardInterrupt\u001b[0m: "
     ]
    }
   ],
   "source": [
    "import importlib\n",
    "import imageio.v2 as imageio\n",
    "from patient import patient\n",
    "import glob\n",
    "\n",
    "# https://dataverse.harvard.edu/dataset.xhtml?persistentId=doi:10.7910/DVN/6ACUZJ\n",
    "\n",
    "from tqdm.notebook import tqdm\n",
    "for vol_path in tqdm(glob.glob(\"./data/*\")):\n",
    "    if \"__\" in vol_path:\n",
    "        continue\n",
    "    vol = vol_path.split(\"/\")[-1]\n",
    "    # print(vol)\n",
    "    p = patient.patient(name=vol)\n",
    "\n",
    "# imageio.mimsave(f\"pics/drr.gif\", p.drr.img)\n",
    "%slack"
   ]
  },
  {
   "cell_type": "code",
   "execution_count": null,
   "metadata": {},
   "outputs": [
    {
     "data": {
      "application/vnd.jupyter.widget-view+json": {
       "model_id": "85889f3c706d45a283106837ca417172",
       "version_major": 2,
       "version_minor": 0
      },
      "text/plain": [
       "FBP:   0%|          | 0/400 [00:00<?, ?it/s]"
      ]
     },
     "metadata": {},
     "output_type": "display_data"
    },
    {
     "ename": "TypeError",
     "evalue": "patient.generate_fbp() got an unexpected keyword argument 'cont'",
     "output_type": "error",
     "traceback": [
      "\u001b[0;31m---------------------------------------------------------------------------\u001b[0m",
      "\u001b[0;31mTypeError\u001b[0m                                 Traceback (most recent call last)",
      "\u001b[1;32m/home/mfujita/Documents/research/prepare.ipynb Cell 6\u001b[0m in \u001b[0;36m<cell line: 18>\u001b[0;34m()\u001b[0m\n\u001b[1;32m     <a href='vscode-notebook-cell://ssh-remote%2B192.168.193.104/home/mfujita/Documents/research/prepare.ipynb#W5sdnNjb2RlLXJlbW90ZQ%3D%3D?line=14'>15</a>\u001b[0m     p\u001b[39m.\u001b[39mdrr\u001b[39m.\u001b[39mimg[idx] \u001b[39m=\u001b[39m new_img\u001b[39m.\u001b[39mastype(\u001b[39m\"\u001b[39m\u001b[39muint8\u001b[39m\u001b[39m\"\u001b[39m)\n\u001b[1;32m     <a href='vscode-notebook-cell://ssh-remote%2B192.168.193.104/home/mfujita/Documents/research/prepare.ipynb#W5sdnNjb2RlLXJlbW90ZQ%3D%3D?line=15'>16</a>\u001b[0m     \u001b[39m# print(cp.max(cp.ravel(p.drr.img[idx])), cp.min(cp.ravel(p.drr.img[idx])))\u001b[39;00m\n\u001b[0;32m---> <a href='vscode-notebook-cell://ssh-remote%2B192.168.193.104/home/mfujita/Documents/research/prepare.ipynb#W5sdnNjb2RlLXJlbW90ZQ%3D%3D?line=17'>18</a>\u001b[0m p\u001b[39m.\u001b[39;49mgenerate_fbp(load_all\u001b[39m=\u001b[39;49m\u001b[39mFalse\u001b[39;49;00m, cont\u001b[39m=\u001b[39;49m\u001b[39mFalse\u001b[39;49;00m)\n\u001b[1;32m     <a href='vscode-notebook-cell://ssh-remote%2B192.168.193.104/home/mfujita/Documents/research/prepare.ipynb#W5sdnNjb2RlLXJlbW90ZQ%3D%3D?line=19'>20</a>\u001b[0m imgs \u001b[39m=\u001b[39m [cp\u001b[39m.\u001b[39masnumpy(img) \u001b[39mfor\u001b[39;00m img \u001b[39min\u001b[39;00m p\u001b[39m.\u001b[39mdrr\u001b[39m.\u001b[39mimg]\n\u001b[1;32m     <a href='vscode-notebook-cell://ssh-remote%2B192.168.193.104/home/mfujita/Documents/research/prepare.ipynb#W5sdnNjb2RlLXJlbW90ZQ%3D%3D?line=20'>21</a>\u001b[0m imageio\u001b[39m.\u001b[39mmimsave(\u001b[39m\"\u001b[39m\u001b[39mdrr.gif\u001b[39m\u001b[39m\"\u001b[39m, imgs)\n",
      "\u001b[0;31mTypeError\u001b[0m: patient.generate_fbp() got an unexpected keyword argument 'cont'"
     ]
    }
   ],
   "source": [
    "import imageio.v2 as imageio\n",
    "import cupy as cp\n",
    "from patient import patient\n",
    "\n",
    "p = patient.patient(name=\"4410088\")\n",
    "\n",
    "# p.generate_drr(cont=False)\n",
    "\n",
    "# p.generate_drr(cont=False)\n",
    "# p.generate_posdrr(cont=False)\n",
    "\n",
    "for idx, img in enumerate(p.drr.img):\n",
    "    new_img = img\n",
    "    new_img[new_img > 255] = 255\n",
    "    p.drr.img[idx] = new_img.astype(\"uint8\")\n",
    "    # print(cp.max(cp.ravel(p.drr.img[idx])), cp.min(cp.ravel(p.drr.img[idx])))\n",
    "\n",
    "p.generate_fbp(load_all=False)\n",
    "\n",
    "imgs = [cp.asnumpy(img) for img in p.drr.img]\n",
    "imageio.mimsave(\"drr.gif\", imgs)\n",
    "\n",
    "imgs = [cp.asnumpy(img) for img in p.posdrr.img]\n",
    "imageio.mimsave(\"posdrr.gif\", imgs)"
   ]
  },
  {
   "cell_type": "code",
   "execution_count": null,
   "metadata": {},
   "outputs": [],
   "source": [
    "a = 200\n",
    "imageio.imsave(\"test3.png\", cp.asnumpy(p.get_equiv_fbp(a)))\n",
    "imageio.imsave(\"test4.png\", cp.asnumpy(p.ct.img[a]))\n",
    "%slack"
   ]
  },
  {
   "cell_type": "code",
   "execution_count": null,
   "metadata": {},
   "outputs": [],
   "source": [
    "import glob, os, datetime\n",
    "\n",
    "for vol in glob.glob(\"./data/*\"):\n",
    "    for file in glob.glob(vol + \"/*\"):\n",
    "        if \".pickle\" in file:\n",
    "            os.remove(file)\n",
    "            # print(file)"
   ]
  },
  {
   "attachments": {},
   "cell_type": "markdown",
   "metadata": {},
   "source": [
    "## Pix2Pix Prepare"
   ]
  },
  {
   "cell_type": "code",
   "execution_count": 6,
   "metadata": {
    "notebookRunGroups": {
     "groupValue": "2"
    }
   },
   "outputs": [
    {
     "data": {
      "application/vnd.jupyter.widget-view+json": {
       "model_id": "d3b7c2ed255d4811b059c1fe335c634d",
       "version_major": 2,
       "version_minor": 0
      },
      "text/plain": [
       "  0%|          | 0/62 [00:00<?, ?it/s]"
      ]
     },
     "metadata": {},
     "output_type": "display_data"
    },
    {
     "name": "stdout",
     "output_type": "stream",
     "text": [
      "4410826\n",
      "4409575\n",
      "4411396\n",
      "4410400\n",
      "4410837\n"
     ]
    },
    {
     "data": {
      "application/vnd.jupyter.widget-view+json": {
       "model_id": "453fe19ec67f4a9facb2466754d7ea87",
       "version_major": 2,
       "version_minor": 0
      },
      "text/plain": [
       "4410837:   0%|          | 0/90 [00:00<?, ?it/s]"
      ]
     },
     "metadata": {},
     "output_type": "display_data"
    },
    {
     "name": "stdout",
     "output_type": "stream",
     "text": [
      "4411395\n",
      "4411430\n"
     ]
    },
    {
     "data": {
      "application/vnd.jupyter.widget-view+json": {
       "model_id": "c80c336fb2744d51ae333862a9407c45",
       "version_major": 2,
       "version_minor": 0
      },
      "text/plain": [
       "4411430:   0%|          | 0/90 [00:00<?, ?it/s]"
      ]
     },
     "metadata": {},
     "output_type": "display_data"
    },
    {
     "name": "stdout",
     "output_type": "stream",
     "text": [
      "4411414\n",
      "4411433\n",
      "4404367\n"
     ]
    },
    {
     "data": {
      "application/vnd.jupyter.widget-view+json": {
       "model_id": "a6549b4cb3114460b1baac5425d433c2",
       "version_major": 2,
       "version_minor": 0
      },
      "text/plain": [
       "4404367:   0%|          | 0/90 [00:00<?, ?it/s]"
      ]
     },
     "metadata": {},
     "output_type": "display_data"
    },
    {
     "name": "stdout",
     "output_type": "stream",
     "text": [
      "4411429\n",
      "4411796\n",
      "4410857\n",
      "4411427\n",
      "4411562\n",
      "4267535\n",
      "4410836\n",
      "4410824\n"
     ]
    },
    {
     "data": {
      "application/vnd.jupyter.widget-view+json": {
       "model_id": "e59706d1dc684c1b9bfb749004ec6395",
       "version_major": 2,
       "version_minor": 0
      },
      "text/plain": [
       "4410824:   0%|          | 0/90 [00:00<?, ?it/s]"
      ]
     },
     "metadata": {},
     "output_type": "display_data"
    },
    {
     "name": "stdout",
     "output_type": "stream",
     "text": [
      "4409573\n",
      "4411397\n",
      "4411408\n",
      "4410831\n",
      "4410088\n",
      "4410827\n",
      "4410402\n",
      "4410832\n",
      "4411797\n",
      "4411407\n",
      "4411402\n",
      "4404146\n",
      "4410839\n",
      "4411564\n",
      "4411428\n",
      "4411405\n"
     ]
    },
    {
     "data": {
      "application/vnd.jupyter.widget-view+json": {
       "model_id": "c750a57f012547f8bd586e3b7ba1c1c3",
       "version_major": 2,
       "version_minor": 0
      },
      "text/plain": [
       "4411405:   0%|          | 0/90 [00:00<?, ?it/s]"
      ]
     },
     "metadata": {},
     "output_type": "display_data"
    },
    {
     "name": "stdout",
     "output_type": "stream",
     "text": [
      "4404147\n",
      "4410835\n",
      "4410401\n",
      "4410829\n",
      "4411475\n",
      "4411566\n",
      "4267523\n",
      "4411398\n",
      "4404449\n",
      "4411557\n",
      "4411426\n"
     ]
    },
    {
     "data": {
      "application/vnd.jupyter.widget-view+json": {
       "model_id": "2138cdf54da447c3a25c390f0fcfe05c",
       "version_major": 2,
       "version_minor": 0
      },
      "text/plain": [
       "4411426:   0%|          | 0/90 [00:00<?, ?it/s]"
      ]
     },
     "metadata": {},
     "output_type": "display_data"
    },
    {
     "name": "stdout",
     "output_type": "stream",
     "text": [
      "4404151\n",
      "4411419\n",
      "4409574\n",
      "4404366\n",
      "4410834\n",
      "4411420\n",
      "4411416\n",
      "4404150\n",
      "4411561\n",
      "4410830\n",
      "4411471\n",
      "4411469\n",
      "4411482\n"
     ]
    },
    {
     "data": {
      "application/vnd.jupyter.widget-view+json": {
       "model_id": "0d846a93a4524555a708678c8ecc678d",
       "version_major": 2,
       "version_minor": 0
      },
      "text/plain": [
       "4411482:   0%|          | 0/90 [00:00<?, ?it/s]"
      ]
     },
     "metadata": {},
     "output_type": "display_data"
    },
    {
     "name": "stdout",
     "output_type": "stream",
     "text": [
      "4410840\n",
      "4404148\n"
     ]
    },
    {
     "data": {
      "application/vnd.jupyter.widget-view+json": {
       "model_id": "2c3ba4410bc642939c85d5eaaa886cce",
       "version_major": 2,
       "version_minor": 0
      },
      "text/plain": [
       "4404148:   0%|          | 0/90 [00:00<?, ?it/s]"
      ]
     },
     "metadata": {},
     "output_type": "display_data"
    },
    {
     "name": "stdout",
     "output_type": "stream",
     "text": [
      "4410856\n",
      "4411558\n"
     ]
    },
    {
     "data": {
      "application/vnd.jupyter.widget-view+json": {
       "model_id": "88465e6f4909470d8ce7b8a494acde62",
       "version_major": 2,
       "version_minor": 0
      },
      "text/plain": [
       "  0%|          | 0/17 [00:00<?, ?it/s]"
      ]
     },
     "metadata": {},
     "output_type": "display_data"
    },
    {
     "name": "stdout",
     "output_type": "stream",
     "text": [
      "4411424\n",
      "4411794\n"
     ]
    },
    {
     "data": {
      "application/vnd.jupyter.widget-view+json": {
       "model_id": "6818b581b56f42c58fcee952ee4dc005",
       "version_major": 2,
       "version_minor": 0
      },
      "text/plain": [
       "4411794:   0%|          | 0/90 [00:00<?, ?it/s]"
      ]
     },
     "metadata": {},
     "output_type": "display_data"
    },
    {
     "name": "stdout",
     "output_type": "stream",
     "text": [
      "4410838\n"
     ]
    },
    {
     "data": {
      "application/vnd.jupyter.widget-view+json": {
       "model_id": "70a56ba664684685b21d0e3abffe8a42",
       "version_major": 2,
       "version_minor": 0
      },
      "text/plain": [
       "4410838:   0%|          | 0/90 [00:00<?, ?it/s]"
      ]
     },
     "metadata": {},
     "output_type": "display_data"
    },
    {
     "name": "stdout",
     "output_type": "stream",
     "text": [
      "4411401\n"
     ]
    },
    {
     "data": {
      "application/vnd.jupyter.widget-view+json": {
       "model_id": "7db9fa5a03cf4ff58c23acc8cc7425b1",
       "version_major": 2,
       "version_minor": 0
      },
      "text/plain": [
       "4411401:   0%|          | 0/90 [00:00<?, ?it/s]"
      ]
     },
     "metadata": {},
     "output_type": "display_data"
    },
    {
     "name": "stdout",
     "output_type": "stream",
     "text": [
      "4411565\n"
     ]
    },
    {
     "data": {
      "application/vnd.jupyter.widget-view+json": {
       "model_id": "48ac1d45760041b2933ac75d905f533e",
       "version_major": 2,
       "version_minor": 0
      },
      "text/plain": [
       "4411565:   0%|          | 0/90 [00:00<?, ?it/s]"
      ]
     },
     "metadata": {},
     "output_type": "display_data"
    },
    {
     "name": "stdout",
     "output_type": "stream",
     "text": [
      "4411403\n"
     ]
    },
    {
     "data": {
      "application/vnd.jupyter.widget-view+json": {
       "model_id": "2bed3b20044e4ce5a281e29ca030b84c",
       "version_major": 2,
       "version_minor": 0
      },
      "text/plain": [
       "4411403:   0%|          | 0/90 [00:00<?, ?it/s]"
      ]
     },
     "metadata": {},
     "output_type": "display_data"
    },
    {
     "name": "stdout",
     "output_type": "stream",
     "text": [
      "4411406\n"
     ]
    },
    {
     "data": {
      "application/vnd.jupyter.widget-view+json": {
       "model_id": "247ec9e6b3ae488390e1745823717b92",
       "version_major": 2,
       "version_minor": 0
      },
      "text/plain": [
       "4411406:   0%|          | 0/90 [00:00<?, ?it/s]"
      ]
     },
     "metadata": {},
     "output_type": "display_data"
    },
    {
     "name": "stdout",
     "output_type": "stream",
     "text": [
      "4410833\n"
     ]
    },
    {
     "data": {
      "application/vnd.jupyter.widget-view+json": {
       "model_id": "38287e6f374e4e61864719f768a2a024",
       "version_major": 2,
       "version_minor": 0
      },
      "text/plain": [
       "4410833:   0%|          | 0/90 [00:00<?, ?it/s]"
      ]
     },
     "metadata": {},
     "output_type": "display_data"
    },
    {
     "name": "stdout",
     "output_type": "stream",
     "text": [
      "4411415\n"
     ]
    },
    {
     "data": {
      "application/vnd.jupyter.widget-view+json": {
       "model_id": "b89a922344434b0e8ae807beb9b8c30c",
       "version_major": 2,
       "version_minor": 0
      },
      "text/plain": [
       "4411415:   0%|          | 0/90 [00:00<?, ?it/s]"
      ]
     },
     "metadata": {},
     "output_type": "display_data"
    },
    {
     "name": "stdout",
     "output_type": "stream",
     "text": [
      "4410886\n"
     ]
    },
    {
     "data": {
      "application/vnd.jupyter.widget-view+json": {
       "model_id": "817c9681248445fb8a3a993953b04197",
       "version_major": 2,
       "version_minor": 0
      },
      "text/plain": [
       "4410886:   0%|          | 0/90 [00:00<?, ?it/s]"
      ]
     },
     "metadata": {},
     "output_type": "display_data"
    },
    {
     "name": "stdout",
     "output_type": "stream",
     "text": [
      "4411560\n"
     ]
    },
    {
     "data": {
      "application/vnd.jupyter.widget-view+json": {
       "model_id": "d63ed2cadcf94c89a3b9d4e5c845d3f4",
       "version_major": 2,
       "version_minor": 0
      },
      "text/plain": [
       "4411560:   0%|          | 0/90 [00:00<?, ?it/s]"
      ]
     },
     "metadata": {},
     "output_type": "display_data"
    },
    {
     "name": "stdout",
     "output_type": "stream",
     "text": [
      "4411404\n"
     ]
    },
    {
     "data": {
      "application/vnd.jupyter.widget-view+json": {
       "model_id": "237fd1f4e0ca44fdb415f6ef4fc026dc",
       "version_major": 2,
       "version_minor": 0
      },
      "text/plain": [
       "4411404:   0%|          | 0/90 [00:00<?, ?it/s]"
      ]
     },
     "metadata": {},
     "output_type": "display_data"
    },
    {
     "name": "stdout",
     "output_type": "stream",
     "text": [
      "4411432\n"
     ]
    },
    {
     "data": {
      "application/vnd.jupyter.widget-view+json": {
       "model_id": "ffc295200e2e4f4da0a6d579e40df9ad",
       "version_major": 2,
       "version_minor": 0
      },
      "text/plain": [
       "4411432:   0%|          | 0/90 [00:00<?, ?it/s]"
      ]
     },
     "metadata": {},
     "output_type": "display_data"
    },
    {
     "name": "stdout",
     "output_type": "stream",
     "text": [
      "4410859\n",
      "4411563\n"
     ]
    },
    {
     "data": {
      "application/vnd.jupyter.widget-view+json": {
       "model_id": "1fb16eb2f62c48b8924bd7374a22c958",
       "version_major": 2,
       "version_minor": 0
      },
      "text/plain": [
       "4411563:   0%|          | 0/90 [00:00<?, ?it/s]"
      ]
     },
     "metadata": {},
     "output_type": "display_data"
    },
    {
     "data": {
      "application/vnd.jupyter.widget-view+json": {
       "model_id": "9c5137681f394c3597dbda69ce854bb6",
       "version_major": 2,
       "version_minor": 0
      },
      "text/plain": [
       "  0%|          | 0/10 [00:00<?, ?it/s]"
      ]
     },
     "metadata": {},
     "output_type": "display_data"
    },
    {
     "name": "stdout",
     "output_type": "stream",
     "text": [
      "4411425\n"
     ]
    },
    {
     "data": {
      "application/vnd.jupyter.widget-view+json": {
       "model_id": "f16d9305db2e4ec8a0ded72d56ea1907",
       "version_major": 2,
       "version_minor": 0
      },
      "text/plain": [
       "4411425:   0%|          | 0/90 [00:00<?, ?it/s]"
      ]
     },
     "metadata": {},
     "output_type": "display_data"
    },
    {
     "name": "stdout",
     "output_type": "stream",
     "text": [
      "4410828\n"
     ]
    },
    {
     "data": {
      "application/vnd.jupyter.widget-view+json": {
       "model_id": "f6db0831835e43dca7e7a33885ae07f9",
       "version_major": 2,
       "version_minor": 0
      },
      "text/plain": [
       "4410828:   0%|          | 0/90 [00:00<?, ?it/s]"
      ]
     },
     "metadata": {},
     "output_type": "display_data"
    },
    {
     "name": "stdout",
     "output_type": "stream",
     "text": [
      "4411559\n"
     ]
    },
    {
     "data": {
      "application/vnd.jupyter.widget-view+json": {
       "model_id": "47876be5c4954a19a94d84bab24aafed",
       "version_major": 2,
       "version_minor": 0
      },
      "text/plain": [
       "4411559:   0%|          | 0/90 [00:00<?, ?it/s]"
      ]
     },
     "metadata": {},
     "output_type": "display_data"
    },
    {
     "name": "stdout",
     "output_type": "stream",
     "text": [
      "4411417\n"
     ]
    },
    {
     "data": {
      "application/vnd.jupyter.widget-view+json": {
       "model_id": "2d2b2baddc3c4419a6c45cab3586772f",
       "version_major": 2,
       "version_minor": 0
      },
      "text/plain": [
       "4411417:   0%|          | 0/90 [00:00<?, ?it/s]"
      ]
     },
     "metadata": {},
     "output_type": "display_data"
    },
    {
     "name": "stdout",
     "output_type": "stream",
     "text": [
      "4411423\n"
     ]
    },
    {
     "data": {
      "application/vnd.jupyter.widget-view+json": {
       "model_id": "80c3957f3d934a0588fa9bc9248be5b2",
       "version_major": 2,
       "version_minor": 0
      },
      "text/plain": [
       "4411423:   0%|          | 0/90 [00:00<?, ?it/s]"
      ]
     },
     "metadata": {},
     "output_type": "display_data"
    },
    {
     "name": "stdout",
     "output_type": "stream",
     "text": [
      "4411476\n"
     ]
    },
    {
     "data": {
      "application/vnd.jupyter.widget-view+json": {
       "model_id": "0b4edbe2ba204efdb3b1944f6f3f570b",
       "version_major": 2,
       "version_minor": 0
      },
      "text/plain": [
       "4411476:   0%|          | 0/90 [00:00<?, ?it/s]"
      ]
     },
     "metadata": {},
     "output_type": "display_data"
    },
    {
     "name": "stdout",
     "output_type": "stream",
     "text": [
      "4410086\n"
     ]
    },
    {
     "data": {
      "application/vnd.jupyter.widget-view+json": {
       "model_id": "3cd1355c950a4f27bcc7b2aeeb8eee56",
       "version_major": 2,
       "version_minor": 0
      },
      "text/plain": [
       "4410086:   0%|          | 0/90 [00:00<?, ?it/s]"
      ]
     },
     "metadata": {},
     "output_type": "display_data"
    },
    {
     "name": "stdout",
     "output_type": "stream",
     "text": [
      "4410087\n"
     ]
    },
    {
     "data": {
      "application/vnd.jupyter.widget-view+json": {
       "model_id": "f91f306998b344739ca3d034bc60403d",
       "version_major": 2,
       "version_minor": 0
      },
      "text/plain": [
       "4410087:   0%|          | 0/90 [00:00<?, ?it/s]"
      ]
     },
     "metadata": {},
     "output_type": "display_data"
    },
    {
     "name": "stdout",
     "output_type": "stream",
     "text": [
      "4410858\n"
     ]
    },
    {
     "data": {
      "application/vnd.jupyter.widget-view+json": {
       "model_id": "67b49c85418f419ead201b67a8046217",
       "version_major": 2,
       "version_minor": 0
      },
      "text/plain": [
       "4410858:   0%|          | 0/90 [00:00<?, ?it/s]"
      ]
     },
     "metadata": {},
     "output_type": "display_data"
    },
    {
     "name": "stdout",
     "output_type": "stream",
     "text": [
      "4404145\n"
     ]
    },
    {
     "data": {
      "application/vnd.jupyter.widget-view+json": {
       "model_id": "ffcf34c73c8b4bc99402d0ec6cdcdbc8",
       "version_major": 2,
       "version_minor": 0
      },
      "text/plain": [
       "4404145:   0%|          | 0/90 [00:00<?, ?it/s]"
      ]
     },
     "metadata": {},
     "output_type": "display_data"
    }
   ],
   "source": [
    "from pix2pix.datasets import combine_ct_and_fbp\n",
    "combine_ct_and_fbp.prep(\"./pix2pix/datasets/ctfbp\")\n",
    "%slack\n"
   ]
  },
  {
   "cell_type": "code",
   "execution_count": null,
   "metadata": {},
   "outputs": [],
   "source": []
  }
 ],
 "metadata": {
  "kernelspec": {
   "display_name": "res",
   "language": "python",
   "name": "python3"
  },
  "language_info": {
   "codemirror_mode": {
    "name": "ipython",
    "version": 3
   },
   "file_extension": ".py",
   "mimetype": "text/x-python",
   "name": "python",
   "nbconvert_exporter": "python",
   "pygments_lexer": "ipython3",
   "version": "3.10.8 (main, Nov 24 2022, 14:13:03) [GCC 11.2.0]"
  },
  "orig_nbformat": 4,
  "vscode": {
   "interpreter": {
    "hash": "da9ac5d7c4e967160d4eddc6864285750b07d26b36aae015b5a1a36de670b7f6"
   }
  }
 },
 "nbformat": 4,
 "nbformat_minor": 2
}
