{
 "cells": [
  {
   "attachments": {},
   "cell_type": "markdown",
   "metadata": {},
   "source": [
    "## Download"
   ]
  },
  {
   "cell_type": "code",
   "execution_count": null,
   "metadata": {},
   "outputs": [],
   "source": [
    "import requests\n",
    "import pathlib\n",
    "import patoolib\n",
    "import glob\n",
    "import os\n",
    "\n",
    "def download_file(url, dir, name):\n",
    "    local_filename = dir / name\n",
    "    with requests.get(url, stream=True) as r:\n",
    "        r.raise_for_status()\n",
    "        with open(local_filename, 'wb') as f:\n",
    "            for chunk in r.iter_content(chunk_size=8192): \n",
    "                # If you have chunk encoded response uncomment if\n",
    "                # and set chunk_size parameter to None.\n",
    "                #if chunk: \n",
    "                f.write(chunk)\n",
    "    return local_filename"
   ]
  },
  {
   "cell_type": "code",
   "execution_count": null,
   "metadata": {},
   "outputs": [],
   "source": [
    "from tqdm.notebook import tqdm\n",
    "\n",
    "# 10 - 30\n",
    "ids = [\n",
    "    \"4411471\", \"4411469\", \"4411475\", \"4411476\", \"4411482\", \"4411558\", \"4411559\", \"4411557\", \"4411796\", \"4411560\", \"4411563\", \"4411562\", \"4411561\", \"4411564\", \"4411565\", \"4411566\", \"4411794\", \"4411797\", \"4411407\", \"4411407\", \"4411408\", \"4411406\", \"4411405\", \"4411417\", \"4411414\", \"4411415\", \"4411416\", \"4411420\", \"4411419\", \"4267523\", \"4410886\", \"4411396\", \"4411397\", \"4411398\", \"4411395\", \"4411402\", \"4411401\", \"4411403\", \"4411404\", \"4411426\", \"4411425\", \"4411424\", \"4411423\", \"4411428\", \"4411430\", \"4411427\", \"4411429\", \"4411433\", \"4411432\", \"4410826\", \"4410824\", \"4410825\", \"4410829\", \"4410828\", \"4410827\", \"4410832\", \"4410830\", \"4410833\", \"4410831\", \"4410836\", \"4410837\", \"4410835\", \"4410834\", \"4410838\", \"4410840\", \"4410859\", \"4410856\", \"4410857\", \"4410858\", \"4267535\", \"4409574\", \"4409575\", \"4409573\", \"4410087\", \"4410088\", \"4410086\", \"4410401\", \"4410402\", \"4410400\", \"4410839\", \"4404145\", \"4404449\", \"4404146\", \"4404150\", \"4404148\", \"4404151\", \"4404149\", \"4404366\", \"4404147\", \"4404367\"\n",
    "]\n",
    "\n",
    "for id in tqdm(ids):\n",
    "    url = f\"https://dataverse.harvard.edu/api/access/datafile/{id}\"\n",
    "    name = url.split(\"/\")[-1]\n",
    "    path = \"./data/\" + name\n",
    "    if os.path.exists(path):\n",
    "        continue\n",
    "    print(f\"downloading {name}\")\n",
    "    download_file(url=url, dir=pathlib.Path(\"./downloaded\"),\n",
    "                  name=name + \".rar\")\n",
    "    print(f\"extracting {name}\")\n",
    "    if not os.path.exists(path):\n",
    "        os.mkdir(path)\n",
    "    patoolib.extract_archive(pathlib.Path(\"./downloaded\") \n",
    "                             / (name + \".rar\"),\n",
    "                             outdir=\"./data/\" + name)\n",
    "    os.rename(glob.glob(\"./data/\" + name + \"/*\")[0], \"./data/\" + name + \"/ct\")\n",
    "%slack"
   ]
  },
  {
   "attachments": {},
   "cell_type": "markdown",
   "metadata": {},
   "source": [
    "## DRR, FBP, Resize"
   ]
  },
  {
   "cell_type": "code",
   "execution_count": null,
   "metadata": {},
   "outputs": [],
   "source": [
    "import importlib\n",
    "import imageio.v2 as imageio\n",
    "from patient import patient\n",
    "import glob\n",
    "\n",
    "# https://dataverse.harvard.edu/dataset.xhtml?persistentId=doi:10.7910/DVN/6ACUZJ\n",
    "\n",
    "from tqdm.notebook import tqdm\n",
    "for vol_path in tqdm(glob.glob(\"./data/*\")):\n",
    "    if \"__\" in vol_path:\n",
    "        continue\n",
    "    vol = vol_path.split(\"/\")[-1]\n",
    "    print(vol)\n",
    "    # print(vol)\n",
    "    p = patient.patient(name=vol)\n",
    "\n",
    "# imageio.mimsave(f\"pics/drr.gif\", p.drr.img)\n",
    "%slack"
   ]
  },
  {
   "cell_type": "code",
   "execution_count": 6,
   "metadata": {},
   "outputs": [
    {
     "name": "stderr",
     "output_type": "stream",
     "text": [
      "Lossy conversion from float64 to uint8. Range [0.9256279360409374, 1.0758239853479263]. Convert image to uint8 prior to saving to suppress this warning.\n",
      "Lossy conversion from float64 to uint8. Range [0.8930306008295164, 1.125]. Convert image to uint8 prior to saving to suppress this warning.\n",
      "Lossy conversion from float64 to uint8. Range [0.821328252189889, 1.149846393370907]. Convert image to uint8 prior to saving to suppress this warning.\n",
      "Lossy conversion from int16 to uint8. Range [27, 215]. Convert image to uint8 prior to saving to suppress this warning.\n"
     ]
    }
   ],
   "source": [
    "import imageio.v2 as imageio\n",
    "import cupy as cp\n",
    "from patient import patient\n",
    "\n",
    "p = patient.patient(name=\"4411433\")\n",
    "\n",
    "imgs = [cp.asnumpy(img) for img in p.drr.img]\n",
    "imageio.mimsave(\"drr.gif\", imgs)\n",
    "\n",
    "imgs = [cp.asnumpy(img) for img in p.posdrr.img]\n",
    "imageio.mimsave(\"posdrr.gif\", imgs)\n",
    "\n",
    "a = 200\n",
    "imageio.imsave(\"test3.png\", cp.asnumpy(p.get_equiv_fbp(a)))\n",
    "imageio.imsave(\"test4.png\", cp.asnumpy(p.ct.img[a]))"
   ]
  },
  {
   "attachments": {},
   "cell_type": "markdown",
   "metadata": {},
   "source": [
    "## Pix2Pix Prepare"
   ]
  },
  {
   "cell_type": "code",
   "execution_count": 2,
   "metadata": {},
   "outputs": [
    {
     "data": {
      "application/vnd.jupyter.widget-view+json": {
       "model_id": "9f8a6ceb7f8e4a0d8f7e8143820d0c31",
       "version_major": 2,
       "version_minor": 0
      },
      "text/plain": [
       "  0%|          | 0/74 [00:00<?, ?it/s]"
      ]
     },
     "metadata": {},
     "output_type": "display_data"
    },
    {
     "data": {
      "application/vnd.jupyter.widget-view+json": {
       "model_id": "119d0dd24b9346f9907f45b104014eaf",
       "version_major": 2,
       "version_minor": 0
      },
      "text/plain": [
       "4411395:   0%|          | 0/90 [00:00<?, ?it/s]"
      ]
     },
     "metadata": {},
     "output_type": "display_data"
    },
    {
     "data": {
      "application/vnd.jupyter.widget-view+json": {
       "model_id": "5374a53445c4472e91ad7f2296ca71ee",
       "version_major": 2,
       "version_minor": 0
      },
      "text/plain": [
       "4411402:   0%|          | 0/90 [00:00<?, ?it/s]"
      ]
     },
     "metadata": {},
     "output_type": "display_data"
    },
    {
     "data": {
      "application/vnd.jupyter.widget-view+json": {
       "model_id": "7073d3ed4d6847d0a17385492cb764c6",
       "version_major": 2,
       "version_minor": 0
      },
      "text/plain": [
       "4411561:   0%|          | 0/90 [00:00<?, ?it/s]"
      ]
     },
     "metadata": {},
     "output_type": "display_data"
    },
    {
     "data": {
      "application/vnd.jupyter.widget-view+json": {
       "model_id": "f2709b85d959474caf284384860976f2",
       "version_major": 2,
       "version_minor": 0
      },
      "text/plain": [
       "4410824:   0%|          | 0/90 [00:00<?, ?it/s]"
      ]
     },
     "metadata": {},
     "output_type": "display_data"
    },
    {
     "data": {
      "application/vnd.jupyter.widget-view+json": {
       "model_id": "05e909bcb7294a78b8d18281678844c0",
       "version_major": 2,
       "version_minor": 0
      },
      "text/plain": [
       "4409575:   0%|          | 0/90 [00:00<?, ?it/s]"
      ]
     },
     "metadata": {},
     "output_type": "display_data"
    },
    {
     "data": {
      "application/vnd.jupyter.widget-view+json": {
       "model_id": "40a66abc1b574e149bd773596df66680",
       "version_major": 2,
       "version_minor": 0
      },
      "text/plain": [
       "4411429:   0%|          | 0/90 [00:00<?, ?it/s]"
      ]
     },
     "metadata": {},
     "output_type": "display_data"
    },
    {
     "data": {
      "application/vnd.jupyter.widget-view+json": {
       "model_id": "8a900e11b02843258666d5d22db8998d",
       "version_major": 2,
       "version_minor": 0
      },
      "text/plain": [
       "sample1007:   0%|          | 0/90 [00:00<?, ?it/s]"
      ]
     },
     "metadata": {},
     "output_type": "display_data"
    },
    {
     "data": {
      "application/vnd.jupyter.widget-view+json": {
       "model_id": "369a29faa3944b79b01492ddcf67d722",
       "version_major": 2,
       "version_minor": 0
      },
      "text/plain": [
       "4410835:   0%|          | 0/90 [00:00<?, ?it/s]"
      ]
     },
     "metadata": {},
     "output_type": "display_data"
    },
    {
     "data": {
      "application/vnd.jupyter.widget-view+json": {
       "model_id": "6fdcddc7cfe44545b01d17246c788335",
       "version_major": 2,
       "version_minor": 0
      },
      "text/plain": [
       "4411403:   0%|          | 0/90 [00:00<?, ?it/s]"
      ]
     },
     "metadata": {},
     "output_type": "display_data"
    },
    {
     "data": {
      "application/vnd.jupyter.widget-view+json": {
       "model_id": "a6fe8d0f07ac4988b0e3f58d9541a008",
       "version_major": 2,
       "version_minor": 0
      },
      "text/plain": [
       "4410857:   0%|          | 0/90 [00:00<?, ?it/s]"
      ]
     },
     "metadata": {},
     "output_type": "display_data"
    },
    {
     "data": {
      "application/vnd.jupyter.widget-view+json": {
       "model_id": "117c34d34e394b24a74bc0acfdb56643",
       "version_major": 2,
       "version_minor": 0
      },
      "text/plain": [
       "4411419:   0%|          | 0/90 [00:00<?, ?it/s]"
      ]
     },
     "metadata": {},
     "output_type": "display_data"
    },
    {
     "data": {
      "application/vnd.jupyter.widget-view+json": {
       "model_id": "be721d93326941bdbb77ffdc75916877",
       "version_major": 2,
       "version_minor": 0
      },
      "text/plain": [
       "4404145:   0%|          | 0/90 [00:00<?, ?it/s]"
      ]
     },
     "metadata": {},
     "output_type": "display_data"
    },
    {
     "data": {
      "application/vnd.jupyter.widget-view+json": {
       "model_id": "42f90f32e4194af7af83882f35a16a3b",
       "version_major": 2,
       "version_minor": 0
      },
      "text/plain": [
       "4411559:   0%|          | 0/90 [00:00<?, ?it/s]"
      ]
     },
     "metadata": {},
     "output_type": "display_data"
    },
    {
     "data": {
      "application/vnd.jupyter.widget-view+json": {
       "model_id": "ca5b256681434683a50b5d25f9e281ba",
       "version_major": 2,
       "version_minor": 0
      },
      "text/plain": [
       "4404449:   0%|          | 0/90 [00:00<?, ?it/s]"
      ]
     },
     "metadata": {},
     "output_type": "display_data"
    },
    {
     "data": {
      "application/vnd.jupyter.widget-view+json": {
       "model_id": "f88e77db9009444290d7dd7dd8293d4a",
       "version_major": 2,
       "version_minor": 0
      },
      "text/plain": [
       "4410886:   0%|          | 0/90 [00:00<?, ?it/s]"
      ]
     },
     "metadata": {},
     "output_type": "display_data"
    },
    {
     "data": {
      "application/vnd.jupyter.widget-view+json": {
       "model_id": "909626ccd0564eff8a60045ca2b7f577",
       "version_major": 2,
       "version_minor": 0
      },
      "text/plain": [
       "sample1006:   0%|          | 0/90 [00:00<?, ?it/s]"
      ]
     },
     "metadata": {},
     "output_type": "display_data"
    },
    {
     "data": {
      "application/vnd.jupyter.widget-view+json": {
       "model_id": "cc41c3100f69461888369dd7d4dcb704",
       "version_major": 2,
       "version_minor": 0
      },
      "text/plain": [
       "4411565:   0%|          | 0/90 [00:00<?, ?it/s]"
      ]
     },
     "metadata": {},
     "output_type": "display_data"
    },
    {
     "data": {
      "application/vnd.jupyter.widget-view+json": {
       "model_id": "7025bf4159e84ff5a704c2f2328710f9",
       "version_major": 2,
       "version_minor": 0
      },
      "text/plain": [
       "sample100:   0%|          | 0/90 [00:00<?, ?it/s]"
      ]
     },
     "metadata": {},
     "output_type": "display_data"
    },
    {
     "data": {
      "application/vnd.jupyter.widget-view+json": {
       "model_id": "6059d3309a1d4e3a8139402a7eb18581",
       "version_major": 2,
       "version_minor": 0
      },
      "text/plain": [
       "4404151:   0%|          | 0/90 [00:00<?, ?it/s]"
      ]
     },
     "metadata": {},
     "output_type": "display_data"
    },
    {
     "data": {
      "application/vnd.jupyter.widget-view+json": {
       "model_id": "b0c8a62aeb9741c099b1928556dbf054",
       "version_major": 2,
       "version_minor": 0
      },
      "text/plain": [
       "4410401:   0%|          | 0/90 [00:00<?, ?it/s]"
      ]
     },
     "metadata": {},
     "output_type": "display_data"
    },
    {
     "data": {
      "application/vnd.jupyter.widget-view+json": {
       "model_id": "6124d73fd9764256b2356a50bffa0a02",
       "version_major": 2,
       "version_minor": 0
      },
      "text/plain": [
       "4404147:   0%|          | 0/90 [00:00<?, ?it/s]"
      ]
     },
     "metadata": {},
     "output_type": "display_data"
    },
    {
     "data": {
      "application/vnd.jupyter.widget-view+json": {
       "model_id": "161820815fcd414fb13546c1565b3b0c",
       "version_major": 2,
       "version_minor": 0
      },
      "text/plain": [
       "4410837:   0%|          | 0/90 [00:00<?, ?it/s]"
      ]
     },
     "metadata": {},
     "output_type": "display_data"
    },
    {
     "data": {
      "application/vnd.jupyter.widget-view+json": {
       "model_id": "8cd7b9e0b30342b6a60a357abb6480b7",
       "version_major": 2,
       "version_minor": 0
      },
      "text/plain": [
       "4410834:   0%|          | 0/90 [00:00<?, ?it/s]"
      ]
     },
     "metadata": {},
     "output_type": "display_data"
    },
    {
     "data": {
      "application/vnd.jupyter.widget-view+json": {
       "model_id": "770c0093848a416db1d7995ba9e3e289",
       "version_major": 2,
       "version_minor": 0
      },
      "text/plain": [
       "sample1003:   0%|          | 0/90 [00:00<?, ?it/s]"
      ]
     },
     "metadata": {},
     "output_type": "display_data"
    },
    {
     "data": {
      "application/vnd.jupyter.widget-view+json": {
       "model_id": "dcb776368d63444facda13563f7a474b",
       "version_major": 2,
       "version_minor": 0
      },
      "text/plain": [
       "4411557:   0%|          | 0/90 [00:00<?, ?it/s]"
      ]
     },
     "metadata": {},
     "output_type": "display_data"
    },
    {
     "data": {
      "application/vnd.jupyter.widget-view+json": {
       "model_id": "c130e2c33650450c80f3f2445a9a8751",
       "version_major": 2,
       "version_minor": 0
      },
      "text/plain": [
       "4411414:   0%|          | 0/90 [00:00<?, ?it/s]"
      ]
     },
     "metadata": {},
     "output_type": "display_data"
    },
    {
     "data": {
      "application/vnd.jupyter.widget-view+json": {
       "model_id": "d985c58c417b4d18b009b74a0710a4f6",
       "version_major": 2,
       "version_minor": 0
      },
      "text/plain": [
       "4410858:   0%|          | 0/90 [00:00<?, ?it/s]"
      ]
     },
     "metadata": {},
     "output_type": "display_data"
    },
    {
     "data": {
      "application/vnd.jupyter.widget-view+json": {
       "model_id": "e1cfe1a46ae0401dbdc4b50b16740fc6",
       "version_major": 2,
       "version_minor": 0
      },
      "text/plain": [
       "4410829:   0%|          | 0/90 [00:00<?, ?it/s]"
      ]
     },
     "metadata": {},
     "output_type": "display_data"
    },
    {
     "data": {
      "application/vnd.jupyter.widget-view+json": {
       "model_id": "41504c00762940b4b60f85c946553777",
       "version_major": 2,
       "version_minor": 0
      },
      "text/plain": [
       "4411425:   0%|          | 0/90 [00:00<?, ?it/s]"
      ]
     },
     "metadata": {},
     "output_type": "display_data"
    },
    {
     "data": {
      "application/vnd.jupyter.widget-view+json": {
       "model_id": "23c635893ff4460ab57c63bf9e284174",
       "version_major": 2,
       "version_minor": 0
      },
      "text/plain": [
       "4404150:   0%|          | 0/90 [00:00<?, ?it/s]"
      ]
     },
     "metadata": {},
     "output_type": "display_data"
    },
    {
     "data": {
      "application/vnd.jupyter.widget-view+json": {
       "model_id": "511ff7f53bb9457ea016312c83fbb002",
       "version_major": 2,
       "version_minor": 0
      },
      "text/plain": [
       "4410400:   0%|          | 0/90 [00:00<?, ?it/s]"
      ]
     },
     "metadata": {},
     "output_type": "display_data"
    },
    {
     "data": {
      "application/vnd.jupyter.widget-view+json": {
       "model_id": "9b59781987e34822971351ad5219c8f1",
       "version_major": 2,
       "version_minor": 0
      },
      "text/plain": [
       "4411415:   0%|          | 0/90 [00:00<?, ?it/s]"
      ]
     },
     "metadata": {},
     "output_type": "display_data"
    },
    {
     "data": {
      "application/vnd.jupyter.widget-view+json": {
       "model_id": "b2db243bcf5b4c368d68dcb705dc99e0",
       "version_major": 2,
       "version_minor": 0
      },
      "text/plain": [
       "4410856:   0%|          | 0/90 [00:00<?, ?it/s]"
      ]
     },
     "metadata": {},
     "output_type": "display_data"
    },
    {
     "data": {
      "application/vnd.jupyter.widget-view+json": {
       "model_id": "b8ba18badc354b0dad5b3f8e539e5eba",
       "version_major": 2,
       "version_minor": 0
      },
      "text/plain": [
       "4409573:   0%|          | 0/90 [00:00<?, ?it/s]"
      ]
     },
     "metadata": {},
     "output_type": "display_data"
    },
    {
     "data": {
      "application/vnd.jupyter.widget-view+json": {
       "model_id": "fe110dd992d5458a89c86c80d8a2ef2e",
       "version_major": 2,
       "version_minor": 0
      },
      "text/plain": [
       "4411408:   0%|          | 0/90 [00:00<?, ?it/s]"
      ]
     },
     "metadata": {},
     "output_type": "display_data"
    },
    {
     "data": {
      "application/vnd.jupyter.widget-view+json": {
       "model_id": "b9e8d46d2dcb45f4a92da379b96ecc1c",
       "version_major": 2,
       "version_minor": 0
      },
      "text/plain": [
       "4410836:   0%|          | 0/90 [00:00<?, ?it/s]"
      ]
     },
     "metadata": {},
     "output_type": "display_data"
    },
    {
     "data": {
      "application/vnd.jupyter.widget-view+json": {
       "model_id": "39383d11b16f42c58f1c547457880d97",
       "version_major": 2,
       "version_minor": 0
      },
      "text/plain": [
       "4410832:   0%|          | 0/90 [00:00<?, ?it/s]"
      ]
     },
     "metadata": {},
     "output_type": "display_data"
    },
    {
     "data": {
      "application/vnd.jupyter.widget-view+json": {
       "model_id": "9ee4b8f781dc46f9bd449b31e9006c83",
       "version_major": 2,
       "version_minor": 0
      },
      "text/plain": [
       "4411430:   0%|          | 0/90 [00:00<?, ?it/s]"
      ]
     },
     "metadata": {},
     "output_type": "display_data"
    },
    {
     "data": {
      "application/vnd.jupyter.widget-view+json": {
       "model_id": "c881490be97d48e0b4967aeaabaef771",
       "version_major": 2,
       "version_minor": 0
      },
      "text/plain": [
       "4404366:   0%|          | 0/90 [00:00<?, ?it/s]"
      ]
     },
     "metadata": {},
     "output_type": "display_data"
    },
    {
     "data": {
      "application/vnd.jupyter.widget-view+json": {
       "model_id": "fa835cc571014e6aa5d3ab030f9a983f",
       "version_major": 2,
       "version_minor": 0
      },
      "text/plain": [
       "4409574:   0%|          | 0/90 [00:00<?, ?it/s]"
      ]
     },
     "metadata": {},
     "output_type": "display_data"
    },
    {
     "data": {
      "application/vnd.jupyter.widget-view+json": {
       "model_id": "e358fa1a07e2427cb1f0f9e111d25056",
       "version_major": 2,
       "version_minor": 0
      },
      "text/plain": [
       "4411476:   0%|          | 0/90 [00:00<?, ?it/s]"
      ]
     },
     "metadata": {},
     "output_type": "display_data"
    },
    {
     "data": {
      "application/vnd.jupyter.widget-view+json": {
       "model_id": "9fa402a68aa5481dad7cef06eeb8c6f5",
       "version_major": 2,
       "version_minor": 0
      },
      "text/plain": [
       "4410839:   0%|          | 0/90 [00:00<?, ?it/s]"
      ]
     },
     "metadata": {},
     "output_type": "display_data"
    },
    {
     "data": {
      "application/vnd.jupyter.widget-view+json": {
       "model_id": "d7b3816fef5648de8f61b009e9b914a5",
       "version_major": 2,
       "version_minor": 0
      },
      "text/plain": [
       "4411427:   0%|          | 0/90 [00:00<?, ?it/s]"
      ]
     },
     "metadata": {},
     "output_type": "display_data"
    },
    {
     "data": {
      "application/vnd.jupyter.widget-view+json": {
       "model_id": "ec40afd258094808af15bc59ecf70eb1",
       "version_major": 2,
       "version_minor": 0
      },
      "text/plain": [
       "4410838:   0%|          | 0/90 [00:00<?, ?it/s]"
      ]
     },
     "metadata": {},
     "output_type": "display_data"
    },
    {
     "data": {
      "application/vnd.jupyter.widget-view+json": {
       "model_id": "2f23ac3517c94b08a40aa93ee91b79e9",
       "version_major": 2,
       "version_minor": 0
      },
      "text/plain": [
       "4410859:   0%|          | 0/90 [00:00<?, ?it/s]"
      ]
     },
     "metadata": {},
     "output_type": "display_data"
    },
    {
     "data": {
      "application/vnd.jupyter.widget-view+json": {
       "model_id": "669961ca1a0d4c338647bbae48adf2ad",
       "version_major": 2,
       "version_minor": 0
      },
      "text/plain": [
       "sample1004:   0%|          | 0/90 [00:00<?, ?it/s]"
      ]
     },
     "metadata": {},
     "output_type": "display_data"
    },
    {
     "data": {
      "application/vnd.jupyter.widget-view+json": {
       "model_id": "ad972f48f3554c0fba3383b42fcfb522",
       "version_major": 2,
       "version_minor": 0
      },
      "text/plain": [
       "4411566:   0%|          | 0/90 [00:00<?, ?it/s]"
      ]
     },
     "metadata": {},
     "output_type": "display_data"
    },
    {
     "data": {
      "application/vnd.jupyter.widget-view+json": {
       "model_id": "7ce0d0f0d7654f179d74ab254d8c02ec",
       "version_major": 2,
       "version_minor": 0
      },
      "text/plain": [
       "4411396:   0%|          | 0/90 [00:00<?, ?it/s]"
      ]
     },
     "metadata": {},
     "output_type": "display_data"
    },
    {
     "data": {
      "application/vnd.jupyter.widget-view+json": {
       "model_id": "cd8d5077ff234175938b99c79343df58",
       "version_major": 2,
       "version_minor": 0
      },
      "text/plain": [
       "4410831:   0%|          | 0/90 [00:00<?, ?it/s]"
      ]
     },
     "metadata": {},
     "output_type": "display_data"
    },
    {
     "data": {
      "application/vnd.jupyter.widget-view+json": {
       "model_id": "327f43b8a49b4eacad860f20e2fe664d",
       "version_major": 2,
       "version_minor": 0
      },
      "text/plain": [
       "4411420:   0%|          | 0/90 [00:00<?, ?it/s]"
      ]
     },
     "metadata": {},
     "output_type": "display_data"
    },
    {
     "data": {
      "application/vnd.jupyter.widget-view+json": {
       "model_id": "8119f7c605e34d8b873c19e3ad06671f",
       "version_major": 2,
       "version_minor": 0
      },
      "text/plain": [
       "4411560:   0%|          | 0/90 [00:00<?, ?it/s]"
      ]
     },
     "metadata": {},
     "output_type": "display_data"
    },
    {
     "data": {
      "application/vnd.jupyter.widget-view+json": {
       "model_id": "4cb72bef840d48f38dec3e0cea9c2266",
       "version_major": 2,
       "version_minor": 0
      },
      "text/plain": [
       "sample1008:   0%|          | 0/90 [00:00<?, ?it/s]"
      ]
     },
     "metadata": {},
     "output_type": "display_data"
    },
    {
     "data": {
      "application/vnd.jupyter.widget-view+json": {
       "model_id": "deeb2a38a3034669b051b43dcec4c87b",
       "version_major": 2,
       "version_minor": 0
      },
      "text/plain": [
       "sample1010:   0%|          | 0/90 [00:00<?, ?it/s]"
      ]
     },
     "metadata": {},
     "output_type": "display_data"
    },
    {
     "data": {
      "application/vnd.jupyter.widget-view+json": {
       "model_id": "4df67cfda19a4c6cbb03adcf7a93bbef",
       "version_major": 2,
       "version_minor": 0
      },
      "text/plain": [
       "4411482:   0%|          | 0/90 [00:00<?, ?it/s]"
      ]
     },
     "metadata": {},
     "output_type": "display_data"
    },
    {
     "data": {
      "application/vnd.jupyter.widget-view+json": {
       "model_id": "c8ef3659d8e74231b6ebea354709e34b",
       "version_major": 2,
       "version_minor": 0
      },
      "text/plain": [
       "4411406:   0%|          | 0/90 [00:00<?, ?it/s]"
      ]
     },
     "metadata": {},
     "output_type": "display_data"
    },
    {
     "data": {
      "application/vnd.jupyter.widget-view+json": {
       "model_id": "c7d8cbbee9e94efa8bee0a1879df8561",
       "version_major": 2,
       "version_minor": 0
      },
      "text/plain": [
       "4267535:   0%|          | 0/90 [00:00<?, ?it/s]"
      ]
     },
     "metadata": {},
     "output_type": "display_data"
    },
    {
     "data": {
      "application/vnd.jupyter.widget-view+json": {
       "model_id": "e12535ad14c842de91eb0abc3b082cbd",
       "version_major": 2,
       "version_minor": 0
      },
      "text/plain": [
       "4411401:   0%|          | 0/90 [00:00<?, ?it/s]"
      ]
     },
     "metadata": {},
     "output_type": "display_data"
    },
    {
     "data": {
      "application/vnd.jupyter.widget-view+json": {
       "model_id": "1ac4a7671a4142cbbf52943162ef1b3b",
       "version_major": 2,
       "version_minor": 0
      },
      "text/plain": [
       "4410828:   0%|          | 0/90 [00:00<?, ?it/s]"
      ]
     },
     "metadata": {},
     "output_type": "display_data"
    },
    {
     "data": {
      "application/vnd.jupyter.widget-view+json": {
       "model_id": "788befb6629b47ac8b37327785f46412",
       "version_major": 2,
       "version_minor": 0
      },
      "text/plain": [
       "4411796:   0%|          | 0/90 [00:00<?, ?it/s]"
      ]
     },
     "metadata": {},
     "output_type": "display_data"
    },
    {
     "data": {
      "application/vnd.jupyter.widget-view+json": {
       "model_id": "7d2df48039b94f468ed6529e88cbcf28",
       "version_major": 2,
       "version_minor": 0
      },
      "text/plain": [
       "sample1009:   0%|          | 0/90 [00:00<?, ?it/s]"
      ]
     },
     "metadata": {},
     "output_type": "display_data"
    },
    {
     "data": {
      "application/vnd.jupyter.widget-view+json": {
       "model_id": "2ac5c94039d142779944287467d8f87b",
       "version_major": 2,
       "version_minor": 0
      },
      "text/plain": [
       "4411558:   0%|          | 0/90 [00:00<?, ?it/s]"
      ]
     },
     "metadata": {},
     "output_type": "display_data"
    },
    {
     "data": {
      "application/vnd.jupyter.widget-view+json": {
       "model_id": "838f8b745d174040bf7aaf30723ac793",
       "version_major": 2,
       "version_minor": 0
      },
      "text/plain": [
       "4410830:   0%|          | 0/90 [00:00<?, ?it/s]"
      ]
     },
     "metadata": {},
     "output_type": "display_data"
    },
    {
     "data": {
      "application/vnd.jupyter.widget-view+json": {
       "model_id": "d37d2923ed4b42db9cd09d0471c37096",
       "version_major": 2,
       "version_minor": 0
      },
      "text/plain": [
       "4411432:   0%|          | 0/90 [00:00<?, ?it/s]"
      ]
     },
     "metadata": {},
     "output_type": "display_data"
    },
    {
     "data": {
      "application/vnd.jupyter.widget-view+json": {
       "model_id": "af13b1a6b2274ff494715324351f0be1",
       "version_major": 2,
       "version_minor": 0
      },
      "text/plain": [
       "4410840:   0%|          | 0/90 [00:00<?, ?it/s]"
      ]
     },
     "metadata": {},
     "output_type": "display_data"
    },
    {
     "data": {
      "application/vnd.jupyter.widget-view+json": {
       "model_id": "001ae933898049b39f98585b20f8b751",
       "version_major": 2,
       "version_minor": 0
      },
      "text/plain": [
       "4411428:   0%|          | 0/90 [00:00<?, ?it/s]"
      ]
     },
     "metadata": {},
     "output_type": "display_data"
    },
    {
     "data": {
      "application/vnd.jupyter.widget-view+json": {
       "model_id": "39cbeb667f64466d81b1b81337662671",
       "version_major": 2,
       "version_minor": 0
      },
      "text/plain": [
       "4411423:   0%|          | 0/90 [00:00<?, ?it/s]"
      ]
     },
     "metadata": {},
     "output_type": "display_data"
    },
    {
     "data": {
      "application/vnd.jupyter.widget-view+json": {
       "model_id": "4c4e3257112b4c2c8c37e89673df8668",
       "version_major": 2,
       "version_minor": 0
      },
      "text/plain": [
       "4411562:   0%|          | 0/90 [00:00<?, ?it/s]"
      ]
     },
     "metadata": {},
     "output_type": "display_data"
    },
    {
     "data": {
      "application/vnd.jupyter.widget-view+json": {
       "model_id": "f2ec404663c749a2a9d62cacdec3a887",
       "version_major": 2,
       "version_minor": 0
      },
      "text/plain": [
       "4411397:   0%|          | 0/90 [00:00<?, ?it/s]"
      ]
     },
     "metadata": {},
     "output_type": "display_data"
    },
    {
     "data": {
      "application/vnd.jupyter.widget-view+json": {
       "model_id": "0611964a0aeb40d98d56f398d18757ba",
       "version_major": 2,
       "version_minor": 0
      },
      "text/plain": [
       "  0%|          | 0/21 [00:00<?, ?it/s]"
      ]
     },
     "metadata": {},
     "output_type": "display_data"
    },
    {
     "data": {
      "application/vnd.jupyter.widget-view+json": {
       "model_id": "5f1db3cbb14041dabb39acf5970c7327",
       "version_major": 2,
       "version_minor": 0
      },
      "text/plain": [
       "4411471:   0%|          | 0/90 [00:00<?, ?it/s]"
      ]
     },
     "metadata": {},
     "output_type": "display_data"
    },
    {
     "data": {
      "application/vnd.jupyter.widget-view+json": {
       "model_id": "5f456a29c2cb43998bd98a94159b217f",
       "version_major": 2,
       "version_minor": 0
      },
      "text/plain": [
       "4410827:   0%|          | 0/90 [00:00<?, ?it/s]"
      ]
     },
     "metadata": {},
     "output_type": "display_data"
    },
    {
     "data": {
      "application/vnd.jupyter.widget-view+json": {
       "model_id": "4c4dee8b83214c1abcdc9b76fc171fa9",
       "version_major": 2,
       "version_minor": 0
      },
      "text/plain": [
       "4411405:   0%|          | 0/90 [00:00<?, ?it/s]"
      ]
     },
     "metadata": {},
     "output_type": "display_data"
    },
    {
     "data": {
      "application/vnd.jupyter.widget-view+json": {
       "model_id": "01e0aa76d7664525ad262818977e2166",
       "version_major": 2,
       "version_minor": 0
      },
      "text/plain": [
       "4404148:   0%|          | 0/90 [00:00<?, ?it/s]"
      ]
     },
     "metadata": {},
     "output_type": "display_data"
    },
    {
     "data": {
      "application/vnd.jupyter.widget-view+json": {
       "model_id": "83047b3a1de3422aab8f19ac4388cc55",
       "version_major": 2,
       "version_minor": 0
      },
      "text/plain": [
       "4404367:   0%|          | 0/90 [00:00<?, ?it/s]"
      ]
     },
     "metadata": {},
     "output_type": "display_data"
    },
    {
     "data": {
      "application/vnd.jupyter.widget-view+json": {
       "model_id": "fd27af92fe7e45a4826afcaf12b7b971",
       "version_major": 2,
       "version_minor": 0
      },
      "text/plain": [
       "4411564:   0%|          | 0/90 [00:00<?, ?it/s]"
      ]
     },
     "metadata": {},
     "output_type": "display_data"
    },
    {
     "data": {
      "application/vnd.jupyter.widget-view+json": {
       "model_id": "21d5d97479cf4ca8abda526061fbc0c8",
       "version_major": 2,
       "version_minor": 0
      },
      "text/plain": [
       "sample1000:   0%|          | 0/90 [00:00<?, ?it/s]"
      ]
     },
     "metadata": {},
     "output_type": "display_data"
    },
    {
     "data": {
      "application/vnd.jupyter.widget-view+json": {
       "model_id": "9d525e5909cc4b00ab6ff0c2a9908683",
       "version_major": 2,
       "version_minor": 0
      },
      "text/plain": [
       "4411794:   0%|          | 0/90 [00:00<?, ?it/s]"
      ]
     },
     "metadata": {},
     "output_type": "display_data"
    },
    {
     "data": {
      "application/vnd.jupyter.widget-view+json": {
       "model_id": "2990acc821b94b9887a0562c725c5f59",
       "version_major": 2,
       "version_minor": 0
      },
      "text/plain": [
       "4404146:   0%|          | 0/90 [00:00<?, ?it/s]"
      ]
     },
     "metadata": {},
     "output_type": "display_data"
    },
    {
     "data": {
      "application/vnd.jupyter.widget-view+json": {
       "model_id": "c44d2add82674b5f87b589d8801d5a6e",
       "version_major": 2,
       "version_minor": 0
      },
      "text/plain": [
       "4410086:   0%|          | 0/90 [00:00<?, ?it/s]"
      ]
     },
     "metadata": {},
     "output_type": "display_data"
    },
    {
     "data": {
      "application/vnd.jupyter.widget-view+json": {
       "model_id": "f5dd9164c22248baa4e4036983f3691c",
       "version_major": 2,
       "version_minor": 0
      },
      "text/plain": [
       "4410402:   0%|          | 0/90 [00:00<?, ?it/s]"
      ]
     },
     "metadata": {},
     "output_type": "display_data"
    },
    {
     "data": {
      "application/vnd.jupyter.widget-view+json": {
       "model_id": "2149be28892e40d3acf921e1f907fe12",
       "version_major": 2,
       "version_minor": 0
      },
      "text/plain": [
       "4411563:   0%|          | 0/90 [00:00<?, ?it/s]"
      ]
     },
     "metadata": {},
     "output_type": "display_data"
    },
    {
     "data": {
      "application/vnd.jupyter.widget-view+json": {
       "model_id": "b635b9c471e942968ca8236d4081fbd8",
       "version_major": 2,
       "version_minor": 0
      },
      "text/plain": [
       "4411797:   0%|          | 0/90 [00:00<?, ?it/s]"
      ]
     },
     "metadata": {},
     "output_type": "display_data"
    },
    {
     "data": {
      "application/vnd.jupyter.widget-view+json": {
       "model_id": "022c491a4b894b33860a60a9eb6795ef",
       "version_major": 2,
       "version_minor": 0
      },
      "text/plain": [
       "4411416:   0%|          | 0/90 [00:00<?, ?it/s]"
      ]
     },
     "metadata": {},
     "output_type": "display_data"
    },
    {
     "data": {
      "application/vnd.jupyter.widget-view+json": {
       "model_id": "0a229be8b50b43e38c38868ae8b8cdc4",
       "version_major": 2,
       "version_minor": 0
      },
      "text/plain": [
       "4411433:   0%|          | 0/90 [00:00<?, ?it/s]"
      ]
     },
     "metadata": {},
     "output_type": "display_data"
    },
    {
     "data": {
      "application/vnd.jupyter.widget-view+json": {
       "model_id": "26b5e4102dc04dd69e287858b98b3e81",
       "version_major": 2,
       "version_minor": 0
      },
      "text/plain": [
       "4411407:   0%|          | 0/90 [00:00<?, ?it/s]"
      ]
     },
     "metadata": {},
     "output_type": "display_data"
    },
    {
     "data": {
      "application/vnd.jupyter.widget-view+json": {
       "model_id": "48052a006bc743059dcfd4d52114cc56",
       "version_major": 2,
       "version_minor": 0
      },
      "text/plain": [
       "4411404:   0%|          | 0/90 [00:00<?, ?it/s]"
      ]
     },
     "metadata": {},
     "output_type": "display_data"
    },
    {
     "data": {
      "application/vnd.jupyter.widget-view+json": {
       "model_id": "af23b3ec388a4364b66a69e9900c1b14",
       "version_major": 2,
       "version_minor": 0
      },
      "text/plain": [
       "sample1001:   0%|          | 0/90 [00:00<?, ?it/s]"
      ]
     },
     "metadata": {},
     "output_type": "display_data"
    },
    {
     "data": {
      "application/vnd.jupyter.widget-view+json": {
       "model_id": "859036e12cc343aa9587930fd0818dc9",
       "version_major": 2,
       "version_minor": 0
      },
      "text/plain": [
       "4410088:   0%|          | 0/90 [00:00<?, ?it/s]"
      ]
     },
     "metadata": {},
     "output_type": "display_data"
    },
    {
     "data": {
      "application/vnd.jupyter.widget-view+json": {
       "model_id": "462d37e849034de79499e1cd2fee0d8e",
       "version_major": 2,
       "version_minor": 0
      },
      "text/plain": [
       "4410833:   0%|          | 0/90 [00:00<?, ?it/s]"
      ]
     },
     "metadata": {},
     "output_type": "display_data"
    },
    {
     "data": {
      "application/vnd.jupyter.widget-view+json": {
       "model_id": "a9edb9beb09748f0a80475283693722c",
       "version_major": 2,
       "version_minor": 0
      },
      "text/plain": [
       "  0%|          | 0/12 [00:00<?, ?it/s]"
      ]
     },
     "metadata": {},
     "output_type": "display_data"
    },
    {
     "data": {
      "application/vnd.jupyter.widget-view+json": {
       "model_id": "882efe6aaa1145dbb6c4a734500b5ac5",
       "version_major": 2,
       "version_minor": 0
      },
      "text/plain": [
       "4411424:   0%|          | 0/90 [00:00<?, ?it/s]"
      ]
     },
     "metadata": {},
     "output_type": "display_data"
    },
    {
     "data": {
      "application/vnd.jupyter.widget-view+json": {
       "model_id": "90d94a3538e643968643e99ce2a42528",
       "version_major": 2,
       "version_minor": 0
      },
      "text/plain": [
       "4404149:   0%|          | 0/90 [00:00<?, ?it/s]"
      ]
     },
     "metadata": {},
     "output_type": "display_data"
    },
    {
     "data": {
      "application/vnd.jupyter.widget-view+json": {
       "model_id": "472c3a0bc8d9488699113a739572a47c",
       "version_major": 2,
       "version_minor": 0
      },
      "text/plain": [
       "4267523:   0%|          | 0/90 [00:00<?, ?it/s]"
      ]
     },
     "metadata": {},
     "output_type": "display_data"
    },
    {
     "data": {
      "application/vnd.jupyter.widget-view+json": {
       "model_id": "37b014f7c689405dafe4c6add5466259",
       "version_major": 2,
       "version_minor": 0
      },
      "text/plain": [
       "4411398:   0%|          | 0/90 [00:00<?, ?it/s]"
      ]
     },
     "metadata": {},
     "output_type": "display_data"
    },
    {
     "data": {
      "application/vnd.jupyter.widget-view+json": {
       "model_id": "0c27d061dca5424da93b0f14792c4b53",
       "version_major": 2,
       "version_minor": 0
      },
      "text/plain": [
       "4410825:   0%|          | 0/90 [00:00<?, ?it/s]"
      ]
     },
     "metadata": {},
     "output_type": "display_data"
    },
    {
     "data": {
      "application/vnd.jupyter.widget-view+json": {
       "model_id": "f7968838112e49e4b38e41620fea5e70",
       "version_major": 2,
       "version_minor": 0
      },
      "text/plain": [
       "4411417:   0%|          | 0/90 [00:00<?, ?it/s]"
      ]
     },
     "metadata": {},
     "output_type": "display_data"
    },
    {
     "data": {
      "application/vnd.jupyter.widget-view+json": {
       "model_id": "b05395f847124dda964a1b3d2e709f62",
       "version_major": 2,
       "version_minor": 0
      },
      "text/plain": [
       "4411475:   0%|          | 0/90 [00:00<?, ?it/s]"
      ]
     },
     "metadata": {},
     "output_type": "display_data"
    },
    {
     "data": {
      "application/vnd.jupyter.widget-view+json": {
       "model_id": "db1bbe9837da4e938c7f183b3100f159",
       "version_major": 2,
       "version_minor": 0
      },
      "text/plain": [
       "4410087:   0%|          | 0/90 [00:00<?, ?it/s]"
      ]
     },
     "metadata": {},
     "output_type": "display_data"
    },
    {
     "data": {
      "application/vnd.jupyter.widget-view+json": {
       "model_id": "91c7c0f5065743b0a46e2cd6fb203783",
       "version_major": 2,
       "version_minor": 0
      },
      "text/plain": [
       "4411426:   0%|          | 0/90 [00:00<?, ?it/s]"
      ]
     },
     "metadata": {},
     "output_type": "display_data"
    },
    {
     "data": {
      "application/vnd.jupyter.widget-view+json": {
       "model_id": "769031b0977f45a6b703f09b09d7537b",
       "version_major": 2,
       "version_minor": 0
      },
      "text/plain": [
       "sample1002:   0%|          | 0/90 [00:00<?, ?it/s]"
      ]
     },
     "metadata": {},
     "output_type": "display_data"
    },
    {
     "data": {
      "application/vnd.jupyter.widget-view+json": {
       "model_id": "adb270657b2e4199b1b9072345135d1e",
       "version_major": 2,
       "version_minor": 0
      },
      "text/plain": [
       "4411469:   0%|          | 0/90 [00:00<?, ?it/s]"
      ]
     },
     "metadata": {},
     "output_type": "display_data"
    },
    {
     "data": {
      "application/vnd.jupyter.widget-view+json": {
       "model_id": "7cac5539364c43e3a464d942e186e6b5",
       "version_major": 2,
       "version_minor": 0
      },
      "text/plain": [
       "sample1005:   0%|          | 0/90 [00:00<?, ?it/s]"
      ]
     },
     "metadata": {},
     "output_type": "display_data"
    }
   ],
   "source": [
    "from pix2pix.datasets import combine_ct_and_fbp\n",
    "combine_ct_and_fbp.prep(\"./pix2pix/datasets/ctfbp\")\n",
    "%slack"
   ]
  }
 ],
 "metadata": {
  "kernelspec": {
   "display_name": "res",
   "language": "python",
   "name": "python3"
  },
  "language_info": {
   "codemirror_mode": {
    "name": "ipython",
    "version": 3
   },
   "file_extension": ".py",
   "mimetype": "text/x-python",
   "name": "python",
   "nbconvert_exporter": "python",
   "pygments_lexer": "ipython3",
   "version": "3.10.8"
  },
  "orig_nbformat": 4,
  "vscode": {
   "interpreter": {
    "hash": "da9ac5d7c4e967160d4eddc6864285750b07d26b36aae015b5a1a36de670b7f6"
   }
  }
 },
 "nbformat": 4,
 "nbformat_minor": 2
}
