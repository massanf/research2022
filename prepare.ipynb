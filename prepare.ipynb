{
 "cells": [
  {
   "attachments": {},
   "cell_type": "markdown",
   "metadata": {},
   "source": [
    "## Download"
   ]
  },
  {
   "cell_type": "code",
   "execution_count": null,
   "metadata": {},
   "outputs": [],
   "source": [
    "import requests\n",
    "import pathlib\n",
    "import patoolib\n",
    "import glob\n",
    "import os\n",
    "\n",
    "def download_file(url, dir, name):\n",
    "    local_filename = dir / name\n",
    "    with requests.get(url, stream=True) as r:\n",
    "        r.raise_for_status()\n",
    "        with open(local_filename, 'wb') as f:\n",
    "            for chunk in r.iter_content(chunk_size=8192): \n",
    "                # If you have chunk encoded response uncomment if\n",
    "                # and set chunk_size parameter to None.\n",
    "                #if chunk: \n",
    "                f.write(chunk)\n",
    "    return local_filename"
   ]
  },
  {
   "cell_type": "code",
   "execution_count": null,
   "metadata": {},
   "outputs": [],
   "source": [
    "from tqdm.notebook import tqdm\n",
    "\n",
    "# 10 - 30\n",
    "ids = [\n",
    "    \"4411471\", \"4411469\", \"4411475\", \"4411476\", \"4411482\", \"4411558\", \"4411559\", \"4411557\", \"4411796\", \"4411560\", \"4411563\", \"4411562\", \"4411561\", \"4411564\", \"4411565\", \"4411566\", \"4411794\", \"4411797\", \"4411407\", \"4411407\", \"4411408\", \"4411406\", \"4411405\", \"4411417\", \"4411414\", \"4411415\", \"4411416\", \"4411420\", \"4411419\", \"4267523\", \"4410886\", \"4411396\", \"4411397\", \"4411398\", \"4411395\", \"4411402\", \"4411401\", \"4411403\", \"4411404\", \"4411426\", \"4411425\", \"4411424\", \"4411423\", \"4411428\", \"4411430\", \"4411427\", \"4411429\", \"4411433\", \"4411432\", \"4410826\", \"4410824\", \"4410825\", \"4410829\", \"4410828\", \"4410827\", \"4410832\", \"4410830\", \"4410833\", \"4410831\", \"4410836\", \"4410837\", \"4410835\", \"4410834\", \"4410838\", \"4410840\", \"4410859\", \"4410856\", \"4410857\", \"4410858\", \"4267535\", \"4409574\", \"4409575\", \"4409573\", \"4410087\", \"4410088\", \"4410086\", \"4410401\", \"4410402\", \"4410400\", \"4410839\", \"4404145\", \"4404449\", \"4404146\", \"4404150\", \"4404148\", \"4404151\", \"4404149\", \"4404366\", \"4404147\", \"4404367\"\n",
    "]\n",
    "\n",
    "for id in tqdm(ids):\n",
    "    url = f\"https://dataverse.harvard.edu/api/access/datafile/{id}\"\n",
    "    name = url.split(\"/\")[-1]\n",
    "    path = \"./data/\" + name\n",
    "    if os.path.exists(path):\n",
    "        continue\n",
    "    print(f\"downloading {name}\")\n",
    "    download_file(url=url, dir=pathlib.Path(\"./downloaded\"),\n",
    "                  name=name + \".rar\")\n",
    "    print(f\"extracting {name}\")\n",
    "    if not os.path.exists(path):\n",
    "        os.mkdir(path)\n",
    "    patoolib.extract_archive(pathlib.Path(\"./downloaded\") \n",
    "                             / (name + \".rar\"),\n",
    "                             outdir=\"./data/\" + name)\n",
    "    os.rename(glob.glob(\"./data/\" + name + \"/*\")[0], \"./data/\" + name + \"/ct\")\n",
    "%slack"
   ]
  },
  {
   "attachments": {},
   "cell_type": "markdown",
   "metadata": {},
   "source": [
    "## DRR, FBP, Resize"
   ]
  },
  {
   "cell_type": "code",
   "execution_count": null,
   "metadata": {},
   "outputs": [],
   "source": [
    "import importlib\n",
    "import imageio.v2 as imageio\n",
    "from patient import patient\n",
    "import glob\n",
    "\n",
    "# https://dataverse.harvard.edu/dataset.xhtml?persistentId=doi:10.7910/DVN/6ACUZJ\n",
    "\n",
    "from tqdm.notebook import tqdm\n",
    "for vol_path in tqdm(glob.glob(\"./data/*\")):\n",
    "    if \"__\" in vol_path:\n",
    "        continue\n",
    "    vol = vol_path.split(\"/\")[-1]\n",
    "    print(vol)\n",
    "    # print(vol)\n",
    "    p = patient.patient(name=vol)\n",
    "\n",
    "# imageio.mimsave(f\"pics/drr.gif\", p.drr.img)\n",
    "%slack"
   ]
  },
  {
   "cell_type": "code",
   "execution_count": 2,
   "metadata": {},
   "outputs": [],
   "source": [
    "import imageio.v2 as imageio\n",
    "import cupy as cp\n",
    "from patient import patient\n",
    "\n",
    "p = patient.patient(name=\"4404147\")\n",
    "\n",
    "# p.generate_drr(cont=False)\n",
    "\n",
    "for idx, img in enumerate(p.drr.img):\n",
    "    new_img = img\n",
    "    new_img[new_img > 230] = 230\n",
    "    p.drr.img[idx] = new_img.astype(\"uint8\")\n",
    "    # print(cp.max(cp.ravel(p.drr.img[idx])), cp.min(cp.ravel(p.drr.img[idx])))\n",
    "\n",
    "p.generate_fbp(load_all=False, cont=False)\n",
    "\n",
    "imgs = [cp.asnumpy(img) for img in p.drr.img]\n",
    "imageio.mimsave(\"drr.gif\", imgs)\n",
    "\n",
    "imgs = [cp.asnumpy(img) for img in p.posdrr.img]\n",
    "imageio.mimsave(\"posdrr.gif\", imgs)\n",
    "\n",
    "a = 450\n",
    "imageio.imsave(\"test3.png\", cp.asnumpy(p.get_equiv_fbp(a)))\n",
    "imageio.imsave(\"test4.png\", cp.asnumpy(p.ct.img[a]))\n",
    "%slack"
   ]
  },
  {
   "cell_type": "code",
   "execution_count": 3,
   "metadata": {},
   "outputs": [],
   "source": [
    "# import glob, os\n",
    "\n",
    "# for vol in glob.glob(\"./data/*\"):\n",
    "#     for file in glob.glob(vol + \"/*\"):\n",
    "#         if \".pickle\" in file:\n",
    "#             os.remove(file)"
   ]
  },
  {
   "attachments": {},
   "cell_type": "markdown",
   "metadata": {},
   "source": [
    "## Pix2Pix Prepare"
   ]
  },
  {
   "cell_type": "code",
   "execution_count": 1,
   "metadata": {},
   "outputs": [
    {
     "data": {
      "application/vnd.jupyter.widget-view+json": {
       "model_id": "02a45ac8b4a34e268aa8c8f6aa17e22e",
       "version_major": 2,
       "version_minor": 0
      },
      "text/plain": [
       "  0%|          | 0/28 [00:00<?, ?it/s]"
      ]
     },
     "metadata": {},
     "output_type": "display_data"
    },
    {
     "data": {
      "application/vnd.jupyter.widget-view+json": {
       "model_id": "88a90b0a0f9d4cd59b9f274f667b287a",
       "version_major": 2,
       "version_minor": 0
      },
      "text/plain": [
       "4410831:   0%|          | 0/90 [00:00<?, ?it/s]"
      ]
     },
     "metadata": {},
     "output_type": "display_data"
    },
    {
     "data": {
      "application/vnd.jupyter.widget-view+json": {
       "model_id": "13a6a1f76169480e96324744d6db2792",
       "version_major": 2,
       "version_minor": 0
      },
      "text/plain": [
       "4404151:   0%|          | 0/90 [00:00<?, ?it/s]"
      ]
     },
     "metadata": {},
     "output_type": "display_data"
    },
    {
     "data": {
      "application/vnd.jupyter.widget-view+json": {
       "model_id": "f6edc9e3f0b34c76a972520ed3c3835d",
       "version_major": 2,
       "version_minor": 0
      },
      "text/plain": [
       "4404146:   0%|          | 0/90 [00:00<?, ?it/s]"
      ]
     },
     "metadata": {},
     "output_type": "display_data"
    },
    {
     "data": {
      "application/vnd.jupyter.widget-view+json": {
       "model_id": "41692a5683f64fbb9a94a774d222f231",
       "version_major": 2,
       "version_minor": 0
      },
      "text/plain": [
       "4404148:   0%|          | 0/90 [00:00<?, ?it/s]"
      ]
     },
     "metadata": {},
     "output_type": "display_data"
    },
    {
     "data": {
      "application/vnd.jupyter.widget-view+json": {
       "model_id": "6572f90a703548919569c45ab6df1d6d",
       "version_major": 2,
       "version_minor": 0
      },
      "text/plain": [
       "4404145:   0%|          | 0/90 [00:00<?, ?it/s]"
      ]
     },
     "metadata": {},
     "output_type": "display_data"
    },
    {
     "data": {
      "application/vnd.jupyter.widget-view+json": {
       "model_id": "b8a8467cc72d4a2990e71707ce69b61f",
       "version_major": 2,
       "version_minor": 0
      },
      "text/plain": [
       "4404449:   0%|          | 0/90 [00:00<?, ?it/s]"
      ]
     },
     "metadata": {},
     "output_type": "display_data"
    },
    {
     "data": {
      "application/vnd.jupyter.widget-view+json": {
       "model_id": "e575ce2d2c2340358f4ec343757fbb74",
       "version_major": 2,
       "version_minor": 0
      },
      "text/plain": [
       "4410828:   0%|          | 0/90 [00:00<?, ?it/s]"
      ]
     },
     "metadata": {},
     "output_type": "display_data"
    },
    {
     "data": {
      "application/vnd.jupyter.widget-view+json": {
       "model_id": "ceaaa26a8e134c818511f40e03282b75",
       "version_major": 2,
       "version_minor": 0
      },
      "text/plain": [
       "4410088:   0%|          | 0/90 [00:00<?, ?it/s]"
      ]
     },
     "metadata": {},
     "output_type": "display_data"
    },
    {
     "data": {
      "application/vnd.jupyter.widget-view+json": {
       "model_id": "5976b316c13748e7b8a740fa5eb4575a",
       "version_major": 2,
       "version_minor": 0
      },
      "text/plain": [
       "4410836:   0%|          | 0/90 [00:00<?, ?it/s]"
      ]
     },
     "metadata": {},
     "output_type": "display_data"
    },
    {
     "data": {
      "application/vnd.jupyter.widget-view+json": {
       "model_id": "7b117a1b9990427cb6639030fac8993f",
       "version_major": 2,
       "version_minor": 0
      },
      "text/plain": [
       "4404367:   0%|          | 0/90 [00:00<?, ?it/s]"
      ]
     },
     "metadata": {},
     "output_type": "display_data"
    },
    {
     "data": {
      "application/vnd.jupyter.widget-view+json": {
       "model_id": "b826caeb78364c33a0aee695f288831d",
       "version_major": 2,
       "version_minor": 0
      },
      "text/plain": [
       "4409575:   0%|          | 0/90 [00:00<?, ?it/s]"
      ]
     },
     "metadata": {},
     "output_type": "display_data"
    },
    {
     "data": {
      "application/vnd.jupyter.widget-view+json": {
       "model_id": "dbc1b1d3e8ba4a11b9cb2cb3a65c73b2",
       "version_major": 2,
       "version_minor": 0
      },
      "text/plain": [
       "4404150:   0%|          | 0/90 [00:00<?, ?it/s]"
      ]
     },
     "metadata": {},
     "output_type": "display_data"
    },
    {
     "data": {
      "application/vnd.jupyter.widget-view+json": {
       "model_id": "8f671f8df1dd413895de78089d35f379",
       "version_major": 2,
       "version_minor": 0
      },
      "text/plain": [
       "4410087:   0%|          | 0/90 [00:00<?, ?it/s]"
      ]
     },
     "metadata": {},
     "output_type": "display_data"
    },
    {
     "data": {
      "application/vnd.jupyter.widget-view+json": {
       "model_id": "999b1ce52b9a4c66a320a5b10c091052",
       "version_major": 2,
       "version_minor": 0
      },
      "text/plain": [
       "4410832:   0%|          | 0/90 [00:00<?, ?it/s]"
      ]
     },
     "metadata": {},
     "output_type": "display_data"
    },
    {
     "data": {
      "application/vnd.jupyter.widget-view+json": {
       "model_id": "c9fd0ad51aae441c9e9f025fe26702e6",
       "version_major": 2,
       "version_minor": 0
      },
      "text/plain": [
       "4409573:   0%|          | 0/90 [00:00<?, ?it/s]"
      ]
     },
     "metadata": {},
     "output_type": "display_data"
    },
    {
     "data": {
      "application/vnd.jupyter.widget-view+json": {
       "model_id": "04d4c6a66a554508b0b5e8227fc58e89",
       "version_major": 2,
       "version_minor": 0
      },
      "text/plain": [
       "4410835:   0%|          | 0/90 [00:00<?, ?it/s]"
      ]
     },
     "metadata": {},
     "output_type": "display_data"
    },
    {
     "data": {
      "application/vnd.jupyter.widget-view+json": {
       "model_id": "c17cc3ea5cb2401682a569b6eb57e8f5",
       "version_major": 2,
       "version_minor": 0
      },
      "text/plain": [
       "4410086:   0%|          | 0/90 [00:00<?, ?it/s]"
      ]
     },
     "metadata": {},
     "output_type": "display_data"
    },
    {
     "data": {
      "application/vnd.jupyter.widget-view+json": {
       "model_id": "59713ca450bb49299ca314a01dcc04d5",
       "version_major": 2,
       "version_minor": 0
      },
      "text/plain": [
       "4410827:   0%|          | 0/90 [00:00<?, ?it/s]"
      ]
     },
     "metadata": {},
     "output_type": "display_data"
    },
    {
     "data": {
      "application/vnd.jupyter.widget-view+json": {
       "model_id": "3985f6f3d9d94764ba2305a3941f7133",
       "version_major": 2,
       "version_minor": 0
      },
      "text/plain": [
       "4410833:   0%|          | 0/90 [00:00<?, ?it/s]"
      ]
     },
     "metadata": {},
     "output_type": "display_data"
    },
    {
     "data": {
      "application/vnd.jupyter.widget-view+json": {
       "model_id": "72bc42044ff9402b8d9aad56cba8745a",
       "version_major": 2,
       "version_minor": 0
      },
      "text/plain": [
       "4267523:   0%|          | 0/90 [00:00<?, ?it/s]"
      ]
     },
     "metadata": {},
     "output_type": "display_data"
    },
    {
     "data": {
      "application/vnd.jupyter.widget-view+json": {
       "model_id": "05394e187bf74a1ea127c40dc548ef61",
       "version_major": 2,
       "version_minor": 0
      },
      "text/plain": [
       "4404149:   0%|          | 0/90 [00:00<?, ?it/s]"
      ]
     },
     "metadata": {},
     "output_type": "display_data"
    },
    {
     "data": {
      "application/vnd.jupyter.widget-view+json": {
       "model_id": "8423c320ba0d455ba687869bfeed2457",
       "version_major": 2,
       "version_minor": 0
      },
      "text/plain": [
       "4410834:   0%|          | 0/90 [00:00<?, ?it/s]"
      ]
     },
     "metadata": {},
     "output_type": "display_data"
    },
    {
     "data": {
      "application/vnd.jupyter.widget-view+json": {
       "model_id": "97bb69ddafc541648b11af874022ee27",
       "version_major": 2,
       "version_minor": 0
      },
      "text/plain": [
       "4410824:   0%|          | 0/90 [00:00<?, ?it/s]"
      ]
     },
     "metadata": {},
     "output_type": "display_data"
    },
    {
     "data": {
      "application/vnd.jupyter.widget-view+json": {
       "model_id": "0d773b62ecf84cf9bfe67848bcf2aaed",
       "version_major": 2,
       "version_minor": 0
      },
      "text/plain": [
       "  0%|          | 0/8 [00:00<?, ?it/s]"
      ]
     },
     "metadata": {},
     "output_type": "display_data"
    },
    {
     "data": {
      "application/vnd.jupyter.widget-view+json": {
       "model_id": "6b7c9f9f83d94134a86f53665b4ff4f8",
       "version_major": 2,
       "version_minor": 0
      },
      "text/plain": [
       "4404147:   0%|          | 0/90 [00:00<?, ?it/s]"
      ]
     },
     "metadata": {},
     "output_type": "display_data"
    },
    {
     "data": {
      "application/vnd.jupyter.widget-view+json": {
       "model_id": "056d06d683bd4a0eba3c0778c416eeac",
       "version_major": 2,
       "version_minor": 0
      },
      "text/plain": [
       "4410837:   0%|          | 0/90 [00:00<?, ?it/s]"
      ]
     },
     "metadata": {},
     "output_type": "display_data"
    },
    {
     "data": {
      "application/vnd.jupyter.widget-view+json": {
       "model_id": "c41b4bec2d634750b08844eec3f42859",
       "version_major": 2,
       "version_minor": 0
      },
      "text/plain": [
       "4410838:   0%|          | 0/90 [00:00<?, ?it/s]"
      ]
     },
     "metadata": {},
     "output_type": "display_data"
    },
    {
     "data": {
      "application/vnd.jupyter.widget-view+json": {
       "model_id": "9e85e5c4aedd48ed80a8d3f4ef3890d4",
       "version_major": 2,
       "version_minor": 0
      },
      "text/plain": [
       "4410825:   0%|          | 0/90 [00:00<?, ?it/s]"
      ]
     },
     "metadata": {},
     "output_type": "display_data"
    },
    {
     "data": {
      "application/vnd.jupyter.widget-view+json": {
       "model_id": "f95a5c5c36a3432fa097a36a521b62c0",
       "version_major": 2,
       "version_minor": 0
      },
      "text/plain": [
       "4410400:   0%|          | 0/90 [00:00<?, ?it/s]"
      ]
     },
     "metadata": {},
     "output_type": "display_data"
    },
    {
     "data": {
      "application/vnd.jupyter.widget-view+json": {
       "model_id": "22a06f31bffb4b49a27a00a5be0d7032",
       "version_major": 2,
       "version_minor": 0
      },
      "text/plain": [
       "4409574:   0%|          | 0/90 [00:00<?, ?it/s]"
      ]
     },
     "metadata": {},
     "output_type": "display_data"
    },
    {
     "data": {
      "application/vnd.jupyter.widget-view+json": {
       "model_id": "d37835f9f0714d3196e986279ace1fab",
       "version_major": 2,
       "version_minor": 0
      },
      "text/plain": [
       "4410402:   0%|          | 0/90 [00:00<?, ?it/s]"
      ]
     },
     "metadata": {},
     "output_type": "display_data"
    },
    {
     "data": {
      "application/vnd.jupyter.widget-view+json": {
       "model_id": "7bbb6149b554469cbf9b62ab73b221a7",
       "version_major": 2,
       "version_minor": 0
      },
      "text/plain": [
       "4410401:   0%|          | 0/90 [00:00<?, ?it/s]"
      ]
     },
     "metadata": {},
     "output_type": "display_data"
    },
    {
     "data": {
      "application/vnd.jupyter.widget-view+json": {
       "model_id": "c3a29006a3b344ba9435cc304702b41f",
       "version_major": 2,
       "version_minor": 0
      },
      "text/plain": [
       "  0%|          | 0/5 [00:00<?, ?it/s]"
      ]
     },
     "metadata": {},
     "output_type": "display_data"
    },
    {
     "data": {
      "application/vnd.jupyter.widget-view+json": {
       "model_id": "a634bdf651524de28c36757de43ae98f",
       "version_major": 2,
       "version_minor": 0
      },
      "text/plain": [
       "4404366:   0%|          | 0/90 [00:00<?, ?it/s]"
      ]
     },
     "metadata": {},
     "output_type": "display_data"
    },
    {
     "data": {
      "application/vnd.jupyter.widget-view+json": {
       "model_id": "511d78ccfa594d60b4e68835640450e3",
       "version_major": 2,
       "version_minor": 0
      },
      "text/plain": [
       "4410830:   0%|          | 0/90 [00:00<?, ?it/s]"
      ]
     },
     "metadata": {},
     "output_type": "display_data"
    },
    {
     "data": {
      "application/vnd.jupyter.widget-view+json": {
       "model_id": "a5afafd5494047e292826f36e018f98c",
       "version_major": 2,
       "version_minor": 0
      },
      "text/plain": [
       "4410829:   0%|          | 0/90 [00:00<?, ?it/s]"
      ]
     },
     "metadata": {},
     "output_type": "display_data"
    },
    {
     "ename": "",
     "evalue": "",
     "output_type": "error",
     "traceback": [
      "\u001b[1;31mThe Kernel crashed while executing code in the the current cell or a previous cell. Please review the code in the cell(s) to identify a possible cause of the failure. Click <a href='https://aka.ms/vscodeJupyterKernelCrash'>here</a> for more info. View Jupyter <a href='command:jupyter.viewOutput'>log</a> for further details."
     ]
    }
   ],
   "source": [
    "from pix2pix.datasets import combine_ct_and_fbp\n",
    "combine_ct_and_fbp.prep(\"./pix2pix/datasets/ctfbp\")\n",
    "%slack"
   ]
  }
 ],
 "metadata": {
  "kernelspec": {
   "display_name": "res",
   "language": "python",
   "name": "python3"
  },
  "language_info": {
   "codemirror_mode": {
    "name": "ipython",
    "version": 3
   },
   "file_extension": ".py",
   "mimetype": "text/x-python",
   "name": "python",
   "nbconvert_exporter": "python",
   "pygments_lexer": "ipython3",
   "version": "3.10.8"
  },
  "orig_nbformat": 4,
  "vscode": {
   "interpreter": {
    "hash": "da9ac5d7c4e967160d4eddc6864285750b07d26b36aae015b5a1a36de670b7f6"
   }
  }
 },
 "nbformat": 4,
 "nbformat_minor": 2
}
