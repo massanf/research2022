{
 "cells": [
  {
   "cell_type": "code",
   "execution_count": 1,
   "metadata": {},
   "outputs": [
    {
     "name": "stdout",
     "output_type": "stream",
     "text": [
      "a\n"
     ]
    }
   ],
   "source": [
    "print(\"a\")"
   ]
  },
  {
   "cell_type": "code",
   "execution_count": 4,
   "metadata": {},
   "outputs": [],
   "source": [
    "import importlib\n",
    "import imageio.v2 as imageio\n",
    "from patient import patient\n",
    "import glob\n",
    "\n",
    "# https://dataverse.harvard.edu/dataset.xhtml?persistentId=doi:10.7910/DVN/6ACUZJ"
   ]
  },
  {
   "cell_type": "code",
   "execution_count": 9,
   "metadata": {},
   "outputs": [
    {
     "data": {
      "application/vnd.jupyter.widget-view+json": {
       "model_id": "19ddb9238f6440b39fe9f78f35812a40",
       "version_major": 2,
       "version_minor": 0
      },
      "text/plain": [
       "  0%|          | 0/107 [00:00<?, ?it/s]"
      ]
     },
     "metadata": {},
     "output_type": "display_data"
    },
    {
     "name": "stdout",
     "output_type": "stream",
     "text": [
      "4411403\n",
      "4411398\n",
      "4411433\n",
      "4411396\n",
      "4411471\n",
      "4411564\n",
      "sample1010\n",
      "sample1009\n",
      "4410400\n",
      "sample1005\n",
      "4404367\n",
      "4410839\n",
      "4410828\n",
      "4410857\n",
      "4404147\n",
      "4411404\n",
      "4404150\n",
      "sample1002\n",
      "4410827\n",
      "4404149\n",
      "4410824\n",
      "4411566\n",
      "4410856\n",
      "4411408\n",
      "4267535\n",
      "4410837\n",
      "4410832\n",
      "4410829\n",
      "4410835\n",
      "4409575\n",
      "4411405\n",
      "4410886\n",
      "4411797\n",
      "4404146\n",
      "4411419\n",
      "sample1007\n",
      "4411560\n",
      "4411794\n",
      "4410859\n",
      "sample1000\n",
      "4411482\n",
      "4411565\n",
      "4411402\n"
     ]
    },
    {
     "data": {
      "application/vnd.jupyter.widget-view+json": {
       "model_id": "de69c84227f5492e8c3700d6335b8ce8",
       "version_major": 2,
       "version_minor": 0
      },
      "text/plain": [
       "DRR:   0%|          | 0/450 [00:00<?, ?it/s]"
      ]
     },
     "metadata": {},
     "output_type": "display_data"
    },
    {
     "data": {
      "application/vnd.jupyter.widget-view+json": {
       "model_id": "5652f459419544f28dd0182e3f657ea1",
       "version_major": 2,
       "version_minor": 0
      },
      "text/plain": [
       "FBP:   0%|          | 0/350 [00:00<?, ?it/s]"
      ]
     },
     "metadata": {},
     "output_type": "display_data"
    },
    {
     "data": {
      "application/vnd.jupyter.widget-view+json": {
       "model_id": "09a895556dd4419cabb294eedbb71664",
       "version_major": 2,
       "version_minor": 0
      },
      "text/plain": [
       "Resize:   0%|          | 0/50 [00:00<?, ?it/s]"
      ]
     },
     "metadata": {},
     "output_type": "display_data"
    },
    {
     "name": "stdout",
     "output_type": "stream",
     "text": [
      "4410834\n"
     ]
    },
    {
     "data": {
      "application/vnd.jupyter.widget-view+json": {
       "model_id": "4baaac16b40442eab41e0c81afcf3824",
       "version_major": 2,
       "version_minor": 0
      },
      "text/plain": [
       "DRR:   0%|          | 0/450 [00:00<?, ?it/s]"
      ]
     },
     "metadata": {},
     "output_type": "display_data"
    },
    {
     "data": {
      "application/vnd.jupyter.widget-view+json": {
       "model_id": "61d0c1a2218c47b0bccca1be3f0dab84",
       "version_major": 2,
       "version_minor": 0
      },
      "text/plain": [
       "FBP:   0%|          | 0/350 [00:00<?, ?it/s]"
      ]
     },
     "metadata": {},
     "output_type": "display_data"
    },
    {
     "data": {
      "application/vnd.jupyter.widget-view+json": {
       "model_id": "e6c499cdd52a489b833f1ec4da411c0f",
       "version_major": 2,
       "version_minor": 0
      },
      "text/plain": [
       "Resize:   0%|          | 0/50 [00:00<?, ?it/s]"
      ]
     },
     "metadata": {},
     "output_type": "display_data"
    },
    {
     "name": "stdout",
     "output_type": "stream",
     "text": [
      "4411425\n"
     ]
    },
    {
     "data": {
      "application/vnd.jupyter.widget-view+json": {
       "model_id": "c39cf5d62e804d9cb10653efb6b79050",
       "version_major": 2,
       "version_minor": 0
      },
      "text/plain": [
       "DRR:   0%|          | 0/450 [00:00<?, ?it/s]"
      ]
     },
     "metadata": {},
     "output_type": "display_data"
    },
    {
     "data": {
      "application/vnd.jupyter.widget-view+json": {
       "model_id": "ec13c7bf0c3744bb93948043eff54805",
       "version_major": 2,
       "version_minor": 0
      },
      "text/plain": [
       "FBP:   0%|          | 0/350 [00:00<?, ?it/s]"
      ]
     },
     "metadata": {},
     "output_type": "display_data"
    },
    {
     "data": {
      "application/vnd.jupyter.widget-view+json": {
       "model_id": "c14d3fb5fa4948c8867d4ec9e6fc98ec",
       "version_major": 2,
       "version_minor": 0
      },
      "text/plain": [
       "Resize:   0%|          | 0/50 [00:00<?, ?it/s]"
      ]
     },
     "metadata": {},
     "output_type": "display_data"
    },
    {
     "name": "stdout",
     "output_type": "stream",
     "text": [
      "4411469\n",
      "4404145\n"
     ]
    },
    {
     "data": {
      "application/vnd.jupyter.widget-view+json": {
       "model_id": "84ed4718b09e42eba13b4a65ab6c0488",
       "version_major": 2,
       "version_minor": 0
      },
      "text/plain": [
       "DRR:   0%|          | 0/450 [00:00<?, ?it/s]"
      ]
     },
     "metadata": {},
     "output_type": "display_data"
    },
    {
     "data": {
      "application/vnd.jupyter.widget-view+json": {
       "model_id": "7ab00632864f4fd88b489e2268d4139d",
       "version_major": 2,
       "version_minor": 0
      },
      "text/plain": [
       "FBP:   0%|          | 0/350 [00:00<?, ?it/s]"
      ]
     },
     "metadata": {},
     "output_type": "display_data"
    },
    {
     "data": {
      "application/vnd.jupyter.widget-view+json": {
       "model_id": "853c56d6bdda4ba58bc21322178727fe",
       "version_major": 2,
       "version_minor": 0
      },
      "text/plain": [
       "Resize:   0%|          | 0/50 [00:00<?, ?it/s]"
      ]
     },
     "metadata": {},
     "output_type": "display_data"
    },
    {
     "name": "stdout",
     "output_type": "stream",
     "text": [
      "4410087\n"
     ]
    },
    {
     "data": {
      "application/vnd.jupyter.widget-view+json": {
       "model_id": "904c3028d03a4a77a89b5f6e39f61e4b",
       "version_major": 2,
       "version_minor": 0
      },
      "text/plain": [
       "DRR:   0%|          | 0/450 [00:00<?, ?it/s]"
      ]
     },
     "metadata": {},
     "output_type": "display_data"
    },
    {
     "data": {
      "application/vnd.jupyter.widget-view+json": {
       "model_id": "35d47cc3ed36438989b571eae462d47a",
       "version_major": 2,
       "version_minor": 0
      },
      "text/plain": [
       "FBP:   0%|          | 0/350 [00:00<?, ?it/s]"
      ]
     },
     "metadata": {},
     "output_type": "display_data"
    },
    {
     "data": {
      "application/vnd.jupyter.widget-view+json": {
       "model_id": "e8025aa40b114ce7b9c84e4587790ada",
       "version_major": 2,
       "version_minor": 0
      },
      "text/plain": [
       "Resize:   0%|          | 0/50 [00:00<?, ?it/s]"
      ]
     },
     "metadata": {},
     "output_type": "display_data"
    },
    {
     "name": "stdout",
     "output_type": "stream",
     "text": [
      "4411557\n",
      "4411414\n"
     ]
    },
    {
     "data": {
      "application/vnd.jupyter.widget-view+json": {
       "model_id": "686752d3c2b1456a896a8c53063130e7",
       "version_major": 2,
       "version_minor": 0
      },
      "text/plain": [
       "DRR:   0%|          | 0/450 [00:00<?, ?it/s]"
      ]
     },
     "metadata": {},
     "output_type": "display_data"
    },
    {
     "data": {
      "application/vnd.jupyter.widget-view+json": {
       "model_id": "1636195c3b474fd584792bcbd2371ba8",
       "version_major": 2,
       "version_minor": 0
      },
      "text/plain": [
       "FBP:   0%|          | 0/350 [00:00<?, ?it/s]"
      ]
     },
     "metadata": {},
     "output_type": "display_data"
    },
    {
     "data": {
      "application/vnd.jupyter.widget-view+json": {
       "model_id": "7ef553454360424085bb21153462f425",
       "version_major": 2,
       "version_minor": 0
      },
      "text/plain": [
       "Resize:   0%|          | 0/50 [00:00<?, ?it/s]"
      ]
     },
     "metadata": {},
     "output_type": "display_data"
    },
    {
     "name": "stdout",
     "output_type": "stream",
     "text": [
      "4410088\n"
     ]
    },
    {
     "data": {
      "application/vnd.jupyter.widget-view+json": {
       "model_id": "dbe1cf63024847ffba51bcba01d4f0e9",
       "version_major": 2,
       "version_minor": 0
      },
      "text/plain": [
       "DRR:   0%|          | 0/450 [00:00<?, ?it/s]"
      ]
     },
     "metadata": {},
     "output_type": "display_data"
    },
    {
     "data": {
      "application/vnd.jupyter.widget-view+json": {
       "model_id": "88aacdddec58489ea8a82a893eb7acf7",
       "version_major": 2,
       "version_minor": 0
      },
      "text/plain": [
       "FBP:   0%|          | 0/350 [00:00<?, ?it/s]"
      ]
     },
     "metadata": {},
     "output_type": "display_data"
    },
    {
     "data": {
      "application/vnd.jupyter.widget-view+json": {
       "model_id": "e23f946890644290a8deac9547d49e85",
       "version_major": 2,
       "version_minor": 0
      },
      "text/plain": [
       "Resize:   0%|          | 0/50 [00:00<?, ?it/s]"
      ]
     },
     "metadata": {},
     "output_type": "display_data"
    },
    {
     "name": "stdout",
     "output_type": "stream",
     "text": [
      "4410086\n"
     ]
    },
    {
     "data": {
      "application/vnd.jupyter.widget-view+json": {
       "model_id": "db2f0ec1ad97468eae2d196e36943239",
       "version_major": 2,
       "version_minor": 0
      },
      "text/plain": [
       "DRR:   0%|          | 0/450 [00:00<?, ?it/s]"
      ]
     },
     "metadata": {},
     "output_type": "display_data"
    },
    {
     "data": {
      "application/vnd.jupyter.widget-view+json": {
       "model_id": "1c3c7bb8afb144988dd65c43c7c11e27",
       "version_major": 2,
       "version_minor": 0
      },
      "text/plain": [
       "FBP:   0%|          | 0/350 [00:00<?, ?it/s]"
      ]
     },
     "metadata": {},
     "output_type": "display_data"
    },
    {
     "data": {
      "application/vnd.jupyter.widget-view+json": {
       "model_id": "f59f424c84ca4388b49a88c7b90e7439",
       "version_major": 2,
       "version_minor": 0
      },
      "text/plain": [
       "Resize:   0%|          | 0/50 [00:00<?, ?it/s]"
      ]
     },
     "metadata": {},
     "output_type": "display_data"
    },
    {
     "name": "stdout",
     "output_type": "stream",
     "text": [
      "4411561\n",
      "sample1001\n",
      "4411562\n",
      "4411558\n",
      "4411417\n"
     ]
    },
    {
     "data": {
      "application/vnd.jupyter.widget-view+json": {
       "model_id": "fccc1a574ed04c298581bb1c705cd27d",
       "version_major": 2,
       "version_minor": 0
      },
      "text/plain": [
       "DRR:   0%|          | 0/450 [00:00<?, ?it/s]"
      ]
     },
     "metadata": {},
     "output_type": "display_data"
    },
    {
     "data": {
      "application/vnd.jupyter.widget-view+json": {
       "model_id": "42018798949e4a919926bf1530be240d",
       "version_major": 2,
       "version_minor": 0
      },
      "text/plain": [
       "FBP:   0%|          | 0/350 [00:00<?, ?it/s]"
      ]
     },
     "metadata": {},
     "output_type": "display_data"
    },
    {
     "data": {
      "application/vnd.jupyter.widget-view+json": {
       "model_id": "1d6f0cd867c84938a9727ebbd5fb43c7",
       "version_major": 2,
       "version_minor": 0
      },
      "text/plain": [
       "Resize:   0%|          | 0/50 [00:00<?, ?it/s]"
      ]
     },
     "metadata": {},
     "output_type": "display_data"
    },
    {
     "name": "stdout",
     "output_type": "stream",
     "text": [
      "sample1006\n",
      "4411430\n"
     ]
    },
    {
     "data": {
      "application/vnd.jupyter.widget-view+json": {
       "model_id": "583f72ea81cb4dd4af8140ce0cc5907b",
       "version_major": 2,
       "version_minor": 0
      },
      "text/plain": [
       "DRR:   0%|          | 0/450 [00:00<?, ?it/s]"
      ]
     },
     "metadata": {},
     "output_type": "display_data"
    },
    {
     "data": {
      "application/vnd.jupyter.widget-view+json": {
       "model_id": "68f680b9d2fa49d591f2c1e1b565e03a",
       "version_major": 2,
       "version_minor": 0
      },
      "text/plain": [
       "FBP:   0%|          | 0/350 [00:00<?, ?it/s]"
      ]
     },
     "metadata": {},
     "output_type": "display_data"
    },
    {
     "data": {
      "application/vnd.jupyter.widget-view+json": {
       "model_id": "d6fb1663be6c427b855936f0a098ba84",
       "version_major": 2,
       "version_minor": 0
      },
      "text/plain": [
       "Resize:   0%|          | 0/50 [00:00<?, ?it/s]"
      ]
     },
     "metadata": {},
     "output_type": "display_data"
    },
    {
     "name": "stdout",
     "output_type": "stream",
     "text": [
      "4410836\n"
     ]
    },
    {
     "data": {
      "application/vnd.jupyter.widget-view+json": {
       "model_id": "87e3802fb8bc4667b197500df6e2db16",
       "version_major": 2,
       "version_minor": 0
      },
      "text/plain": [
       "DRR:   0%|          | 0/450 [00:00<?, ?it/s]"
      ]
     },
     "metadata": {},
     "output_type": "display_data"
    },
    {
     "data": {
      "application/vnd.jupyter.widget-view+json": {
       "model_id": "a58b951a73db4b8bab29872bc9b7a3b9",
       "version_major": 2,
       "version_minor": 0
      },
      "text/plain": [
       "FBP:   0%|          | 0/350 [00:00<?, ?it/s]"
      ]
     },
     "metadata": {},
     "output_type": "display_data"
    },
    {
     "data": {
      "application/vnd.jupyter.widget-view+json": {
       "model_id": "4fcf264cadad49ad89f65bbea6402e1a",
       "version_major": 2,
       "version_minor": 0
      },
      "text/plain": [
       "Resize:   0%|          | 0/50 [00:00<?, ?it/s]"
      ]
     },
     "metadata": {},
     "output_type": "display_data"
    },
    {
     "name": "stdout",
     "output_type": "stream",
     "text": [
      "4411426\n"
     ]
    },
    {
     "data": {
      "application/vnd.jupyter.widget-view+json": {
       "model_id": "68052cedf5234d059300b565041bb110",
       "version_major": 2,
       "version_minor": 0
      },
      "text/plain": [
       "DRR:   0%|          | 0/450 [00:00<?, ?it/s]"
      ]
     },
     "metadata": {},
     "output_type": "display_data"
    },
    {
     "data": {
      "application/vnd.jupyter.widget-view+json": {
       "model_id": "6a3811f09e8b4c13baf7489c9ee40283",
       "version_major": 2,
       "version_minor": 0
      },
      "text/plain": [
       "FBP:   0%|          | 0/350 [00:00<?, ?it/s]"
      ]
     },
     "metadata": {},
     "output_type": "display_data"
    },
    {
     "data": {
      "application/vnd.jupyter.widget-view+json": {
       "model_id": "45ff0643814b407f8f94f0d25ec8a459",
       "version_major": 2,
       "version_minor": 0
      },
      "text/plain": [
       "Resize:   0%|          | 0/50 [00:00<?, ?it/s]"
      ]
     },
     "metadata": {},
     "output_type": "display_data"
    },
    {
     "name": "stdout",
     "output_type": "stream",
     "text": [
      "4411416\n"
     ]
    },
    {
     "data": {
      "application/vnd.jupyter.widget-view+json": {
       "model_id": "716f96537a114506b1d2a5d55f9913a4",
       "version_major": 2,
       "version_minor": 0
      },
      "text/plain": [
       "DRR:   0%|          | 0/450 [00:00<?, ?it/s]"
      ]
     },
     "metadata": {},
     "output_type": "display_data"
    },
    {
     "data": {
      "application/vnd.jupyter.widget-view+json": {
       "model_id": "e98bb71d62c249e2b7a9f331e599eee9",
       "version_major": 2,
       "version_minor": 0
      },
      "text/plain": [
       "FBP:   0%|          | 0/350 [00:00<?, ?it/s]"
      ]
     },
     "metadata": {},
     "output_type": "display_data"
    },
    {
     "data": {
      "application/vnd.jupyter.widget-view+json": {
       "model_id": "5b483800927b4855b25e619437dfc3c2",
       "version_major": 2,
       "version_minor": 0
      },
      "text/plain": [
       "Resize:   0%|          | 0/50 [00:00<?, ?it/s]"
      ]
     },
     "metadata": {},
     "output_type": "display_data"
    },
    {
     "name": "stdout",
     "output_type": "stream",
     "text": [
      "4411476\n",
      "4404366\n"
     ]
    },
    {
     "data": {
      "application/vnd.jupyter.widget-view+json": {
       "model_id": "63dd6b958457473da01719cee11dfa1b",
       "version_major": 2,
       "version_minor": 0
      },
      "text/plain": [
       "DRR:   0%|          | 0/450 [00:00<?, ?it/s]"
      ]
     },
     "metadata": {},
     "output_type": "display_data"
    },
    {
     "data": {
      "application/vnd.jupyter.widget-view+json": {
       "model_id": "1e07dad517c94442b63074a78be5c946",
       "version_major": 2,
       "version_minor": 0
      },
      "text/plain": [
       "FBP:   0%|          | 0/350 [00:00<?, ?it/s]"
      ]
     },
     "metadata": {},
     "output_type": "display_data"
    },
    {
     "data": {
      "application/vnd.jupyter.widget-view+json": {
       "model_id": "677cc77ece5e46618f36798f0b1da515",
       "version_major": 2,
       "version_minor": 0
      },
      "text/plain": [
       "Resize:   0%|          | 0/50 [00:00<?, ?it/s]"
      ]
     },
     "metadata": {},
     "output_type": "display_data"
    },
    {
     "name": "stdout",
     "output_type": "stream",
     "text": [
      "sample1003\n",
      "4410858\n"
     ]
    },
    {
     "data": {
      "application/vnd.jupyter.widget-view+json": {
       "model_id": "4e3cb542ab5241009adb187c59ca8106",
       "version_major": 2,
       "version_minor": 0
      },
      "text/plain": [
       "DRR:   0%|          | 0/450 [00:00<?, ?it/s]"
      ]
     },
     "metadata": {},
     "output_type": "display_data"
    },
    {
     "data": {
      "application/vnd.jupyter.widget-view+json": {
       "model_id": "6b8fcafd66c34f71b996c6147d5bf452",
       "version_major": 2,
       "version_minor": 0
      },
      "text/plain": [
       "FBP:   0%|          | 0/350 [00:00<?, ?it/s]"
      ]
     },
     "metadata": {},
     "output_type": "display_data"
    },
    {
     "data": {
      "application/vnd.jupyter.widget-view+json": {
       "model_id": "f5b73e5743ed45c89a82c3e5463615b7",
       "version_major": 2,
       "version_minor": 0
      },
      "text/plain": [
       "Resize:   0%|          | 0/50 [00:00<?, ?it/s]"
      ]
     },
     "metadata": {},
     "output_type": "display_data"
    },
    {
     "name": "stdout",
     "output_type": "stream",
     "text": [
      "4410831\n"
     ]
    },
    {
     "data": {
      "application/vnd.jupyter.widget-view+json": {
       "model_id": "0922b1fb830642f8a277e1bb261d8f93",
       "version_major": 2,
       "version_minor": 0
      },
      "text/plain": [
       "DRR:   0%|          | 0/450 [00:00<?, ?it/s]"
      ]
     },
     "metadata": {},
     "output_type": "display_data"
    },
    {
     "data": {
      "application/vnd.jupyter.widget-view+json": {
       "model_id": "7d9efeec27d54b69badcff64ffdd819e",
       "version_major": 2,
       "version_minor": 0
      },
      "text/plain": [
       "FBP:   0%|          | 0/350 [00:00<?, ?it/s]"
      ]
     },
     "metadata": {},
     "output_type": "display_data"
    },
    {
     "data": {
      "application/vnd.jupyter.widget-view+json": {
       "model_id": "fa80b9d78d1c453c931a4df206dd6a54",
       "version_major": 2,
       "version_minor": 0
      },
      "text/plain": [
       "Resize:   0%|          | 0/50 [00:00<?, ?it/s]"
      ]
     },
     "metadata": {},
     "output_type": "display_data"
    },
    {
     "name": "stdout",
     "output_type": "stream",
     "text": [
      "sample1004\n",
      "4411395\n"
     ]
    },
    {
     "data": {
      "application/vnd.jupyter.widget-view+json": {
       "model_id": "0dc003538e3a425eae8ce04e6a124ccc",
       "version_major": 2,
       "version_minor": 0
      },
      "text/plain": [
       "DRR:   0%|          | 0/450 [00:00<?, ?it/s]"
      ]
     },
     "metadata": {},
     "output_type": "display_data"
    },
    {
     "data": {
      "application/vnd.jupyter.widget-view+json": {
       "model_id": "8496e529d6e8428190d43cd18f42ea33",
       "version_major": 2,
       "version_minor": 0
      },
      "text/plain": [
       "FBP:   0%|          | 0/350 [00:00<?, ?it/s]"
      ]
     },
     "metadata": {},
     "output_type": "display_data"
    },
    {
     "data": {
      "application/vnd.jupyter.widget-view+json": {
       "model_id": "bfc7334088674f48898ec8c822fdd01a",
       "version_major": 2,
       "version_minor": 0
      },
      "text/plain": [
       "Resize:   0%|          | 0/50 [00:00<?, ?it/s]"
      ]
     },
     "metadata": {},
     "output_type": "display_data"
    },
    {
     "name": "stdout",
     "output_type": "stream",
     "text": [
      "4411563\n",
      "4411428\n"
     ]
    },
    {
     "data": {
      "application/vnd.jupyter.widget-view+json": {
       "model_id": "b5e27a7f9e454a9bae1ff3f5f1da4e5c",
       "version_major": 2,
       "version_minor": 0
      },
      "text/plain": [
       "DRR:   0%|          | 0/450 [00:00<?, ?it/s]"
      ]
     },
     "metadata": {},
     "output_type": "display_data"
    },
    {
     "data": {
      "application/vnd.jupyter.widget-view+json": {
       "model_id": "2c7ca67b2e864708b3defc0b71cc34a7",
       "version_major": 2,
       "version_minor": 0
      },
      "text/plain": [
       "FBP:   0%|          | 0/350 [00:00<?, ?it/s]"
      ]
     },
     "metadata": {},
     "output_type": "display_data"
    },
    {
     "data": {
      "application/vnd.jupyter.widget-view+json": {
       "model_id": "654e139159c74d4fad589cb8ba54e36d",
       "version_major": 2,
       "version_minor": 0
      },
      "text/plain": [
       "Resize:   0%|          | 0/50 [00:00<?, ?it/s]"
      ]
     },
     "metadata": {},
     "output_type": "display_data"
    },
    {
     "name": "stdout",
     "output_type": "stream",
     "text": [
      "4410838\n"
     ]
    },
    {
     "data": {
      "application/vnd.jupyter.widget-view+json": {
       "model_id": "10b7a484daae432eb13062c37b0bcd25",
       "version_major": 2,
       "version_minor": 0
      },
      "text/plain": [
       "DRR:   0%|          | 0/450 [00:00<?, ?it/s]"
      ]
     },
     "metadata": {},
     "output_type": "display_data"
    },
    {
     "data": {
      "application/vnd.jupyter.widget-view+json": {
       "model_id": "3bee1bfb8fef4eef830099528609fb55",
       "version_major": 2,
       "version_minor": 0
      },
      "text/plain": [
       "FBP:   0%|          | 0/350 [00:00<?, ?it/s]"
      ]
     },
     "metadata": {},
     "output_type": "display_data"
    },
    {
     "data": {
      "application/vnd.jupyter.widget-view+json": {
       "model_id": "d8227f5a827f40ff90aa8915a387f9b4",
       "version_major": 2,
       "version_minor": 0
      },
      "text/plain": [
       "Resize:   0%|          | 0/50 [00:00<?, ?it/s]"
      ]
     },
     "metadata": {},
     "output_type": "display_data"
    },
    {
     "name": "stdout",
     "output_type": "stream",
     "text": [
      "4411427\n"
     ]
    },
    {
     "data": {
      "application/vnd.jupyter.widget-view+json": {
       "model_id": "c7368a1f091048399fd1d97034224dfd",
       "version_major": 2,
       "version_minor": 0
      },
      "text/plain": [
       "DRR:   0%|          | 0/450 [00:00<?, ?it/s]"
      ]
     },
     "metadata": {},
     "output_type": "display_data"
    },
    {
     "data": {
      "application/vnd.jupyter.widget-view+json": {
       "model_id": "18ef4bc0dbe44f99a4999cd69b496703",
       "version_major": 2,
       "version_minor": 0
      },
      "text/plain": [
       "FBP:   0%|          | 0/350 [00:00<?, ?it/s]"
      ]
     },
     "metadata": {},
     "output_type": "display_data"
    },
    {
     "data": {
      "application/vnd.jupyter.widget-view+json": {
       "model_id": "ef2e610a58be4e84bf4f6cbe81a6b6e1",
       "version_major": 2,
       "version_minor": 0
      },
      "text/plain": [
       "Resize:   0%|          | 0/50 [00:00<?, ?it/s]"
      ]
     },
     "metadata": {},
     "output_type": "display_data"
    },
    {
     "name": "stdout",
     "output_type": "stream",
     "text": [
      "4410402\n"
     ]
    },
    {
     "data": {
      "application/vnd.jupyter.widget-view+json": {
       "model_id": "8c26fecdce0b4ce2add9da6ea373f4c2",
       "version_major": 2,
       "version_minor": 0
      },
      "text/plain": [
       "DRR:   0%|          | 0/450 [00:00<?, ?it/s]"
      ]
     },
     "metadata": {},
     "output_type": "display_data"
    },
    {
     "data": {
      "application/vnd.jupyter.widget-view+json": {
       "model_id": "0ef867851a144f7d9a261f2eefe36b21",
       "version_major": 2,
       "version_minor": 0
      },
      "text/plain": [
       "FBP:   0%|          | 0/350 [00:00<?, ?it/s]"
      ]
     },
     "metadata": {},
     "output_type": "display_data"
    },
    {
     "data": {
      "application/vnd.jupyter.widget-view+json": {
       "model_id": "f42c55f677644ffca839450687828d72",
       "version_major": 2,
       "version_minor": 0
      },
      "text/plain": [
       "Resize:   0%|          | 0/50 [00:00<?, ?it/s]"
      ]
     },
     "metadata": {},
     "output_type": "display_data"
    },
    {
     "name": "stdout",
     "output_type": "stream",
     "text": [
      "4410825\n"
     ]
    },
    {
     "data": {
      "application/vnd.jupyter.widget-view+json": {
       "model_id": "5d07d0e3b7e34e38aefa07c912dc74e3",
       "version_major": 2,
       "version_minor": 0
      },
      "text/plain": [
       "DRR:   0%|          | 0/450 [00:00<?, ?it/s]"
      ]
     },
     "metadata": {},
     "output_type": "display_data"
    },
    {
     "data": {
      "application/vnd.jupyter.widget-view+json": {
       "model_id": "5ff4d524c7ef45139a3ea54f46bd1ccf",
       "version_major": 2,
       "version_minor": 0
      },
      "text/plain": [
       "FBP:   0%|          | 0/350 [00:00<?, ?it/s]"
      ]
     },
     "metadata": {},
     "output_type": "display_data"
    },
    {
     "data": {
      "application/vnd.jupyter.widget-view+json": {
       "model_id": "0b8e5bfb2bc64b1294e25c4c3188bb08",
       "version_major": 2,
       "version_minor": 0
      },
      "text/plain": [
       "Resize:   0%|          | 0/50 [00:00<?, ?it/s]"
      ]
     },
     "metadata": {},
     "output_type": "display_data"
    },
    {
     "name": "stdout",
     "output_type": "stream",
     "text": [
      "4411406\n"
     ]
    },
    {
     "data": {
      "application/vnd.jupyter.widget-view+json": {
       "model_id": "526d82e32d3d4ea58245f300cf7b3e40",
       "version_major": 2,
       "version_minor": 0
      },
      "text/plain": [
       "DRR:   0%|          | 0/450 [00:00<?, ?it/s]"
      ]
     },
     "metadata": {},
     "output_type": "display_data"
    },
    {
     "data": {
      "application/vnd.jupyter.widget-view+json": {
       "model_id": "1d470619aba1410687b92ff2fa3d8588",
       "version_major": 2,
       "version_minor": 0
      },
      "text/plain": [
       "FBP:   0%|          | 0/350 [00:00<?, ?it/s]"
      ]
     },
     "metadata": {},
     "output_type": "display_data"
    },
    {
     "data": {
      "application/vnd.jupyter.widget-view+json": {
       "model_id": "20843857636e440d8e0ad18703a31d3f",
       "version_major": 2,
       "version_minor": 0
      },
      "text/plain": [
       "Resize:   0%|          | 0/50 [00:00<?, ?it/s]"
      ]
     },
     "metadata": {},
     "output_type": "display_data"
    },
    {
     "name": "stdout",
     "output_type": "stream",
     "text": [
      "4410833\n"
     ]
    },
    {
     "data": {
      "application/vnd.jupyter.widget-view+json": {
       "model_id": "93e3a665fcb94e84bb13afc6218bfb92",
       "version_major": 2,
       "version_minor": 0
      },
      "text/plain": [
       "DRR:   0%|          | 0/450 [00:00<?, ?it/s]"
      ]
     },
     "metadata": {},
     "output_type": "display_data"
    },
    {
     "data": {
      "application/vnd.jupyter.widget-view+json": {
       "model_id": "d405445dcb60447396ebbbf686ed1200",
       "version_major": 2,
       "version_minor": 0
      },
      "text/plain": [
       "FBP:   0%|          | 0/350 [00:00<?, ?it/s]"
      ]
     },
     "metadata": {},
     "output_type": "display_data"
    },
    {
     "data": {
      "application/vnd.jupyter.widget-view+json": {
       "model_id": "f19d15c144374b67ae49086c4ffb7e83",
       "version_major": 2,
       "version_minor": 0
      },
      "text/plain": [
       "Resize:   0%|          | 0/50 [00:00<?, ?it/s]"
      ]
     },
     "metadata": {},
     "output_type": "display_data"
    },
    {
     "name": "stdout",
     "output_type": "stream",
     "text": [
      "sample100\n",
      "4411475\n",
      "4411401\n"
     ]
    },
    {
     "data": {
      "application/vnd.jupyter.widget-view+json": {
       "model_id": "a5f52ed1776f4c3b9c6d8f49f8c966d3",
       "version_major": 2,
       "version_minor": 0
      },
      "text/plain": [
       "DRR:   0%|          | 0/450 [00:00<?, ?it/s]"
      ]
     },
     "metadata": {},
     "output_type": "display_data"
    },
    {
     "data": {
      "application/vnd.jupyter.widget-view+json": {
       "model_id": "ad8b1a31df434cbe8c56956da9b49c40",
       "version_major": 2,
       "version_minor": 0
      },
      "text/plain": [
       "FBP:   0%|          | 0/350 [00:00<?, ?it/s]"
      ]
     },
     "metadata": {},
     "output_type": "display_data"
    },
    {
     "data": {
      "application/vnd.jupyter.widget-view+json": {
       "model_id": "ee2f0b4226134caebc38fff9915dc474",
       "version_major": 2,
       "version_minor": 0
      },
      "text/plain": [
       "Resize:   0%|          | 0/50 [00:00<?, ?it/s]"
      ]
     },
     "metadata": {},
     "output_type": "display_data"
    },
    {
     "name": "stdout",
     "output_type": "stream",
     "text": [
      "4409574\n"
     ]
    },
    {
     "data": {
      "application/vnd.jupyter.widget-view+json": {
       "model_id": "83ece4e920234fb992fe544137f748e5",
       "version_major": 2,
       "version_minor": 0
      },
      "text/plain": [
       "DRR:   0%|          | 0/450 [00:00<?, ?it/s]"
      ]
     },
     "metadata": {},
     "output_type": "display_data"
    },
    {
     "data": {
      "application/vnd.jupyter.widget-view+json": {
       "model_id": "ee45f8ad02d946679c41211afb990976",
       "version_major": 2,
       "version_minor": 0
      },
      "text/plain": [
       "FBP:   0%|          | 0/350 [00:00<?, ?it/s]"
      ]
     },
     "metadata": {},
     "output_type": "display_data"
    },
    {
     "data": {
      "application/vnd.jupyter.widget-view+json": {
       "model_id": "ce1e1502184143c99497992820092efb",
       "version_major": 2,
       "version_minor": 0
      },
      "text/plain": [
       "Resize:   0%|          | 0/50 [00:00<?, ?it/s]"
      ]
     },
     "metadata": {},
     "output_type": "display_data"
    },
    {
     "name": "stdout",
     "output_type": "stream",
     "text": [
      "4411796\n",
      "4410401\n"
     ]
    },
    {
     "data": {
      "application/vnd.jupyter.widget-view+json": {
       "model_id": "f55664fcaebd40338beff8157038670f",
       "version_major": 2,
       "version_minor": 0
      },
      "text/plain": [
       "DRR:   0%|          | 0/450 [00:00<?, ?it/s]"
      ]
     },
     "metadata": {},
     "output_type": "display_data"
    },
    {
     "data": {
      "application/vnd.jupyter.widget-view+json": {
       "model_id": "43fd000c63fd46509c69a0e80e00cbf9",
       "version_major": 2,
       "version_minor": 0
      },
      "text/plain": [
       "FBP:   0%|          | 0/350 [00:00<?, ?it/s]"
      ]
     },
     "metadata": {},
     "output_type": "display_data"
    },
    {
     "data": {
      "application/vnd.jupyter.widget-view+json": {
       "model_id": "f627792d05cb4e9c83ccea1e94ed0dcb",
       "version_major": 2,
       "version_minor": 0
      },
      "text/plain": [
       "Resize:   0%|          | 0/50 [00:00<?, ?it/s]"
      ]
     },
     "metadata": {},
     "output_type": "display_data"
    },
    {
     "name": "stdout",
     "output_type": "stream",
     "text": [
      "4411429\n"
     ]
    },
    {
     "data": {
      "application/vnd.jupyter.widget-view+json": {
       "model_id": "fbda9d625c254bad859294235d5dad01",
       "version_major": 2,
       "version_minor": 0
      },
      "text/plain": [
       "DRR:   0%|          | 0/450 [00:00<?, ?it/s]"
      ]
     },
     "metadata": {},
     "output_type": "display_data"
    },
    {
     "data": {
      "application/vnd.jupyter.widget-view+json": {
       "model_id": "51c8beaac80e4b56981f2f0a27d0840b",
       "version_major": 2,
       "version_minor": 0
      },
      "text/plain": [
       "FBP:   0%|          | 0/350 [00:00<?, ?it/s]"
      ]
     },
     "metadata": {},
     "output_type": "display_data"
    },
    {
     "data": {
      "application/vnd.jupyter.widget-view+json": {
       "model_id": "6d862a71de2d4d6793f74b73e8d6c27d",
       "version_major": 2,
       "version_minor": 0
      },
      "text/plain": [
       "Resize:   0%|          | 0/50 [00:00<?, ?it/s]"
      ]
     },
     "metadata": {},
     "output_type": "display_data"
    },
    {
     "name": "stdout",
     "output_type": "stream",
     "text": [
      "4411424\n"
     ]
    },
    {
     "data": {
      "application/vnd.jupyter.widget-view+json": {
       "model_id": "b8cfc149a09c411e8fb910828ca60029",
       "version_major": 2,
       "version_minor": 0
      },
      "text/plain": [
       "DRR:   0%|          | 0/450 [00:00<?, ?it/s]"
      ]
     },
     "metadata": {},
     "output_type": "display_data"
    },
    {
     "data": {
      "application/vnd.jupyter.widget-view+json": {
       "model_id": "c7d4c036856248c59b7097493ee4ec9d",
       "version_major": 2,
       "version_minor": 0
      },
      "text/plain": [
       "FBP:   0%|          | 0/350 [00:00<?, ?it/s]"
      ]
     },
     "metadata": {},
     "output_type": "display_data"
    },
    {
     "data": {
      "application/vnd.jupyter.widget-view+json": {
       "model_id": "599c0115a1da494e8cf0e4fb15864deb",
       "version_major": 2,
       "version_minor": 0
      },
      "text/plain": [
       "Resize:   0%|          | 0/50 [00:00<?, ?it/s]"
      ]
     },
     "metadata": {},
     "output_type": "display_data"
    },
    {
     "name": "stdout",
     "output_type": "stream",
     "text": [
      "4267523\n"
     ]
    },
    {
     "data": {
      "application/vnd.jupyter.widget-view+json": {
       "model_id": "ef84f843d94547ad99fbcfb63df65cc5",
       "version_major": 2,
       "version_minor": 0
      },
      "text/plain": [
       "DRR:   0%|          | 0/450 [00:00<?, ?it/s]"
      ]
     },
     "metadata": {},
     "output_type": "display_data"
    },
    {
     "data": {
      "application/vnd.jupyter.widget-view+json": {
       "model_id": "218a9fcc26554b5c8f474ddc5e540ae8",
       "version_major": 2,
       "version_minor": 0
      },
      "text/plain": [
       "FBP:   0%|          | 0/350 [00:00<?, ?it/s]"
      ]
     },
     "metadata": {},
     "output_type": "display_data"
    },
    {
     "data": {
      "application/vnd.jupyter.widget-view+json": {
       "model_id": "b7f7ff5c39394e6ebc9f42c0fb7a7215",
       "version_major": 2,
       "version_minor": 0
      },
      "text/plain": [
       "Resize:   0%|          | 0/50 [00:00<?, ?it/s]"
      ]
     },
     "metadata": {},
     "output_type": "display_data"
    },
    {
     "name": "stdout",
     "output_type": "stream",
     "text": [
      "4404148\n"
     ]
    },
    {
     "data": {
      "application/vnd.jupyter.widget-view+json": {
       "model_id": "e3ffe8cd18944debaee522bd2ac30ce3",
       "version_major": 2,
       "version_minor": 0
      },
      "text/plain": [
       "DRR:   0%|          | 0/450 [00:00<?, ?it/s]"
      ]
     },
     "metadata": {},
     "output_type": "display_data"
    },
    {
     "data": {
      "application/vnd.jupyter.widget-view+json": {
       "model_id": "0fb138e6be49491abcffab38d4882e92",
       "version_major": 2,
       "version_minor": 0
      },
      "text/plain": [
       "FBP:   0%|          | 0/350 [00:00<?, ?it/s]"
      ]
     },
     "metadata": {},
     "output_type": "display_data"
    },
    {
     "data": {
      "application/vnd.jupyter.widget-view+json": {
       "model_id": "3a807eee9512471c8a4e04a3e440b955",
       "version_major": 2,
       "version_minor": 0
      },
      "text/plain": [
       "Resize:   0%|          | 0/50 [00:00<?, ?it/s]"
      ]
     },
     "metadata": {},
     "output_type": "display_data"
    },
    {
     "name": "stdout",
     "output_type": "stream",
     "text": [
      "4411559\n",
      "4410840\n"
     ]
    },
    {
     "data": {
      "application/vnd.jupyter.widget-view+json": {
       "model_id": "0c77bbc890c44dd5854c7e3fc957bab7",
       "version_major": 2,
       "version_minor": 0
      },
      "text/plain": [
       "DRR:   0%|          | 0/450 [00:00<?, ?it/s]"
      ]
     },
     "metadata": {},
     "output_type": "display_data"
    },
    {
     "data": {
      "application/vnd.jupyter.widget-view+json": {
       "model_id": "93cdc947d6a844cc8e02b63a161fd6f1",
       "version_major": 2,
       "version_minor": 0
      },
      "text/plain": [
       "FBP:   0%|          | 0/350 [00:00<?, ?it/s]"
      ]
     },
     "metadata": {},
     "output_type": "display_data"
    },
    {
     "data": {
      "application/vnd.jupyter.widget-view+json": {
       "model_id": "f2102a25e23e483daa66b2591a1dc69d",
       "version_major": 2,
       "version_minor": 0
      },
      "text/plain": [
       "Resize:   0%|          | 0/50 [00:00<?, ?it/s]"
      ]
     },
     "metadata": {},
     "output_type": "display_data"
    },
    {
     "name": "stdout",
     "output_type": "stream",
     "text": [
      "4404449\n"
     ]
    },
    {
     "data": {
      "application/vnd.jupyter.widget-view+json": {
       "model_id": "0ccae44640914db4bb751039bff225bc",
       "version_major": 2,
       "version_minor": 0
      },
      "text/plain": [
       "DRR:   0%|          | 0/450 [00:00<?, ?it/s]"
      ]
     },
     "metadata": {},
     "output_type": "display_data"
    },
    {
     "data": {
      "application/vnd.jupyter.widget-view+json": {
       "model_id": "f2be80e116b6429da6ab0d6632632c03",
       "version_major": 2,
       "version_minor": 0
      },
      "text/plain": [
       "FBP:   0%|          | 0/350 [00:00<?, ?it/s]"
      ]
     },
     "metadata": {},
     "output_type": "display_data"
    },
    {
     "data": {
      "application/vnd.jupyter.widget-view+json": {
       "model_id": "8d78ca5ca47d4fb19ab3875d9161e35a",
       "version_major": 2,
       "version_minor": 0
      },
      "text/plain": [
       "Resize:   0%|          | 0/50 [00:00<?, ?it/s]"
      ]
     },
     "metadata": {},
     "output_type": "display_data"
    },
    {
     "name": "stdout",
     "output_type": "stream",
     "text": [
      "4411407\n",
      "4410830\n"
     ]
    },
    {
     "data": {
      "application/vnd.jupyter.widget-view+json": {
       "model_id": "83dd7fe4958043dbad64719af76da8ab",
       "version_major": 2,
       "version_minor": 0
      },
      "text/plain": [
       "DRR:   0%|          | 0/450 [00:00<?, ?it/s]"
      ]
     },
     "metadata": {},
     "output_type": "display_data"
    },
    {
     "data": {
      "application/vnd.jupyter.widget-view+json": {
       "model_id": "fbefbaa301704337807debee0ee122d5",
       "version_major": 2,
       "version_minor": 0
      },
      "text/plain": [
       "FBP:   0%|          | 0/350 [00:00<?, ?it/s]"
      ]
     },
     "metadata": {},
     "output_type": "display_data"
    },
    {
     "data": {
      "application/vnd.jupyter.widget-view+json": {
       "model_id": "1e77a1e3298f4751a01804ebcb7ca10d",
       "version_major": 2,
       "version_minor": 0
      },
      "text/plain": [
       "Resize:   0%|          | 0/50 [00:00<?, ?it/s]"
      ]
     },
     "metadata": {},
     "output_type": "display_data"
    },
    {
     "name": "stdout",
     "output_type": "stream",
     "text": [
      "sample1008\n",
      "4411420\n"
     ]
    },
    {
     "data": {
      "application/vnd.jupyter.widget-view+json": {
       "model_id": "5633e8471c67467181f744121a2765d7",
       "version_major": 2,
       "version_minor": 0
      },
      "text/plain": [
       "DRR:   0%|          | 0/450 [00:00<?, ?it/s]"
      ]
     },
     "metadata": {},
     "output_type": "display_data"
    },
    {
     "data": {
      "application/vnd.jupyter.widget-view+json": {
       "model_id": "ed1f8faa190445d6b30c43a924a6ccbb",
       "version_major": 2,
       "version_minor": 0
      },
      "text/plain": [
       "FBP:   0%|          | 0/350 [00:00<?, ?it/s]"
      ]
     },
     "metadata": {},
     "output_type": "display_data"
    },
    {
     "data": {
      "application/vnd.jupyter.widget-view+json": {
       "model_id": "762e135a05b542038d281bb019a04bd8",
       "version_major": 2,
       "version_minor": 0
      },
      "text/plain": [
       "Resize:   0%|          | 0/50 [00:00<?, ?it/s]"
      ]
     },
     "metadata": {},
     "output_type": "display_data"
    },
    {
     "name": "stdout",
     "output_type": "stream",
     "text": [
      "4411432\n"
     ]
    },
    {
     "data": {
      "application/vnd.jupyter.widget-view+json": {
       "model_id": "4f71f863ca734575887870ade140f3f5",
       "version_major": 2,
       "version_minor": 0
      },
      "text/plain": [
       "DRR:   0%|          | 0/450 [00:00<?, ?it/s]"
      ]
     },
     "metadata": {},
     "output_type": "display_data"
    },
    {
     "data": {
      "application/vnd.jupyter.widget-view+json": {
       "model_id": "80c73321e7eb40dc846e4f8ee27f4f98",
       "version_major": 2,
       "version_minor": 0
      },
      "text/plain": [
       "FBP:   0%|          | 0/350 [00:00<?, ?it/s]"
      ]
     },
     "metadata": {},
     "output_type": "display_data"
    },
    {
     "data": {
      "application/vnd.jupyter.widget-view+json": {
       "model_id": "ec1db50b1527463390e97f1c08d35fad",
       "version_major": 2,
       "version_minor": 0
      },
      "text/plain": [
       "Resize:   0%|          | 0/50 [00:00<?, ?it/s]"
      ]
     },
     "metadata": {},
     "output_type": "display_data"
    },
    {
     "name": "stdout",
     "output_type": "stream",
     "text": [
      "4411423\n"
     ]
    },
    {
     "data": {
      "application/vnd.jupyter.widget-view+json": {
       "model_id": "38d091bf015e46d3b512a8b7d4e65190",
       "version_major": 2,
       "version_minor": 0
      },
      "text/plain": [
       "DRR:   0%|          | 0/450 [00:00<?, ?it/s]"
      ]
     },
     "metadata": {},
     "output_type": "display_data"
    },
    {
     "data": {
      "application/vnd.jupyter.widget-view+json": {
       "model_id": "df9709967cde4c11866d96ce585b8aa2",
       "version_major": 2,
       "version_minor": 0
      },
      "text/plain": [
       "FBP:   0%|          | 0/350 [00:00<?, ?it/s]"
      ]
     },
     "metadata": {},
     "output_type": "display_data"
    },
    {
     "data": {
      "application/vnd.jupyter.widget-view+json": {
       "model_id": "4d39d73e59de4e0c8ad7e3ab3deccc15",
       "version_major": 2,
       "version_minor": 0
      },
      "text/plain": [
       "Resize:   0%|          | 0/50 [00:00<?, ?it/s]"
      ]
     },
     "metadata": {},
     "output_type": "display_data"
    },
    {
     "name": "stdout",
     "output_type": "stream",
     "text": [
      "4404151\n"
     ]
    },
    {
     "data": {
      "application/vnd.jupyter.widget-view+json": {
       "model_id": "027609b3a3b84758ae03bb5d1a20e090",
       "version_major": 2,
       "version_minor": 0
      },
      "text/plain": [
       "DRR:   0%|          | 0/450 [00:00<?, ?it/s]"
      ]
     },
     "metadata": {},
     "output_type": "display_data"
    },
    {
     "data": {
      "application/vnd.jupyter.widget-view+json": {
       "model_id": "e3635772bf35425da6ca4e9c15a85115",
       "version_major": 2,
       "version_minor": 0
      },
      "text/plain": [
       "FBP:   0%|          | 0/350 [00:00<?, ?it/s]"
      ]
     },
     "metadata": {},
     "output_type": "display_data"
    },
    {
     "data": {
      "application/vnd.jupyter.widget-view+json": {
       "model_id": "d23631fdca8b4852ac28bf084434ba79",
       "version_major": 2,
       "version_minor": 0
      },
      "text/plain": [
       "Resize:   0%|          | 0/50 [00:00<?, ?it/s]"
      ]
     },
     "metadata": {},
     "output_type": "display_data"
    },
    {
     "name": "stdout",
     "output_type": "stream",
     "text": [
      "4409573\n"
     ]
    },
    {
     "data": {
      "application/vnd.jupyter.widget-view+json": {
       "model_id": "902b7c3a4370484f983236b40955842a",
       "version_major": 2,
       "version_minor": 0
      },
      "text/plain": [
       "DRR:   0%|          | 0/450 [00:00<?, ?it/s]"
      ]
     },
     "metadata": {},
     "output_type": "display_data"
    },
    {
     "data": {
      "application/vnd.jupyter.widget-view+json": {
       "model_id": "4f2715adf9cc4765a06371b7163ce652",
       "version_major": 2,
       "version_minor": 0
      },
      "text/plain": [
       "FBP:   0%|          | 0/350 [00:00<?, ?it/s]"
      ]
     },
     "metadata": {},
     "output_type": "display_data"
    },
    {
     "data": {
      "application/vnd.jupyter.widget-view+json": {
       "model_id": "feb88c4bc9e34bcdab03e53cbf7c180d",
       "version_major": 2,
       "version_minor": 0
      },
      "text/plain": [
       "Resize:   0%|          | 0/50 [00:00<?, ?it/s]"
      ]
     },
     "metadata": {},
     "output_type": "display_data"
    },
    {
     "name": "stdout",
     "output_type": "stream",
     "text": [
      "4411397\n"
     ]
    },
    {
     "data": {
      "application/vnd.jupyter.widget-view+json": {
       "model_id": "cd2338a86f244d56978dc02eb965309a",
       "version_major": 2,
       "version_minor": 0
      },
      "text/plain": [
       "DRR:   0%|          | 0/450 [00:00<?, ?it/s]"
      ]
     },
     "metadata": {},
     "output_type": "display_data"
    },
    {
     "data": {
      "application/vnd.jupyter.widget-view+json": {
       "model_id": "fdb72bbbb9184adcb297dbafdf00ff45",
       "version_major": 2,
       "version_minor": 0
      },
      "text/plain": [
       "FBP:   0%|          | 0/350 [00:00<?, ?it/s]"
      ]
     },
     "metadata": {},
     "output_type": "display_data"
    },
    {
     "data": {
      "application/vnd.jupyter.widget-view+json": {
       "model_id": "8f5ca5d4c50e465f8a01c5bb2146be19",
       "version_major": 2,
       "version_minor": 0
      },
      "text/plain": [
       "Resize:   0%|          | 0/50 [00:00<?, ?it/s]"
      ]
     },
     "metadata": {},
     "output_type": "display_data"
    },
    {
     "name": "stdout",
     "output_type": "stream",
     "text": [
      "4411415\n"
     ]
    },
    {
     "data": {
      "application/vnd.jupyter.widget-view+json": {
       "model_id": "5e1a7b6de1bf41549d129ed8b0309e9d",
       "version_major": 2,
       "version_minor": 0
      },
      "text/plain": [
       "DRR:   0%|          | 0/450 [00:00<?, ?it/s]"
      ]
     },
     "metadata": {},
     "output_type": "display_data"
    },
    {
     "data": {
      "application/vnd.jupyter.widget-view+json": {
       "model_id": "d6cae9e7d84a4e7cae9ba036d3a89637",
       "version_major": 2,
       "version_minor": 0
      },
      "text/plain": [
       "FBP:   0%|          | 0/350 [00:00<?, ?it/s]"
      ]
     },
     "metadata": {},
     "output_type": "display_data"
    },
    {
     "data": {
      "application/vnd.jupyter.widget-view+json": {
       "model_id": "ac125060871a47fc96ffb3992bf99930",
       "version_major": 2,
       "version_minor": 0
      },
      "text/plain": [
       "Resize:   0%|          | 0/50 [00:00<?, ?it/s]"
      ]
     },
     "metadata": {},
     "output_type": "display_data"
    },
    {
     "data": {
      "image/png": "[encoded data removed]",
      "text/plain": [
       "<Figure size 432x288 with 1 Axes>"
      ]
     },
     "metadata": {
      "needs_background": "light"
     },
     "output_type": "display_data"
    },
    {
     "ename": "",
     "evalue": "",
     "output_type": "error",
     "traceback": [
      "\u001b[1;31mThe Kernel crashed while executing code in the the current cell or a previous cell. Please review the code in the cell(s) to identify a possible cause of the failure. Click <a href='https://aka.ms/vscodeJupyterKernelCrash'>here</a> for more info. View Jupyter <a href='command:jupyter.viewOutput'>log</a> for further details."
     ]
    }
   ],
   "source": [
    "import importlib\n",
    "import imageio.v2 as imageio\n",
    "from patient import patient\n",
    "import glob\n",
    "\n",
    "# https://dataverse.harvard.edu/dataset.xhtml?persistentId=doi:10.7910/DVN/6ACUZJ\n",
    "\n",
    "from tqdm.notebook import tqdm\n",
    "for vol_path in tqdm(glob.glob(\"./data/*\")):\n",
    "    if \"__\" in vol_path:\n",
    "        continue\n",
    "    vol = vol_path.split(\"/\")[-1]\n",
    "    print(vol)\n",
    "    # print(vol)\n",
    "    p = patient.patient(name=vol)\n",
    "# imageio.mimsave(f\"pics/drr.gif\", p.drr.img)"
   ]
  },
  {
   "cell_type": "code",
   "execution_count": 4,
   "metadata": {},
   "outputs": [
    {
     "name": "stderr",
     "output_type": "stream",
     "text": [
      "Lossy conversion from int16 to uint8. Range [0, 251]. Convert image to uint8 prior to saving to suppress this warning.\n",
      "Lossy conversion from float32 to uint8. Range [-242.0, 157.0]. Convert image to uint8 prior to saving to suppress this warning.\n"
     ]
    }
   ],
   "source": [
    "from patient import patient\n",
    "import imageio.v2 as imageio\n",
    "import cupy as cp\n",
    "\n",
    "p = patient.patient(name=\"4411469\")\n",
    "\n",
    "a = 180\n",
    "\n",
    "\n",
    "imageio.imsave(\"pics/ct.png\", cp.asnumpy(p.ct.img[a]))\n",
    "# imageio.imsave(\"pics/test2.png\", p.get_resized_fbp(p.get_equiv(a, plot=True)[0]))\n",
    "imageio.imsave(\"pics/test2.png\", cp.asnumpy(p.get_equiv_fbp(a)))\n",
    "\n",
    "imgct = imageio.imread(\"pics/ct.png\").astype(\"float32\")\n",
    "imgrec = imageio.imread(\"pics/test2.png\").astype(\"float32\")\n",
    "\n",
    "imageio.imsave(\"pics/diff.png\", imgct - imgrec)"
   ]
  },
  {
   "cell_type": "markdown",
   "metadata": {},
   "source": []
  },
  {
   "attachments": {},
   "cell_type": "markdown",
   "metadata": {},
   "source": [
    "## Xray set"
   ]
  },
  {
   "cell_type": "code",
   "execution_count": null,
   "metadata": {},
   "outputs": [
    {
     "data": {
      "application/vnd.jupyter.widget-view+json": {
       "model_id": "50337c39c9de4e1bacf7e24b6296febd",
       "version_major": 2,
       "version_minor": 0
      },
      "text/plain": [
       "  0%|          | 0/450 [00:00<?, ?it/s]"
      ]
     },
     "metadata": {},
     "output_type": "display_data"
    }
   ],
   "source": [
    "xrayset = xray.xrayset(\n",
    "        name=\"phantom\",\n",
    "        sheets=450,\n",
    "        voltage=120\n",
    "    )\n",
    "\n",
    "imageio.mimsave(\"x.gif\", xrayset.img)"
   ]
  },
  {
   "cell_type": "code",
   "execution_count": null,
   "metadata": {},
   "outputs": [],
   "source": [
    "# fbp from xrayset\n",
    "rec2 = fbp.reconstruction(\n",
    "        xrayset,\n",
    "        height=300,\n",
    "        # adjust_alpha=4.,\n",
    "        # adjust_beta=-120.,\n",
    "        rotate=211\n",
    "    )\n",
    "\n",
    "imageio.mimsave(\"test.png\", rec2.get(565))"
   ]
  }
 ],
 "metadata": {
  "kernelspec": {
   "display_name": "Python 3 (ipykernel)",
   "language": "python",
   "name": "python3"
  },
  "orig_nbformat": 4,
  "vscode": {
   "interpreter": {
    "hash": "da9ac5d7c4e967160d4eddc6864285750b07d26b36aae015b5a1a36de670b7f6"
   }
  }
 },
 "nbformat": 4,
 "nbformat_minor": 2
}
