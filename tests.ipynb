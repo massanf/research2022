{
 "cells": [
  {
   "cell_type": "code",
   "execution_count": 1,
   "metadata": {},
   "outputs": [
    {
     "name": "stderr",
     "output_type": "stream",
     "text": [
      "/home/u00606/research/xray/xray.py:3: TqdmWarning: IProgress not found. Please update jupyter and ipywidgets. See https://ipywidgets.readthedocs.io/en/stable/user_install.html\n",
      "  from tqdm.autonotebook import tqdm as notebook_tqdm\n"
     ]
    }
   ],
   "source": [
    "import imageio.v2 as imageio\n",
    "import filtered_back_projection.tompy as fbp\n",
    "from xray import xray\n",
    "from ct import ct"
   ]
  },
  {
   "cell_type": "code",
   "execution_count": 2,
   "metadata": {},
   "outputs": [
    {
     "name": "stderr",
     "output_type": "stream",
     "text": [
      "100%|██████████| 450/450 [00:10<00:00, 42.48it/s]\n"
     ]
    }
   ],
   "source": [
    "x = xray.xrayset(\n",
    "        name=\"phantom\",\n",
    "        id=1,\n",
    "        sheets=450,\n",
    "        voltage=120\n",
    "    )"
   ]
  },
  {
   "cell_type": "code",
   "execution_count": 3,
   "metadata": {},
   "outputs": [],
   "source": [
    "rec = fbp.reconstruction(\n",
    "        x, \n",
    "        height=300,\n",
    "        adjust_alpha=4.,\n",
    "        adjust_beta=-120.,\n",
    "        rotate=211\n",
    "    )"
   ]
  },
  {
   "cell_type": "code",
   "execution_count": 4,
   "metadata": {},
   "outputs": [],
   "source": [
    "imageio.imsave(\"test.png\", rec.get(565))"
   ]
  },
  {
   "cell_type": "code",
   "execution_count": 5,
   "metadata": {},
   "outputs": [
    {
     "name": "stderr",
     "output_type": "stream",
     "text": [
      "100%|██████████| 400/400 [00:09<00:00, 41.13it/s]\n"
     ]
    }
   ],
   "source": [
    "c = ct.ctset(name=\"vol0\")"
   ]
  },
  {
   "cell_type": "code",
   "execution_count": 7,
   "metadata": {},
   "outputs": [],
   "source": [
    "imageio.imsave(\"ct.png\", c.get(150))"
   ]
  },
  {
   "cell_type": "markdown",
   "metadata": {},
   "source": []
  }
 ],
 "metadata": {
  "kernelspec": {
   "display_name": "Python 3.10.8 ('fbp')",
   "language": "python",
   "name": "python3"
  },
  "language_info": {
   "codemirror_mode": {
    "name": "ipython",
    "version": 3
   },
   "file_extension": ".py",
   "mimetype": "text/x-python",
   "name": "python",
   "nbconvert_exporter": "python",
   "pygments_lexer": "ipython3",
   "version": "3.10.8"
  },
  "orig_nbformat": 4,
  "vscode": {
   "interpreter": {
    "hash": "839e87c71292675e3ed6123f52e1513221eb7a4c85cfc35ff034e1c4a946b070"
   }
  }
 },
 "nbformat": 4,
 "nbformat_minor": 2
}
