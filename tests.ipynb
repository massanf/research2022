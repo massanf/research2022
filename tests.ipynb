{
 "cells": [
  {
   "cell_type": "code",
   "execution_count": 4,
   "metadata": {},
   "outputs": [
    {
     "name": "stderr",
     "output_type": "stream",
     "text": [
      "/home/mfujita/Documents/research/patient/patient.py:6: TqdmExperimentalWarning: Using `tqdm.autonotebook.tqdm` in notebook mode. Use `tqdm.tqdm` instead to force console mode (e.g. in jupyter console)\n",
      "  from tqdm.autonotebook import tqdm\n"
     ]
    },
    {
     "data": {
      "text/plain": [
       "<module 'patient.patient' from '/home/mfujita/Documents/research/patient/patient.py'>"
      ]
     },
     "execution_count": 4,
     "metadata": {},
     "output_type": "execute_result"
    }
   ],
   "source": [
    "import importlib\n",
    "import imageio.v2 as imageio\n",
    "from patient import patient\n",
    "importlib.reload(patient)\n",
    "\n",
    "# https://dataverse.harvard.edu/dataset.xhtml?persistentId=doi:10.7910/DVN/6ACUZJ"
   ]
  },
  {
   "cell_type": "code",
   "execution_count": 5,
   "metadata": {},
   "outputs": [],
   "source": [
    "name = 1000\n",
    "\n",
    "p = patient.patient(name=\"sample\"+str(name), num_views=450)\n",
    "# imageio.mimsave(f\"pics/drr.gif\", p.drr.img)"
   ]
  },
  {
   "cell_type": "code",
   "execution_count": 6,
   "metadata": {},
   "outputs": [
    {
     "name": "stderr",
     "output_type": "stream",
     "text": [
      "Lossy conversion from float32 to uint8. Range [-184.0, 128.0]. Convert image to uint8 prior to saving to suppress this warning.\n"
     ]
    }
   ],
   "source": [
    "a = 250\n",
    "\n",
    "imageio.imsave(\"pics/ct.png\", p.ct.img[a])\n",
    "# imageio.imsave(\"pics/test2.png\", p.get_resized_fbp(p.get_equiv(a, plot=True)[0]))\n",
    "imageio.imsave(\"pics/test2.png\", p.get_equiv_fbp(a))\n",
    "\n",
    "imgct = imageio.imread(\"pics/ct.png\").astype(\"float32\")\n",
    "imgrec = imageio.imread(\"pics/test2.png\").astype(\"float32\")\n",
    "\n",
    "imageio.imsave(\"pics/diff.png\", imgct - imgrec)"
   ]
  },
  {
   "cell_type": "markdown",
   "metadata": {},
   "source": []
  },
  {
   "attachments": {},
   "cell_type": "markdown",
   "metadata": {},
   "source": [
    "## Xray set"
   ]
  },
  {
   "cell_type": "code",
   "execution_count": null,
   "metadata": {},
   "outputs": [
    {
     "data": {
      "application/vnd.jupyter.widget-view+json": {
       "model_id": "50337c39c9de4e1bacf7e24b6296febd",
       "version_major": 2,
       "version_minor": 0
      },
      "text/plain": [
       "  0%|          | 0/450 [00:00<?, ?it/s]"
      ]
     },
     "metadata": {},
     "output_type": "display_data"
    }
   ],
   "source": [
    "xrayset = xray.xrayset(\n",
    "        name=\"phantom\",\n",
    "        sheets=450,\n",
    "        voltage=120\n",
    "    )\n",
    "\n",
    "imageio.mimsave(\"x.gif\", xrayset.img)"
   ]
  },
  {
   "cell_type": "code",
   "execution_count": null,
   "metadata": {},
   "outputs": [],
   "source": [
    "# fbp from xrayset\n",
    "rec2 = fbp.reconstruction(\n",
    "        xrayset,\n",
    "        height=300,\n",
    "        # adjust_alpha=4.,\n",
    "        # adjust_beta=-120.,\n",
    "        rotate=211\n",
    "    )\n",
    "\n",
    "imageio.mimsave(\"test.png\", rec2.get(565))"
   ]
  }
 ],
 "metadata": {
  "kernelspec": {
   "display_name": "research",
   "language": "python",
   "name": "python3"
  },
  "language_info": {
   "codemirror_mode": {
    "name": "ipython",
    "version": 3
   },
   "file_extension": ".py",
   "mimetype": "text/x-python",
   "name": "python",
   "nbconvert_exporter": "python",
   "pygments_lexer": "ipython3",
   "version": "3.9.12"
  },
  "orig_nbformat": 4,
  "vscode": {
   "interpreter": {
    "hash": "0e926487cad17baa66c53e21c12e2658ea73bec2b01f7558d1b81cd2a43b22ac"
   }
  }
 },
 "nbformat": 4,
 "nbformat_minor": 2
}
