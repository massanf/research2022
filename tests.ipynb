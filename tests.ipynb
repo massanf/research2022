{
 "cells": [
  {
   "cell_type": "code",
   "execution_count": 2,
   "metadata": {},
   "outputs": [],
   "source": [
    "import importlib\n",
    "import imageio.v2 as imageio\n",
    "from patient import patient\n",
    "\n",
    "import glob\n",
    "from tqdm.autonotebook import tqdm\n",
    "\n",
    "# https://dataverse.harvard.edu/dataset.xhtml?persistentId=doi:10.7910/DVN/6ACUZJ"
   ]
  },
  {
   "cell_type": "code",
   "execution_count": 3,
   "metadata": {},
   "outputs": [
    {
     "data": {
      "application/vnd.jupyter.widget-view+json": {
       "model_id": "0b659bfb2f89461595299b77e5c35278",
       "version_major": 2,
       "version_minor": 0
      },
      "text/plain": [
       "Patient:   0%|          | 0/37 [00:00<?, ?it/s]"
      ]
     },
     "metadata": {},
     "output_type": "display_data"
    },
    {
     "data": {
      "application/vnd.jupyter.widget-view+json": {
       "model_id": "ab97b30c619e4bfb9a69f9af25c0c936",
       "version_major": 2,
       "version_minor": 0
      },
      "text/plain": [
       "DRR:   0%|          | 0/450 [00:00<?, ?it/s]"
      ]
     },
     "metadata": {},
     "output_type": "display_data"
    },
    {
     "data": {
      "application/vnd.jupyter.widget-view+json": {
       "model_id": "4e27ec767c48472cbe3dfc88dc389713",
       "version_major": 2,
       "version_minor": 0
      },
      "text/plain": [
       "FBP:   0%|          | 0/350 [00:00<?, ?it/s]"
      ]
     },
     "metadata": {},
     "output_type": "display_data"
    },
    {
     "data": {
      "application/vnd.jupyter.widget-view+json": {
       "model_id": "14ad7ba1a8cc4d7c855fe6c4c661ba7a",
       "version_major": 2,
       "version_minor": 0
      },
      "text/plain": [
       "Resize:   0%|          | 0/50 [00:00<?, ?it/s]"
      ]
     },
     "metadata": {},
     "output_type": "display_data"
    },
    {
     "data": {
      "application/vnd.jupyter.widget-view+json": {
       "model_id": "e622137243dd482cb2e3f4bb2a154aac",
       "version_major": 2,
       "version_minor": 0
      },
      "text/plain": [
       "DRR:   0%|          | 0/450 [00:00<?, ?it/s]"
      ]
     },
     "metadata": {},
     "output_type": "display_data"
    },
    {
     "data": {
      "application/vnd.jupyter.widget-view+json": {
       "model_id": "1e25890a288c4d669976733deb435db5",
       "version_major": 2,
       "version_minor": 0
      },
      "text/plain": [
       "FBP:   0%|          | 0/350 [00:00<?, ?it/s]"
      ]
     },
     "metadata": {},
     "output_type": "display_data"
    },
    {
     "data": {
      "application/vnd.jupyter.widget-view+json": {
       "model_id": "2f76755a9eb64bc980ee755c786e33f4",
       "version_major": 2,
       "version_minor": 0
      },
      "text/plain": [
       "Resize:   0%|          | 0/50 [00:00<?, ?it/s]"
      ]
     },
     "metadata": {},
     "output_type": "display_data"
    },
    {
     "data": {
      "application/vnd.jupyter.widget-view+json": {
       "model_id": "ef49a4d5e0a04e77a40fd3d8011224ce",
       "version_major": 2,
       "version_minor": 0
      },
      "text/plain": [
       "DRR:   0%|          | 0/450 [00:00<?, ?it/s]"
      ]
     },
     "metadata": {},
     "output_type": "display_data"
    },
    {
     "data": {
      "application/vnd.jupyter.widget-view+json": {
       "model_id": "824c1fc709484f2791602921a228ab7a",
       "version_major": 2,
       "version_minor": 0
      },
      "text/plain": [
       "FBP:   0%|          | 0/350 [00:00<?, ?it/s]"
      ]
     },
     "metadata": {},
     "output_type": "display_data"
    },
    {
     "data": {
      "application/vnd.jupyter.widget-view+json": {
       "model_id": "b473e06b6f494eb2aee28ab5a1a4e40e",
       "version_major": 2,
       "version_minor": 0
      },
      "text/plain": [
       "Resize:   0%|          | 0/50 [00:00<?, ?it/s]"
      ]
     },
     "metadata": {},
     "output_type": "display_data"
    },
    {
     "data": {
      "application/vnd.jupyter.widget-view+json": {
       "model_id": "cd3063cf9aac4b92a62fcbccfa036b96",
       "version_major": 2,
       "version_minor": 0
      },
      "text/plain": [
       "DRR:   0%|          | 0/450 [00:00<?, ?it/s]"
      ]
     },
     "metadata": {},
     "output_type": "display_data"
    },
    {
     "data": {
      "application/vnd.jupyter.widget-view+json": {
       "model_id": "08042723a26640e7876bbbd1c44357fd",
       "version_major": 2,
       "version_minor": 0
      },
      "text/plain": [
       "FBP:   0%|          | 0/350 [00:00<?, ?it/s]"
      ]
     },
     "metadata": {},
     "output_type": "display_data"
    },
    {
     "data": {
      "application/vnd.jupyter.widget-view+json": {
       "model_id": "79e337e0fd134a28ac1611f88c5f9378",
       "version_major": 2,
       "version_minor": 0
      },
      "text/plain": [
       "Resize:   0%|          | 0/50 [00:00<?, ?it/s]"
      ]
     },
     "metadata": {},
     "output_type": "display_data"
    },
    {
     "data": {
      "application/vnd.jupyter.widget-view+json": {
       "model_id": "67ee94e697e34cfaab360ae786f2f94f",
       "version_major": 2,
       "version_minor": 0
      },
      "text/plain": [
       "DRR:   0%|          | 0/450 [00:00<?, ?it/s]"
      ]
     },
     "metadata": {},
     "output_type": "display_data"
    },
    {
     "data": {
      "application/vnd.jupyter.widget-view+json": {
       "model_id": "311a9e5fdda3424ebab2766b8b5151cc",
       "version_major": 2,
       "version_minor": 0
      },
      "text/plain": [
       "FBP:   0%|          | 0/350 [00:00<?, ?it/s]"
      ]
     },
     "metadata": {},
     "output_type": "display_data"
    },
    {
     "data": {
      "application/vnd.jupyter.widget-view+json": {
       "model_id": "de9cb703480641729f982efb68fe64db",
       "version_major": 2,
       "version_minor": 0
      },
      "text/plain": [
       "Resize:   0%|          | 0/50 [00:00<?, ?it/s]"
      ]
     },
     "metadata": {},
     "output_type": "display_data"
    },
    {
     "data": {
      "application/vnd.jupyter.widget-view+json": {
       "model_id": "b952a89d44ce4ee99cdf98a1a567affd",
       "version_major": 2,
       "version_minor": 0
      },
      "text/plain": [
       "DRR:   0%|          | 0/450 [00:00<?, ?it/s]"
      ]
     },
     "metadata": {},
     "output_type": "display_data"
    },
    {
     "data": {
      "application/vnd.jupyter.widget-view+json": {
       "model_id": "595ffd4b30ce427cb2949c558294aabf",
       "version_major": 2,
       "version_minor": 0
      },
      "text/plain": [
       "FBP:   0%|          | 0/350 [00:00<?, ?it/s]"
      ]
     },
     "metadata": {},
     "output_type": "display_data"
    },
    {
     "data": {
      "application/vnd.jupyter.widget-view+json": {
       "model_id": "ebaa997c35b74f53a4256338a840ba26",
       "version_major": 2,
       "version_minor": 0
      },
      "text/plain": [
       "Resize:   0%|          | 0/50 [00:00<?, ?it/s]"
      ]
     },
     "metadata": {},
     "output_type": "display_data"
    },
    {
     "data": {
      "application/vnd.jupyter.widget-view+json": {
       "model_id": "0f0032f34b554e96ac56c5870bbbcb25",
       "version_major": 2,
       "version_minor": 0
      },
      "text/plain": [
       "DRR:   0%|          | 0/450 [00:00<?, ?it/s]"
      ]
     },
     "metadata": {},
     "output_type": "display_data"
    },
    {
     "data": {
      "application/vnd.jupyter.widget-view+json": {
       "model_id": "57b90918b6e94f4baae4006a22825c5c",
       "version_major": 2,
       "version_minor": 0
      },
      "text/plain": [
       "FBP:   0%|          | 0/350 [00:00<?, ?it/s]"
      ]
     },
     "metadata": {},
     "output_type": "display_data"
    },
    {
     "data": {
      "application/vnd.jupyter.widget-view+json": {
       "model_id": "609d76e8a44f41bb99020c09402ca18f",
       "version_major": 2,
       "version_minor": 0
      },
      "text/plain": [
       "Resize:   0%|          | 0/50 [00:00<?, ?it/s]"
      ]
     },
     "metadata": {},
     "output_type": "display_data"
    },
    {
     "data": {
      "application/vnd.jupyter.widget-view+json": {
       "model_id": "5c18792965974ff68552793541e26fef",
       "version_major": 2,
       "version_minor": 0
      },
      "text/plain": [
       "DRR:   0%|          | 0/450 [00:00<?, ?it/s]"
      ]
     },
     "metadata": {},
     "output_type": "display_data"
    },
    {
     "data": {
      "application/vnd.jupyter.widget-view+json": {
       "model_id": "b4de6c911ae44c6bab2d207bb3192653",
       "version_major": 2,
       "version_minor": 0
      },
      "text/plain": [
       "FBP:   0%|          | 0/350 [00:00<?, ?it/s]"
      ]
     },
     "metadata": {},
     "output_type": "display_data"
    },
    {
     "data": {
      "application/vnd.jupyter.widget-view+json": {
       "model_id": "57c08556a23249a7828b04d50f2dbb23",
       "version_major": 2,
       "version_minor": 0
      },
      "text/plain": [
       "Resize:   0%|          | 0/50 [00:00<?, ?it/s]"
      ]
     },
     "metadata": {},
     "output_type": "display_data"
    },
    {
     "data": {
      "application/vnd.jupyter.widget-view+json": {
       "model_id": "2fdded5243194d3e9382f9d12b59f153",
       "version_major": 2,
       "version_minor": 0
      },
      "text/plain": [
       "DRR:   0%|          | 0/450 [00:00<?, ?it/s]"
      ]
     },
     "metadata": {},
     "output_type": "display_data"
    },
    {
     "data": {
      "application/vnd.jupyter.widget-view+json": {
       "model_id": "2420325203ff4a6892a5e7c244712143",
       "version_major": 2,
       "version_minor": 0
      },
      "text/plain": [
       "FBP:   0%|          | 0/350 [00:00<?, ?it/s]"
      ]
     },
     "metadata": {},
     "output_type": "display_data"
    },
    {
     "data": {
      "application/vnd.jupyter.widget-view+json": {
       "model_id": "e14cb2cd9c5c4719bcfa17698ddb40ce",
       "version_major": 2,
       "version_minor": 0
      },
      "text/plain": [
       "Resize:   0%|          | 0/50 [00:00<?, ?it/s]"
      ]
     },
     "metadata": {},
     "output_type": "display_data"
    },
    {
     "data": {
      "application/vnd.jupyter.widget-view+json": {
       "model_id": "2800d8dde8c843cfa59b3b9ae0359e0d",
       "version_major": 2,
       "version_minor": 0
      },
      "text/plain": [
       "DRR:   0%|          | 0/450 [00:00<?, ?it/s]"
      ]
     },
     "metadata": {},
     "output_type": "display_data"
    },
    {
     "data": {
      "application/vnd.jupyter.widget-view+json": {
       "model_id": "536fb0cce2ab47b7a3930d67a5a1bac7",
       "version_major": 2,
       "version_minor": 0
      },
      "text/plain": [
       "FBP:   0%|          | 0/350 [00:00<?, ?it/s]"
      ]
     },
     "metadata": {},
     "output_type": "display_data"
    },
    {
     "data": {
      "application/vnd.jupyter.widget-view+json": {
       "model_id": "5098fdabb59b4d0385edafe21ffe4f43",
       "version_major": 2,
       "version_minor": 0
      },
      "text/plain": [
       "Resize:   0%|          | 0/50 [00:00<?, ?it/s]"
      ]
     },
     "metadata": {},
     "output_type": "display_data"
    },
    {
     "data": {
      "application/vnd.jupyter.widget-view+json": {
       "model_id": "4be74824140c42b797132e86e8031914",
       "version_major": 2,
       "version_minor": 0
      },
      "text/plain": [
       "DRR:   0%|          | 0/450 [00:00<?, ?it/s]"
      ]
     },
     "metadata": {},
     "output_type": "display_data"
    },
    {
     "data": {
      "application/vnd.jupyter.widget-view+json": {
       "model_id": "ede4f8d841d442309025c00e3c0fa3d4",
       "version_major": 2,
       "version_minor": 0
      },
      "text/plain": [
       "FBP:   0%|          | 0/350 [00:00<?, ?it/s]"
      ]
     },
     "metadata": {},
     "output_type": "display_data"
    },
    {
     "data": {
      "application/vnd.jupyter.widget-view+json": {
       "model_id": "c6c1c61e5252460294d8fc85c8c33f94",
       "version_major": 2,
       "version_minor": 0
      },
      "text/plain": [
       "Resize:   0%|          | 0/50 [00:00<?, ?it/s]"
      ]
     },
     "metadata": {},
     "output_type": "display_data"
    },
    {
     "data": {
      "application/vnd.jupyter.widget-view+json": {
       "model_id": "9d20b7fa11d14c928f1aeb8a54039c3c",
       "version_major": 2,
       "version_minor": 0
      },
      "text/plain": [
       "DRR:   0%|          | 0/450 [00:00<?, ?it/s]"
      ]
     },
     "metadata": {},
     "output_type": "display_data"
    },
    {
     "data": {
      "application/vnd.jupyter.widget-view+json": {
       "model_id": "53259d8ca383422a9aa3d4d5cab8eb63",
       "version_major": 2,
       "version_minor": 0
      },
      "text/plain": [
       "FBP:   0%|          | 0/350 [00:00<?, ?it/s]"
      ]
     },
     "metadata": {},
     "output_type": "display_data"
    },
    {
     "data": {
      "application/vnd.jupyter.widget-view+json": {
       "model_id": "c1f996c270514e7f92a194d2b0316706",
       "version_major": 2,
       "version_minor": 0
      },
      "text/plain": [
       "Resize:   0%|          | 0/50 [00:00<?, ?it/s]"
      ]
     },
     "metadata": {},
     "output_type": "display_data"
    },
    {
     "data": {
      "application/vnd.jupyter.widget-view+json": {
       "model_id": "49f7cc734ad448ceba8cb17b307daca5",
       "version_major": 2,
       "version_minor": 0
      },
      "text/plain": [
       "DRR:   0%|          | 0/450 [00:00<?, ?it/s]"
      ]
     },
     "metadata": {},
     "output_type": "display_data"
    },
    {
     "data": {
      "application/vnd.jupyter.widget-view+json": {
       "model_id": "9486517ea1c547f6bcdc01cd48155385",
       "version_major": 2,
       "version_minor": 0
      },
      "text/plain": [
       "FBP:   0%|          | 0/350 [00:00<?, ?it/s]"
      ]
     },
     "metadata": {},
     "output_type": "display_data"
    },
    {
     "data": {
      "application/vnd.jupyter.widget-view+json": {
       "model_id": "91f3d47e6a6544ebbaf697b26ce5f2f9",
       "version_major": 2,
       "version_minor": 0
      },
      "text/plain": [
       "Resize:   0%|          | 0/50 [00:00<?, ?it/s]"
      ]
     },
     "metadata": {},
     "output_type": "display_data"
    },
    {
     "data": {
      "application/vnd.jupyter.widget-view+json": {
       "model_id": "1e6ef6f5d1444bfab0ce3ec280bbeb8d",
       "version_major": 2,
       "version_minor": 0
      },
      "text/plain": [
       "DRR:   0%|          | 0/450 [00:00<?, ?it/s]"
      ]
     },
     "metadata": {},
     "output_type": "display_data"
    },
    {
     "data": {
      "application/vnd.jupyter.widget-view+json": {
       "model_id": "e8bb2c9462704cd8930feb13ecabc981",
       "version_major": 2,
       "version_minor": 0
      },
      "text/plain": [
       "FBP:   0%|          | 0/350 [00:00<?, ?it/s]"
      ]
     },
     "metadata": {},
     "output_type": "display_data"
    },
    {
     "data": {
      "application/vnd.jupyter.widget-view+json": {
       "model_id": "e8ed128e194442a2b029c11929f87900",
       "version_major": 2,
       "version_minor": 0
      },
      "text/plain": [
       "Resize:   0%|          | 0/50 [00:00<?, ?it/s]"
      ]
     },
     "metadata": {},
     "output_type": "display_data"
    },
    {
     "data": {
      "application/vnd.jupyter.widget-view+json": {
       "model_id": "bf9ddd0cbb6f421f89b6ff1107c939fd",
       "version_major": 2,
       "version_minor": 0
      },
      "text/plain": [
       "DRR:   0%|          | 0/450 [00:00<?, ?it/s]"
      ]
     },
     "metadata": {},
     "output_type": "display_data"
    },
    {
     "data": {
      "application/vnd.jupyter.widget-view+json": {
       "model_id": "ec68de9bb1ab49ddb2269f93b70e726d",
       "version_major": 2,
       "version_minor": 0
      },
      "text/plain": [
       "FBP:   0%|          | 0/350 [00:00<?, ?it/s]"
      ]
     },
     "metadata": {},
     "output_type": "display_data"
    },
    {
     "data": {
      "application/vnd.jupyter.widget-view+json": {
       "model_id": "85f77f1268be4323990e1855b5a1b9aa",
       "version_major": 2,
       "version_minor": 0
      },
      "text/plain": [
       "Resize:   0%|          | 0/50 [00:00<?, ?it/s]"
      ]
     },
     "metadata": {},
     "output_type": "display_data"
    },
    {
     "data": {
      "application/vnd.jupyter.widget-view+json": {
       "model_id": "bcce1bbdd19640a99e492cb89aaed9aa",
       "version_major": 2,
       "version_minor": 0
      },
      "text/plain": [
       "DRR:   0%|          | 0/450 [00:00<?, ?it/s]"
      ]
     },
     "metadata": {},
     "output_type": "display_data"
    },
    {
     "data": {
      "application/vnd.jupyter.widget-view+json": {
       "model_id": "69f3d8c1dca349e28dae8bd03ae9e474",
       "version_major": 2,
       "version_minor": 0
      },
      "text/plain": [
       "FBP:   0%|          | 0/350 [00:00<?, ?it/s]"
      ]
     },
     "metadata": {},
     "output_type": "display_data"
    },
    {
     "data": {
      "application/vnd.jupyter.widget-view+json": {
       "model_id": "da70d13549f84ff8b02709df35029274",
       "version_major": 2,
       "version_minor": 0
      },
      "text/plain": [
       "Resize:   0%|          | 0/50 [00:00<?, ?it/s]"
      ]
     },
     "metadata": {},
     "output_type": "display_data"
    },
    {
     "data": {
      "application/vnd.jupyter.widget-view+json": {
       "model_id": "4d72e9c879614bffb789717470d2eed2",
       "version_major": 2,
       "version_minor": 0
      },
      "text/plain": [
       "DRR:   0%|          | 0/450 [00:00<?, ?it/s]"
      ]
     },
     "metadata": {},
     "output_type": "display_data"
    },
    {
     "data": {
      "application/vnd.jupyter.widget-view+json": {
       "model_id": "6584e961e42047539f9ccdba8d5b0a3b",
       "version_major": 2,
       "version_minor": 0
      },
      "text/plain": [
       "FBP:   0%|          | 0/350 [00:00<?, ?it/s]"
      ]
     },
     "metadata": {},
     "output_type": "display_data"
    },
    {
     "data": {
      "application/vnd.jupyter.widget-view+json": {
       "model_id": "c40d988a05ae41a68a0b4e136e865e70",
       "version_major": 2,
       "version_minor": 0
      },
      "text/plain": [
       "Resize:   0%|          | 0/50 [00:00<?, ?it/s]"
      ]
     },
     "metadata": {},
     "output_type": "display_data"
    },
    {
     "data": {
      "application/vnd.jupyter.widget-view+json": {
       "model_id": "6a18f78195ab469b8a52d6a776dc5758",
       "version_major": 2,
       "version_minor": 0
      },
      "text/plain": [
       "DRR:   0%|          | 0/450 [00:00<?, ?it/s]"
      ]
     },
     "metadata": {},
     "output_type": "display_data"
    },
    {
     "data": {
      "application/vnd.jupyter.widget-view+json": {
       "model_id": "3d0b0682d41d4f0eadd5b301a769c9ee",
       "version_major": 2,
       "version_minor": 0
      },
      "text/plain": [
       "FBP:   0%|          | 0/350 [00:00<?, ?it/s]"
      ]
     },
     "metadata": {},
     "output_type": "display_data"
    },
    {
     "data": {
      "application/vnd.jupyter.widget-view+json": {
       "model_id": "f62158d9838f4cc5aafb870ded635d9b",
       "version_major": 2,
       "version_minor": 0
      },
      "text/plain": [
       "Resize:   0%|          | 0/50 [00:00<?, ?it/s]"
      ]
     },
     "metadata": {},
     "output_type": "display_data"
    },
    {
     "data": {
      "application/vnd.jupyter.widget-view+json": {
       "model_id": "465a7458af34401bbf453defbd88916e",
       "version_major": 2,
       "version_minor": 0
      },
      "text/plain": [
       "DRR:   0%|          | 0/450 [00:00<?, ?it/s]"
      ]
     },
     "metadata": {},
     "output_type": "display_data"
    },
    {
     "data": {
      "application/vnd.jupyter.widget-view+json": {
       "model_id": "87fb701cac914f23bbd4d12b4b2606c9",
       "version_major": 2,
       "version_minor": 0
      },
      "text/plain": [
       "FBP:   0%|          | 0/350 [00:00<?, ?it/s]"
      ]
     },
     "metadata": {},
     "output_type": "display_data"
    },
    {
     "data": {
      "application/vnd.jupyter.widget-view+json": {
       "model_id": "142383fcfa0647669ecefe7caaddd9ee",
       "version_major": 2,
       "version_minor": 0
      },
      "text/plain": [
       "Resize:   0%|          | 0/50 [00:00<?, ?it/s]"
      ]
     },
     "metadata": {},
     "output_type": "display_data"
    },
    {
     "data": {
      "application/vnd.jupyter.widget-view+json": {
       "model_id": "885e1c85327e4ed1b13634fa1e7c8dbc",
       "version_major": 2,
       "version_minor": 0
      },
      "text/plain": [
       "DRR:   0%|          | 0/450 [00:00<?, ?it/s]"
      ]
     },
     "metadata": {},
     "output_type": "display_data"
    },
    {
     "data": {
      "application/vnd.jupyter.widget-view+json": {
       "model_id": "18520ff8e3664426a1e82b9f827f3db2",
       "version_major": 2,
       "version_minor": 0
      },
      "text/plain": [
       "FBP:   0%|          | 0/350 [00:00<?, ?it/s]"
      ]
     },
     "metadata": {},
     "output_type": "display_data"
    },
    {
     "data": {
      "application/vnd.jupyter.widget-view+json": {
       "model_id": "9198654aea694072aed29e7d5f4f142b",
       "version_major": 2,
       "version_minor": 0
      },
      "text/plain": [
       "Resize:   0%|          | 0/50 [00:00<?, ?it/s]"
      ]
     },
     "metadata": {},
     "output_type": "display_data"
    },
    {
     "data": {
      "application/vnd.jupyter.widget-view+json": {
       "model_id": "75bb2286a620497da7e170a0b3b20b5b",
       "version_major": 2,
       "version_minor": 0
      },
      "text/plain": [
       "DRR:   0%|          | 0/450 [00:00<?, ?it/s]"
      ]
     },
     "metadata": {},
     "output_type": "display_data"
    },
    {
     "data": {
      "application/vnd.jupyter.widget-view+json": {
       "model_id": "88887f6fcd86419cbc6c83015ab6ea4d",
       "version_major": 2,
       "version_minor": 0
      },
      "text/plain": [
       "FBP:   0%|          | 0/350 [00:00<?, ?it/s]"
      ]
     },
     "metadata": {},
     "output_type": "display_data"
    },
    {
     "data": {
      "application/vnd.jupyter.widget-view+json": {
       "model_id": "646912118f2c4fcdbab1c8259406f4b9",
       "version_major": 2,
       "version_minor": 0
      },
      "text/plain": [
       "Resize:   0%|          | 0/50 [00:00<?, ?it/s]"
      ]
     },
     "metadata": {},
     "output_type": "display_data"
    },
    {
     "data": {
      "application/vnd.jupyter.widget-view+json": {
       "model_id": "08dd91b43287497c92a1e8478fb544ed",
       "version_major": 2,
       "version_minor": 0
      },
      "text/plain": [
       "DRR:   0%|          | 0/450 [00:00<?, ?it/s]"
      ]
     },
     "metadata": {},
     "output_type": "display_data"
    },
    {
     "data": {
      "application/vnd.jupyter.widget-view+json": {
       "model_id": "f41cfa1c23a1447da27f97c94164008c",
       "version_major": 2,
       "version_minor": 0
      },
      "text/plain": [
       "FBP:   0%|          | 0/350 [00:00<?, ?it/s]"
      ]
     },
     "metadata": {},
     "output_type": "display_data"
    },
    {
     "data": {
      "application/vnd.jupyter.widget-view+json": {
       "model_id": "518b348427814901ba72c6b09dc858e3",
       "version_major": 2,
       "version_minor": 0
      },
      "text/plain": [
       "Resize:   0%|          | 0/50 [00:00<?, ?it/s]"
      ]
     },
     "metadata": {},
     "output_type": "display_data"
    },
    {
     "data": {
      "application/vnd.jupyter.widget-view+json": {
       "model_id": "6380eaf9350448708c907290b225340e",
       "version_major": 2,
       "version_minor": 0
      },
      "text/plain": [
       "DRR:   0%|          | 0/450 [00:00<?, ?it/s]"
      ]
     },
     "metadata": {},
     "output_type": "display_data"
    },
    {
     "data": {
      "application/vnd.jupyter.widget-view+json": {
       "model_id": "48c41621e7c84f608290154112ee99b6",
       "version_major": 2,
       "version_minor": 0
      },
      "text/plain": [
       "FBP:   0%|          | 0/350 [00:00<?, ?it/s]"
      ]
     },
     "metadata": {},
     "output_type": "display_data"
    },
    {
     "data": {
      "application/vnd.jupyter.widget-view+json": {
       "model_id": "96952ca301e2443e8a3029646d4703f5",
       "version_major": 2,
       "version_minor": 0
      },
      "text/plain": [
       "Resize:   0%|          | 0/50 [00:00<?, ?it/s]"
      ]
     },
     "metadata": {},
     "output_type": "display_data"
    },
    {
     "data": {
      "application/vnd.jupyter.widget-view+json": {
       "model_id": "7edd1fe337e3455581728cb9e673d9b1",
       "version_major": 2,
       "version_minor": 0
      },
      "text/plain": [
       "DRR:   0%|          | 0/450 [00:00<?, ?it/s]"
      ]
     },
     "metadata": {},
     "output_type": "display_data"
    },
    {
     "data": {
      "application/vnd.jupyter.widget-view+json": {
       "model_id": "c5c37b5a78ca4c8e91bac2ae4164e487",
       "version_major": 2,
       "version_minor": 0
      },
      "text/plain": [
       "FBP:   0%|          | 0/350 [00:00<?, ?it/s]"
      ]
     },
     "metadata": {},
     "output_type": "display_data"
    },
    {
     "data": {
      "application/vnd.jupyter.widget-view+json": {
       "model_id": "1491119575d0450188e795e4e1f10049",
       "version_major": 2,
       "version_minor": 0
      },
      "text/plain": [
       "Resize:   0%|          | 0/50 [00:00<?, ?it/s]"
      ]
     },
     "metadata": {},
     "output_type": "display_data"
    },
    {
     "data": {
      "application/vnd.jupyter.widget-view+json": {
       "model_id": "bdfe55aabfaa48648e491b6402e12cf6",
       "version_major": 2,
       "version_minor": 0
      },
      "text/plain": [
       "DRR:   0%|          | 0/450 [00:00<?, ?it/s]"
      ]
     },
     "metadata": {},
     "output_type": "display_data"
    },
    {
     "data": {
      "application/vnd.jupyter.widget-view+json": {
       "model_id": "4c5f4fe7524f447c99bd31f90e9f10e9",
       "version_major": 2,
       "version_minor": 0
      },
      "text/plain": [
       "FBP:   0%|          | 0/350 [00:00<?, ?it/s]"
      ]
     },
     "metadata": {},
     "output_type": "display_data"
    },
    {
     "data": {
      "application/vnd.jupyter.widget-view+json": {
       "model_id": "ded7334bde4d4d45853fb733fa14ca07",
       "version_major": 2,
       "version_minor": 0
      },
      "text/plain": [
       "Resize:   0%|          | 0/50 [00:00<?, ?it/s]"
      ]
     },
     "metadata": {},
     "output_type": "display_data"
    },
    {
     "data": {
      "application/vnd.jupyter.widget-view+json": {
       "model_id": "6eff4312c6ac469890df0ef4074a0f56",
       "version_major": 2,
       "version_minor": 0
      },
      "text/plain": [
       "DRR:   0%|          | 0/450 [00:00<?, ?it/s]"
      ]
     },
     "metadata": {},
     "output_type": "display_data"
    },
    {
     "data": {
      "application/vnd.jupyter.widget-view+json": {
       "model_id": "f775b99c7bb94c0fb6a7fad5e40da976",
       "version_major": 2,
       "version_minor": 0
      },
      "text/plain": [
       "FBP:   0%|          | 0/350 [00:00<?, ?it/s]"
      ]
     },
     "metadata": {},
     "output_type": "display_data"
    },
    {
     "data": {
      "application/vnd.jupyter.widget-view+json": {
       "model_id": "7c90c727f4e548c6b9f48cc3d4affc05",
       "version_major": 2,
       "version_minor": 0
      },
      "text/plain": [
       "Resize:   0%|          | 0/50 [00:00<?, ?it/s]"
      ]
     },
     "metadata": {},
     "output_type": "display_data"
    },
    {
     "data": {
      "application/vnd.jupyter.widget-view+json": {
       "model_id": "9fdb425a058b46a192e49354248bedc9",
       "version_major": 2,
       "version_minor": 0
      },
      "text/plain": [
       "DRR:   0%|          | 0/450 [00:00<?, ?it/s]"
      ]
     },
     "metadata": {},
     "output_type": "display_data"
    },
    {
     "data": {
      "application/vnd.jupyter.widget-view+json": {
       "model_id": "d715880d224c46c198873ce8337b51c3",
       "version_major": 2,
       "version_minor": 0
      },
      "text/plain": [
       "FBP:   0%|          | 0/350 [00:00<?, ?it/s]"
      ]
     },
     "metadata": {},
     "output_type": "display_data"
    },
    {
     "data": {
      "application/vnd.jupyter.widget-view+json": {
       "model_id": "f11e7a066ed84fdba28565c385279bdd",
       "version_major": 2,
       "version_minor": 0
      },
      "text/plain": [
       "Resize:   0%|          | 0/50 [00:00<?, ?it/s]"
      ]
     },
     "metadata": {},
     "output_type": "display_data"
    },
    {
     "data": {
      "application/vnd.jupyter.widget-view+json": {
       "model_id": "6fffaa5c957144a18ad08521a74bd875",
       "version_major": 2,
       "version_minor": 0
      },
      "text/plain": [
       "DRR:   0%|          | 0/450 [00:00<?, ?it/s]"
      ]
     },
     "metadata": {},
     "output_type": "display_data"
    },
    {
     "data": {
      "application/vnd.jupyter.widget-view+json": {
       "model_id": "89f96f1b0ace46b299bf8194a1e1147d",
       "version_major": 2,
       "version_minor": 0
      },
      "text/plain": [
       "FBP:   0%|          | 0/350 [00:00<?, ?it/s]"
      ]
     },
     "metadata": {},
     "output_type": "display_data"
    },
    {
     "data": {
      "application/vnd.jupyter.widget-view+json": {
       "model_id": "0bb09e54cbb84ab4bf356cb72a12cd03",
       "version_major": 2,
       "version_minor": 0
      },
      "text/plain": [
       "Resize:   0%|          | 0/50 [00:00<?, ?it/s]"
      ]
     },
     "metadata": {},
     "output_type": "display_data"
    },
    {
     "data": {
      "application/vnd.jupyter.widget-view+json": {
       "model_id": "b796a3a7607341628fef4f5707e7a24e",
       "version_major": 2,
       "version_minor": 0
      },
      "text/plain": [
       "DRR:   0%|          | 0/450 [00:00<?, ?it/s]"
      ]
     },
     "metadata": {},
     "output_type": "display_data"
    },
    {
     "data": {
      "application/vnd.jupyter.widget-view+json": {
       "model_id": "32459de925444fb0af3cb68c2f5a9da3",
       "version_major": 2,
       "version_minor": 0
      },
      "text/plain": [
       "FBP:   0%|          | 0/350 [00:00<?, ?it/s]"
      ]
     },
     "metadata": {},
     "output_type": "display_data"
    },
    {
     "data": {
      "application/vnd.jupyter.widget-view+json": {
       "model_id": "7c2b9a46c58f4ae58513666007268df5",
       "version_major": 2,
       "version_minor": 0
      },
      "text/plain": [
       "Resize:   0%|          | 0/50 [00:00<?, ?it/s]"
      ]
     },
     "metadata": {},
     "output_type": "display_data"
    },
    {
     "data": {
      "application/vnd.jupyter.widget-view+json": {
       "model_id": "d76b5e39683c44999bc543501ee5b503",
       "version_major": 2,
       "version_minor": 0
      },
      "text/plain": [
       "DRR:   0%|          | 0/450 [00:00<?, ?it/s]"
      ]
     },
     "metadata": {},
     "output_type": "display_data"
    },
    {
     "data": {
      "application/vnd.jupyter.widget-view+json": {
       "model_id": "938b6c4e01a3444abc53bbf5d5cdee25",
       "version_major": 2,
       "version_minor": 0
      },
      "text/plain": [
       "FBP:   0%|          | 0/350 [00:00<?, ?it/s]"
      ]
     },
     "metadata": {},
     "output_type": "display_data"
    },
    {
     "data": {
      "application/vnd.jupyter.widget-view+json": {
       "model_id": "04ba5e6bd87a4e84a86cfb0a6d09b714",
       "version_major": 2,
       "version_minor": 0
      },
      "text/plain": [
       "Resize:   0%|          | 0/50 [00:00<?, ?it/s]"
      ]
     },
     "metadata": {},
     "output_type": "display_data"
    },
    {
     "data": {
      "application/vnd.jupyter.widget-view+json": {
       "model_id": "bcb183c2320c4612bb46463eedb0e859",
       "version_major": 2,
       "version_minor": 0
      },
      "text/plain": [
       "DRR:   0%|          | 0/450 [00:00<?, ?it/s]"
      ]
     },
     "metadata": {},
     "output_type": "display_data"
    },
    {
     "data": {
      "application/vnd.jupyter.widget-view+json": {
       "model_id": "95c67b76023c4a76be55a4acb7a995ef",
       "version_major": 2,
       "version_minor": 0
      },
      "text/plain": [
       "FBP:   0%|          | 0/350 [00:00<?, ?it/s]"
      ]
     },
     "metadata": {},
     "output_type": "display_data"
    },
    {
     "data": {
      "application/vnd.jupyter.widget-view+json": {
       "model_id": "63dc5c38511d49bfbd0160f182327742",
       "version_major": 2,
       "version_minor": 0
      },
      "text/plain": [
       "Resize:   0%|          | 0/50 [00:00<?, ?it/s]"
      ]
     },
     "metadata": {},
     "output_type": "display_data"
    },
    {
     "data": {
      "image/png": "[encoded data removed]",
      "text/plain": [
       "<Figure size 432x288 with 1 Axes>"
      ]
     },
     "metadata": {
      "needs_background": "light"
     },
     "output_type": "display_data"
    }
   ],
   "source": [
    "for vol_path in tqdm(glob.glob(\"./data/*\"), desc=\"Patient\"):\n",
    "    if \"__\" in vol_path:\n",
    "        continue\n",
    "    vol = vol_path.split(\"/\")[-1]\n",
    "    # print(vol)\n",
    "    p = patient.patient(name=vol)\n",
    "# imageio.mimsave(f\"pics/drr.gif\", p.drr.img)"
   ]
  },
  {
   "cell_type": "code",
   "execution_count": 4,
   "metadata": {},
   "outputs": [
    {
     "name": "stderr",
     "output_type": "stream",
     "text": [
      "Lossy conversion from int16 to uint8. Range [0, 251]. Convert image to uint8 prior to saving to suppress this warning.\n",
      "Lossy conversion from float32 to uint8. Range [-242.0, 157.0]. Convert image to uint8 prior to saving to suppress this warning.\n"
     ]
    }
   ],
   "source": [
    "from patient import patient\n",
    "import imageio.v2 as imageio\n",
    "import cupy as cp\n",
    "\n",
    "p = patient.patient(name=\"4411469\")\n",
    "\n",
    "a = 180\n",
    "\n",
    "imageio.imsave(\"pics/ct.png\", cp.asnumpy(p.ct.img[a]))\n",
    "# imageio.imsave(\"pics/test2.png\", p.get_resized_fbp(p.get_equiv(a, plot=True)[0]))\n",
    "imageio.imsave(\"pics/test2.png\", cp.asnumpy(p.get_equiv_fbp(a)))\n",
    "\n",
    "imgct = imageio.imread(\"pics/ct.png\").astype(\"float32\")\n",
    "imgrec = imageio.imread(\"pics/test2.png\").astype(\"float32\")\n",
    "\n",
    "imageio.imsave(\"pics/diff.png\", imgct - imgrec)"
   ]
  },
  {
   "cell_type": "markdown",
   "metadata": {},
   "source": []
  },
  {
   "attachments": {},
   "cell_type": "markdown",
   "metadata": {},
   "source": [
    "## Xray set"
   ]
  },
  {
   "cell_type": "code",
   "execution_count": null,
   "metadata": {},
   "outputs": [
    {
     "data": {
      "application/vnd.jupyter.widget-view+json": {
       "model_id": "50337c39c9de4e1bacf7e24b6296febd",
       "version_major": 2,
       "version_minor": 0
      },
      "text/plain": [
       "  0%|          | 0/450 [00:00<?, ?it/s]"
      ]
     },
     "metadata": {},
     "output_type": "display_data"
    }
   ],
   "source": [
    "xrayset = xray.xrayset(\n",
    "        name=\"phantom\",\n",
    "        sheets=450,\n",
    "        voltage=120\n",
    "    )\n",
    "\n",
    "imageio.mimsave(\"x.gif\", xrayset.img)"
   ]
  },
  {
   "cell_type": "code",
   "execution_count": null,
   "metadata": {},
   "outputs": [],
   "source": [
    "# fbp from xrayset\n",
    "rec2 = fbp.reconstruction(\n",
    "        xrayset,\n",
    "        height=300,\n",
    "        # adjust_alpha=4.,\n",
    "        # adjust_beta=-120.,\n",
    "        rotate=211\n",
    "    )\n",
    "\n",
    "imageio.mimsave(\"test.png\", rec2.get(565))"
   ]
  }
 ],
 "metadata": {
  "kernelspec": {
   "display_name": "res",
   "language": "python",
   "name": "python3"
  },
  "language_info": {
   "codemirror_mode": {
    "name": "ipython",
    "version": 3
   },
   "file_extension": ".py",
   "mimetype": "text/x-python",
   "name": "python",
   "nbconvert_exporter": "python",
   "pygments_lexer": "ipython3",
   "version": "3.10.8 (main, Nov 24 2022, 14:13:03) [GCC 11.2.0]"
  },
  "orig_nbformat": 4,
  "vscode": {
   "interpreter": {
    "hash": "da9ac5d7c4e967160d4eddc6864285750b07d26b36aae015b5a1a36de670b7f6"
   }
  }
 },
 "nbformat": 4,
 "nbformat_minor": 2
}
