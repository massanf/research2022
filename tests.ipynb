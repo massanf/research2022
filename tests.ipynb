{
 "cells": [
  {
   "cell_type": "code",
   "execution_count": 1,
   "metadata": {},
   "outputs": [],
   "source": [
    "import importlib\n",
    "import imageio.v2 as imageio\n",
    "from patient import patient\n",
    "\n",
    "import glob\n",
    "from tqdm.autonotebook import tqdm\n",
    "\n",
    "# https://dataverse.harvard.edu/dataset.xhtml?persistentId=doi:10.7910/DVN/6ACUZJ"
   ]
  },
  {
   "cell_type": "code",
   "execution_count": 7,
   "metadata": {},
   "outputs": [
    {
     "data": {
      "application/vnd.jupyter.widget-view+json": {
       "model_id": "2b46f74fb5c6469f972650d0f9785cad",
       "version_major": 2,
       "version_minor": 0
      },
      "text/plain": [
       "Patient:   0%|          | 0/19 [00:00<?, ?it/s]"
      ]
     },
     "metadata": {},
     "output_type": "display_data"
    }
   ],
   "source": [
    "vols = [\n",
    "    \"4411471\",\n",
    "    \"4411469\",\n",
    "    \"4411475\",\n",
    "    \"4411476\",\n",
    "    \"4411482\",\n",
    "    \"4411558\",\n",
    "    \"4411559\",\n",
    "    \"4411557\",\n",
    "    \"4411796\",\n",
    "    \"4411560\",\n",
    "    \"4411563\",\n",
    "    \"4411562\",\n",
    "    \"4411561\",\n",
    "    \"4411564\",\n",
    "    \"4411565\",\n",
    "    \"4411566\",\n",
    "    \"4411794\",\n",
    "    \"4411797\",\n",
    "    \"4411407\"\n",
    "]\n",
    "\n",
    "for vol in tqdm(vols, desc=\"Patient\"):\n",
    "    p = patient.patient(name=vol)\n",
    "# imageio.mimsave(f\"pics/drr.gif\", p.drr.img)"
   ]
  },
  {
   "cell_type": "code",
   "execution_count": 2,
   "metadata": {},
   "outputs": [
    {
     "ename": "AttributeError",
     "evalue": "'list' object has no attribute 'ndim'",
     "output_type": "error",
     "traceback": [
      "\u001b[0;31m---------------------------------------------------------------------------\u001b[0m",
      "\u001b[0;31mAttributeError\u001b[0m                            Traceback (most recent call last)",
      "\u001b[1;32m/home/mfujita/Documents/research/tests.ipynb Cell 3\u001b[0m in \u001b[0;36m<cell line: 2>\u001b[0;34m()\u001b[0m\n\u001b[1;32m      <a href='vscode-notebook-cell://ssh-remote%2B192.168.193.104/home/mfujita/Documents/research/tests.ipynb#W2sdnNjb2RlLXJlbW90ZQ%3D%3D?line=0'>1</a>\u001b[0m p \u001b[39m=\u001b[39m patient\u001b[39m.\u001b[39mpatient(name\u001b[39m=\u001b[39m\u001b[39m\"\u001b[39m\u001b[39m4411471\u001b[39m\u001b[39m\"\u001b[39m)\n\u001b[0;32m----> <a href='vscode-notebook-cell://ssh-remote%2B192.168.193.104/home/mfujita/Documents/research/tests.ipynb#W2sdnNjb2RlLXJlbW90ZQ%3D%3D?line=1'>2</a>\u001b[0m p\u001b[39m.\u001b[39;49mgenerate_ct()\n",
      "File \u001b[0;32m~/Documents/research/patient/patient.py:54\u001b[0m, in \u001b[0;36mpatient.generate_ct\u001b[0;34m(self)\u001b[0m\n\u001b[1;32m     52\u001b[0m \u001b[39mdef\u001b[39;00m \u001b[39mgenerate_ct\u001b[39m(\u001b[39mself\u001b[39m):\n\u001b[1;32m     53\u001b[0m     \u001b[39m# print(\"Creating new CTset\")\u001b[39;00m\n\u001b[0;32m---> 54\u001b[0m     \u001b[39mself\u001b[39m\u001b[39m.\u001b[39mct \u001b[39m=\u001b[39m ct\u001b[39m.\u001b[39;49mctset(name\u001b[39m=\u001b[39;49m\u001b[39mself\u001b[39;49m\u001b[39m.\u001b[39;49mname, \u001b[39mtype\u001b[39;49m\u001b[39m=\u001b[39;49m\u001b[39m\"\u001b[39;49m\u001b[39mfloat32\u001b[39;49m\u001b[39m\"\u001b[39;49m)\n\u001b[1;32m     55\u001b[0m     \u001b[39mwith\u001b[39;00m \u001b[39mopen\u001b[39m(datadir \u001b[39m/\u001b[39m \u001b[39mself\u001b[39m\u001b[39m.\u001b[39mname \u001b[39m/\u001b[39m \u001b[39m\"\u001b[39m\u001b[39mct.pickle\u001b[39m\u001b[39m\"\u001b[39m, \u001b[39m'\u001b[39m\u001b[39mwb\u001b[39m\u001b[39m'\u001b[39m) \u001b[39mas\u001b[39;00m handle:\n\u001b[1;32m     56\u001b[0m         pickle\u001b[39m.\u001b[39mdump(\u001b[39mself\u001b[39m\u001b[39m.\u001b[39mct, handle, protocol\u001b[39m=\u001b[39mpickle\u001b[39m.\u001b[39mHIGHEST_PROTOCOL)\n",
      "File \u001b[0;32m~/Documents/research/ct/ct.py:51\u001b[0m, in \u001b[0;36mctset.__init__\u001b[0;34m(self, name, type)\u001b[0m\n\u001b[1;32m     47\u001b[0m \u001b[39mself\u001b[39m\u001b[39m.\u001b[39mimg \u001b[39m=\u001b[39m np\u001b[39m.\u001b[39mempty(\u001b[39mself\u001b[39m\u001b[39m.\u001b[39msheets, dtype\u001b[39m=\u001b[39m\u001b[39mobject\u001b[39m)\n\u001b[1;32m     49\u001b[0m \u001b[39mself\u001b[39m\u001b[39m.\u001b[39mraw_data \u001b[39m=\u001b[39m \u001b[39msorted\u001b[39m(\u001b[39mself\u001b[39m\u001b[39m.\u001b[39mraw_data,\n\u001b[1;32m     50\u001b[0m                        key\u001b[39m=\u001b[39m\u001b[39mlambda\u001b[39;00m x: x\u001b[39m.\u001b[39mImagePositionPatient[\u001b[39m2\u001b[39m])\n\u001b[0;32m---> 51\u001b[0m \u001b[39mself\u001b[39m\u001b[39m.\u001b[39mraw_data \u001b[39m=\u001b[39m np\u001b[39m.\u001b[39;49mflip(\u001b[39mself\u001b[39;49m\u001b[39m.\u001b[39;49mraw_data,)\n\u001b[1;32m     53\u001b[0m \u001b[39mif\u001b[39;00m \u001b[39mtype\u001b[39m \u001b[39m==\u001b[39m \u001b[39m\"\u001b[39m\u001b[39muint8\u001b[39m\u001b[39m\"\u001b[39m:\n\u001b[1;32m     54\u001b[0m     \u001b[39mfor\u001b[39;00m i \u001b[39min\u001b[39;00m \u001b[39mrange\u001b[39m(\u001b[39m0\u001b[39m, \u001b[39mself\u001b[39m\u001b[39m.\u001b[39msheets):\n",
      "File \u001b[0;32m~/anaconda3/envs/res/lib/python3.10/site-packages/cupy/_manipulation/rearrange.py:29\u001b[0m, in \u001b[0;36mflip\u001b[0;34m(a, axis)\u001b[0m\n\u001b[1;32m      9\u001b[0m \u001b[39mdef\u001b[39;00m \u001b[39mflip\u001b[39m(a, axis\u001b[39m=\u001b[39m\u001b[39mNone\u001b[39;00m):\n\u001b[1;32m     10\u001b[0m     \u001b[39m\"\"\"Reverse the order of elements in an array along the given axis.\u001b[39;00m\n\u001b[1;32m     11\u001b[0m \n\u001b[1;32m     12\u001b[0m \u001b[39m    Note that ``flip`` function has been introduced since NumPy v1.12.\u001b[39;00m\n\u001b[0;32m   (...)\u001b[0m\n\u001b[1;32m     27\u001b[0m \n\u001b[1;32m     28\u001b[0m \u001b[39m    \"\"\"\u001b[39;00m\n\u001b[0;32m---> 29\u001b[0m     axes \u001b[39m=\u001b[39m internal\u001b[39m.\u001b[39m_normalize_axis_indices(axis, a\u001b[39m.\u001b[39;49mndim)\n\u001b[1;32m     30\u001b[0m     \u001b[39mreturn\u001b[39;00m _flip(a, axes)\n",
      "\u001b[0;31mAttributeError\u001b[0m: 'list' object has no attribute 'ndim'"
     ]
    }
   ],
   "source": [
    "p = patient.patient(name=\"4411471\")\n",
    "p.generate_ct()"
   ]
  },
  {
   "cell_type": "code",
   "execution_count": 3,
   "metadata": {},
   "outputs": [
    {
     "name": "stderr",
     "output_type": "stream",
     "text": [
      "Lossy conversion from int16 to uint8. Range [3, 213]. Convert image to uint8 prior to saving to suppress this warning.\n",
      "Lossy conversion from float32 to uint8. Range [-184.0, 247.0]. Convert image to uint8 prior to saving to suppress this warning.\n"
     ]
    }
   ],
   "source": [
    "from patient import patient\n",
    "import imageio.v2 as imageio\n",
    "\n",
    "p = patient.patient(name=\"sample1000\")\n",
    "\n",
    "a = 150\n",
    "\n",
    "imageio.imsave(\"pics/ct.png\", p.ct.img[a])\n",
    "# imageio.imsave(\"pics/test2.png\", p.get_resized_fbp(p.get_equiv(a, plot=True)[0]))\n",
    "imageio.imsave(\"pics/test2.png\", p.get_equiv_fbp(a))\n",
    "\n",
    "imgct = imageio.imread(\"pics/ct.png\").astype(\"float32\")\n",
    "imgrec = imageio.imread(\"pics/test2.png\").astype(\"float32\")\n",
    "\n",
    "imageio.imsave(\"pics/diff.png\", imgct - imgrec)"
   ]
  },
  {
   "cell_type": "markdown",
   "metadata": {},
   "source": []
  },
  {
   "attachments": {},
   "cell_type": "markdown",
   "metadata": {},
   "source": [
    "## Xray set"
   ]
  },
  {
   "cell_type": "code",
   "execution_count": null,
   "metadata": {},
   "outputs": [
    {
     "data": {
      "application/vnd.jupyter.widget-view+json": {
       "model_id": "50337c39c9de4e1bacf7e24b6296febd",
       "version_major": 2,
       "version_minor": 0
      },
      "text/plain": [
       "  0%|          | 0/450 [00:00<?, ?it/s]"
      ]
     },
     "metadata": {},
     "output_type": "display_data"
    }
   ],
   "source": [
    "xrayset = xray.xrayset(\n",
    "        name=\"phantom\",\n",
    "        sheets=450,\n",
    "        voltage=120\n",
    "    )\n",
    "\n",
    "imageio.mimsave(\"x.gif\", xrayset.img)"
   ]
  },
  {
   "cell_type": "code",
   "execution_count": null,
   "metadata": {},
   "outputs": [],
   "source": [
    "# fbp from xrayset\n",
    "rec2 = fbp.reconstruction(\n",
    "        xrayset,\n",
    "        height=300,\n",
    "        # adjust_alpha=4.,\n",
    "        # adjust_beta=-120.,\n",
    "        rotate=211\n",
    "    )\n",
    "\n",
    "imageio.mimsave(\"test.png\", rec2.get(565))"
   ]
  }
 ],
 "metadata": {
  "kernelspec": {
   "display_name": "res",
   "language": "python",
   "name": "python3"
  },
  "language_info": {
   "codemirror_mode": {
    "name": "ipython",
    "version": 3
   },
   "file_extension": ".py",
   "mimetype": "text/x-python",
   "name": "python",
   "nbconvert_exporter": "python",
   "pygments_lexer": "ipython3",
   "version": "3.10.8"
  },
  "orig_nbformat": 4,
  "vscode": {
   "interpreter": {
    "hash": "da9ac5d7c4e967160d4eddc6864285750b07d26b36aae015b5a1a36de670b7f6"
   }
  }
 },
 "nbformat": 4,
 "nbformat_minor": 2
}
