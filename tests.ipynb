{
 "cells": [
  {
   "cell_type": "code",
   "execution_count": 12,
   "metadata": {},
   "outputs": [
    {
     "name": "stdout",
     "output_type": "stream",
     "text": [
      "a\n"
     ]
    }
   ],
   "source": [
    "print(\"a\")"
   ]
  },
  {
   "cell_type": "code",
   "execution_count": 15,
   "metadata": {},
   "outputs": [],
   "source": [
    "import importlib\n",
    "import imageio.v2 as imageio\n",
    "from patient import patient\n",
    "import glob\n",
    "\n",
    "# https://dataverse.harvard.edu/dataset.xhtml?persistentId=doi:10.7910/DVN/6ACUZJ"
   ]
  },
  {
   "cell_type": "code",
   "execution_count": 16,
   "metadata": {},
   "outputs": [
    {
     "data": {
      "application/vnd.jupyter.widget-view+json": {
       "model_id": "8b458973475e4af48296f2788c42caf2",
       "version_major": 2,
       "version_minor": 0
      },
      "text/plain": [
       "  0%|          | 0/107 [00:00<?, ?it/s]"
      ]
     },
     "metadata": {},
     "output_type": "display_data"
    },
    {
     "ename": "KeyboardInterrupt",
     "evalue": "",
     "output_type": "error",
     "traceback": [
      "\u001b[0;31m---------------------------------------------------------------------------\u001b[0m",
      "\u001b[0;31mKeyboardInterrupt\u001b[0m                         Traceback (most recent call last)",
      "\u001b[1;32m/home/mfujita/Documents/research/tests.ipynb Cell 3\u001b[0m in \u001b[0;36m<cell line: 2>\u001b[0;34m()\u001b[0m\n\u001b[1;32m      <a href='vscode-notebook-cell://ssh-remote%2B192.168.193.104/home/mfujita/Documents/research/tests.ipynb#W2sdnNjb2RlLXJlbW90ZQ%3D%3D?line=4'>5</a>\u001b[0m vol \u001b[39m=\u001b[39m vol_path\u001b[39m.\u001b[39msplit(\u001b[39m\"\u001b[39m\u001b[39m/\u001b[39m\u001b[39m\"\u001b[39m)[\u001b[39m-\u001b[39m\u001b[39m1\u001b[39m]\n\u001b[1;32m      <a href='vscode-notebook-cell://ssh-remote%2B192.168.193.104/home/mfujita/Documents/research/tests.ipynb#W2sdnNjb2RlLXJlbW90ZQ%3D%3D?line=5'>6</a>\u001b[0m \u001b[39m# print(vol)\u001b[39;00m\n\u001b[0;32m----> <a href='vscode-notebook-cell://ssh-remote%2B192.168.193.104/home/mfujita/Documents/research/tests.ipynb#W2sdnNjb2RlLXJlbW90ZQ%3D%3D?line=6'>7</a>\u001b[0m p \u001b[39m=\u001b[39m patient\u001b[39m.\u001b[39mpatient(name\u001b[39m=\u001b[39mvol)\n",
      "\u001b[0;31mKeyboardInterrupt\u001b[0m: "
     ]
    }
   ],
   "source": [
    "from tqdm.notebook import tqdm\n",
    "for vol_path in tqdm(glob.glob(\"./data/*\")):\n",
    "    if \"__\" in vol_path:\n",
    "        continue\n",
    "    vol = vol_path.split(\"/\")[-1]\n",
    "    # print(vol)\n",
    "    p = patient.patient(name=vol)\n",
    "# imageio.mimsave(f\"pics/drr.gif\", p.drr.img)"
   ]
  },
  {
   "cell_type": "code",
   "execution_count": 17,
   "metadata": {},
   "outputs": [
    {
     "data": {
      "application/vnd.jupyter.widget-view+json": {
       "model_id": "279befee45ff42099019a7b3247dd4ec",
       "version_major": 2,
       "version_minor": 0
      },
      "text/plain": [
       "interactive(children=(Select(description='X軸:', options=('sepal length (cm)', 'sepal width (cm)', 'petal lengt…"
      ]
     },
     "metadata": {},
     "output_type": "display_data"
    },
    {
     "data": {
      "text/plain": [
       "<function __main__.show_plot(col1, col2)>"
      ]
     },
     "execution_count": 17,
     "metadata": {},
     "output_type": "execute_result"
    }
   ],
   "source": [
    "import numpy as np\n",
    "import pandas as pd\n",
    "from sklearn.datasets import load_iris\n",
    "from ipywidgets import interact, Select\n",
    "import matplotlib.pyplot as plt\n",
    "%matplotlib inline\n",
    "\n",
    "def show_plot(col1, col2):\n",
    "    plt.figure(figsize=(4.5,4.5))\n",
    "    plt.scatter(data[col1], data[col2], c=iris.target)\n",
    "    plt.xlabel('')\n",
    "    plt.ylabel('')\n",
    "    plt.show()\n",
    "\n",
    "iris = load_iris()\n",
    "data = pd.DataFrame(iris.data, columns=iris.feature_names)\n",
    "\n",
    "w1 = Select(description='X軸:', options=data.columns, rows=4,)\n",
    "w2 = Select(description='Y軸:', options=data.columns, rows=4,)\n",
    "interact(show_plot, col1=w1, col2=w2)"
   ]
  },
  {
   "cell_type": "code",
   "execution_count": 4,
   "metadata": {},
   "outputs": [
    {
     "name": "stderr",
     "output_type": "stream",
     "text": [
      "Lossy conversion from int16 to uint8. Range [0, 251]. Convert image to uint8 prior to saving to suppress this warning.\n",
      "Lossy conversion from float32 to uint8. Range [-242.0, 157.0]. Convert image to uint8 prior to saving to suppress this warning.\n"
     ]
    }
   ],
   "source": [
    "from patient import patient\n",
    "import imageio.v2 as imageio\n",
    "import cupy as cp\n",
    "\n",
    "p = patient.patient(name=\"4411469\")\n",
    "\n",
    "a = 180\n",
    "\n",
    "imageio.imsave(\"pics/ct.png\", cp.asnumpy(p.ct.img[a]))\n",
    "# imageio.imsave(\"pics/test2.png\", p.get_resized_fbp(p.get_equiv(a, plot=True)[0]))\n",
    "imageio.imsave(\"pics/test2.png\", cp.asnumpy(p.get_equiv_fbp(a)))\n",
    "\n",
    "imgct = imageio.imread(\"pics/ct.png\").astype(\"float32\")\n",
    "imgrec = imageio.imread(\"pics/test2.png\").astype(\"float32\")\n",
    "\n",
    "imageio.imsave(\"pics/diff.png\", imgct - imgrec)"
   ]
  },
  {
   "cell_type": "markdown",
   "metadata": {},
   "source": []
  },
  {
   "attachments": {},
   "cell_type": "markdown",
   "metadata": {},
   "source": [
    "## Xray set"
   ]
  },
  {
   "cell_type": "code",
   "execution_count": null,
   "metadata": {},
   "outputs": [
    {
     "data": {
      "application/vnd.jupyter.widget-view+json": {
       "model_id": "50337c39c9de4e1bacf7e24b6296febd",
       "version_major": 2,
       "version_minor": 0
      },
      "text/plain": [
       "  0%|          | 0/450 [00:00<?, ?it/s]"
      ]
     },
     "metadata": {},
     "output_type": "display_data"
    }
   ],
   "source": [
    "xrayset = xray.xrayset(\n",
    "        name=\"phantom\",\n",
    "        sheets=450,\n",
    "        voltage=120\n",
    "    )\n",
    "\n",
    "imageio.mimsave(\"x.gif\", xrayset.img)"
   ]
  },
  {
   "cell_type": "code",
   "execution_count": null,
   "metadata": {},
   "outputs": [],
   "source": [
    "# fbp from xrayset\n",
    "rec2 = fbp.reconstruction(\n",
    "        xrayset,\n",
    "        height=300,\n",
    "        # adjust_alpha=4.,\n",
    "        # adjust_beta=-120.,\n",
    "        rotate=211\n",
    "    )\n",
    "\n",
    "imageio.mimsave(\"test.png\", rec2.get(565))"
   ]
  }
 ],
 "metadata": {
  "kernelspec": {
   "display_name": "Python 3 (ipykernel)",
   "language": "python",
   "name": "python3"
  },
  "language_info": {
   "codemirror_mode": {
    "name": "ipython",
    "version": 3
   },
   "file_extension": ".py",
   "mimetype": "text/x-python",
   "name": "python",
   "nbconvert_exporter": "python",
   "pygments_lexer": "ipython3",
   "version": "3.10.8"
  },
  "orig_nbformat": 4,
  "vscode": {
   "interpreter": {
    "hash": "da9ac5d7c4e967160d4eddc6864285750b07d26b36aae015b5a1a36de670b7f6"
   }
  }
 },
 "nbformat": 4,
 "nbformat_minor": 2
}
