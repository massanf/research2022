{
 "cells": [
  {
   "cell_type": "code",
   "execution_count": 1,
   "metadata": {},
   "outputs": [
    {
     "name": "stderr",
     "output_type": "stream",
     "text": [
      "/home/mfujita/Documents/research/fbp/tompy.py:10: TqdmExperimentalWarning: Using `tqdm.autonotebook.tqdm` in notebook mode. Use `tqdm.tqdm` instead to force console mode (e.g. in jupyter console)\n",
      "  from tqdm.autonotebook import tqdm as notebook_tqdm\n"
     ]
    }
   ],
   "source": [
    "import importlib\n",
    "import numpy as np\n",
    "import imageio.v2 as imageio\n",
    "\n",
    "import fbp.tompy as fbp\n",
    "from xray import xray\n",
    "from ct import ct\n",
    "from drr import drr\n",
    "\n",
    "# https://dataverse.harvard.edu/dataset.xhtml?persistentId=doi:10.7910/DVN/6ACUZJ\n",
    "\n",
    "importlib.reload(fbp)\n",
    "importlib.reload(xray)\n",
    "importlib.reload(ct)\n",
    "importlib.reload(drr)\n",
    "\n",
    "def showimage(array):\n",
    "    from IPython.display import Image\n",
    "    imageio.imsave(\"saved.png\", array)\n",
    "    Image(filename='saved.png')"
   ]
  },
  {
   "cell_type": "code",
   "execution_count": 2,
   "metadata": {},
   "outputs": [],
   "source": [
    "import patient\n",
    "importlib.reload(patient)\n",
    "\n",
    "name = 1007\n",
    "\n",
    "p = patient.patient(name=\"sample\"+str(name), num_views=450)\n",
    "# imageio.mimsave(f\"pics/drr.gif\", p.drr.img)"
   ]
  },
  {
   "cell_type": "code",
   "execution_count": 3,
   "metadata": {},
   "outputs": [
    {
     "name": "stderr",
     "output_type": "stream",
     "text": [
      "Lossy conversion from float32 to uint8. Range [-206.0, 88.0]. Convert image to uint8 prior to saving to suppress this warning.\n"
     ]
    },
    {
     "name": "stdout",
     "output_type": "stream",
     "text": [
      "182 0.024065749799473887 1.14\n"
     ]
    }
   ],
   "source": [
    "a = 220\n",
    "\n",
    "p.resize_factor = 1.14\n",
    "\n",
    "imageio.imsave(\"pics/ct.png\", p.ct.img[a])\n",
    "imageio.imsave(\"pics/test2.png\", p.get_equiv_fbp(a))\n",
    "# imageio.imsave(\"pics/test2.png\", p.get_resized_fbp(144))\n",
    "\n",
    "imgct = imageio.imread(\"pics/ct.png\").astype(\"float32\")\n",
    "imgrec = imageio.imread(\"pics/test2.png\").astype(\"float32\")\n",
    "\n",
    "imageio.imsave(\"pics/diff.png\", imgct - imgrec)"
   ]
  },
  {
   "cell_type": "code",
   "execution_count": 4,
   "metadata": {},
   "outputs": [
    {
     "name": "stdout",
     "output_type": "stream",
     "text": [
      "90 0.07413947794513948 1.7402386662497547\n",
      "216 0.05681143148498453 1.4299660970200607\n",
      "318 0.07564935892844764 1.8347599629761648\n",
      "182 0.03937931022977467 1.2553282723352865\n",
      "182 0.03644060535187559 1.2399207608029565\n",
      "182 0.025499437756897787 1.1659143816758413\n",
      "316 0.0742842836887777 1.7455782527955668\n",
      "90 0.07005787695991966 1.664038459661233\n",
      "321 0.07664722465763305 1.904827904079065\n",
      "216 0.05060349436708663 1.3437943546462114\n",
      "150 0.04576839579217659 1.0031245233069594\n",
      "182 0.02549274782318012 1.12675618018491\n",
      "182 0.02418316607758565 1.1461407412189575\n",
      "321 0.0777159178799458 1.9998348027754425\n",
      "93 0.06304263426378034 1.5410673505850818\n",
      "166 0.03472868189461124 1.073539418204798\n",
      "181 0.028802903460233144 1.195640181471968\n",
      "217 0.057382545341375615 1.439997454849041\n",
      "321 0.07785574713533919 1.9976113286869295\n",
      "182 0.02418316607758565 1.1465009117656637\n",
      "182 0.02418316607758565 1.146384504079988\n",
      "182 0.02410392434051778 1.1452914663425464\n",
      "93 0.06661658568909236 1.5995013513835923\n",
      "166 0.04063175089956476 1.0368438666682087\n",
      "317 0.07441598088274504 1.7718602337985692\n",
      "216 0.05832977136818219 1.4538188642065988\n",
      "321 0.07670108480829461 1.916146395034389\n",
      "182 0.02410392434051778 1.1452219066634672\n",
      "182 0.02410392434051778 1.145173643419286\n",
      "182 0.02410392434051778 1.1451454961670475\n",
      "182 0.02410392434051778 1.1451271320998986\n",
      "182 0.02410392434051778 1.1451129475184696\n",
      "90 0.07038901962414837 1.6714877678546105\n",
      "150 0.04528813149160049 1.007809518679304\n",
      "182 0.02410392434051778 1.1449886863376024\n",
      "182 0.02410392434051778 1.1449779388621775\n",
      "90 0.07100497846328899 1.6857509844072611\n",
      "182 0.02410392434051778 1.1449801650908764\n",
      "182 0.02410392434051778 1.144974141322825\n",
      "182 0.02410392434051778 1.144970509262256\n",
      "182 0.02410392434051778 1.1449678090004076\n",
      "182 0.02410392434051778 1.1449651493196122\n",
      "317 0.07568816333367678 1.8294367222850094\n",
      "182 0.02410392434051778 1.1449518134617511\n",
      "182 0.02410392434051778 1.1449491631796205\n",
      "182 0.02410392434051778 1.1449467633752306\n",
      "182 0.02410392434051778 1.1449451528320913\n",
      "182 0.02410392434051778 1.1449385290338066\n",
      "182 0.02410392434051778 1.1449388647810652\n",
      "182 0.02410392434051778 1.1449236517203791\n",
      "182 0.02410392434051778 1.1449274691260016\n",
      "174 0.03141632611304908 1.0860832973732792\n",
      "183 0.04764660753739327 1.3022316973466859\n",
      "182 0.02418316607758565 1.1473997051265692\n",
      "182 0.02418316607758565 1.1468467317140265\n",
      "216 0.05352874435499877 1.3818587314729724\n",
      "182 0.024020037401150246 1.1437791758751967\n",
      "94 0.06101816729848854 1.5016407295022165\n",
      "182 0.024020037401150246 1.1434569657427547\n",
      "318 0.07605965830485886 1.8456172430246762\n",
      "90 0.07041797105514437 1.6721433995866537\n",
      "182 0.024020037401150246 1.1431501350381876\n",
      "182 0.024020037401150246 1.1427875127858664\n",
      "182 0.024020037401150246 1.1424411463399786\n",
      "182 0.024020037401150246 1.1421439687830586\n",
      "182 0.024065749799473887 1.141899263142298\n",
      "90 0.07277478697478562 1.715947804792156\n",
      "182 0.024065749799473887 1.1419784911316602\n",
      "182 0.024065749799473887 1.1419796992515945\n",
      "182 0.024065749799473887 1.1419872393742767\n",
      "182 0.024020037401150246 1.1420023853886976\n",
      "182 0.024065749799473887 1.1419049023329433\n",
      "182 0.024065749799473887 1.1419179230655732\n",
      "182 0.024065749799473887 1.1419355712580714\n",
      "177 0.02848759897354917 1.112422913869486\n",
      "182 0.024065749799473887 1.1407745846642559\n",
      "182 0.024065749799473887 1.1408841467091189\n",
      "182 0.03221877246230748 1.215301270594869\n",
      "182 0.024065749799473887 1.1409929001725188\n",
      "182 0.024065749799473887 1.1410658974909957\n",
      "182 0.024065749799473887 1.1411306833898842\n",
      "182 0.024065749799473887 1.1411882365288226\n",
      "182 0.024065749799473887 1.141238421217307\n",
      "182 0.024065749799473887 1.141285404732768\n",
      "182 0.024065749799473887 1.1413250180299823\n",
      "182 0.024065749799473887 1.141364897531492\n",
      "182 0.024065749799473887 1.1413982130757876\n",
      "182 0.024065749799473887 1.1414298246310215\n",
      "182 0.024065749799473887 1.1414600938575021\n",
      "94 0.06134326142202816 1.5045946222833055\n",
      "182 0.024065749799473887 1.1414853604812036\n",
      "182 0.024065749799473887 1.1415149478051454\n",
      "182 0.024065749799473887 1.14153740641673\n",
      "182 0.024065749799473887 1.1415545601012775\n",
      "182 0.024065749799473887 1.14158518645345\n",
      "182 0.024065749799473887 1.1416018337769909\n",
      "182 0.024065749799473887 1.1416176420860145\n",
      "182 0.024065749799473887 1.141633515604972\n",
      "321 0.07643306537345644 1.8792547004553537\n",
      "182 0.024065749799473887 1.1416383618150068\n"
     ]
    }
   ],
   "source": [
    "import scipy\n",
    "from skopt import gp_minimize\n",
    "\n",
    "num = 220\n",
    "\n",
    "def loss(x):\n",
    "    return p.get_equiv(num, resize_factor=x[0])[1]\n",
    "\n",
    "res = gp_minimize(loss, [(1.0, 2.0)])"
   ]
  },
  {
   "cell_type": "markdown",
   "metadata": {},
   "source": []
  },
  {
   "cell_type": "code",
   "execution_count": 65,
   "metadata": {},
   "outputs": [
    {
     "name": "stderr",
     "output_type": "stream",
     "text": [
      "Lossy conversion from float32 to uint8. Range [-206.0, 88.0]. Convert image to uint8 prior to saving to suppress this warning.\n"
     ]
    },
    {
     "name": "stdout",
     "output_type": "stream",
     "text": [
      "182 0.024065749799473887 1.14127\n"
     ]
    }
   ],
   "source": [
    "p.resize_factor = 1.14127\n",
    "\n",
    "a = 220\n",
    "\n",
    "imageio.imsave(\"pics/ct.png\", p.ct.img[a])\n",
    "imageio.imsave(\"pics/test2.png\", p.get_equiv_fbp(a))\n",
    "# imageio.imsave(\"pics/test2.png\", p.get_resized_fbp(144))\n",
    "\n",
    "imgct = imageio.imread(\"pics/ct.png\").astype(\"float32\")\n",
    "imgrec = imageio.imread(\"pics/test2.png\").astype(\"float32\")\n",
    "\n",
    "imageio.imsave(\"pics/diff.png\", imgct - imgrec)"
   ]
  },
  {
   "cell_type": "code",
   "execution_count": null,
   "metadata": {},
   "outputs": [],
   "source": []
  },
  {
   "cell_type": "code",
   "execution_count": null,
   "metadata": {},
   "outputs": [],
   "source": [
    "100: 114 0.04293746913717597 1.14127\n"
   ]
  },
  {
   "cell_type": "code",
   "execution_count": null,
   "metadata": {},
   "outputs": [],
   "source": []
  },
  {
   "cell_type": "code",
   "execution_count": null,
   "metadata": {},
   "outputs": [],
   "source": []
  },
  {
   "cell_type": "code",
   "execution_count": null,
   "metadata": {},
   "outputs": [],
   "source": [
    "# imageio.mimsave(f\"pics/drr.gif\", p.drr.img)\n",
    "# p.set_correlation((100, 200), (115, 190), 1.1)\n",
    "\n",
    "# 1007 p.set_correlation((100, 230), (115, 190), 1.15)\n",
    "\n",
    "# 1000: 256.5 171 1.51 \n",
    "# 1002: 354.5 215 1.33\n",
    "# 1003: 294.5 237 1.24\n",
    "# 1007: 242.5 202 1.2"
   ]
  },
  {
   "cell_type": "code",
   "execution_count": 81,
   "metadata": {},
   "outputs": [
    {
     "name": "stderr",
     "output_type": "stream",
     "text": [
      "Lossy conversion from float64 to uint8. Range [-254.96676621831003, 214.0]. Convert image to uint8 prior to saving to suppress this warning.\n"
     ]
    }
   ],
   "source": [
    "imgct = imageio.imread(\"pics/ct.png\").astype(\"float32\")\n",
    "imgrec = imageio.imread(\"pics/test2.png\").astype(\"float32\")\n",
    "\n",
    "new_imgrec = hist_match(imgrec, imgct)\n",
    "imageio.imsave(\"pics/diff__.png\", new_imgrec - imgct)"
   ]
  },
  {
   "cell_type": "code",
   "execution_count": null,
   "metadata": {},
   "outputs": [],
   "source": []
  },
  {
   "cell_type": "code",
   "execution_count": null,
   "metadata": {},
   "outputs": [],
   "source": []
  },
  {
   "cell_type": "code",
   "execution_count": null,
   "metadata": {},
   "outputs": [],
   "source": []
  },
  {
   "cell_type": "code",
   "execution_count": null,
   "metadata": {},
   "outputs": [],
   "source": []
  },
  {
   "cell_type": "code",
   "execution_count": 166,
   "metadata": {},
   "outputs": [
    {
     "name": "stderr",
     "output_type": "stream",
     "text": [
      "Lossy conversion from float32 to uint8. Range [-187.0, 67.0]. Convert image to uint8 prior to saving to suppress this warning.\n"
     ]
    }
   ],
   "source": [
    "importlib.reload(patient)\n",
    "\n",
    "a = 250\n",
    "b = 175\n",
    "\n",
    "imageio.imsave(\"pics/ct.png\", p.ct.img[a])\n",
    "imageio.imsave(\"pics/test2.png\", p.get_resized_fbp(b, resize_factor=1.1))\n",
    "\n",
    "imgct = imageio.imread(\"pics/ct.png\").astype(\"float32\")\n",
    "imgrec = imageio.imread(\"pics/test2.png\").astype(\"float32\")\n",
    "\n",
    "imageio.imsave(\"pics/diff.png\", imgct - imgrec)"
   ]
  },
  {
   "cell_type": "code",
   "execution_count": 170,
   "metadata": {},
   "outputs": [
    {
     "name": "stderr",
     "output_type": "stream",
     "text": [
      "Lossy conversion from float32 to uint8. Range [-216.0, 88.0]. Convert image to uint8 prior to saving to suppress this warning.\n"
     ]
    }
   ],
   "source": [
    "importlib.reload(patient)\n",
    "\n",
    "a = 300\n",
    "b = 190\n",
    "\n",
    "imageio.imsave(\"pics/ct.png\", p.ct.img[a])\n",
    "imageio.imsave(\"pics/test2.png\", p.get_resized_fbp(b, resize_factor=1.5))\n",
    "\n",
    "imgct = imageio.imread(\"pics/ct.png\").astype(\"float32\")\n",
    "imgrec = imageio.imread(\"pics/test2.png\").astype(\"float32\")\n",
    "\n",
    "imageio.imsave(\"pics/diff.png\", imgct - imgrec)"
   ]
  },
  {
   "cell_type": "code",
   "execution_count": 181,
   "metadata": {},
   "outputs": [],
   "source": [
    "p.set_correlation((120, 300), (127, 200), 1.36)"
   ]
  },
  {
   "cell_type": "code",
   "execution_count": 182,
   "metadata": {},
   "outputs": [
    {
     "name": "stderr",
     "output_type": "stream",
     "text": [
      "Lossy conversion from float32 to uint8. Range [-220.0, 75.0]. Convert image to uint8 prior to saving to suppress this warning.\n"
     ]
    }
   ],
   "source": [
    "import numpy as np\n",
    "\n",
    "a = 250\n",
    "\n",
    "imageio.imsave(\"pics/ct.png\", p.ct.img[a])\n",
    "imageio.imsave(\"pics/test2.png\", p.get_equiv_fbp(a))\n",
    "\n",
    "imgct = imageio.imread(\"pics/ct.png\").astype(\"float32\")\n",
    "imgrec = imageio.imread(\"pics/test2.png\").astype(\"float32\")\n",
    "\n",
    "imageio.imsave(\"pics/diff.png\", imgct - imgrec)"
   ]
  },
  {
   "cell_type": "code",
   "execution_count": 98,
   "metadata": {},
   "outputs": [
    {
     "name": "stderr",
     "output_type": "stream",
     "text": [
      "Lossy conversion from float32 to uint8. Range [-236.0, 92.0]. Convert image to uint8 prior to saving to suppress this warning.\n"
     ]
    },
    {
     "name": "stdout",
     "output_type": "stream",
     "text": [
      "84 512\n"
     ]
    }
   ],
   "source": [
    "a = 200\n",
    "b = 120\n",
    "\n",
    "imageio.imsave(\"pics/ct.png\", p.ct.img[a])\n",
    "imageio.imsave(\"pics/test2.png\", p.get_resized_fbp(b, resize_factor=1.36))\n",
    "\n",
    "imgct = imageio.imread(\"pics/ct.png\").astype(\"float32\")\n",
    "imgrec = imageio.imread(\"pics/test2.png\").astype(\"float32\")\n",
    "\n",
    "imageio.imsave(\"pics/diff.png\", imgct - imgrec)"
   ]
  },
  {
   "attachments": {},
   "cell_type": "markdown",
   "metadata": {},
   "source": [
    "## Xray set"
   ]
  },
  {
   "cell_type": "code",
   "execution_count": 24,
   "metadata": {},
   "outputs": [
    {
     "data": {
      "application/vnd.jupyter.widget-view+json": {
       "model_id": "50337c39c9de4e1bacf7e24b6296febd",
       "version_major": 2,
       "version_minor": 0
      },
      "text/plain": [
       "  0%|          | 0/450 [00:00<?, ?it/s]"
      ]
     },
     "metadata": {},
     "output_type": "display_data"
    }
   ],
   "source": [
    "xrayset = xray.xrayset(\n",
    "        name=\"phantom\",\n",
    "        sheets=450,\n",
    "        voltage=120\n",
    "    )\n",
    "\n",
    "imageio.mimsave(\"x.gif\", xrayset.img)"
   ]
  },
  {
   "cell_type": "code",
   "execution_count": null,
   "metadata": {},
   "outputs": [],
   "source": [
    "# fbp from xrayset\n",
    "rec2 = fbp.reconstruction(\n",
    "        xrayset,\n",
    "        height=300,\n",
    "        # adjust_alpha=4.,\n",
    "        # adjust_beta=-120.,\n",
    "        rotate=211\n",
    "    )\n",
    "\n",
    "imageio.mimsave(\"test.png\", rec2.get(565))"
   ]
  }
 ],
 "metadata": {
  "kernelspec": {
   "display_name": "research",
   "language": "python",
   "name": "python3"
  },
  "language_info": {
   "codemirror_mode": {
    "name": "ipython",
    "version": 3
   },
   "file_extension": ".py",
   "mimetype": "text/x-python",
   "name": "python",
   "nbconvert_exporter": "python",
   "pygments_lexer": "ipython3",
   "version": "3.9.12"
  },
  "orig_nbformat": 4,
  "vscode": {
   "interpreter": {
    "hash": "0e926487cad17baa66c53e21c12e2658ea73bec2b01f7558d1b81cd2a43b22ac"
   }
  }
 },
 "nbformat": 4,
 "nbformat_minor": 2
}
