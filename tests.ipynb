{
 "cells": [
  {
   "cell_type": "code",
   "execution_count": 3,
   "metadata": {},
   "outputs": [],
   "source": [
    "import importlib\n",
    "\n",
    "import imageio.v2 as imageio\n",
    "import fbp.tompy as fbp\n",
    "from xray import xray\n",
    "from ct import ct\n",
    "from drr import drr\n",
    "\n",
    "importlib.reload(fbp)\n",
    "importlib.reload(xray)\n",
    "importlib.reload(ct)\n",
    "importlib.reload(drr)\n",
    "\n",
    "def showimage(array):\n",
    "    from IPython.display import Image\n",
    "    imageio.imsave(\"saved.png\", array)\n",
    "    Image(filename='saved.png')"
   ]
  },
  {
   "cell_type": "code",
   "execution_count": 2,
   "metadata": {},
   "outputs": [
    {
     "data": {
      "application/vnd.jupyter.widget-view+json": {
       "model_id": "711030da93fd41dea1207f6a928b30b1",
       "version_major": 2,
       "version_minor": 0
      },
      "text/plain": [
       "  0%|          | 0/450 [00:00<?, ?it/s]"
      ]
     },
     "metadata": {},
     "output_type": "display_data"
    }
   ],
   "source": [
    "xrayset = xray.xrayset(\n",
    "        name=\"phantom\",\n",
    "        sheets=450,\n",
    "        voltage=120\n",
    "    )"
   ]
  },
  {
   "cell_type": "code",
   "execution_count": 38,
   "metadata": {},
   "outputs": [],
   "source": [
    "# fbp from xrayset\n",
    "rec2 = fbp.reconstruction(\n",
    "        xrayset,\n",
    "        height=300,\n",
    "        # adjust_alpha=4.,\n",
    "        # adjust_beta=-120.,\n",
    "        rotate=211\n",
    "    )\n",
    "\n",
    "imageio.imsave(\"test.png\", rec2.get(565))"
   ]
  },
  {
   "cell_type": "code",
   "execution_count": 105,
   "metadata": {},
   "outputs": [
    {
     "data": {
      "application/vnd.jupyter.widget-view+json": {
       "model_id": "5b3fd495d2914226aa920c804b51e51f",
       "version_major": 2,
       "version_minor": 0
      },
      "text/plain": [
       "  0%|          | 0/400 [00:00<?, ?it/s]"
      ]
     },
     "metadata": {},
     "output_type": "display_data"
    },
    {
     "data": {
      "application/vnd.jupyter.widget-view+json": {
       "model_id": "002e260a4fba418198d91d4cbe4ab582",
       "version_major": 2,
       "version_minor": 0
      },
      "text/plain": [
       "  0%|          | 0/10 [00:00<?, ?it/s]"
      ]
     },
     "metadata": {},
     "output_type": "display_data"
    }
   ],
   "source": [
    "importlib.reload(ct)\n",
    "\n",
    "ct_vol0 = ct.ctset(name=\"vol0\", type=\"uint8\")\n",
    "v = 10\n",
    "\n",
    "importlib.reload(drr)\n",
    "\n",
    "d_vol0 = drr.drrset(\n",
    "    ct_vol0,\n",
    "    num_views=v,\n",
    "    zm=0.5,\n",
    "    height=300,\n",
    "    width=300,\n",
    "    zoffset=-25,\n",
    "    sdr=250\n",
    ")\n",
    "\n",
    "imageio.imsave(\"drr.png\", d_vol0.img[0])\n",
    "imageio.mimsave('drr.gif', d_vol0.img, duration=5/v)"
   ]
  },
  {
   "cell_type": "code",
   "execution_count": 165,
   "metadata": {},
   "outputs": [
    {
     "data": {
      "application/vnd.jupyter.widget-view+json": {
       "model_id": "2afab97081d74efd839243cfd68ff879",
       "version_major": 2,
       "version_minor": 0
      },
      "text/plain": [
       "  0%|          | 0/425 [00:00<?, ?it/s]"
      ]
     },
     "metadata": {},
     "output_type": "display_data"
    },
    {
     "data": {
      "application/vnd.jupyter.widget-view+json": {
       "model_id": "7c4cc53ffbce4a9f8533bb6852cd3964",
       "version_major": 2,
       "version_minor": 0
      },
      "text/plain": [
       "  0%|          | 0/5 [00:00<?, ?it/s]"
      ]
     },
     "metadata": {},
     "output_type": "display_data"
    }
   ],
   "source": [
    "importlib.reload(ct)\n",
    "\n",
    "ct_sample = ct.ctset(name=\"sample\", type=\"float32\")\n",
    "v = 450\n",
    "\n",
    "volume, spacing = ct_sample.get_volume()\n",
    "\n",
    "importlib.reload(drr)\n",
    "\n",
    "d_sample = drr.drrset(\n",
    "    ct_sample,\n",
    "    num_views=v,\n",
    "    zm=0.5,\n",
    "    height=400,\n",
    "    width=400,\n",
    "    zoffset=-0,\n",
    "    pad=50,\n",
    "    delx=8e-3,\n",
    "    sdr=300\n",
    ")\n",
    "\n",
    "imageio.imsave(\"ct.png\", ct_sample.img[200])\n",
    "imageio.imsave(\"drr.png\", d_sample.img[0])\n",
    "imageio.mimsave('drr.gif', d_sample.img, duration=5./v)"
   ]
  },
  {
   "cell_type": "markdown",
   "metadata": {},
   "source": []
  },
  {
   "cell_type": "code",
   "execution_count": 157,
   "metadata": {},
   "outputs": [],
   "source": [
    "importlib.reload(fbp)\n",
    "\n",
    "rec = fbp.reconstruction(\n",
    "        d_sample,\n",
    "        height=500,\n",
    "        # start=100,\n",
    "        # sidepad=100,\n",
    "        angle=-40,\n",
    "        rotate=57\n",
    "    )\n",
    "imageio.imsave(\"test2.png\", rec.get(204))"
   ]
  },
  {
   "cell_type": "code",
   "execution_count": 132,
   "metadata": {},
   "outputs": [],
   "source": [
    "imageio.imsave('ct.png', ct_sample.img[200])"
   ]
  },
  {
   "cell_type": "code",
   "execution_count": 69,
   "metadata": {},
   "outputs": [],
   "source": [
    "imageio.imsave('drr.gif', d_sample.img, duration=5./v)"
   ]
  },
  {
   "cell_type": "code",
   "execution_count": 109,
   "metadata": {},
   "outputs": [
    {
     "name": "stderr",
     "output_type": "stream",
     "text": [
      "Lossy conversion from float32 to uint8. Range [0.0, 4095.0]. Convert image to uint8 prior to saving to suppress this warning.\n"
     ]
    }
   ],
   "source": [
    "imageio.imsave(\"ct.png\", ct_sample.img[150])"
   ]
  },
  {
   "cell_type": "code",
   "execution_count": 169,
   "metadata": {},
   "outputs": [],
   "source": [
    "imageio.imsave(\"test2.png\", rec.get(360))"
   ]
  },
  {
   "cell_type": "code",
   "execution_count": 110,
   "metadata": {},
   "outputs": [],
   "source": [
    "importlib.reload(fbp)\n",
    "\n",
    "rec = fbp.reconstruction(\n",
    "        d,\n",
    "        height=300,\n",
    "        # start=100,\n",
    "        # sidepad=100,\n",
    "        # angle=50\n",
    "    )\n",
    "imageio.imsave(\"test2.png\", rec.get(150))"
   ]
  },
  {
   "cell_type": "code",
   "execution_count": 33,
   "metadata": {},
   "outputs": [
    {
     "data": {
      "text/plain": [
       "(300, 300)"
      ]
     },
     "execution_count": 33,
     "metadata": {},
     "output_type": "execute_result"
    }
   ],
   "source": [
    "rec.get(200).shape"
   ]
  },
  {
   "cell_type": "code",
   "execution_count": 28,
   "metadata": {},
   "outputs": [],
   "source": [
    "imageio.imsave(\"test2.png\", rec.get(150))"
   ]
  },
  {
   "cell_type": "code",
   "execution_count": 18,
   "metadata": {},
   "outputs": [],
   "source": [
    "for i in range(0, 450):\n",
    "    imageio.imsave(f\"x_tests/{i}.png\", d.img[i])"
   ]
  },
  {
   "cell_type": "code",
   "execution_count": null,
   "metadata": {},
   "outputs": [],
   "source": []
  },
  {
   "attachments": {},
   "cell_type": "markdown",
   "metadata": {},
   "source": [
    "## ct sample"
   ]
  },
  {
   "cell_type": "code",
   "execution_count": 124,
   "metadata": {},
   "outputs": [
    {
     "data": {
      "application/vnd.jupyter.widget-view+json": {
       "model_id": "e30f6149328649bebdee8101bb0535ce",
       "version_major": 2,
       "version_minor": 0
      },
      "text/plain": [
       "  0%|          | 0/425 [00:00<?, ?it/s]"
      ]
     },
     "metadata": {},
     "output_type": "display_data"
    }
   ],
   "source": [
    "importlib.reload(ct)\n",
    "ct_sample = ct.ctset(name=\"sample\")"
   ]
  },
  {
   "cell_type": "code",
   "execution_count": 125,
   "metadata": {},
   "outputs": [
    {
     "data": {
      "application/vnd.jupyter.widget-view+json": {
       "model_id": "4c0f1f1d02b74b5b969efaacd1f8555d",
       "version_major": 2,
       "version_minor": 0
      },
      "text/plain": [
       "  0%|          | 0/450 [00:00<?, ?it/s]"
      ]
     },
     "metadata": {},
     "output_type": "display_data"
    }
   ],
   "source": [
    "importlib.reload(drr)\n",
    "\n",
    "d = drr.drrset(\n",
    "    ct_sample,\n",
    "    num_views=1,\n",
    "    zm=1,\n",
    "    height=300,\n",
    "    width=300,\n",
    "    zoffset=-25,\n",
    "    sdr=250\n",
    ")"
   ]
  },
  {
   "cell_type": "code",
   "execution_count": 126,
   "metadata": {},
   "outputs": [],
   "source": [
    "imageio.imsave(\"drr.png\", d.img[0])"
   ]
  },
  {
   "cell_type": "code",
   "execution_count": null,
   "metadata": {},
   "outputs": [],
   "source": []
  }
 ],
 "metadata": {
  "kernelspec": {
   "display_name": "research",
   "language": "python",
   "name": "python3"
  },
  "language_info": {
   "codemirror_mode": {
    "name": "ipython",
    "version": 3
   },
   "file_extension": ".py",
   "mimetype": "text/x-python",
   "name": "python",
   "nbconvert_exporter": "python",
   "pygments_lexer": "ipython3",
   "version": "3.9.12"
  },
  "orig_nbformat": 4,
  "vscode": {
   "interpreter": {
    "hash": "0e926487cad17baa66c53e21c12e2658ea73bec2b01f7558d1b81cd2a43b22ac"
   }
  }
 },
 "nbformat": 4,
 "nbformat_minor": 2
}
