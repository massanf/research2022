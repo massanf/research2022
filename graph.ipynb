{
 "cells": [
  {
   "cell_type": "code",
   "execution_count": 7,
   "metadata": {},
   "outputs": [],
   "source": [
    "import matplotlib.pyplot as plt\n",
    "import glob\n",
    "import pandas as pd\n",
    "import os\n",
    "import time\n",
    "\n",
    "list_of_files = glob.glob('./logs/*')\n",
    "latest_file = max(list_of_files, key=os.path.getctime)\n",
    "\n",
    "while 1:\n",
    "    df = pd.read_csv(latest_file)\n",
    "    plt.cla()\n",
    "    plt.plot(df['LOSS'])\n",
    "    plt.ylim(0, 0.0001)\n",
    "    n = latest_file.split('/')[-1].split('.')[-2]\n",
    "    plt.savefig(f\"./graphs/loss_{n}.png\", facecolor='white', transparent=False)\n",
    "    time.sleep(1)"
   ]
  },
  {
   "cell_type": "code",
   "execution_count": null,
   "metadata": {},
   "outputs": [],
   "source": []
  }
 ],
 "metadata": {
  "kernelspec": {
   "display_name": "res",
   "language": "python",
   "name": "python3"
  },
  "language_info": {
   "codemirror_mode": {
    "name": "ipython",
    "version": 3
   },
   "file_extension": ".py",
   "mimetype": "text/x-python",
   "name": "python",
   "nbconvert_exporter": "python",
   "pygments_lexer": "ipython3",
   "version": "3.10.8"
  },
  "orig_nbformat": 4,
  "vscode": {
   "interpreter": {
    "hash": "da9ac5d7c4e967160d4eddc6864285750b07d26b36aae015b5a1a36de670b7f6"
   }
  }
 },
 "nbformat": 4,
 "nbformat_minor": 2
}
