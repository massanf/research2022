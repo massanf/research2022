{
 "cells": [
  {
   "cell_type": "code",
   "execution_count": 8,
   "metadata": {},
   "outputs": [
    {
     "name": "stdout",
     "output_type": "stream",
     "text": [
      "/usr/bin/zsh: /home/mfujita/anaconda3/envs/res/lib/python3.10/site-packages/cv2/../../../../lib/libtinfo.so.6: no version information available (required by /usr/bin/zsh)\n"
     ]
    }
   ],
   "source": [
    "! cd red_cnn"
   ]
  },
  {
   "cell_type": "code",
   "execution_count": 11,
   "metadata": {},
   "outputs": [
    {
     "name": "stdout",
     "output_type": "stream",
     "text": [
      "./red_cnn/npy_img/real_xray_0_input.npy\n",
      "./red_cnn/npy_img/real_xray_0_target.npy\n"
     ]
    }
   ],
   "source": [
    "import os\n",
    "# import argparse\n",
    "import numpy as np\n",
    "import cupy as cp\n",
    "import glob\n",
    "from tqdm.notebook import tqdm\n",
    "import imageio.v2 as imageio\n",
    "\n",
    "from patient import patient\n",
    "\n",
    "\n",
    "def save_dataset(\n",
    "    save_path='./red_cnn/npy_img/',\n",
    "    norm_range_min=-1024.0,\n",
    "    norm_range_max=3072.0\n",
    "):\n",
    "    if not os.path.exists(save_path):\n",
    "        os.makedirs(save_path)\n",
    "        print('Create path : {}'.format(save_path))\n",
    "\n",
    "    # use_range = [130, 220]\n",
    "    # vols = glob.glob(\"./data/*\")\n",
    "    # for pat in tqdm((vols), desc=\"Patient\"):\n",
    "        # pat_name = pat.split(\"/\")[-1]\n",
    "        # if \"__\" in pat_name:\n",
    "            # continue\n",
    "        # p = patient.patient(name=pat_name)\n",
    "        # for img in tqdm(range(use_range[0], use_range[1]),\n",
    "                        # desc=pat_name, leave=False):\n",
    "    for io in ['input', 'target']:\n",
    "        pat_name = \"real_xray\"\n",
    "        img = 0\n",
    "        f_name = '{}_{}_{}.npy'.format(pat_name, img, io)\n",
    "        # if os.path.exists(os.path.join(save_path, f_name)):\n",
    "            # continue/\n",
    "        # if io == 'target':\n",
    "        #     f_px = cp.asnumpy(p.ct.img[img])\n",
    "        # elif io == 'input':\n",
    "        #     f_px = cp.asnumpy(p.get_equiv_fbp(img))\n",
    "\n",
    "        f_px = imageio.imread(\"red_cnn/ct_compare_fake.png\")\n",
    "\n",
    "        f = normalize_(\n",
    "            f_px,\n",
    "            norm_range_min,\n",
    "            norm_range_max\n",
    "        )\n",
    "\n",
    "        f_name = '{}_{}_{}.npy'.format(pat_name, img, io)\n",
    "        np.save(os.path.join(save_path, f_name), f)\n",
    "        print(os.path.join(save_path, f_name))\n",
    "\n",
    "\n",
    "def normalize_(image, MIN_B=-1024.0, MAX_B=3072.0):\n",
    "    image = (image - MIN_B) / (MAX_B - MIN_B)\n",
    "    return image\n",
    "\n",
    "# # if __name__ == \"__main__\":\n",
    "# def prep(\n",
    "#     save_path='./red_cnn/npy_img/',\n",
    "#     norm_range_min=-1024.0,\n",
    "#     norm_range_max=3072.0\n",
    "# ):\n",
    "#     # parser.add_argument('--data_path', type=str,\n",
    "#     # default='./AAPM-Mayo-CT-Challenge/')\n",
    "#     # parser.add_argument('--save_path', type=str, default='./red_cnn/npy_img/')\n",
    "\n",
    "#     # parser.add_argument('--test_patient', type=str, default='L506')\n",
    "#     # parser.add_argument('--mm', type=int, default=3)\n",
    "#     # parser.add_argument('--norm_range_min', type=float, default=-1024.0)\n",
    "#     # parser.add_argument('--norm_range_max', type=float, default=3072.0)\n",
    "\n",
    "save_dataset()\n"
   ]
  },
  {
   "cell_type": "code",
   "execution_count": null,
   "metadata": {},
   "outputs": [],
   "source": []
  }
 ],
 "metadata": {
  "kernelspec": {
   "display_name": "DiffDRR",
   "language": "python",
   "name": "python3"
  },
  "language_info": {
   "codemirror_mode": {
    "name": "ipython",
    "version": 3
   },
   "file_extension": ".py",
   "mimetype": "text/x-python",
   "name": "python",
   "nbconvert_exporter": "python",
   "pygments_lexer": "ipython3",
   "version": "3.7.13"
  },
  "orig_nbformat": 4,
  "vscode": {
   "interpreter": {
    "hash": "80c43a99434f7edbec5245c98a98fd7792f4b7f735eecf595f003d0d60b9b885"
   }
  }
 },
 "nbformat": 4,
 "nbformat_minor": 2
}
