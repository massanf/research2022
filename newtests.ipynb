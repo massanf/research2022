{
 "cells": [
  {
   "cell_type": "code",
   "execution_count": 1,
   "metadata": {},
   "outputs": [
    {
     "data": {
      "application/vnd.jupyter.widget-view+json": {
       "model_id": "31aa07c7c58848d7ae2d221449b4ea21",
       "version_major": 2,
       "version_minor": 0
      },
      "text/plain": [
       "DRR:   0%|          | 0/450 [00:00<?, ?it/s]"
      ]
     },
     "metadata": {},
     "output_type": "display_data"
    }
   ],
   "source": [
    "import importlib\n",
    "import imageio.v2 as imageio\n",
    "from patient import patient\n",
    "import glob\n",
    "import cupy as cp\n",
    "\n",
    "# https://dataverse.harvard.edu/dataset.xhtml?persistentId=doi:10.7910/DVN/6ACUZJ\n",
    "\n",
    "from tqdm.notebook import tqdm\n",
    "\n",
    "vol = \"4409575\"\n",
    "\n",
    "# print(vol)\n",
    "p = patient.patient(name=vol, num_views=450)\n",
    "\n",
    "p.generate_drr(cont=False)\n",
    "\n",
    "imgs = [cp.asnumpy(img) for img in p.drr.img]\n",
    "imageio.mimsave(\"save.gif\", [imgs[0]])"
   ]
  },
  {
   "cell_type": "code",
   "execution_count": 2,
   "metadata": {},
   "outputs": [],
   "source": [
    "p.generate_fbp(load_all=False, cont=False)"
   ]
  },
  {
   "cell_type": "code",
   "execution_count": 3,
   "metadata": {},
   "outputs": [],
   "source": [
    "import imageio.v2 as imageio\n",
    "import cupy as cp\n",
    "imageio.imsave(\"test3.png\", cp.asnumpy(p.fbp.get(150)))"
   ]
  },
  {
   "cell_type": "code",
   "execution_count": 3,
   "metadata": {},
   "outputs": [],
   "source": [
    "import math\n",
    "import numpy as np\n",
    "\n",
    "def filter(px):\n",
    "    if px < 40:\n",
    "        return -px\n",
    "    elif px < 60:\n",
    "        return - 2 * (px - 40) + 40\n",
    "\n",
    "cutoff = 40\n",
    "def f(img):\n",
    "    newimg = img.astype(\"float64\")\n",
    "    for c in range(0, 61):\n",
    "        newimg[cp.all(newimg < c)] = filter(c)\n",
    "    newimg[newimg > cutoff] = (newimg[newimg > cutoff] - cp.average(newimg[newimg > cutoff])) / cp.std(newimg[newimg > cutoff]) * 28.069 + 202.102\n",
    "    newimg[newimg < 0] = 0\n",
    "    newimg[newimg > 255] = 255\n",
    "    return newimg.astype(\"uint8\")\n",
    "\n",
    "for idx, img in enumerate(p.drr.img):\n",
    "    p.drr.img[idx] = f(img)\n",
    "\n",
    "imgs = [cp.asnumpy(img) for img in p.drr.img]\n",
    "imageio.mimsave(\"save.gif\", imgs)"
   ]
  },
  {
   "cell_type": "code",
   "execution_count": null,
   "metadata": {},
   "outputs": [],
   "source": []
  },
  {
   "cell_type": "code",
   "execution_count": 21,
   "metadata": {},
   "outputs": [
    {
     "name": "stderr",
     "output_type": "stream",
     "text": [
      "Lossy conversion from float64 to uint8. Range [0.0, 272.17412465663386]. Convert image to uint8 prior to saving to suppress this warning.\n"
     ]
    }
   ],
   "source": [
    "import numpy as np\n",
    "import hashlib\n",
    "from perlin_noise import PerlinNoise\n",
    "\n",
    "p.generate_fbp(load_all=False, cont=False)\n",
    "\n",
    "import matplotlib.pyplot as plt\n",
    "\n",
    "\n",
    "def circ(inside, outside, height, width):\n",
    "    f = np.full((height, width), 1)\n",
    "    i, o = (inside, outside)\n",
    "    hh, hw = (height / 2, width / 2)\n",
    "    for x in range(0, height):\n",
    "        for y in range(0, width):\n",
    "            dist = math.sqrt((x - hh) * (x - hh) + (y - hw) * (y - hw))\n",
    "            if dist > i:\n",
    "                f[x][y] = 0\n",
    "    return f\n",
    "\n",
    "def getnoise(octaves, intensity, height=500, seed=1):\n",
    "    noise = PerlinNoise(octaves=octaves, seed=seed)\n",
    "    xpix, ypix = 500, 500\n",
    "    pic = [[noise([i/xpix, j/ypix]) for j in range(xpix)] for i in range(ypix)]\n",
    "\n",
    "    pic = np.stack(pic)\n",
    "    pic /= np.max(pic)\n",
    "    pic *= circ(150, 0, 500, 500)\n",
    "    pic *= intensity\n",
    "    pic += 1\n",
    "\n",
    "    for x in range (0, len(pic)):\n",
    "        for y in range (0, len(pic[x])):\n",
    "            pass\n",
    "\n",
    "    return pic\n",
    "\n",
    "s = \"8945731\"\n",
    "seed = int(hashlib.sha1(s.encode(\"utf-8\")).hexdigest(), 16)\n",
    "\n",
    "smallnoise = getnoise(10, 0.1, seed=seed)\n",
    "midnoise = getnoise(6, 0.125, seed=seed * 2)\n",
    "bignoise = getnoise(2, 0.15, seed=seed * 3)\n",
    "# plt.imshow(img * pic, cmap='gray')\n",
    "\n",
    "imageio.imsave(\"test2.png\", cp.asnumpy(p.fbp.get(200)) * smallnoise * midnoise * bignoise)\n",
    "imageio.imsave(\"ct.png\", cp.asnumpy(p.ct.img[200]))"
   ]
  },
  {
   "cell_type": "code",
   "execution_count": 9,
   "metadata": {},
   "outputs": [
    {
     "ename": "KeyboardInterrupt",
     "evalue": "",
     "output_type": "error",
     "traceback": [
      "\u001b[0;31m---------------------------------------------------------------------------\u001b[0m",
      "\u001b[0;31mKeyboardInterrupt\u001b[0m                         Traceback (most recent call last)",
      "\u001b[1;32m/home/mfujita/Documents/research/newtests.ipynb Cell 4\u001b[0m in \u001b[0;36m<cell line: 1>\u001b[0;34m()\u001b[0m\n\u001b[0;32m----> <a href='vscode-notebook-cell://ssh-remote%2B192.168.193.104/home/mfujita/Documents/research/newtests.ipynb#W3sdnNjb2RlLXJlbW90ZQ%3D%3D?line=0'>1</a>\u001b[0m imageio\u001b[39m.\u001b[39mimsave(\u001b[39m\"\u001b[39m\u001b[39mtest2.png\u001b[39m\u001b[39m\"\u001b[39m, cp\u001b[39m.\u001b[39masnumpy(p\u001b[39m.\u001b[39;49mget_equiv_fbp(\u001b[39m300\u001b[39;49m)))\n",
      "File \u001b[0;32m~/Documents/research/patient/patient.py:154\u001b[0m, in \u001b[0;36mpatient.get_equiv_fbp\u001b[0;34m(self, num)\u001b[0m\n\u001b[1;32m    153\u001b[0m \u001b[39mdef\u001b[39;00m \u001b[39mget_equiv_fbp\u001b[39m(\u001b[39mself\u001b[39m, num):\n\u001b[0;32m--> 154\u001b[0m     img \u001b[39m=\u001b[39m \u001b[39mself\u001b[39m\u001b[39m.\u001b[39mget_resized_fbp(\u001b[39mself\u001b[39;49m\u001b[39m.\u001b[39;49mget_equiv(num)[\u001b[39m0\u001b[39m])\n\u001b[1;32m    155\u001b[0m     \u001b[39m# return self.hist_match(img, self.ct.img[num])\u001b[39;00m\n\u001b[1;32m    156\u001b[0m     \u001b[39mreturn\u001b[39;00m img\n",
      "File \u001b[0;32m~/Documents/research/patient/patient.py:135\u001b[0m, in \u001b[0;36mpatient.get_equiv\u001b[0;34m(self, num, resize_factor, plot)\u001b[0m\n\u001b[1;32m    132\u001b[0m min_sum_idx \u001b[39m=\u001b[39m \u001b[39m0\u001b[39m\n\u001b[1;32m    133\u001b[0m \u001b[39mfor\u001b[39;00m idx \u001b[39min\u001b[39;00m \u001b[39mrange\u001b[39m(\u001b[39mlen\u001b[39m(\u001b[39mself\u001b[39m\u001b[39m.\u001b[39mfbp\u001b[39m.\u001b[39mx\u001b[39m.\u001b[39mimg[\u001b[39m0\u001b[39m])):\n\u001b[1;32m    134\u001b[0m     now \u001b[39m=\u001b[39m cp\u001b[39m.\u001b[39msum(cp\u001b[39m.\u001b[39mabsolute(\u001b[39mself\u001b[39m\u001b[39m.\u001b[39mct\u001b[39m.\u001b[39mimg[num] \u001b[39m-\u001b[39m\n\u001b[0;32m--> 135\u001b[0m                  \u001b[39mself\u001b[39m\u001b[39m.\u001b[39mhist_match(\u001b[39mself\u001b[39;49m\u001b[39m.\u001b[39;49mget_resized_fbp(\u001b[39mint\u001b[39;49m(idx),\n\u001b[1;32m    136\u001b[0m                                  resize_factor\u001b[39m=\u001b[39;49mresize_factor),\n\u001b[1;32m    137\u001b[0m                  \u001b[39mself\u001b[39m\u001b[39m.\u001b[39mct\u001b[39m.\u001b[39mimg[num]))) \u001b[39m/\u001b[39m ttl\n\u001b[1;32m    138\u001b[0m     history\u001b[39m.\u001b[39mappend(\u001b[39mfloat\u001b[39m(now))\n\u001b[1;32m    139\u001b[0m     \u001b[39mif\u001b[39;00m min_sum \u001b[39m>\u001b[39m now:\n",
      "File \u001b[0;32m~/Documents/research/patient/patient.py:161\u001b[0m, in \u001b[0;36mpatient.get_resized_fbp\u001b[0;34m(self, num, resize_factor)\u001b[0m\n\u001b[1;32m    159\u001b[0m \u001b[39mif\u001b[39;00m resize_factor \u001b[39m==\u001b[39m \u001b[39m0\u001b[39m:\n\u001b[1;32m    160\u001b[0m     resize_factor \u001b[39m=\u001b[39m \u001b[39mself\u001b[39m\u001b[39m.\u001b[39mresize_factor\n\u001b[0;32m--> 161\u001b[0m img \u001b[39m=\u001b[39m \u001b[39mself\u001b[39;49m\u001b[39m.\u001b[39;49mfbp\u001b[39m.\u001b[39;49mget(num)\n\u001b[1;32m    162\u001b[0m scaled \u001b[39m=\u001b[39m \u001b[39mint\u001b[39m(cp\u001b[39m.\u001b[39mshape(img)[\u001b[39m0\u001b[39m] \u001b[39m*\u001b[39m resize_factor)\n\u001b[1;32m    163\u001b[0m img \u001b[39m=\u001b[39m cp\u001b[39m.\u001b[39marray(cv2\u001b[39m.\u001b[39mresize(cp\u001b[39m.\u001b[39masnumpy(img), (scaled, scaled)))\n",
      "File \u001b[0;32m~/Documents/research/fbp/tompy.py:112\u001b[0m, in \u001b[0;36mfbpset.get\u001b[0;34m(self, sheet_number)\u001b[0m\n\u001b[1;32m    101\u001b[0m \u001b[39m\"\"\"Get FBP result image.\u001b[39;00m\n\u001b[1;32m    102\u001b[0m \n\u001b[1;32m    103\u001b[0m \u001b[39mIf not generated yet, it will generate a new one\u001b[39;00m\n\u001b[0;32m   (...)\u001b[0m\n\u001b[1;32m    109\u001b[0m \u001b[39m    numpy array: result image\u001b[39;00m\n\u001b[1;32m    110\u001b[0m \u001b[39m\"\"\"\u001b[39;00m\n\u001b[1;32m    111\u001b[0m \u001b[39mif\u001b[39;00m \u001b[39mnot\u001b[39;00m \u001b[39mself\u001b[39m\u001b[39m.\u001b[39mloaded[sheet_number]:\n\u001b[0;32m--> 112\u001b[0m     \u001b[39mself\u001b[39;49m\u001b[39m.\u001b[39;49mgenerate(sheet_number)\n\u001b[1;32m    113\u001b[0m \u001b[39mreturn\u001b[39;00m \u001b[39mself\u001b[39m\u001b[39m.\u001b[39mdata[sheet_number]\n",
      "File \u001b[0;32m~/Documents/research/fbp/tompy.py:124\u001b[0m, in \u001b[0;36mfbpset.generate\u001b[0;34m(self, sheet_number)\u001b[0m\n\u001b[1;32m    115\u001b[0m \u001b[39mdef\u001b[39;00m \u001b[39mgenerate\u001b[39m(\n\u001b[1;32m    116\u001b[0m     \u001b[39mself\u001b[39m,\n\u001b[1;32m    117\u001b[0m     sheet_number: \u001b[39mint\u001b[39m\n\u001b[1;32m    118\u001b[0m ):\n\u001b[1;32m    119\u001b[0m     \u001b[39m\"\"\"Generate FBP result\u001b[39;00m\n\u001b[1;32m    120\u001b[0m \n\u001b[1;32m    121\u001b[0m \u001b[39m    Args:\u001b[39;00m\n\u001b[1;32m    122\u001b[0m \u001b[39m        sheet_number (int): sheet number (0 to 1024)\u001b[39;00m\n\u001b[1;32m    123\u001b[0m \u001b[39m    \"\"\"\u001b[39;00m\n\u001b[0;32m--> 124\u001b[0m     sinogram \u001b[39m=\u001b[39m \u001b[39mself\u001b[39;49m\u001b[39m.\u001b[39;49mcreate_sino(sheet_number)\n\u001b[1;32m    125\u001b[0m     sinogram \u001b[39m=\u001b[39m cp\u001b[39m.\u001b[39marray(cv2\u001b[39m.\u001b[39mresize(cp\u001b[39m.\u001b[39masnumpy(sinogram),\n\u001b[1;32m    126\u001b[0m                                    (\u001b[39mself\u001b[39m\u001b[39m.\u001b[39mheight, \u001b[39mself\u001b[39m\u001b[39m.\u001b[39mwidth)))\n\u001b[1;32m    127\u001b[0m     \u001b[39m# sinogram = affine_transform(sinogram, )\u001b[39;00m\n",
      "File \u001b[0;32m~/Documents/research/fbp/tompy.py:178\u001b[0m, in \u001b[0;36mfbpset.create_sino\u001b[0;34m(self, sheet_number)\u001b[0m\n\u001b[1;32m    176\u001b[0m         a \u001b[39m=\u001b[39m \u001b[39mint\u001b[39m((row \u001b[39m-\u001b[39m \u001b[39mself\u001b[39m\u001b[39m.\u001b[39mstart) \u001b[39m%\u001b[39m n)\n\u001b[1;32m    177\u001b[0m         b \u001b[39m=\u001b[39m \u001b[39mint\u001b[39m(row \u001b[39m-\u001b[39m \u001b[39mint\u001b[39m(\u001b[39mself\u001b[39m\u001b[39m.\u001b[39mangle \u001b[39m*\u001b[39m col \u001b[39m/\u001b[39m w)) \u001b[39m%\u001b[39m \u001b[39mlen\u001b[39m(\u001b[39mself\u001b[39m\u001b[39m.\u001b[39mx\u001b[39m.\u001b[39mimg)\n\u001b[0;32m--> 178\u001b[0m         new_sino[a][\u001b[39mself\u001b[39m\u001b[39m.\u001b[39msidepad \u001b[39m+\u001b[39m col] \u001b[39m=\u001b[39m (\u001b[39mself\u001b[39;49m\u001b[39m.\u001b[39;49mx\u001b[39m.\u001b[39;49mimg[b][sheet_number]\n\u001b[1;32m    179\u001b[0m                                            [col])\n\u001b[1;32m    180\u001b[0m new_sino \u001b[39m=\u001b[39m cp\u001b[39m.\u001b[39mrot90(new_sino)\n\u001b[1;32m    181\u001b[0m \u001b[39mreturn\u001b[39;00m new_sino\n",
      "File \u001b[0;32mcupy/_core/core.pyx:1437\u001b[0m, in \u001b[0;36mcupy._core.core.ndarray.__getitem__\u001b[0;34m()\u001b[0m\n",
      "File \u001b[0;32mcupy/_core/_routines_indexing.pyx:32\u001b[0m, in \u001b[0;36mcupy._core._routines_indexing._ndarray_getitem\u001b[0;34m()\u001b[0m\n",
      "File \u001b[0;32mcupy/_core/_routines_indexing.pyx:289\u001b[0m, in \u001b[0;36mcupy._core._routines_indexing._prepare_slice_list\u001b[0;34m()\u001b[0m\n",
      "File \u001b[0;32m~/anaconda3/envs/res/lib/python3.10/site-packages/numpy/core/numeric.py:1873\u001b[0m, in \u001b[0;36misscalar\u001b[0;34m(element)\u001b[0m\n\u001b[1;32m   1869\u001b[0m \u001b[39mdef\u001b[39;00m \u001b[39m_frombuffer\u001b[39m(buf, dtype, shape, order):\n\u001b[1;32m   1870\u001b[0m     \u001b[39mreturn\u001b[39;00m frombuffer(buf, dtype\u001b[39m=\u001b[39mdtype)\u001b[39m.\u001b[39mreshape(shape, order\u001b[39m=\u001b[39morder)\n\u001b[0;32m-> 1873\u001b[0m \u001b[39m@set_module\u001b[39m(\u001b[39m'\u001b[39m\u001b[39mnumpy\u001b[39m\u001b[39m'\u001b[39m)\n\u001b[1;32m   1874\u001b[0m \u001b[39mdef\u001b[39;00m \u001b[39misscalar\u001b[39m(element):\n\u001b[1;32m   1875\u001b[0m     \u001b[39m\"\"\"\u001b[39;00m\n\u001b[1;32m   1876\u001b[0m \u001b[39m    Returns True if the type of `element` is a scalar type.\u001b[39;00m\n\u001b[1;32m   1877\u001b[0m \n\u001b[0;32m   (...)\u001b[0m\n\u001b[1;32m   1947\u001b[0m \n\u001b[1;32m   1948\u001b[0m \u001b[39m    \"\"\"\u001b[39;00m\n\u001b[1;32m   1949\u001b[0m     \u001b[39mreturn\u001b[39;00m (\u001b[39misinstance\u001b[39m(element, generic)\n\u001b[1;32m   1950\u001b[0m             \u001b[39mor\u001b[39;00m \u001b[39mtype\u001b[39m(element) \u001b[39min\u001b[39;00m ScalarType\n\u001b[1;32m   1951\u001b[0m             \u001b[39mor\u001b[39;00m \u001b[39misinstance\u001b[39m(element, numbers\u001b[39m.\u001b[39mNumber))\n",
      "\u001b[0;31mKeyboardInterrupt\u001b[0m: "
     ]
    }
   ],
   "source": [
    "imageio.imsave(\"test2.png\", cp.asnumpy(p.get_equiv_fbp(300)))\n",
    "# imageio.imsave(\"test2.png\", cp.asnumpy(p.ct.img[150]))"
   ]
  },
  {
   "cell_type": "code",
   "execution_count": null,
   "metadata": {},
   "outputs": [],
   "source": []
  }
 ],
 "metadata": {
  "kernelspec": {
   "display_name": "res",
   "language": "python",
   "name": "python3"
  },
  "language_info": {
   "codemirror_mode": {
    "name": "ipython",
    "version": 3
   },
   "file_extension": ".py",
   "mimetype": "text/x-python",
   "name": "python",
   "nbconvert_exporter": "python",
   "pygments_lexer": "ipython3",
   "version": "3.10.8 (main, Nov 24 2022, 14:13:03) [GCC 11.2.0]"
  },
  "orig_nbformat": 4,
  "vscode": {
   "interpreter": {
    "hash": "da9ac5d7c4e967160d4eddc6864285750b07d26b36aae015b5a1a36de670b7f6"
   }
  }
 },
 "nbformat": 4,
 "nbformat_minor": 2
}
