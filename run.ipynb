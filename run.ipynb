{
 "cells": [
  {
   "cell_type": "code",
   "execution_count": 2,
   "metadata": {},
   "outputs": [
    {
     "name": "stdout",
     "output_type": "stream",
     "text": [
      "test\n"
     ]
    }
   ],
   "source": [
    "print(\"test\")"
   ]
  },
  {
   "attachments": {},
   "cell_type": "markdown",
   "metadata": {},
   "source": [
    "# Prep"
   ]
  },
  {
   "cell_type": "code",
   "execution_count": null,
   "metadata": {},
   "outputs": [],
   "source": [
    "import importlib\n",
    "\n",
    "from red_cnn import prep\n",
    "importlib.reload(prep)\n",
    "\n",
    "# prep\n",
    "prep.save_dataset()"
   ]
  },
  {
   "attachments": {},
   "cell_type": "markdown",
   "metadata": {},
   "source": [
    "# Train"
   ]
  },
  {
   "cell_type": "code",
   "execution_count": 1,
   "metadata": {},
   "outputs": [
    {
     "name": "stderr",
     "output_type": "stream",
     "text": [
      "                                               \r"
     ]
    },
    {
     "ename": "KeyboardInterrupt",
     "evalue": "",
     "output_type": "error",
     "traceback": [
      "\u001b[0;31m---------------------------------------------------------------------------\u001b[0m",
      "\u001b[0;31mKeyboardInterrupt\u001b[0m                         Traceback (most recent call last)",
      "\u001b[1;32m/home/mfujita/Documents/research/run.ipynb Cell 5\u001b[0m in \u001b[0;36m<cell line: 6>\u001b[0;34m()\u001b[0m\n\u001b[1;32m      <a href='vscode-notebook-cell://ssh-remote%2B192.168.193.104/home/mfujita/Documents/research/run.ipynb#W4sdnNjb2RlLXJlbW90ZQ%3D%3D?line=2'>3</a>\u001b[0m importlib\u001b[39m.\u001b[39mreload(main)\n\u001b[1;32m      <a href='vscode-notebook-cell://ssh-remote%2B192.168.193.104/home/mfujita/Documents/research/run.ipynb#W4sdnNjb2RlLXJlbW90ZQ%3D%3D?line=4'>5</a>\u001b[0m \u001b[39m# train\u001b[39;00m\n\u001b[0;32m----> <a href='vscode-notebook-cell://ssh-remote%2B192.168.193.104/home/mfujita/Documents/research/run.ipynb#W4sdnNjb2RlLXJlbW90ZQ%3D%3D?line=5'>6</a>\u001b[0m main\u001b[39m.\u001b[39;49mmain(device\u001b[39m=\u001b[39;49m\u001b[39m'\u001b[39;49m\u001b[39mcuda\u001b[39;49m\u001b[39m'\u001b[39;49m, load_mode\u001b[39m=\u001b[39;49m\u001b[39m1\u001b[39;49m, num_epochs\u001b[39m=\u001b[39;49m\u001b[39m100\u001b[39;49m)\n",
      "File \u001b[0;32m~/Documents/research/red_cnn/main.py:84\u001b[0m, in \u001b[0;36mmain\u001b[0;34m(device, mode, load_mode, saved_path, save_path, test_patient, result_fig, norm_range_min, norm_range_max, trunc_min, trunc_max, transform, patch_n, patch_size, batch_size, num_epochs, print_iters, decay_iters, save_iters, test_iters, lr, num_workers, multi_gpu)\u001b[0m\n\u001b[1;32m     82\u001b[0m solver \u001b[39m=\u001b[39m Solver(args, data_loader)\n\u001b[1;32m     83\u001b[0m \u001b[39mif\u001b[39;00m mode \u001b[39m==\u001b[39m \u001b[39m'\u001b[39m\u001b[39mtrain\u001b[39m\u001b[39m'\u001b[39m:\n\u001b[0;32m---> 84\u001b[0m     solver\u001b[39m.\u001b[39;49mtrain()\n\u001b[1;32m     85\u001b[0m \u001b[39melif\u001b[39;00m mode \u001b[39m==\u001b[39m \u001b[39m'\u001b[39m\u001b[39mtest\u001b[39m\u001b[39m'\u001b[39m:\n\u001b[1;32m     86\u001b[0m     solver\u001b[39m.\u001b[39mtest()\n",
      "File \u001b[0;32m~/Documents/research/red_cnn/solver.py:139\u001b[0m, in \u001b[0;36mSolver.train\u001b[0;34m(self)\u001b[0m\n\u001b[1;32m    137\u001b[0m loss\u001b[39m.\u001b[39mbackward()\n\u001b[1;32m    138\u001b[0m \u001b[39mself\u001b[39m\u001b[39m.\u001b[39moptimizer\u001b[39m.\u001b[39mstep()\n\u001b[0;32m--> 139\u001b[0m train_losses\u001b[39m.\u001b[39mappend(loss\u001b[39m.\u001b[39;49mitem())\n\u001b[1;32m    141\u001b[0m \u001b[39m# print\u001b[39;00m\n\u001b[1;32m    142\u001b[0m \u001b[39mif\u001b[39;00m total_iters \u001b[39m%\u001b[39m \u001b[39mself\u001b[39m\u001b[39m.\u001b[39mprint_iters \u001b[39m==\u001b[39m \u001b[39m0\u001b[39m:\n\u001b[1;32m    143\u001b[0m     \u001b[39m# print(\"STEP [{}], EPOCH [{}/{}], ITER [{}/{}] \\nLOSS: {:.8f}, TIME: {:.1f}s\".format(total_iters, epoch, \u001b[39;00m\n\u001b[1;32m    144\u001b[0m     \u001b[39m#                                                                                     self.num_epochs, iter_+1, \u001b[39;00m\n\u001b[1;32m    145\u001b[0m     \u001b[39m#                                                                                     len(self.data_loader), loss.item(), \u001b[39;00m\n\u001b[1;32m    146\u001b[0m     \u001b[39m#                            \u001b[39;00m\n\u001b[1;32m    147\u001b[0m     \u001b[39m# wi                                                         time.time() - start_time))\u001b[39;00m\n",
      "\u001b[0;31mKeyboardInterrupt\u001b[0m: "
     ]
    }
   ],
   "source": [
    "import importlib\n",
    "from red_cnn import main\n",
    "importlib.reload(main)\n",
    "\n",
    "# train\n",
    "main.main(device='cuda', load_mode=1, num_epochs=100)"
   ]
  },
  {
   "attachments": {},
   "cell_type": "markdown",
   "metadata": {},
   "source": [
    "# Test"
   ]
  },
  {
   "cell_type": "code",
   "execution_count": 4,
   "metadata": {},
   "outputs": [
    {
     "name": "stderr",
     "output_type": "stream",
     "text": [
      "test: 100%|██████████| 140/140 [01:17<00:00,  1.82it/s]"
     ]
    },
    {
     "name": "stdout",
     "output_type": "stream",
     "text": [
      "\n",
      "\n",
      "Original === \n",
      "PSNR avg: 27.3240 \n",
      "SSIM avg: 0.5770 \n",
      "RMSE avg: 18.0901\n",
      "\n",
      "\n",
      "Predictions === \n",
      "PSNR avg: 27.7011 \n",
      "SSIM avg: 0.6047 \n",
      "RMSE avg: 17.3429\n"
     ]
    },
    {
     "name": "stderr",
     "output_type": "stream",
     "text": [
      "\n"
     ]
    }
   ],
   "source": [
    "from red_cnn import main\n",
    "importlib.reload(main)\n",
    "\n",
    "# test\n",
    "main.main(device='cuda', mode='test', test_iters=100000, test_patient=\"4411794\")"
   ]
  },
  {
   "cell_type": "code",
   "execution_count": null,
   "metadata": {},
   "outputs": [],
   "source": []
  }
 ],
 "metadata": {
  "kernelspec": {
   "display_name": "res",
   "language": "python",
   "name": "python3"
  },
  "language_info": {
   "codemirror_mode": {
    "name": "ipython",
    "version": 3
   },
   "file_extension": ".py",
   "mimetype": "text/x-python",
   "name": "python",
   "nbconvert_exporter": "python",
   "pygments_lexer": "ipython3",
   "version": "3.10.8"
  },
  "orig_nbformat": 4,
  "vscode": {
   "interpreter": {
    "hash": "da9ac5d7c4e967160d4eddc6864285750b07d26b36aae015b5a1a36de670b7f6"
   }
  }
 },
 "nbformat": 4,
 "nbformat_minor": 2
}
