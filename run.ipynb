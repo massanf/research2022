{
 "cells": [
  {
   "attachments": {},
   "cell_type": "markdown",
   "metadata": {},
   "source": [
    "# Prep"
   ]
  },
  {
   "cell_type": "code",
   "execution_count": 1,
   "metadata": {},
   "outputs": [
    {
     "data": {
      "application/vnd.jupyter.widget-view+json": {
       "model_id": "657c10ddb466488d8bef8f388f24c498",
       "version_major": 2,
       "version_minor": 0
      },
      "text/plain": [
       "Patient:   0%|          | 0/37 [00:00<?, ?it/s]"
      ]
     },
     "metadata": {},
     "output_type": "display_data"
    },
    {
     "data": {
      "application/vnd.jupyter.widget-view+json": {
       "model_id": "2d317ceb999a4e8aa88796d2cd1c5f14",
       "version_major": 2,
       "version_minor": 0
      },
      "text/plain": [
       "4411471:   0%|          | 0/140 [00:00<?, ?it/s]"
      ]
     },
     "metadata": {},
     "output_type": "display_data"
    },
    {
     "data": {
      "application/vnd.jupyter.widget-view+json": {
       "model_id": "6f06392b6d764f17af872f3ee9b39445",
       "version_major": 2,
       "version_minor": 0
      },
      "text/plain": [
       "4411564:   0%|          | 0/140 [00:00<?, ?it/s]"
      ]
     },
     "metadata": {},
     "output_type": "display_data"
    },
    {
     "data": {
      "application/vnd.jupyter.widget-view+json": {
       "model_id": "234bf8407ce44db9bf53c97851b2bb37",
       "version_major": 2,
       "version_minor": 0
      },
      "text/plain": [
       "sample1010:   0%|          | 0/140 [00:00<?, ?it/s]"
      ]
     },
     "metadata": {},
     "output_type": "display_data"
    },
    {
     "data": {
      "application/vnd.jupyter.widget-view+json": {
       "model_id": "a813f8d100c44967918743dd6a1c3004",
       "version_major": 2,
       "version_minor": 0
      },
      "text/plain": [
       "sample1009:   0%|          | 0/140 [00:00<?, ?it/s]"
      ]
     },
     "metadata": {},
     "output_type": "display_data"
    },
    {
     "data": {
      "application/vnd.jupyter.widget-view+json": {
       "model_id": "0a6a073bc5f34e718185b43c8265b1da",
       "version_major": 2,
       "version_minor": 0
      },
      "text/plain": [
       "sample1005:   0%|          | 0/140 [00:00<?, ?it/s]"
      ]
     },
     "metadata": {},
     "output_type": "display_data"
    },
    {
     "data": {
      "application/vnd.jupyter.widget-view+json": {
       "model_id": "b56febcf194b40ff88798943d6e44abf",
       "version_major": 2,
       "version_minor": 0
      },
      "text/plain": [
       "sample1002:   0%|          | 0/140 [00:00<?, ?it/s]"
      ]
     },
     "metadata": {},
     "output_type": "display_data"
    },
    {
     "data": {
      "application/vnd.jupyter.widget-view+json": {
       "model_id": "f387ee0bc4ed4184aee796ff8d818d15",
       "version_major": 2,
       "version_minor": 0
      },
      "text/plain": [
       "4411566:   0%|          | 0/140 [00:00<?, ?it/s]"
      ]
     },
     "metadata": {},
     "output_type": "display_data"
    },
    {
     "data": {
      "application/vnd.jupyter.widget-view+json": {
       "model_id": "7f3212b68f3f4fe6a9ccd84ff62db316",
       "version_major": 2,
       "version_minor": 0
      },
      "text/plain": [
       "4411797:   0%|          | 0/140 [00:00<?, ?it/s]"
      ]
     },
     "metadata": {},
     "output_type": "display_data"
    },
    {
     "data": {
      "application/vnd.jupyter.widget-view+json": {
       "model_id": "bb85c77930a74f22a4c82ea617ba3230",
       "version_major": 2,
       "version_minor": 0
      },
      "text/plain": [
       "sample1007:   0%|          | 0/140 [00:00<?, ?it/s]"
      ]
     },
     "metadata": {},
     "output_type": "display_data"
    }
   ],
   "source": [
    "import importlib\n",
    "\n",
    "from red_cnn import prep\n",
    "importlib.reload(prep)\n",
    "\n",
    "# prep\n",
    "prep.save_dataset()"
   ]
  },
  {
   "attachments": {},
   "cell_type": "markdown",
   "metadata": {},
   "source": [
    "# Train"
   ]
  },
  {
   "cell_type": "code",
   "execution_count": null,
   "metadata": {},
   "outputs": [],
   "source": [
    "import importlib\n",
    "\n",
    "from red_cnn import prep\n",
    "importlib.reload(prep)\n",
    "\n",
    "# prep\n",
    "prep.save_dataset()\n",
    "\n",
    "from red_cnn import main\n",
    "importlib.reload(main)\n",
    "\n",
    "# train\n",
    "main.main(device='cuda', mode='test', load_mode=1, num_epochs=1000)"
   ]
  },
  {
   "attachments": {},
   "cell_type": "markdown",
   "metadata": {},
   "source": [
    "# Test"
   ]
  },
  {
   "cell_type": "code",
   "execution_count": null,
   "metadata": {},
   "outputs": [],
   "source": [
    "from red_cnn import main\n",
    "importlib.reload(main)\n",
    "\n",
    "# test\n",
    "main.main(device='cuda', mode='test', test_iters=100000)"
   ]
  }
 ],
 "metadata": {
  "kernelspec": {
   "display_name": "res",
   "language": "python",
   "name": "python3"
  },
  "language_info": {
   "codemirror_mode": {
    "name": "ipython",
    "version": 3
   },
   "file_extension": ".py",
   "mimetype": "text/x-python",
   "name": "python",
   "nbconvert_exporter": "python",
   "pygments_lexer": "ipython3",
   "version": "3.10.8"
  },
  "orig_nbformat": 4,
  "vscode": {
   "interpreter": {
    "hash": "da9ac5d7c4e967160d4eddc6864285750b07d26b36aae015b5a1a36de670b7f6"
   }
  }
 },
 "nbformat": 4,
 "nbformat_minor": 2
}
