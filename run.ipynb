{
 "cells": [
  {
   "attachments": {},
   "cell_type": "markdown",
   "metadata": {},
   "source": [
    "# Prep"
   ]
  },
  {
   "cell_type": "code",
   "execution_count": null,
   "metadata": {
    "vscode": {
     "languageId": "python"
    }
   },
   "outputs": [],
   "source": [
    "import importlib\n",
    "\n",
    "from red_cnn import prep\n",
    "importlib.reload(prep)\n",
    "\n",
    "# prep\n",
    "prep.save_dataset()"
   ]
  },
  {
   "attachments": {},
   "cell_type": "markdown",
   "metadata": {},
   "source": [
    "# Train"
   ]
  },
  {
   "cell_type": "code",
   "execution_count": null,
   "metadata": {
    "vscode": {
     "languageId": "python"
    }
   },
   "outputs": [],
   "source": [
    "import importlib\n",
    "\n",
    "from red_cnn import prep\n",
    "importlib.reload(prep)\n",
    "\n",
    "# prep\n",
    "prep.save_dataset()\n",
    "\n",
    "from red_cnn import main\n",
    "importlib.reload(main)\n",
    "\n",
    "# train\n",
    "main.main(device='cuda', mode='test', load_mode=1, num_epochs=1000)"
   ]
  },
  {
   "attachments": {},
   "cell_type": "markdown",
   "metadata": {},
   "source": [
    "# Test"
   ]
  },
  {
   "cell_type": "code",
   "execution_count": null,
   "metadata": {
    "vscode": {
     "languageId": "python"
    }
   },
   "outputs": [],
   "source": [
    "from red_cnn import main\n",
    "importlib.reload(main)\n",
    "\n",
    "# test\n",
    "main.main(device='cuda', mode='test', test_iters=100000)"
   ]
  }
 ],
 "metadata": {
  "kernelspec": {
   "display_name": "Python 3 (ipykernel)",
   "language": "python",
   "name": "python3"
  },
  "orig_nbformat": 4,
  "vscode": {
   "interpreter": {
    "hash": "da9ac5d7c4e967160d4eddc6864285750b07d26b36aae015b5a1a36de670b7f6"
   }
  }
 },
 "nbformat": 4,
 "nbformat_minor": 2
}
