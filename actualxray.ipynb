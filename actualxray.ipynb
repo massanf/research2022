{
 "cells": [
  {
   "cell_type": "code",
   "execution_count": 64,
   "metadata": {},
   "outputs": [
    {
     "name": "stdout",
     "output_type": "stream",
     "text": [
      "a\n"
     ]
    }
   ],
   "source": [
    "print(\"a\")"
   ]
  },
  {
   "cell_type": "code",
   "execution_count": 65,
   "metadata": {},
   "outputs": [],
   "source": [
    "import importlib\n",
    "import imageio.v2 as imageio\n",
    "from patient import patient\n",
    "import glob\n",
    "\n",
    "# https://dataverse.harvard.edu/dataset.xhtml?persistentId=doi:10.7910/DVN/6ACUZJ"
   ]
  },
  {
   "cell_type": "code",
   "execution_count": 66,
   "metadata": {},
   "outputs": [
    {
     "data": {
      "application/vnd.jupyter.widget-view+json": {
       "model_id": "72afd35cbf5942359ca85495ff27cc39",
       "version_major": 2,
       "version_minor": 0
      },
      "text/plain": [
       "  0%|          | 0/107 [00:00<?, ?it/s]"
      ]
     },
     "metadata": {},
     "output_type": "display_data"
    },
    {
     "name": "stdout",
     "output_type": "stream",
     "text": [
      "4411403\n",
      "4411398\n",
      "4411433\n",
      "4411396\n",
      "4411471\n",
      "4411564\n",
      "sample1010\n",
      "sample1009\n",
      "4410400\n",
      "sample1005\n",
      "4404367\n",
      "4410839\n",
      "4410828\n",
      "4410857\n",
      "4404147\n",
      "4411404\n",
      "4404150\n",
      "sample1002\n",
      "4410827\n",
      "4404149\n",
      "4410824\n",
      "4411566\n",
      "4410856\n",
      "4411408\n",
      "4267535\n",
      "4410837\n",
      "4410832\n",
      "4410829\n",
      "4410835\n"
     ]
    },
    {
     "ename": "KeyboardInterrupt",
     "evalue": "",
     "output_type": "error",
     "traceback": [
      "\u001b[0;31m---------------------------------------------------------------------------\u001b[0m",
      "\u001b[0;31mKeyboardInterrupt\u001b[0m                         Traceback (most recent call last)",
      "\u001b[1;32m/home/mfujita/Documents/research/tests.ipynb Cell 3\u001b[0m in \u001b[0;36m<cell line: 9>\u001b[0;34m()\u001b[0m\n\u001b[1;32m     <a href='vscode-notebook-cell://ssh-remote%2B192.168.193.104/home/mfujita/Documents/research/tests.ipynb#W2sdnNjb2RlLXJlbW90ZQ%3D%3D?line=12'>13</a>\u001b[0m \u001b[39mprint\u001b[39m(vol)\n\u001b[1;32m     <a href='vscode-notebook-cell://ssh-remote%2B192.168.193.104/home/mfujita/Documents/research/tests.ipynb#W2sdnNjb2RlLXJlbW90ZQ%3D%3D?line=13'>14</a>\u001b[0m \u001b[39m# print(vol)\u001b[39;00m\n\u001b[0;32m---> <a href='vscode-notebook-cell://ssh-remote%2B192.168.193.104/home/mfujita/Documents/research/tests.ipynb#W2sdnNjb2RlLXJlbW90ZQ%3D%3D?line=14'>15</a>\u001b[0m p \u001b[39m=\u001b[39m patient\u001b[39m.\u001b[39;49mpatient(name\u001b[39m=\u001b[39;49mvol)\n",
      "File \u001b[0;32m~/Documents/research/patient/patient.py:39\u001b[0m, in \u001b[0;36mpatient.__init__\u001b[0;34m(self, name, num_views)\u001b[0m\n\u001b[1;32m     37\u001b[0m \u001b[39mif\u001b[39;00m (datadir \u001b[39m/\u001b[39m name \u001b[39m/\u001b[39m \u001b[39m\"\u001b[39m\u001b[39mdrr.pickle\u001b[39m\u001b[39m\"\u001b[39m)\u001b[39m.\u001b[39mexists():\n\u001b[1;32m     38\u001b[0m     \u001b[39mwith\u001b[39;00m \u001b[39mopen\u001b[39m(datadir \u001b[39m/\u001b[39m name \u001b[39m/\u001b[39m \u001b[39m\"\u001b[39m\u001b[39mdrr.pickle\u001b[39m\u001b[39m\"\u001b[39m, \u001b[39m'\u001b[39m\u001b[39mrb\u001b[39m\u001b[39m'\u001b[39m) \u001b[39mas\u001b[39;00m handle:\n\u001b[0;32m---> 39\u001b[0m         \u001b[39mself\u001b[39m\u001b[39m.\u001b[39mdrr \u001b[39m=\u001b[39m pickle\u001b[39m.\u001b[39;49mload(handle)\n\u001b[1;32m     40\u001b[0m \u001b[39melse\u001b[39;00m:\n\u001b[1;32m     41\u001b[0m     \u001b[39mself\u001b[39m\u001b[39m.\u001b[39mgenerate_drr()\n",
      "File \u001b[0;32m<string>:1\u001b[0m, in \u001b[0;36m<lambda>\u001b[0;34m(_cls, tag, VR, length, value, value_tell, is_implicit_VR, is_little_endian, is_raw)\u001b[0m\n",
      "\u001b[0;31mKeyboardInterrupt\u001b[0m: "
     ]
    }
   ],
   "source": [
    "import importlib\n",
    "import imageio.v2 as imageio\n",
    "from patient import patient\n",
    "import glob\n",
    "\n",
    "# https://dataverse.harvard.edu/dataset.xhtml?persistentId=doi:10.7910/DVN/6ACUZJ\n",
    "\n",
    "from tqdm.notebook import tqdm\n",
    "for vol_path in tqdm(glob.glob(\"./data/*\")):\n",
    "    if \"__\" in vol_path:\n",
    "        continue\n",
    "    vol = vol_path.split(\"/\")[-1]\n",
    "    print(vol)\n",
    "    # print(vol)\n",
    "    p = patient.patient(name=vol)\n",
    "# imageio.mimsave(f\"pics/drr.gif\", p.drr.img)"
   ]
  },
  {
   "cell_type": "code",
   "execution_count": 6,
   "metadata": {},
   "outputs": [
    {
     "ename": "IndexError",
     "evalue": "Index 1 is out of bounds for axis 0 with size 0",
     "output_type": "error",
     "traceback": [
      "\u001b[0;31m---------------------------------------------------------------------------\u001b[0m",
      "\u001b[0;31mIndexError\u001b[0m                                Traceback (most recent call last)",
      "\u001b[1;32m/home/mfujita/Documents/research/tests.ipynb Cell 4\u001b[0m in \u001b[0;36m<cell line: 5>\u001b[0;34m()\u001b[0m\n\u001b[1;32m      <a href='vscode-notebook-cell://ssh-remote%2B192.168.193.104/home/mfujita/Documents/research/tests.ipynb#W3sdnNjb2RlLXJlbW90ZQ%3D%3D?line=1'>2</a>\u001b[0m \u001b[39mimport\u001b[39;00m \u001b[39mimageio\u001b[39;00m\u001b[39m.\u001b[39;00m\u001b[39mv2\u001b[39;00m \u001b[39mas\u001b[39;00m \u001b[39mimageio\u001b[39;00m\n\u001b[1;32m      <a href='vscode-notebook-cell://ssh-remote%2B192.168.193.104/home/mfujita/Documents/research/tests.ipynb#W3sdnNjb2RlLXJlbW90ZQ%3D%3D?line=2'>3</a>\u001b[0m \u001b[39mimport\u001b[39;00m \u001b[39mcupy\u001b[39;00m \u001b[39mas\u001b[39;00m \u001b[39mcp\u001b[39;00m\n\u001b[0;32m----> <a href='vscode-notebook-cell://ssh-remote%2B192.168.193.104/home/mfujita/Documents/research/tests.ipynb#W3sdnNjb2RlLXJlbW90ZQ%3D%3D?line=4'>5</a>\u001b[0m p \u001b[39m=\u001b[39m patient\u001b[39m.\u001b[39;49mpatient(name\u001b[39m=\u001b[39;49m\u001b[39m\"\u001b[39;49m\u001b[39m4411469\u001b[39;49m\u001b[39m\"\u001b[39;49m)\n\u001b[1;32m      <a href='vscode-notebook-cell://ssh-remote%2B192.168.193.104/home/mfujita/Documents/research/tests.ipynb#W3sdnNjb2RlLXJlbW90ZQ%3D%3D?line=6'>7</a>\u001b[0m a \u001b[39m=\u001b[39m \u001b[39m180\u001b[39m\n\u001b[1;32m     <a href='vscode-notebook-cell://ssh-remote%2B192.168.193.104/home/mfujita/Documents/research/tests.ipynb#W3sdnNjb2RlLXJlbW90ZQ%3D%3D?line=9'>10</a>\u001b[0m imageio\u001b[39m.\u001b[39mimsave(\u001b[39m\"\u001b[39m\u001b[39mpics/ct.png\u001b[39m\u001b[39m\"\u001b[39m, cp\u001b[39m.\u001b[39masnumpy(p\u001b[39m.\u001b[39mct\u001b[39m.\u001b[39mimg[a]))\n",
      "File \u001b[0;32m~/Documents/research/patient/patient.py:38\u001b[0m, in \u001b[0;36mpatient.__init__\u001b[0;34m(self, name, num_views)\u001b[0m\n\u001b[1;32m     36\u001b[0m         \u001b[39mself\u001b[39m\u001b[39m.\u001b[39mct \u001b[39m=\u001b[39m pickle\u001b[39m.\u001b[39mload(handle)\n\u001b[1;32m     37\u001b[0m \u001b[39melse\u001b[39;00m:\n\u001b[0;32m---> 38\u001b[0m     \u001b[39mself\u001b[39;49m\u001b[39m.\u001b[39;49mgenerate_ct()\n\u001b[1;32m     40\u001b[0m \u001b[39mif\u001b[39;00m (datadir \u001b[39m/\u001b[39m name \u001b[39m/\u001b[39m \u001b[39m\"\u001b[39m\u001b[39mdrr.pickle\u001b[39m\u001b[39m\"\u001b[39m)\u001b[39m.\u001b[39mexists():\n\u001b[1;32m     41\u001b[0m     \u001b[39mwith\u001b[39;00m \u001b[39mopen\u001b[39m(datadir \u001b[39m/\u001b[39m name \u001b[39m/\u001b[39m \u001b[39m\"\u001b[39m\u001b[39mdrr.pickle\u001b[39m\u001b[39m\"\u001b[39m, \u001b[39m'\u001b[39m\u001b[39mrb\u001b[39m\u001b[39m'\u001b[39m) \u001b[39mas\u001b[39;00m handle:\n",
      "File \u001b[0;32m~/Documents/research/patient/patient.py:73\u001b[0m, in \u001b[0;36mpatient.generate_ct\u001b[0;34m(self)\u001b[0m\n\u001b[1;32m     71\u001b[0m \u001b[39mdef\u001b[39;00m \u001b[39mgenerate_ct\u001b[39m(\u001b[39mself\u001b[39m):\n\u001b[1;32m     72\u001b[0m     \u001b[39m# print(\"Creating new CTset\")\u001b[39;00m\n\u001b[0;32m---> 73\u001b[0m     \u001b[39mself\u001b[39m\u001b[39m.\u001b[39mct \u001b[39m=\u001b[39m ct\u001b[39m.\u001b[39;49mctset(name\u001b[39m=\u001b[39;49m\u001b[39mself\u001b[39;49m\u001b[39m.\u001b[39;49mname, \u001b[39mtype\u001b[39;49m\u001b[39m=\u001b[39;49m\u001b[39m\"\u001b[39;49m\u001b[39mfloat32\u001b[39;49m\u001b[39m\"\u001b[39;49m)\n\u001b[1;32m     74\u001b[0m     \u001b[39mwith\u001b[39;00m \u001b[39mopen\u001b[39m(datadir \u001b[39m/\u001b[39m \u001b[39mself\u001b[39m\u001b[39m.\u001b[39mname \u001b[39m/\u001b[39m \u001b[39m\"\u001b[39m\u001b[39mct.pickle\u001b[39m\u001b[39m\"\u001b[39m, \u001b[39m'\u001b[39m\u001b[39mwb\u001b[39m\u001b[39m'\u001b[39m) \u001b[39mas\u001b[39;00m handle:\n\u001b[1;32m     75\u001b[0m         pickle\u001b[39m.\u001b[39mdump(\u001b[39mself\u001b[39m\u001b[39m.\u001b[39mct, handle, protocol\u001b[39m=\u001b[39mpickle\u001b[39m.\u001b[39mHIGHEST_PROTOCOL)\n",
      "File \u001b[0;32m~/Documents/research/ct/ct.py:41\u001b[0m, in \u001b[0;36mctset.__init__\u001b[0;34m(self, name, type)\u001b[0m\n\u001b[1;32m     39\u001b[0m z_list \u001b[39m=\u001b[39m \u001b[39msorted\u001b[39m(z_list)\n\u001b[1;32m     40\u001b[0m z_list \u001b[39m=\u001b[39m cp\u001b[39m.\u001b[39munique(z_list)\n\u001b[0;32m---> 41\u001b[0m \u001b[39mself\u001b[39m\u001b[39m.\u001b[39mzrange[\u001b[39m0\u001b[39m] \u001b[39m=\u001b[39m z_list[\u001b[39m1\u001b[39;49m]\n\u001b[1;32m     42\u001b[0m \u001b[39mself\u001b[39m\u001b[39m.\u001b[39mzrange[\u001b[39m1\u001b[39m] \u001b[39m=\u001b[39m z_list[\u001b[39mlen\u001b[39m(z_list) \u001b[39m-\u001b[39m \u001b[39m2\u001b[39m]\n\u001b[1;32m     44\u001b[0m \u001b[39mself\u001b[39m\u001b[39m.\u001b[39msheets \u001b[39m=\u001b[39m \u001b[39mlen\u001b[39m(\u001b[39mself\u001b[39m\u001b[39m.\u001b[39mraw_data)\n",
      "File \u001b[0;32mcupy/_core/core.pyx:1437\u001b[0m, in \u001b[0;36mcupy._core.core.ndarray.__getitem__\u001b[0;34m()\u001b[0m\n",
      "File \u001b[0;32mcupy/_core/_routines_indexing.pyx:33\u001b[0m, in \u001b[0;36mcupy._core._routines_indexing._ndarray_getitem\u001b[0;34m()\u001b[0m\n",
      "File \u001b[0;32mcupy/_core/_routines_indexing.pyx:433\u001b[0m, in \u001b[0;36mcupy._core._routines_indexing._view_getitem\u001b[0;34m()\u001b[0m\n",
      "\u001b[0;31mIndexError\u001b[0m: Index 1 is out of bounds for axis 0 with size 0"
     ]
    }
   ],
   "source": [
    "from patient import patient\n",
    "import imageio.v2 as imageio\n",
    "import cupy as cp\n",
    "\n",
    "p = patient.patient(name=\"4411469\")\n",
    "\n",
    "a = 180\n",
    "\n",
    "\n",
    "imageio.imsave(\"pics/ct.png\", cp.asnumpy(p.ct.img[a]))\n",
    "# imageio.imsave(\"pics/test2.png\", p.get_resized_fbp(p.get_equiv(a, plot=True)[0]))\n",
    "imageio.imsave(\"pics/test2.png\", cp.asnumpy(p.get_equiv_fbp(a)))\n",
    "\n",
    "imgct = imageio.imread(\"pics/ct.png\").astype(\"float32\")\n",
    "imgrec = imageio.imread(\"pics/test2.png\").astype(\"float32\")\n",
    "\n",
    "imageio.imsave(\"pics/diff.png\", imgct - imgrec)"
   ]
  },
  {
   "cell_type": "code",
   "execution_count": 1,
   "metadata": {},
   "outputs": [
    {
     "name": "stderr",
     "output_type": "stream",
     "text": [
      "Lossy conversion from float64 to uint8. Range [0.9610147906599955, 1.045815040058848]. Convert image to uint8 prior to saving to suppress this warning.\n",
      "Lossy conversion from float64 to uint8. Range [0.9246463991857992, 1.073796337428703]. Convert image to uint8 prior to saving to suppress this warning.\n",
      "Lossy conversion from float64 to uint8. Range [0.9363052899241175, 1.0672472223794813]. Convert image to uint8 prior to saving to suppress this warning.\n",
      "Lossy conversion from int16 to uint8. Range [10, 249]. Convert image to uint8 prior to saving to suppress this warning.\n",
      "Lossy conversion from float64 to uint8. Range [0.9610147906599955, 1.045815040058848]. Convert image to uint8 prior to saving to suppress this warning.\n",
      "Lossy conversion from float64 to uint8. Range [0.9246463991857992, 1.073796337428703]. Convert image to uint8 prior to saving to suppress this warning.\n",
      "Lossy conversion from float64 to uint8. Range [0.9363052899241175, 1.0672472223794813]. Convert image to uint8 prior to saving to suppress this warning.\n",
      "Lossy conversion from int16 to uint8. Range [-148, 248]. Convert image to uint8 prior to saving to suppress this warning.\n"
     ]
    },
    {
     "ename": "",
     "evalue": "",
     "output_type": "error",
     "traceback": [
      "\u001b[1;31mThe Kernel crashed while executing code in the the current cell or a previous cell. Please review the code in the cell(s) to identify a possible cause of the failure. Click <a href='https://aka.ms/vscodeJupyterKernelCrash'>here</a> for more info. View Jupyter <a href='command:jupyter.viewOutput'>log</a> for further details."
     ]
    }
   ],
   "source": [
    "import imageio.v2 as imageio\n",
    "from patient import patient\n",
    "import cupy as cp\n",
    "\n",
    "a = 185\n",
    "p = patient.patient(name=\"4410400\")\n",
    "# p.calculate_resize()\n",
    "imageio.imsave(\"test3.png\", cp.asnumpy(p.get_equiv_fbp(a)))\n",
    "imageio.imsave(\"test4.png\", cp.asnumpy(p.ct.img[a]))\n",
    "# imageio.imsave(\"test3.png\", cp.asnumpy(p.posfbp.get(131)))\n",
    "imageio.imsave(\"test5.png\", cp.asnumpy(p.get_equiv_fbp(a)) - cp.asnumpy(p.ct.img[a]))"
   ]
  },
  {
   "attachments": {},
   "cell_type": "markdown",
   "metadata": {},
   "source": [
    "## Xray set"
   ]
  },
  {
   "cell_type": "code",
   "execution_count": 1,
   "metadata": {},
   "outputs": [
    {
     "data": {
      "application/vnd.jupyter.widget-view+json": {
       "model_id": "06583aceb5114af79b00780cd6d31ec7",
       "version_major": 2,
       "version_minor": 0
      },
      "text/plain": [
       "  0%|          | 0/450 [00:00<?, ?it/s]"
      ]
     },
     "metadata": {},
     "output_type": "display_data"
    },
    {
     "name": "stdout",
     "output_type": "stream",
     "text": [
      "500 500\n"
     ]
    },
    {
     "data": {
      "application/vnd.jupyter.widget-view+json": {
       "model_id": "a25f002ca47d44d4a467de5c499b55f5",
       "version_major": 2,
       "version_minor": 0
      },
      "text/plain": [
       "  0%|          | 0/61 [00:00<?, ?it/s]"
      ]
     },
     "metadata": {},
     "output_type": "display_data"
    }
   ],
   "source": [
    "import importlib\n",
    "from xray import xray\n",
    "import imageio.v2 as imageio\n",
    "import cv2   \n",
    "import cupy as cp\n",
    "import numpy as np\n",
    "\n",
    "importlib.reload(xray)\n",
    "\n",
    "xrayset = xray.xrayset(\n",
    "        name=\"__phantom\",\n",
    "        sheets=450,\n",
    "        voltage=120,\n",
    "        height=1024,\n",
    "        output_height=500\n",
    "    )"
   ]
  },
  {
   "cell_type": "code",
   "execution_count": 2,
   "metadata": {},
   "outputs": [
    {
     "name": "stdout",
     "output_type": "stream",
     "text": [
      "202.13799876610375 28.001571358626776\n"
     ]
    }
   ],
   "source": [
    "print(xrayset.mean, xrayset.std)"
   ]
  },
  {
   "cell_type": "code",
   "execution_count": 2,
   "metadata": {},
   "outputs": [
    {
     "name": "stdout",
     "output_type": "stream",
     "text": [
      "170.14660365821723\n"
     ]
    },
    {
     "data": {
      "image/png": "[encoded data removed]",
      "text/plain": [
       "<Figure size 432x288 with 1 Axes>"
      ]
     },
     "metadata": {
      "needs_background": "light"
     },
     "output_type": "display_data"
    }
   ],
   "source": [
    "import matplotlib.pyplot as plt\n",
    "\n",
    "stat = [cp.asnumpy(s) for s in xrayset.stat]\n",
    "plt.plot(stat)\n",
    "print(np.average(stat))"
   ]
  },
  {
   "cell_type": "code",
   "execution_count": 3,
   "metadata": {},
   "outputs": [
    {
     "data": {
      "text/plain": [
       "[<matplotlib.lines.Line2D at 0x7fe03831fc10>]"
      ]
     },
     "execution_count": 3,
     "metadata": {},
     "output_type": "execute_result"
    },
    {
     "data": {
      "image/png": "[encoded data removed]",
      "text/plain": [
       "<Figure size 432x288 with 1 Axes>"
      ]
     },
     "metadata": {
      "needs_background": "light"
     },
     "output_type": "display_data"
    }
   ],
   "source": [
    "avg = [int(cp.average(img[img > 60])) for img in xrayset.img]\n",
    "plt.plot(avg)"
   ]
  },
  {
   "cell_type": "code",
   "execution_count": 5,
   "metadata": {},
   "outputs": [],
   "source": [
    "imgs = []\n",
    "for img in xrayset.img:\n",
    "    imgs.append(cp.asnumpy(img))\n",
    "imageio.mimsave(\"x.gif\", imgs)"
   ]
  },
  {
   "cell_type": "code",
   "execution_count": 4,
   "metadata": {},
   "outputs": [],
   "source": [
    "import fbp.tompy as fbp\n",
    "import cupy as cp\n",
    "\n",
    "# fbp from xrayset\n",
    "rec2 = fbp.fbpset(\n",
    "        xrayset,\n",
    "        height=1000,\n",
    "        # adjust_alpha=4.,\n",
    "        # adjust_beta=-120.,\n",
    "        # angle=1,\n",
    "        rotate=200,\n",
    "        load_all=False\n",
    "    )\n",
    "\n",
    "# print(cp.asnumpy(rec2.get(5)))\n",
    "# imageio.imsave(\"test.png\", cp.asnumpy(rec2.get(5)))\n",
    "# imageio.imsave(\"x.png\", cp.asnumpy(rec2.x.img[200]).ravel())"
   ]
  },
  {
   "cell_type": "code",
   "execution_count": 9,
   "metadata": {},
   "outputs": [
    {
     "name": "stdout",
     "output_type": "stream",
     "text": [
      "(1000, 1000)\n"
     ]
    },
    {
     "data": {
      "image/png": "[encoded data removed]",
      "text/plain": [
       "<Figure size 432x288 with 1 Axes>"
      ]
     },
     "metadata": {
      "needs_background": "light"
     },
     "output_type": "display_data"
    }
   ],
   "source": [
    "import matplotlib.pyplot as plt\n",
    "\n",
    "img = cp.asnumpy(rec2.get(300)).astype(\"float64\")\n",
    "print(np.shape(img))\n",
    "\n",
    "half = 500\n",
    "\n",
    "# for x in range(0, len(img)):\n",
    "#     for y in range(0, len(img[x])):\n",
    "#         dist = np.sqrt((x - half) * (x - half) + (y - half) * (y - half))\n",
    "#         # if dist > 110:\n",
    "#         # img[x][y] = dist\n",
    "#         i = 300\n",
    "#         o = 500\n",
    "#         f = -1 / (o - i) * (dist - i) + 1\n",
    "#         f = np.minimum(f, 1)\n",
    "#         f = np.maximum(f, 0)\n",
    "#         img[x][y] *= f\n",
    "\n",
    "# for x in range(0, len(img)):\n",
    "#     for y in range(0, len(img[x])):\n",
    "#         dist = np.sqrt((x - half) * (x - half) + (y - half) * (y - half))\n",
    "#         # if dist > 110:\n",
    "#         # img[x][y] = dist\n",
    "#         i = 320\n",
    "#         o = 340\n",
    "#         f = -1 / (o - i) * (dist - i) + 1\n",
    "#         f = np.minimum(f, 1)\n",
    "#         f = np.maximum(f, 0)\n",
    "#         img[x][y] *= f\n",
    "\n",
    "# for x in range(0, len(img)):\n",
    "#     for y in range(0, len(img[x])):\n",
    "#         dist = np.sqrt((x - half) * (x - half) + (y - half) * (y - half))\n",
    "#         # if dist > 110:\n",
    "#         # img[x][y] = dist\n",
    "#         i = 250\n",
    "#         o = 550\n",
    "#         f = -1 / (o - i) * (dist - i) + 1\n",
    "#         f = np.minimum(f, 1)\n",
    "#         f = np.maximum(f, 0)\n",
    "#         img[x][y] *= f\n",
    "\n",
    "loVal = 0\n",
    "hiVal = 255\n",
    "\n",
    "img = ((img - loVal) * 255.0 / (hiVal - loVal))\n",
    "img[img < 0] = 0\n",
    "img[img > 255] = 255\n",
    "\n",
    "img = img.astype(\"uint8\")\n",
    "\n",
    "histogram, bin_edges = np.histogram(img, bins=256, range=(0, 255))\n",
    "plt.plot(bin_edges[0:-1], histogram)\n",
    "plt.xlim(1)\n",
    "plt.ylim(0, 20000)\n",
    "\n",
    "imageio.imsave(\"test1.png\", img.astype(\"uint8\"))"
   ]
  },
  {
   "cell_type": "code",
   "execution_count": 8,
   "metadata": {},
   "outputs": [
    {
     "ename": "ValueError",
     "evalue": "cannot reshape array of size 1000000 into shape (3)",
     "output_type": "error",
     "traceback": [
      "\u001b[0;31m---------------------------------------------------------------------------\u001b[0m",
      "\u001b[0;31mValueError\u001b[0m                                Traceback (most recent call last)",
      "\u001b[1;32m/home/mfujita/Documents/research/tests.ipynb Cell 13\u001b[0m in \u001b[0;36m<cell line: 9>\u001b[0;34m()\u001b[0m\n\u001b[1;32m      <a href='vscode-notebook-cell://ssh-remote%2B192.168.193.104/home/mfujita/Documents/research/tests.ipynb#X15sdnNjb2RlLXJlbW90ZQ%3D%3D?line=5'>6</a>\u001b[0m original \u001b[39m=\u001b[39m img\n\u001b[1;32m      <a href='vscode-notebook-cell://ssh-remote%2B192.168.193.104/home/mfujita/Documents/research/tests.ipynb#X15sdnNjb2RlLXJlbW90ZQ%3D%3D?line=6'>7</a>\u001b[0m n_colors \u001b[39m=\u001b[39m \u001b[39m6\u001b[39m\n\u001b[0;32m----> <a href='vscode-notebook-cell://ssh-remote%2B192.168.193.104/home/mfujita/Documents/research/tests.ipynb#X15sdnNjb2RlLXJlbW90ZQ%3D%3D?line=8'>9</a>\u001b[0m arr \u001b[39m=\u001b[39m original\u001b[39m.\u001b[39;49mreshape((\u001b[39m-\u001b[39;49m\u001b[39m1\u001b[39;49m, \u001b[39m3\u001b[39;49m))\n\u001b[1;32m     <a href='vscode-notebook-cell://ssh-remote%2B192.168.193.104/home/mfujita/Documents/research/tests.ipynb#X15sdnNjb2RlLXJlbW90ZQ%3D%3D?line=9'>10</a>\u001b[0m kmeans \u001b[39m=\u001b[39m KMeans(n_clusters\u001b[39m=\u001b[39mn_colors, random_state\u001b[39m=\u001b[39m\u001b[39m42\u001b[39m)\u001b[39m.\u001b[39mfit(arr)\n\u001b[1;32m     <a href='vscode-notebook-cell://ssh-remote%2B192.168.193.104/home/mfujita/Documents/research/tests.ipynb#X15sdnNjb2RlLXJlbW90ZQ%3D%3D?line=10'>11</a>\u001b[0m labels \u001b[39m=\u001b[39m kmeans\u001b[39m.\u001b[39mlabels_\n",
      "\u001b[0;31mValueError\u001b[0m: cannot reshape array of size 1000000 into shape (3)"
     ]
    }
   ],
   "source": [
    "import numpy as np\n",
    "from skimage import io\n",
    "from sklearn.cluster import KMeans\n",
    "\n",
    "# original = io.imread('https://i.stack.imgur.com/QCl8D.jpg')\n",
    "original = img\n",
    "n_colors = 6\n",
    "\n",
    "arr = original.reshape((-1, 3))\n",
    "kmeans = KMeans(n_clusters=n_colors, random_state=42).fit(arr)\n",
    "labels = kmeans.labels_\n",
    "centers = kmeans.cluster_centers_\n",
    "less_colors = centers[labels].reshape(original.shape).astype('uint8')\n",
    "\n",
    "io.imshow(less_colors)"
   ]
  },
  {
   "cell_type": "code",
   "execution_count": 36,
   "metadata": {},
   "outputs": [
    {
     "data": {
      "image/png": "[encoded data removed]",
      "text/plain": [
       "<Figure size 432x288 with 1 Axes>"
      ]
     },
     "metadata": {
      "needs_background": "light"
     },
     "output_type": "display_data"
    }
   ],
   "source": [
    "import matplotlib.pyplot as plt\n",
    "from perlin_noise import PerlinNoise\n",
    "\n",
    "noise = PerlinNoise(octaves=10, seed=1)\n",
    "xpix, ypix = 500, 500\n",
    "pic = [[noise([i/xpix, j/ypix]) for j in range(xpix)] for i in range(ypix)]\n",
    "\n",
    "plt.imshow(pic, cmap='gray')\n",
    "plt.show()"
   ]
  },
  {
   "cell_type": "code",
   "execution_count": null,
   "metadata": {},
   "outputs": [],
   "source": []
  }
 ],
 "metadata": {
  "kernelspec": {
   "display_name": "Python 3 (ipykernel)",
   "language": "python",
   "name": "python3"
  },
  "language_info": {
   "codemirror_mode": {
    "name": "ipython",
    "version": 3
   },
   "file_extension": ".py",
   "mimetype": "text/x-python",
   "name": "python",
   "nbconvert_exporter": "python",
   "pygments_lexer": "ipython3",
   "version": "3.10.8 (main, Nov 24 2022, 14:13:03) [GCC 11.2.0]"
  },
  "orig_nbformat": 4,
  "vscode": {
   "interpreter": {
    "hash": "da9ac5d7c4e967160d4eddc6864285750b07d26b36aae015b5a1a36de670b7f6"
   }
  }
 },
 "nbformat": 4,
 "nbformat_minor": 2
}
