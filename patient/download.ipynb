{
 "cells": [
  {
   "cell_type": "code",
   "execution_count": 1,
   "metadata": {},
   "outputs": [
    {
     "ename": "TypeError",
     "evalue": "download() got an unexpected keyword argument 'key'",
     "output_type": "error",
     "traceback": [
      "\u001b[0;31m---------------------------------------------------------------------------\u001b[0m",
      "\u001b[0;31mTypeError\u001b[0m                                 Traceback (most recent call last)",
      "\u001b[0;32m/tmp/ipykernel_2151138/777462591.py\u001b[0m in \u001b[0;36m<module>\u001b[0;34m\u001b[0m\n\u001b[1;32m      3\u001b[0m \u001b[0murl\u001b[0m \u001b[0;34m=\u001b[0m \u001b[0;34m'https://dataverse.harvard.edu/api/access/datafile/4411740'\u001b[0m\u001b[0;34m\u001b[0m\u001b[0;34m\u001b[0m\u001b[0m\n\u001b[1;32m      4\u001b[0m \u001b[0;34m\u001b[0m\u001b[0m\n\u001b[0;32m----> 5\u001b[0;31m \u001b[0mfilename\u001b[0m \u001b[0;34m=\u001b[0m \u001b[0mwget\u001b[0m\u001b[0;34m.\u001b[0m\u001b[0mdownload\u001b[0m\u001b[0;34m(\u001b[0m\u001b[0murl\u001b[0m\u001b[0;34m,\u001b[0m \u001b[0mout\u001b[0m\u001b[0;34m=\u001b[0m\u001b[0;34m'./downloaded'\u001b[0m\u001b[0;34m,\u001b[0m \u001b[0mkey\u001b[0m\u001b[0;34m=\u001b[0m\u001b[0;34m\"val\"\u001b[0m\u001b[0;34m)\u001b[0m\u001b[0;34m\u001b[0m\u001b[0;34m\u001b[0m\u001b[0m\n\u001b[0m",
      "\u001b[0;31mTypeError\u001b[0m: download() got an unexpected keyword argument 'key'"
     ]
    }
   ],
   "source": [
    "import wget\n",
    "\n",
    "url = 'https://dataverse.harvard.edu/api/access/datafile/4411740'\n",
    "\n",
    "filename = wget.download(url, out='./downloaded', key=\"val\")"
   ]
  },
  {
   "cell_type": "code",
   "execution_count": 1,
   "metadata": {},
   "outputs": [],
   "source": [
    "import requests\n",
    "import pathlib\n",
    "import patoolib\n",
    "import glob\n",
    "import os\n",
    "\n",
    "def download_file(url, dir, name):\n",
    "    local_filename = dir / name\n",
    "# NOTE the stream=True parameter below\n",
    "    with requests.get(url, stream=True) as r:\n",
    "        r.raise_for_status()\n",
    "        with open(local_filename, 'wb') as f:\n",
    "            for chunk in r.iter_content(chunk_size=8192): \n",
    "                # If you have chunk encoded response uncomment if\n",
    "                # and set chunk_size parameter to None.\n",
    "                #if chunk: \n",
    "                f.write(chunk)\n",
    "    return local_filename"
   ]
  },
  {
   "cell_type": "code",
   "execution_count": 1,
   "metadata": {},
   "outputs": [
    {
     "data": {
      "application/vnd.jupyter.widget-view+json": {
       "model_id": "f8835b29610145cc9365942c0764e143",
       "version_major": 2,
       "version_minor": 0
      },
      "text/plain": [
       "  0%|          | 0/90 [00:00<?, ?it/s]"
      ]
     },
     "metadata": {},
     "output_type": "display_data"
    },
    {
     "name": "stdout",
     "output_type": "stream",
     "text": [
      "downloading 4410826\n"
     ]
    },
    {
     "ename": "NameError",
     "evalue": "name 'download_file' is not defined",
     "output_type": "error",
     "traceback": [
      "\u001b[0;31m---------------------------------------------------------------------------\u001b[0m",
      "\u001b[0;31mNameError\u001b[0m                                 Traceback (most recent call last)",
      "\u001b[1;32m/home/mfujita/Documents/research/download.ipynb Cell 3\u001b[0m in \u001b[0;36m<cell line: 97>\u001b[0;34m()\u001b[0m\n\u001b[1;32m    <a href='vscode-notebook-cell://ssh-remote%2B192.168.193.104/home/mfujita/Documents/research/download.ipynb#W2sdnNjb2RlLXJlbW90ZQ%3D%3D?line=101'>102</a>\u001b[0m     \u001b[39mcontinue\u001b[39;00m\n\u001b[1;32m    <a href='vscode-notebook-cell://ssh-remote%2B192.168.193.104/home/mfujita/Documents/research/download.ipynb#W2sdnNjb2RlLXJlbW90ZQ%3D%3D?line=102'>103</a>\u001b[0m \u001b[39mprint\u001b[39m(\u001b[39mf\u001b[39m\u001b[39m\"\u001b[39m\u001b[39mdownloading \u001b[39m\u001b[39m{\u001b[39;00mname\u001b[39m}\u001b[39;00m\u001b[39m\"\u001b[39m)\n\u001b[0;32m--> <a href='vscode-notebook-cell://ssh-remote%2B192.168.193.104/home/mfujita/Documents/research/download.ipynb#W2sdnNjb2RlLXJlbW90ZQ%3D%3D?line=103'>104</a>\u001b[0m download_file(url\u001b[39m=\u001b[39murl, \u001b[39mdir\u001b[39m\u001b[39m=\u001b[39mpathlib\u001b[39m.\u001b[39mPath(\u001b[39m\"\u001b[39m\u001b[39m./downloaded\u001b[39m\u001b[39m\"\u001b[39m),\n\u001b[1;32m    <a href='vscode-notebook-cell://ssh-remote%2B192.168.193.104/home/mfujita/Documents/research/download.ipynb#W2sdnNjb2RlLXJlbW90ZQ%3D%3D?line=104'>105</a>\u001b[0m               name\u001b[39m=\u001b[39mname \u001b[39m+\u001b[39m \u001b[39m\"\u001b[39m\u001b[39m.rar\u001b[39m\u001b[39m\"\u001b[39m)\n\u001b[1;32m    <a href='vscode-notebook-cell://ssh-remote%2B192.168.193.104/home/mfujita/Documents/research/download.ipynb#W2sdnNjb2RlLXJlbW90ZQ%3D%3D?line=105'>106</a>\u001b[0m \u001b[39mprint\u001b[39m(\u001b[39mf\u001b[39m\u001b[39m\"\u001b[39m\u001b[39mextracting \u001b[39m\u001b[39m{\u001b[39;00mname\u001b[39m}\u001b[39;00m\u001b[39m\"\u001b[39m)\n\u001b[1;32m    <a href='vscode-notebook-cell://ssh-remote%2B192.168.193.104/home/mfujita/Documents/research/download.ipynb#W2sdnNjb2RlLXJlbW90ZQ%3D%3D?line=106'>107</a>\u001b[0m \u001b[39mif\u001b[39;00m \u001b[39mnot\u001b[39;00m os\u001b[39m.\u001b[39mpath\u001b[39m.\u001b[39mexists(path):\n",
      "\u001b[0;31mNameError\u001b[0m: name 'download_file' is not defined"
     ]
    }
   ],
   "source": [
    "from tqdm.notebook import tqdm\n",
    "\n",
    "# 10 - 30\n",
    "ids = [\n",
    "    \"4411471\",\n",
    "    \"4411469\",\n",
    "    \"4411475\",\n",
    "    \"4411476\",\n",
    "    \"4411482\",\n",
    "    \"4411558\",\n",
    "    \"4411559\",\n",
    "    \"4411557\",\n",
    "    \"4411796\",\n",
    "    \"4411560\",\n",
    "    \"4411563\",\n",
    "    \"4411562\",\n",
    "    \"4411561\",\n",
    "    \"4411564\",\n",
    "    \"4411565\",\n",
    "    \"4411566\",\n",
    "    \"4411794\",\n",
    "    \"4411797\",\n",
    "    \"4411407\",\n",
    "    \"4411407\",\n",
    "    \"4411408\",\n",
    "    \"4411406\",\n",
    "    \"4411405\",\n",
    "    \"4411417\",\n",
    "    \"4411414\",\n",
    "    \"4411415\",\n",
    "    \"4411416\",\n",
    "    \"4411420\",\n",
    "    \"4411419\",\n",
    "    \"4267523\",\n",
    "    \"4410886\",\n",
    "    \"4411396\",\n",
    "    \"4411397\",\n",
    "    \"4411398\",\n",
    "    \"4411395\",\n",
    "    \"4411402\",\n",
    "    \"4411401\",\n",
    "    \"4411403\",\n",
    "    \"4411404\",\n",
    "    \"4411426\",\n",
    "    \"4411425\",\n",
    "    \"4411424\",\n",
    "    \"4411423\",\n",
    "    \"4411428\",\n",
    "    \"4411430\",\n",
    "    \"4411427\",\n",
    "    \"4411429\",\n",
    "    \"4411433\",\n",
    "    \"4411432\",\n",
    "    \"4410826\",\n",
    "    \"4410824\",\n",
    "    \"4410825\",\n",
    "    \"4410829\",\n",
    "    \"4410828\",\n",
    "    \"4410827\",\n",
    "    \"4410832\",\n",
    "    \"4410830\",\n",
    "    \"4410833\",\n",
    "    \"4410831\",\n",
    "    \"4410836\",\n",
    "    \"4410837\",\n",
    "    \"4410835\",\n",
    "    \"4410834\",\n",
    "    \"4410838\",\n",
    "    \"4410840\",\n",
    "    \"4410859\",\n",
    "    \"4410856\",\n",
    "    \"4410857\",\n",
    "    \"4410858\",\n",
    "    \"4267535\",\n",
    "    \"4409574\",\n",
    "    \"4409575\",\n",
    "    \"4409573\",\n",
    "    \"4410087\",\n",
    "    \"4410088\",\n",
    "    \"4410086\",\n",
    "    \"4410401\",\n",
    "    \"4410402\",\n",
    "    \"4410400\",\n",
    "    \"4410839\",\n",
    "    \"4404145\",\n",
    "    \"4404449\",\n",
    "    \"4404146\",\n",
    "    \"4404150\",\n",
    "    \"4404148\",\n",
    "    \"4404151\",\n",
    "    \"4404149\",\n",
    "    \"4404366\",\n",
    "    \"4404147\",\n",
    "    \"4404367\"\n",
    "]\n",
    "\n",
    "for id in tqdm(ids):\n",
    "    url = f\"https://dataverse.harvard.edu/api/access/datafile/{id}\"\n",
    "    name = url.split(\"/\")[-1]\n",
    "    path = \"./data/\" + name\n",
    "    if os.path.exists(path):\n",
    "        continue\n",
    "    print(f\"downloading {name}\")\n",
    "    download_file(url=url, dir=pathlib.Path(\"./downloaded\"),\n",
    "                  name=name + \".rar\")\n",
    "    print(f\"extracting {name}\")\n",
    "    if not os.path.exists(path):\n",
    "        os.mkdir(path)\n",
    "    patoolib.extract_archive(pathlib.Path(\"./downloaded\") \n",
    "                             / (name + \".rar\"),\n",
    "                             outdir=\"./data/\" + name)\n",
    "    os.rename(glob.glob(\"./data/\" + name + \"/*\")[0], \"./data/\" + name + \"/ct\")"
   ]
  },
  {
   "cell_type": "code",
   "execution_count": 6,
   "metadata": {},
   "outputs": [],
   "source": [
    "import glob\n",
    "import shutil\n",
    "c = 0\n",
    "for vol in glob.glob(\"./data/*\"):\n",
    "    if os.path.exists(vol + \"/ct\"):\n",
    "        if not os.path.isdir(vol + \"/ct\"):\n",
    "            os.remove(vol + \"/ct\")\n",
    "            os.mkdir(vol + \"/ct\")\n",
    "    if not os.path.exists(vol + \"/ct\"):\n",
    "        os.mkdir(vol + \"/ct\")\n",
    "        print(vol)\n",
    "    for path in glob.glob(vol + \"/*\"):\n",
    "        if '.dcm' in path:\n",
    "            # shutil.move(path, \"/\".join(path.split(\"/\")[:-1]) + path.split(\"/\")[-1])\n",
    "            shutil.move(path, \"/\".join(path.split(\"/\")[:-1]) + \"/ct/\" + path.split(\"/\")[-1])\n",
    "    for path in glob.glob(vol + \"/ct/*\"):\n",
    "        if os.path.isdir(path):\n",
    "            for path2 in glob.glob(path + \"/*\"):\n",
    "                if '.dcm' in path2:\n",
    "                    shutil.move(path2, \"/\".join(path2.split(\"/\")[:-2]) + \"/\" + path2.split(\"/\")[-1])"
   ]
  },
  {
   "cell_type": "code",
   "execution_count": null,
   "metadata": {},
   "outputs": [],
   "source": []
  }
 ],
 "metadata": {
  "kernelspec": {
   "display_name": "Python 3 (ipykernel)",
   "language": "python",
   "name": "python3"
  },
  "orig_nbformat": 4,
  "vscode": {
   "interpreter": {
    "hash": "da9ac5d7c4e967160d4eddc6864285750b07d26b36aae015b5a1a36de670b7f6"
   }
  }
 },
 "nbformat": 4,
 "nbformat_minor": 2
}
