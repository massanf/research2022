{
 "cells": [
  {
   "cell_type": "code",
   "execution_count": 1,
   "metadata": {},
   "outputs": [
    {
     "data": {
      "application/vnd.jupyter.widget-view+json": {
       "model_id": "a1749fb1d11b445a9e9cdb4290651b64",
       "version_major": 2,
       "version_minor": 0
      },
      "text/plain": [
       "DRR:   0%|          | 0/450 [00:00<?, ?it/s]"
      ]
     },
     "metadata": {},
     "output_type": "display_data"
    },
    {
     "name": "stdout",
     "output_type": "stream",
     "text": [
      "214\n"
     ]
    }
   ],
   "source": [
    "import importlib\n",
    "import imageio.v2 as imageio\n",
    "from patient import patient\n",
    "import glob\n",
    "import cupy as cp\n",
    "\n",
    "p = patient.patient(\n",
    "    name=\"4410088\",\n",
    "    do={'ct': True, 'drr': True, 'posdrr': True, 'fbp': True,\n",
    "        'posfbp': True, 'resize': True},\n",
    "    skip_done=True\n",
    ")\n",
    "# p.generate_fbp(load_all=False)"
   ]
  },
  {
   "cell_type": "code",
   "execution_count": 2,
   "metadata": {},
   "outputs": [],
   "source": [
    "i = 2\n",
    "\n",
    "pos = 150\n",
    "\n",
    "imageio.imsave(\"ct.png\", cp.asnumpy(p.ct.img[pos]))\n",
    "imageio.imsave(\"fbp.png\",\n",
    " cp.asnumpy(p.get_equiv_fbp(pos)))\n",
    "\n",
    "# imgct = imageio.imread(\"ct.png\").astype(\"float32\")\n",
    "# imgrec = imageio.imread(f\"fbp.png\").astype(\"float32\")\n",
    "\n",
    "# imageio.imsave(f\"diff{i}.png\", imgct - imgrec)"
   ]
  },
  {
   "cell_type": "code",
   "execution_count": 3,
   "metadata": {},
   "outputs": [],
   "source": [
    "imgs = [cp.asnumpy(img) for img in p.drr.img]\n",
    "\n",
    "imageio.mimsave(\"x.gif\", imgs)"
   ]
  },
  {
   "cell_type": "code",
   "execution_count": 3,
   "metadata": {},
   "outputs": [],
   "source": [
    "%slack"
   ]
  },
  {
   "cell_type": "code",
   "execution_count": null,
   "metadata": {},
   "outputs": [],
   "source": [
    "import importlib\n",
    "import imageio.v2 as imageio\n",
    "from patient import patient\n",
    "import glob\n",
    "\n",
    "poss = [50, 100, 150, 200]\n",
    "vols = [\"4404147\", \"4404366\"]\n",
    "\n",
    "for idx, vol in enumerate(vols):\n",
    "    p = patient.patient(name=vol)\n",
    "    for pos in poss:\n",
    "        imageio.imsave(f\"figures/ct_patient{idx}_{pos}.png\",\n",
    "                       cp.asnumpy(p.ct.img[pos]))\n",
    "\n",
    "# imageio.mimsave(f\"pics/drr.gif\", p.drr.img)\n",
    "%slack"
   ]
  }
 ],
 "metadata": {
  "kernelspec": {
   "display_name": "res",
   "language": "python",
   "name": "python3"
  },
  "language_info": {
   "codemirror_mode": {
    "name": "ipython",
    "version": 3
   },
   "file_extension": ".py",
   "mimetype": "text/x-python",
   "name": "python",
   "nbconvert_exporter": "python",
   "pygments_lexer": "ipython3",
   "version": "3.10.8"
  },
  "orig_nbformat": 4,
  "vscode": {
   "interpreter": {
    "hash": "da9ac5d7c4e967160d4eddc6864285750b07d26b36aae015b5a1a36de670b7f6"
   }
  }
 },
 "nbformat": 4,
 "nbformat_minor": 2
}
