{
 "cells": [
  {
   "cell_type": "code",
   "execution_count": 2,
   "metadata": {},
   "outputs": [],
   "source": [
    "import importlib\n",
    "import imageio.v2 as imageio\n",
    "from patient import patient\n",
    "import glob\n",
    "import cupy as cp\n",
    "\n",
    "p = patient.patient(name=\"4404145\")"
   ]
  },
  {
   "cell_type": "code",
   "execution_count": 10,
   "metadata": {},
   "outputs": [
    {
     "name": "stderr",
     "output_type": "stream",
     "text": [
      "Lossy conversion from float64 to uint8. Range [0.0, 255.0]. Convert image to uint8 prior to saving to suppress this warning.\n",
      "Lossy conversion from float32 to uint8. Range [-228.0, 151.0]. Convert image to uint8 prior to saving to suppress this warning.\n"
     ]
    }
   ],
   "source": [
    "i = 2\n",
    "\n",
    "imageio.imsave(\"figs/ct.png\", cp.asnumpy(p.ct.img[150]))\n",
    "imageio.imsave(f\"figs/fbp{i}.png\", cp.asnumpy(p.get_equiv_fbp(80)))\n",
    "\n",
    "imgct = imageio.imread(\"figs/ct.png\").astype(\"float32\")\n",
    "imgrec = imageio.imread(f\"figs/fbp{i}.png\").astype(\"float32\")\n",
    "\n",
    "imageio.imsave(f\"figs/diff{i}.png\", imgct - imgrec)"
   ]
  },
  {
   "cell_type": "code",
   "execution_count": null,
   "metadata": {},
   "outputs": [],
   "source": []
  }
 ],
 "metadata": {
  "kernelspec": {
   "display_name": "Python 3 (ipykernel)",
   "language": "python",
   "name": "python3"
  },
  "orig_nbformat": 4
 },
 "nbformat": 4,
 "nbformat_minor": 2
}
