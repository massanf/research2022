{
 "cells": [
  {
   "cell_type": "code",
   "execution_count": 1,
   "metadata": {},
   "outputs": [
    {
     "name": "stdout",
     "output_type": "stream",
     "text": [
      "/home/u00606/research/pix2pix\n"
     ]
    }
   ],
   "source": [
    "! pwd\n",
    "# make sure it's /research/pix2pix"
   ]
  },
  {
   "cell_type": "code",
   "execution_count": 5,
   "metadata": {},
   "outputs": [
    {
     "name": "stdout",
     "output_type": "stream",
     "text": [
      "Requirement already satisfied: visdom in /home/u00606/anaconda3/envs/rec/lib/python3.10/site-packages (0.2.4)\n",
      "Requirement already satisfied: requests in /home/u00606/anaconda3/envs/rec/lib/python3.10/site-packages (from visdom) (2.28.1)\n",
      "Requirement already satisfied: pillow in /home/u00606/anaconda3/envs/rec/lib/python3.10/site-packages (from visdom) (9.3.0)\n",
      "Requirement already satisfied: six in /home/u00606/anaconda3/envs/rec/lib/python3.10/site-packages (from visdom) (1.16.0)\n",
      "Requirement already satisfied: jsonpatch in /home/u00606/anaconda3/envs/rec/lib/python3.10/site-packages (from visdom) (1.32)\n",
      "Requirement already satisfied: tornado in /home/u00606/anaconda3/envs/rec/lib/python3.10/site-packages (from visdom) (6.2)\n",
      "Requirement already satisfied: networkx in /home/u00606/anaconda3/envs/rec/lib/python3.10/site-packages (from visdom) (2.8.4)\n",
      "Requirement already satisfied: websocket-client in /home/u00606/anaconda3/envs/rec/lib/python3.10/site-packages (from visdom) (0.58.0)\n",
      "Requirement already satisfied: numpy>=1.8 in /home/u00606/anaconda3/envs/rec/lib/python3.10/site-packages (from visdom) (1.23.5)\n",
      "Requirement already satisfied: scipy in /home/u00606/anaconda3/envs/rec/lib/python3.10/site-packages (from visdom) (1.9.1)\n",
      "Requirement already satisfied: jsonpointer>=1.9 in /home/u00606/anaconda3/envs/rec/lib/python3.10/site-packages (from jsonpatch->visdom) (2.3)\n",
      "Requirement already satisfied: certifi>=2017.4.17 in /home/u00606/anaconda3/envs/rec/lib/python3.10/site-packages (from requests->visdom) (2022.12.7)\n",
      "Requirement already satisfied: charset-normalizer<3,>=2 in /home/u00606/anaconda3/envs/rec/lib/python3.10/site-packages (from requests->visdom) (2.0.4)\n",
      "Requirement already satisfied: urllib3<1.27,>=1.21.1 in /home/u00606/anaconda3/envs/rec/lib/python3.10/site-packages (from requests->visdom) (1.26.13)\n",
      "Requirement already satisfied: idna<4,>=2.5 in /home/u00606/anaconda3/envs/rec/lib/python3.10/site-packages (from requests->visdom) (3.4)\n"
     ]
    }
   ],
   "source": [
    "! pip install visdom"
   ]
  },
  {
   "cell_type": "code",
   "execution_count": 7,
   "metadata": {},
   "outputs": [
    {
     "name": "stdout",
     "output_type": "stream",
     "text": [
      "Traceback (most recent call last):\n",
      "  File \"/home/u00606/research/pix2pix/train.py\", line 22, in <module>\n",
      "    from options.train_options import TrainOptions\n",
      "  File \"/home/u00606/research/pix2pix/options/train_options.py\", line 1, in <module>\n",
      "    from .base_options import BaseOptions\n",
      "  File \"/home/u00606/research/pix2pix/options/base_options.py\", line 6, in <module>\n",
      "    import data\n",
      "  File \"/home/u00606/research/pix2pix/data/__init__.py\", line 15, in <module>\n",
      "    from data.base_dataset import BaseDataset\n",
      "  File \"/home/u00606/research/pix2pix/data/base_dataset.py\", line 9, in <module>\n",
      "    import torchvision.transforms as transforms\n",
      "ModuleNotFoundError: No module named 'torchvision'\n"
     ]
    }
   ],
   "source": [
    "! python train.py --dataroot ./datasets/ctfbp --name ctfbp_pix2pix --model pix2pix --direction BtoA"
   ]
  },
  {
   "cell_type": "code",
   "execution_count": null,
   "metadata": {},
   "outputs": [],
   "source": [
    "%slack"
   ]
  },
  {
   "cell_type": "code",
   "execution_count": 1,
   "metadata": {},
   "outputs": [
    {
     "name": "stdout",
     "output_type": "stream",
     "text": [
      "----------------- Options ---------------\n",
      "             aspect_ratio: 1.0                           \n",
      "               batch_size: 1                             \n",
      "          checkpoints_dir: ./checkpoints                 \n",
      "                crop_size: 256                           \n",
      "                 dataroot: ./datasets/ctfbp              \t[default: None]\n",
      "             dataset_mode: aligned                       \n",
      "                direction: BtoA                          \t[default: AtoB]\n",
      "          display_winsize: 256                           \n",
      "                    epoch: latest                        \n",
      "                     eval: False                         \n",
      "                  gpu_ids: 0                             \n",
      "                init_gain: 0.02                          \n",
      "                init_type: normal                        \n",
      "                 input_nc: 3                             \n",
      "                  isTrain: False                         \t[default: None]\n",
      "                load_iter: 0                             \t[default: 0]\n",
      "                load_size: 256                           \n",
      "         max_dataset_size: inf                           \n",
      "                    model: pix2pix                       \t[default: test]\n",
      "               n_layers_D: 3                             \n",
      "                     name: ctfbp_pix2pix                 \t[default: experiment_name]\n",
      "                      ndf: 64                            \n",
      "                     netD: basic                         \n",
      "                     netG: unet_256                      \n",
      "                      ngf: 64                            \n",
      "               no_dropout: False                         \n",
      "                  no_flip: False                         \n",
      "                     norm: batch                         \n",
      "                 num_test: 50                            \n",
      "              num_threads: 4                             \n",
      "                output_nc: 3                             \n",
      "                    phase: test                          \n",
      "               preprocess: resize_and_crop               \n",
      "              results_dir: ./results/                    \n",
      "           serial_batches: False                         \n",
      "                   suffix:                               \n",
      "                use_wandb: False                         \n",
      "                  verbose: False                         \n",
      "       wandb_project_name: CycleGAN-and-pix2pix          \n",
      "----------------- End -------------------\n",
      "dataset [AlignedDataset] was created\n",
      "initialize network with normal\n",
      "model [Pix2PixModel] was created\n",
      "loading the model from ./checkpoints/ctfbp_pix2pix/latest_net_G.pth\n",
      "---------- Networks initialized -------------\n",
      "[Network G] Total number of parameters : 54.414 M\n",
      "-----------------------------------------------\n",
      "creating web directory ./results/ctfbp_pix2pix/test_latest\n",
      "processing (0000)-th image... ['./datasets/ctfbp/test/4400000_132.jpg']\n",
      "processing (0005)-th image... ['./datasets/ctfbp/test/4404145_132.jpg']\n",
      "processing (0010)-th image... ['./datasets/ctfbp/test/4404145_137.jpg']\n",
      "processing (0015)-th image... ['./datasets/ctfbp/test/4404145_142.jpg']\n",
      "processing (0020)-th image... ['./datasets/ctfbp/test/4404145_147.jpg']\n",
      "processing (0025)-th image... ['./datasets/ctfbp/test/4404145_152.jpg']\n",
      "processing (0030)-th image... ['./datasets/ctfbp/test/4404145_157.jpg']\n",
      "processing (0035)-th image... ['./datasets/ctfbp/test/4404145_162.jpg']\n",
      "processing (0040)-th image... ['./datasets/ctfbp/test/4404145_167.jpg']\n",
      "processing (0045)-th image... ['./datasets/ctfbp/test/4404145_172.jpg']\n"
     ]
    }
   ],
   "source": [
    "! python test.py --dataroot ./datasets/ctfbp --name ctfbp_pix2pix --model pix2pix --direction BtoA"
   ]
  },
  {
   "cell_type": "code",
   "execution_count": null,
   "metadata": {},
   "outputs": [],
   "source": []
  }
 ],
 "metadata": {
  "kernelspec": {
   "display_name": "rec",
   "language": "python",
   "name": "python3"
  },
  "language_info": {
   "codemirror_mode": {
    "name": "ipython",
    "version": 3
   },
   "file_extension": ".py",
   "mimetype": "text/x-python",
   "name": "python",
   "nbconvert_exporter": "python",
   "pygments_lexer": "ipython3",
   "version": "3.10.8"
  },
  "orig_nbformat": 4,
  "vscode": {
   "interpreter": {
    "hash": "7ad87b1f945fcd23f86fa93942666d0803bf3f951d28084bdc9d6ccf65e74d6d"
   }
  }
 },
 "nbformat": 4,
 "nbformat_minor": 2
}
