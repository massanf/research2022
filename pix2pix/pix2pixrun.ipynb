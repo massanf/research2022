{
 "cells": [
  {
   "cell_type": "code",
   "execution_count": 1,
   "metadata": {},
   "outputs": [
    {
     "name": "stdout",
     "output_type": "stream",
     "text": [
      "/bin/sh: 1: conda: not found\n"
     ]
    }
   ],
   "source": [
    "! pwd\n",
    "# make sure it's /research/pix2pix"
   ]
  },
  {
   "cell_type": "code",
   "execution_count": 2,
   "metadata": {},
   "outputs": [
    {
     "name": "stdout",
     "output_type": "stream",
     "text": [
      "Defaulting to user installation because normal site-packages is not writeable\n",
      "Collecting visdom\n",
      "  Downloading visdom-0.2.4.tar.gz (1.4 MB)\n",
      "\u001b[2K     \u001b[90m━━━━━━━━━━━━━━━━━━━━━━━━━━━━━━━━━━━━━━━━\u001b[0m \u001b[32m1.4/1.4 MB\u001b[0m \u001b[31m14.2 MB/s\u001b[0m eta \u001b[36m0:00:00\u001b[0m00:01\u001b[0m0:01\u001b[0m\n",
      "\u001b[?25h  Preparing metadata (setup.py) ... \u001b[?25ldone\n",
      "\u001b[?25hCollecting jsonpatch\n",
      "  Downloading jsonpatch-1.32-py2.py3-none-any.whl (12 kB)\n",
      "Collecting networkx\n",
      "  Downloading networkx-3.0-py3-none-any.whl (2.0 MB)\n",
      "\u001b[2K     \u001b[90m━━━━━━━━━━━━━━━━━━━━━━━━━━━━━━━━━━━━━━━━\u001b[0m \u001b[32m2.0/2.0 MB\u001b[0m \u001b[31m25.1 MB/s\u001b[0m eta \u001b[36m0:00:00\u001b[0m:00:01\u001b[0m\n",
      "\u001b[?25hRequirement already satisfied: numpy>=1.8 in /usr/lib/python3/dist-packages (from visdom) (1.21.5)\n",
      "Requirement already satisfied: pillow in /usr/lib/python3/dist-packages (from visdom) (9.0.1)\n",
      "Requirement already satisfied: requests in /usr/lib/python3/dist-packages (from visdom) (2.25.1)\n",
      "Requirement already satisfied: scipy in /usr/lib/python3/dist-packages (from visdom) (1.8.0)\n",
      "Requirement already satisfied: six in /usr/lib/python3/dist-packages (from visdom) (1.16.0)\n",
      "Requirement already satisfied: tornado in /usr/lib/python3/dist-packages (from visdom) (6.1)\n",
      "Collecting websocket-client\n",
      "  Using cached websocket_client-1.5.1-py3-none-any.whl (55 kB)\n",
      "Collecting jsonpointer>=1.9\n",
      "  Downloading jsonpointer-2.3-py2.py3-none-any.whl (7.8 kB)\n",
      "Building wheels for collected packages: visdom\n",
      "  Building wheel for visdom (setup.py) ... \u001b[?25ldone\n",
      "\u001b[?25h  Created wheel for visdom: filename=visdom-0.2.4-py3-none-any.whl size=1408218 sha256=77588aefbfc46be99d9c66e0311b27c645390f57af040d6f400915cc9100d8b6\n",
      "  Stored in directory: /home/mfujita/.cache/pip/wheels/42/29/49/5bed207bac4578e4d2c0c5fc0226bfd33a7e2953ea56356855\n",
      "Successfully built visdom\n",
      "Installing collected packages: websocket-client, networkx, jsonpointer, jsonpatch, visdom\n",
      "\u001b[33m  WARNING: The script wsdump is installed in '/home/mfujita/.local/bin' which is not on PATH.\n",
      "  Consider adding this directory to PATH or, if you prefer to suppress this warning, use --no-warn-script-location.\u001b[0m\u001b[33m\n",
      "\u001b[0m\u001b[33m  WARNING: The script visdom is installed in '/home/mfujita/.local/bin' which is not on PATH.\n",
      "  Consider adding this directory to PATH or, if you prefer to suppress this warning, use --no-warn-script-location.\u001b[0m\u001b[33m\n",
      "\u001b[0mSuccessfully installed jsonpatch-1.32 jsonpointer-2.3 networkx-3.0 visdom-0.2.4 websocket-client-1.5.1\n"
     ]
    }
   ],
   "source": [
    "! pip install visdom"
   ]
  },
  {
   "cell_type": "code",
   "execution_count": 7,
   "metadata": {},
   "outputs": [
    {
     "name": "stdout",
     "output_type": "stream",
     "text": [
      "Traceback (most recent call last):\n",
      "  File \"/home/u00606/research/pix2pix/train.py\", line 22, in <module>\n",
      "    from options.train_options import TrainOptions\n",
      "  File \"/home/u00606/research/pix2pix/options/train_options.py\", line 1, in <module>\n",
      "    from .base_options import BaseOptions\n",
      "  File \"/home/u00606/research/pix2pix/options/base_options.py\", line 6, in <module>\n",
      "    import data\n",
      "  File \"/home/u00606/research/pix2pix/data/__init__.py\", line 15, in <module>\n",
      "    from data.base_dataset import BaseDataset\n",
      "  File \"/home/u00606/research/pix2pix/data/base_dataset.py\", line 9, in <module>\n",
      "    import torchvision.transforms as transforms\n",
      "ModuleNotFoundError: No module named 'torchvision'\n"
     ]
    }
   ],
   "source": [
    "! python train.py --dataroot ./datasets/ctfbp --name ctfbp_pix2pix --model pix2pix --direction BtoA"
   ]
  },
  {
   "cell_type": "code",
   "execution_count": null,
   "metadata": {},
   "outputs": [],
   "source": [
    "%slack"
   ]
  },
  {
   "cell_type": "code",
   "execution_count": 1,
   "metadata": {},
   "outputs": [
    {
     "name": "stdout",
     "output_type": "stream",
     "text": [
      "----------------- Options ---------------\n",
      "             aspect_ratio: 1.0                           \n",
      "               batch_size: 1                             \n",
      "          checkpoints_dir: ./checkpoints                 \n",
      "                crop_size: 256                           \n",
      "                 dataroot: ./datasets/ctfbp              \t[default: None]\n",
      "             dataset_mode: aligned                       \n",
      "                direction: BtoA                          \t[default: AtoB]\n",
      "          display_winsize: 256                           \n",
      "                    epoch: latest                        \n",
      "                     eval: False                         \n",
      "                  gpu_ids: 0                             \n",
      "                init_gain: 0.02                          \n",
      "                init_type: normal                        \n",
      "                 input_nc: 3                             \n",
      "                  isTrain: False                         \t[default: None]\n",
      "                load_iter: 0                             \t[default: 0]\n",
      "                load_size: 256                           \n",
      "         max_dataset_size: inf                           \n",
      "                    model: pix2pix                       \t[default: test]\n",
      "               n_layers_D: 3                             \n",
      "                     name: ctfbp_pix2pix                 \t[default: experiment_name]\n",
      "                      ndf: 64                            \n",
      "                     netD: basic                         \n",
      "                     netG: unet_256                      \n",
      "                      ngf: 64                            \n",
      "               no_dropout: False                         \n",
      "                  no_flip: False                         \n",
      "                     norm: batch                         \n",
      "                 num_test: 50                            \n",
      "              num_threads: 4                             \n",
      "                output_nc: 3                             \n",
      "                    phase: test                          \n",
      "               preprocess: resize_and_crop               \n",
      "              results_dir: ./results/                    \n",
      "           serial_batches: False                         \n",
      "                   suffix:                               \n",
      "                use_wandb: False                         \n",
      "                  verbose: False                         \n",
      "       wandb_project_name: CycleGAN-and-pix2pix          \n",
      "----------------- End -------------------\n",
      "dataset [AlignedDataset] was created\n",
      "initialize network with normal\n",
      "model [Pix2PixModel] was created\n",
      "loading the model from ./checkpoints/ctfbp_pix2pix/latest_net_G.pth\n",
      "---------- Networks initialized -------------\n",
      "[Network G] Total number of parameters : 54.414 M\n",
      "-----------------------------------------------\n",
      "creating web directory ./results/ctfbp_pix2pix/test_latest\n",
      "processing (0000)-th image... ['./datasets/ctfbp/test/4409573_130.jpg']\n",
      "processing (0005)-th image... ['./datasets/ctfbp/test/4409573_135.jpg']\n",
      "processing (0010)-th image... ['./datasets/ctfbp/test/4409573_140.jpg']\n",
      "processing (0015)-th image... ['./datasets/ctfbp/test/4409573_145.jpg']\n",
      "processing (0020)-th image... ['./datasets/ctfbp/test/4409573_150.jpg']\n",
      "processing (0025)-th image... ['./datasets/ctfbp/test/4409573_155.jpg']\n",
      "processing (0030)-th image... ['./datasets/ctfbp/test/4409573_160.jpg']\n",
      "processing (0035)-th image... ['./datasets/ctfbp/test/4409573_165.jpg']\n",
      "processing (0040)-th image... ['./datasets/ctfbp/test/4409573_170.jpg']\n",
      "processing (0045)-th image... ['./datasets/ctfbp/test/4409573_175.jpg']\n"
     ]
    }
   ],
   "source": [
    "! python test.py --dataroot ./datasets/ctfbp --name ctfbp_pix2pix --model pix2pix --direction BtoA"
   ]
  },
  {
   "cell_type": "code",
   "execution_count": null,
   "metadata": {},
   "outputs": [],
   "source": []
  }
 ],
 "metadata": {
  "kernelspec": {
   "display_name": "Python 3 (ipykernel)",
   "language": "python",
   "name": "python3"
  },
  "language_info": {
   "codemirror_mode": {
    "name": "ipython",
    "version": 3
   },
   "file_extension": ".py",
   "mimetype": "text/x-python",
   "name": "python",
   "nbconvert_exporter": "python",
   "pygments_lexer": "ipython3",
   "version": "3.8.16"
  },
  "orig_nbformat": 4,
  "vscode": {
   "interpreter": {
    "hash": "7ad87b1f945fcd23f86fa93942666d0803bf3f951d28084bdc9d6ccf65e74d6d"
   }
  }
 },
 "nbformat": 4,
 "nbformat_minor": 2
}
