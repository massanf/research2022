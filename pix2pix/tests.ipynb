{
 "cells": [
  {
   "cell_type": "code",
   "execution_count": 10,
   "metadata": {},
   "outputs": [
    {
     "data": {
      "application/vnd.jupyter.widget-view+json": {
       "model_id": "8fbc9bb13dcf4819ac54678d3f3bf57b",
       "version_major": 2,
       "version_minor": 0
      },
      "text/plain": [
       "  0%|          | 0/74 [00:00<?, ?it/s]"
      ]
     },
     "metadata": {},
     "output_type": "display_data"
    },
    {
     "data": {
      "application/vnd.jupyter.widget-view+json": {
       "model_id": "22667260f8fc40e8a9686db6c2122347",
       "version_major": 2,
       "version_minor": 0
      },
      "text/plain": [
       "4411408:   0%|          | 0/90 [00:00<?, ?it/s]"
      ]
     },
     "metadata": {},
     "output_type": "display_data"
    },
    {
     "data": {
      "application/vnd.jupyter.widget-view+json": {
       "model_id": "3c4148cb33e14ec39f4ce1839c883651",
       "version_major": 2,
       "version_minor": 0
      },
      "text/plain": [
       "4411561:   0%|          | 0/90 [00:00<?, ?it/s]"
      ]
     },
     "metadata": {},
     "output_type": "display_data"
    },
    {
     "data": {
      "application/vnd.jupyter.widget-view+json": {
       "model_id": "8f9bee8425ba456fba5081fbb6510c89",
       "version_major": 2,
       "version_minor": 0
      },
      "text/plain": [
       "4411476:   0%|          | 0/90 [00:00<?, ?it/s]"
      ]
     },
     "metadata": {},
     "output_type": "display_data"
    },
    {
     "data": {
      "application/vnd.jupyter.widget-view+json": {
       "model_id": "f115a16657664e35b7c616e57811c7e9",
       "version_major": 2,
       "version_minor": 0
      },
      "text/plain": [
       "4411482:   0%|          | 0/90 [00:00<?, ?it/s]"
      ]
     },
     "metadata": {},
     "output_type": "display_data"
    },
    {
     "data": {
      "application/vnd.jupyter.widget-view+json": {
       "model_id": "24ed0772ccca40a3b77601112fee676b",
       "version_major": 2,
       "version_minor": 0
      },
      "text/plain": [
       "sample1002:   0%|          | 0/90 [00:00<?, ?it/s]"
      ]
     },
     "metadata": {},
     "output_type": "display_data"
    },
    {
     "data": {
      "application/vnd.jupyter.widget-view+json": {
       "model_id": "e62c9ae95d544f269a0b4b083133a497",
       "version_major": 2,
       "version_minor": 0
      },
      "text/plain": [
       "4404449:   0%|          | 0/90 [00:00<?, ?it/s]"
      ]
     },
     "metadata": {},
     "output_type": "display_data"
    },
    {
     "data": {
      "application/vnd.jupyter.widget-view+json": {
       "model_id": "ea5e346482e84d9ba35b284e47b6644d",
       "version_major": 2,
       "version_minor": 0
      },
      "text/plain": [
       "4411398:   0%|          | 0/90 [00:00<?, ?it/s]"
      ]
     },
     "metadata": {},
     "output_type": "display_data"
    },
    {
     "data": {
      "application/vnd.jupyter.widget-view+json": {
       "model_id": "302b81378fe142a7ad0e5120305e79a2",
       "version_major": 2,
       "version_minor": 0
      },
      "text/plain": [
       "sample1006:   0%|          | 0/90 [00:00<?, ?it/s]"
      ]
     },
     "metadata": {},
     "output_type": "display_data"
    },
    {
     "data": {
      "application/vnd.jupyter.widget-view+json": {
       "model_id": "6c1f135063ab4a00b07b49bc1715f2f4",
       "version_major": 2,
       "version_minor": 0
      },
      "text/plain": [
       "4411429:   0%|          | 0/90 [00:00<?, ?it/s]"
      ]
     },
     "metadata": {},
     "output_type": "display_data"
    },
    {
     "data": {
      "application/vnd.jupyter.widget-view+json": {
       "model_id": "f2830eda024b4b558f069014bfbea82c",
       "version_major": 2,
       "version_minor": 0
      },
      "text/plain": [
       "4411428:   0%|          | 0/90 [00:00<?, ?it/s]"
      ]
     },
     "metadata": {},
     "output_type": "display_data"
    },
    {
     "data": {
      "application/vnd.jupyter.widget-view+json": {
       "model_id": "e3366a84aac3424283d8102830a3b01a",
       "version_major": 2,
       "version_minor": 0
      },
      "text/plain": [
       "4267523:   0%|          | 0/90 [00:00<?, ?it/s]"
      ]
     },
     "metadata": {},
     "output_type": "display_data"
    }
   ],
   "source": [
    "from datasets import combine_ct_and_fbp\n",
    "combine_ct_and_fbp.prep(\"./datasets/ctfbp\")\n",
    "%slack"
   ]
  },
  {
   "cell_type": "code",
   "execution_count": null,
   "metadata": {},
   "outputs": [],
   "source": []
  }
 ],
 "metadata": {
  "kernelspec": {
   "display_name": "res",
   "language": "python",
   "name": "python3"
  },
  "language_info": {
   "codemirror_mode": {
    "name": "ipython",
    "version": 3
   },
   "file_extension": ".py",
   "mimetype": "text/x-python",
   "name": "python",
   "nbconvert_exporter": "python",
   "pygments_lexer": "ipython3",
   "version": "3.10.8"
  },
  "orig_nbformat": 4,
  "vscode": {
   "interpreter": {
    "hash": "da9ac5d7c4e967160d4eddc6864285750b07d26b36aae015b5a1a36de670b7f6"
   }
  }
 },
 "nbformat": 4,
 "nbformat_minor": 2
}
